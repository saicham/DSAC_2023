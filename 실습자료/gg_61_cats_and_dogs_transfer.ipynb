{
 "cells": [
  {
   "cell_type": "markdown",
   "metadata": {
    "colab_type": "text",
    "id": "view-in-github"
   },
   "source": [
    "<a href=\"https://colab.research.google.com/github/StillWork/ds-lab/blob/master/gg_53_cats_and_dogs_transfer.ipynb\" target=\"_parent\"><img src=\"https://colab.research.google.com/assets/colab-badge.svg\" alt=\"Open In Colab\"/></a>"
   ]
  },
  {
   "cell_type": "markdown",
   "metadata": {
    "colab_type": "text",
    "id": "YHK6DyunSbs4"
   },
   "source": [
    "# 전이학습 고양이 강아지 구분\n",
    "## VGG16 (2014)\n",
    "- 이미지넷으로 사전 훈련된 네트워크를 사용\n",
    "- 1000개의 객체를 구분하는 모델이나, 여기서는 고양이, 강아지 구분에 사용  \n",
    "\n",
    "## 1) 특성추출 방식\n",
    "- 합성곱 필터링 영역(convolutional base)를 그대로 사용\n",
    "- 공통되는 특성만 추출하여 사용한다\n",
    "- 전결합망 부분은 새로운 데이터 (고양이/강아지)로 학습을 다시 시킨다\n",
    "\n",
    "\n",
    "## 2) 미세 조정 방식\n"
   ]
  },
  {
   "cell_type": "markdown",
   "metadata": {
    "colab_type": "text",
    "id": "UY6KJV6z6l7_"
   },
   "source": [
    "## 데이터 다운로드"
   ]
  },
  {
   "cell_type": "code",
   "execution_count": 2,
   "metadata": {
    "colab": {
     "base_uri": "https://localhost:8080/",
     "height": 35
    },
    "colab_type": "code",
    "executionInfo": {
     "elapsed": 1532,
     "status": "ok",
     "timestamp": 1559970361612,
     "user": {
      "displayName": "김화종",
      "photoUrl": "https://lh4.googleusercontent.com/-sR-MVK_KsAg/AAAAAAAAAAI/AAAAAAAALbE/3e3Eq9nrGuw/s64/photo.jpg",
      "userId": "17353049580175403985"
     },
     "user_tz": -540
    },
    "id": "BintRJjr1QvS",
    "outputId": "f42ffa6f-b583-4d66-8c9d-363ea64bdc67"
   },
   "outputs": [],
   "source": [
    "import os, os.path, shutil\n",
    "import zipfile\n",
    "%matplotlib inline\n",
    "\n",
    "import matplotlib.pyplot as plt\n",
    "import matplotlib.image as mpimg\n",
    "from keras.applications import VGG16"
   ]
  },
  {
   "cell_type": "markdown",
   "metadata": {
    "colab_type": "text",
    "id": "mxOElr1tG82n"
   },
   "source": [
    "## VGG16으로 사전학습된 가중치 가져오기\n",
    "- include_top은 기존의 1000개 전결합망 분류기를 포함할지를 선택"
   ]
  },
  {
   "cell_type": "code",
   "execution_count": 3,
   "metadata": {
    "colab": {
     "base_uri": "https://localhost:8080/",
     "height": 141
    },
    "colab_type": "code",
    "executionInfo": {
     "elapsed": 4266,
     "status": "ok",
     "timestamp": 1559970368213,
     "user": {
      "displayName": "김화종",
      "photoUrl": "https://lh4.googleusercontent.com/-sR-MVK_KsAg/AAAAAAAAAAI/AAAAAAAALbE/3e3Eq9nrGuw/s64/photo.jpg",
      "userId": "17353049580175403985"
     },
     "user_tz": -540
    },
    "id": "39bxJu-BGL9N",
    "outputId": "bfcbf8fa-97e6-46b5-bb1b-53ae2cfaff2f"
   },
   "outputs": [
    {
     "name": "stdout",
     "output_type": "stream",
     "text": [
      "WARNING:tensorflow:From C:\\Users\\admin\\Anaconda3\\lib\\site-packages\\keras\\backend\\tensorflow_backend.py:4070: The name tf.nn.max_pool is deprecated. Please use tf.nn.max_pool2d instead.\n",
      "\n",
      "Downloading data from https://github.com/fchollet/deep-learning-models/releases/download/v0.1/vgg16_weights_tf_dim_ordering_tf_kernels_notop.h5\n",
      "58892288/58889256 [==============================] - 66s 1us/step\n"
     ]
    }
   ],
   "source": [
    "conv_base = VGG16(weights = 'imagenet',\n",
    "                 include_top=False,\n",
    "                 input_shape=(150, 150, 3))"
   ]
  },
  {
   "cell_type": "code",
   "execution_count": 4,
   "metadata": {
    "colab": {
     "base_uri": "https://localhost:8080/",
     "height": 833
    },
    "colab_type": "code",
    "id": "84MocF__GLuw",
    "outputId": "dc0ccf4d-7109-4311-832a-cc9e6f9cef6a",
    "scrolled": true
   },
   "outputs": [
    {
     "name": "stdout",
     "output_type": "stream",
     "text": [
      "Model: \"vgg16\"\n",
      "_________________________________________________________________\n",
      "Layer (type)                 Output Shape              Param #   \n",
      "=================================================================\n",
      "input_1 (InputLayer)         (None, 150, 150, 3)       0         \n",
      "_________________________________________________________________\n",
      "block1_conv1 (Conv2D)        (None, 150, 150, 64)      1792      \n",
      "_________________________________________________________________\n",
      "block1_conv2 (Conv2D)        (None, 150, 150, 64)      36928     \n",
      "_________________________________________________________________\n",
      "block1_pool (MaxPooling2D)   (None, 75, 75, 64)        0         \n",
      "_________________________________________________________________\n",
      "block2_conv1 (Conv2D)        (None, 75, 75, 128)       73856     \n",
      "_________________________________________________________________\n",
      "block2_conv2 (Conv2D)        (None, 75, 75, 128)       147584    \n",
      "_________________________________________________________________\n",
      "block2_pool (MaxPooling2D)   (None, 37, 37, 128)       0         \n",
      "_________________________________________________________________\n",
      "block3_conv1 (Conv2D)        (None, 37, 37, 256)       295168    \n",
      "_________________________________________________________________\n",
      "block3_conv2 (Conv2D)        (None, 37, 37, 256)       590080    \n",
      "_________________________________________________________________\n",
      "block3_conv3 (Conv2D)        (None, 37, 37, 256)       590080    \n",
      "_________________________________________________________________\n",
      "block3_pool (MaxPooling2D)   (None, 18, 18, 256)       0         \n",
      "_________________________________________________________________\n",
      "block4_conv1 (Conv2D)        (None, 18, 18, 512)       1180160   \n",
      "_________________________________________________________________\n",
      "block4_conv2 (Conv2D)        (None, 18, 18, 512)       2359808   \n",
      "_________________________________________________________________\n",
      "block4_conv3 (Conv2D)        (None, 18, 18, 512)       2359808   \n",
      "_________________________________________________________________\n",
      "block4_pool (MaxPooling2D)   (None, 9, 9, 512)         0         \n",
      "_________________________________________________________________\n",
      "block5_conv1 (Conv2D)        (None, 9, 9, 512)         2359808   \n",
      "_________________________________________________________________\n",
      "block5_conv2 (Conv2D)        (None, 9, 9, 512)         2359808   \n",
      "_________________________________________________________________\n",
      "block5_conv3 (Conv2D)        (None, 9, 9, 512)         2359808   \n",
      "_________________________________________________________________\n",
      "block5_pool (MaxPooling2D)   (None, 4, 4, 512)         0         \n",
      "=================================================================\n",
      "Total params: 14,714,688\n",
      "Trainable params: 14,714,688\n",
      "Non-trainable params: 0\n",
      "_________________________________________________________________\n"
     ]
    }
   ],
   "source": [
    "conv_base.summary()"
   ]
  },
  {
   "cell_type": "markdown",
   "metadata": {
    "colab_type": "text",
    "id": "wLStHmXaMqja"
   },
   "source": [
    "## 두가지 옵션이 가능하다\n",
    "### 1) 합성곱 기반을 통과한 출력을 저장한 후 이를 전결합망에 통과\n",
    "- 데이터 확장은 사용할 수 없다\n",
    "- 실행이 빠르다\n",
    "\n",
    "### 2) 모델에 Dense망을 추가하고 학습을 수행\n",
    "- 데이터 확장을 사용할 수 있다.\n",
    "- 비용이 많이 든다\n",
    "\n",
    "\n",
    "### 1) 방식을 먼저 수행한다.\n"
   ]
  },
  {
   "cell_type": "markdown",
   "metadata": {
    "colab_type": "text",
    "id": "kkMqucDvN0Qy"
   },
   "source": [
    "### 데이터 읽기"
   ]
  },
  {
   "cell_type": "code",
   "execution_count": 3,
   "metadata": {
    "colab": {
     "base_uri": "https://localhost:8080/",
     "height": 69
    },
    "colab_type": "code",
    "executionInfo": {
     "elapsed": 3145,
     "status": "ok",
     "timestamp": 1559970423654,
     "user": {
      "displayName": "김화종",
      "photoUrl": "https://lh4.googleusercontent.com/-sR-MVK_KsAg/AAAAAAAAAAI/AAAAAAAALbE/3e3Eq9nrGuw/s64/photo.jpg",
      "userId": "17353049580175403985"
     },
     "user_tz": -540
    },
    "id": "JHHE2t4yxpMU",
    "outputId": "48667964-41e5-4015-fc22-94536f24245c"
   },
   "outputs": [
    {
     "name": "stdout",
     "output_type": "stream",
     "text": [
      "  % Total    % Received % Xferd  Average Speed   Time    Time     Time  Current\n",
      "                                 Dload  Upload   Total   Spent    Left  Speed\n",
      "\r",
      "  0     0    0     0    0     0      0      0 --:--:-- --:--:-- --:--:--     0\r",
      "100 65.4M  100 65.4M    0     0   120M      0 --:--:-- --:--:-- --:--:--  120M\n"
     ]
    }
   ],
   "source": [
    "!curl -L \\\n",
    "    https://storage.googleapis.com/mledu-datasets/cats_and_dogs_filtered.zip \\\n",
    "    -o ./cats_and_dogs_filtered.zip"
   ]
  },
  {
   "cell_type": "code",
   "execution_count": 0,
   "metadata": {
    "colab": {},
    "colab_type": "code",
    "id": "PLy3pthUS0D2"
   },
   "outputs": [],
   "source": [
    "!unzip -q cats_and_dogs_filtered.zip"
   ]
  },
  {
   "cell_type": "code",
   "execution_count": 0,
   "metadata": {
    "colab": {
     "base_uri": "https://localhost:8080/",
     "height": 272
    },
    "colab_type": "code",
    "id": "VeJd7lxOy26s",
    "outputId": "ac44a5db-82e6-40c3-a819-036f9209eac5"
   },
   "outputs": [
    {
     "name": "stdout",
     "output_type": "stream",
     "text": [
      "Reading package lists... Done\n",
      "Building dependency tree       \n",
      "Reading state information... Done\n",
      "The following NEW packages will be installed:\n",
      "  tree\n",
      "0 upgraded, 1 newly installed, 0 to remove and 5 not upgraded.\n",
      "Need to get 40.7 kB of archives.\n",
      "After this operation, 105 kB of additional disk space will be used.\n",
      "Get:1 http://archive.ubuntu.com/ubuntu bionic/universe amd64 tree amd64 1.7.0-5 [40.7 kB]\n",
      "Fetched 40.7 kB in 0s (111 kB/s)\n",
      "Selecting previously unselected package tree.\n",
      "(Reading database ... 22280 files and directories currently installed.)\n",
      "Preparing to unpack .../tree_1.7.0-5_amd64.deb ...\n",
      "Unpacking tree (1.7.0-5) ...\n",
      "Setting up tree (1.7.0-5) ...\n"
     ]
    }
   ],
   "source": [
    "!apt-get install tree"
   ]
  },
  {
   "cell_type": "code",
   "execution_count": 5,
   "metadata": {
    "colab": {
     "base_uri": "https://localhost:8080/",
     "height": 221
    },
    "colab_type": "code",
    "id": "eKBizBLr0M8w",
    "outputId": "4e752ab0-4750-44d5-ad4b-5070a5484a6a",
    "scrolled": false
   },
   "outputs": [
    {
     "name": "stdout",
     "output_type": "stream",
     "text": [
      "매개 변수가 너무 많습니다 - .\n"
     ]
    }
   ],
   "source": [
    "!tree -d ."
   ]
  },
  {
   "cell_type": "code",
   "execution_count": 6,
   "metadata": {
    "colab": {},
    "colab_type": "code",
    "id": "MLZKVtE0dSfk"
   },
   "outputs": [],
   "source": [
    "base_dir = './cats_and_dogs_filtered'\n",
    "train_dir = os.path.join(base_dir, 'train')\n",
    "validation_dir = os.path.join(base_dir, 'validation')"
   ]
  },
  {
   "cell_type": "code",
   "execution_count": 7,
   "metadata": {
    "colab": {
     "base_uri": "https://localhost:8080/",
     "height": 35
    },
    "colab_type": "code",
    "executionInfo": {
     "elapsed": 869,
     "status": "ok",
     "timestamp": 1559970492679,
     "user": {
      "displayName": "김화종",
      "photoUrl": "https://lh4.googleusercontent.com/-sR-MVK_KsAg/AAAAAAAAAAI/AAAAAAAALbE/3e3Eq9nrGuw/s64/photo.jpg",
      "userId": "17353049580175403985"
     },
     "user_tz": -540
    },
    "id": "I-gqmVtXI1If",
    "outputId": "e2ec447f-c3c5-4c71-8577-b92be9890d8d"
   },
   "outputs": [
    {
     "data": {
      "text/plain": [
       "'./cats_and_dogs_filtered\\\\train'"
      ]
     },
     "execution_count": 7,
     "metadata": {},
     "output_type": "execute_result"
    }
   ],
   "source": [
    "train_dir"
   ]
  },
  {
   "cell_type": "markdown",
   "metadata": {
    "colab_type": "text",
    "id": "5oqBkNBJmtUv"
   },
   "source": [
    "## 특성추출만 사용한 모델 (데이터 증식은 사용하지 않는 방식)\n",
    "- ImageDataGenerator를 사용하여 이미지와 레이블을 생성\n",
    "- conv_base 모델의 predict를 사용하여 이미지의 특성을 추출\n",
    "- 마지막 출력의 크기가 (4, 4, 512)이다.\n"
   ]
  },
  {
   "cell_type": "code",
   "execution_count": 8,
   "metadata": {
    "colab": {},
    "colab_type": "code",
    "id": "IYVLSfbsbf9K"
   },
   "outputs": [],
   "source": [
    "from keras import layers\n",
    "from keras import models\n",
    "from keras import optimizers\n",
    "from keras.preprocessing import image\n",
    "from keras.preprocessing.image import ImageDataGenerator\n",
    "import numpy as np "
   ]
  },
  {
   "cell_type": "code",
   "execution_count": 10,
   "metadata": {
    "colab": {
     "base_uri": "https://localhost:8080/",
     "height": 276
    },
    "colab_type": "code",
    "executionInfo": {
     "elapsed": 17556,
     "status": "ok",
     "timestamp": 1559972365689,
     "user": {
      "displayName": "김화종",
      "photoUrl": "https://lh4.googleusercontent.com/-sR-MVK_KsAg/AAAAAAAAAAI/AAAAAAAALbE/3e3Eq9nrGuw/s64/photo.jpg",
      "userId": "17353049580175403985"
     },
     "user_tz": -540
    },
    "id": "zKpFv6lSGmtR",
    "outputId": "638d124e-6ce8-4cbb-c57f-93abbf3065aa"
   },
   "outputs": [],
   "source": [
    "img_width = 150\n",
    "img_height = 150\n",
    "batch_size=20\n",
    "\n",
    "datagen = ImageDataGenerator(rescale = 1./255)\n",
    "\n",
    "def extract_features(directory, sample_count):\n",
    "  features = np.zeros(shape=(sample_count, 4, 4, 512))\n",
    "  labels = np.zeros(shape=(sample_count))\n",
    "  generator = datagen.flow_from_directory(\n",
    "      directory,\n",
    " \t    target_size=(img_width,img_height),\n",
    "      class_mode='binary',\n",
    "\t\t\tbatch_size=batch_size)\n",
    "  i=1\n",
    "  for inputs_batch, labels_batch in generator:\n",
    "    features_batch = conv_base.predict(inputs_batch)\n",
    "    features[i*batch_size:(i+1)*batch_size] = features_batch\n",
    "    labels[i*batch_size:(i+1)*batch_size] = labels_batch\n",
    "    i += 1\n",
    "    if i* batch_size >= sample_count:\n",
    "      break\n",
    "  return features, labels"
   ]
  },
  {
   "cell_type": "code",
   "execution_count": 12,
   "metadata": {},
   "outputs": [
    {
     "name": "stdout",
     "output_type": "stream",
     "text": [
      "Found 2000 images belonging to 2 classes.\n",
      "WARNING:tensorflow:From C:\\Users\\admin\\Anaconda3\\lib\\site-packages\\keras\\backend\\tensorflow_backend.py:422: The name tf.global_variables is deprecated. Please use tf.compat.v1.global_variables instead.\n",
      "\n",
      "Found 1000 images belonging to 2 classes.\n"
     ]
    }
   ],
   "source": [
    "train_features, train_labels = extract_features(train_dir, 2000)\n",
    "validation_features, validation_labels = extract_features(validation_dir, 1000)"
   ]
  },
  {
   "cell_type": "code",
   "execution_count": 13,
   "metadata": {},
   "outputs": [],
   "source": [
    "train_features = np.reshape(train_features, (2000, 4*4*512))\n",
    "validation_features = np.reshape(validation_features, (1000, 4*4*512))"
   ]
  },
  {
   "cell_type": "code",
   "execution_count": 14,
   "metadata": {},
   "outputs": [],
   "source": [
    "model = models.Sequential()\n",
    "\n",
    "model.add(layers.Dense(512, activation='relu', input_dim= 4*4*512))\n",
    "model.add(layers.Dropout(0.5))\n",
    "model.add(layers.Dense(1, activation='sigmoid'))"
   ]
  },
  {
   "cell_type": "code",
   "execution_count": 15,
   "metadata": {},
   "outputs": [
    {
     "name": "stdout",
     "output_type": "stream",
     "text": [
      "Model: \"sequential_1\"\n",
      "_________________________________________________________________\n",
      "Layer (type)                 Output Shape              Param #   \n",
      "=================================================================\n",
      "dense_1 (Dense)              (None, 512)               4194816   \n",
      "_________________________________________________________________\n",
      "dropout_1 (Dropout)          (None, 512)               0         \n",
      "_________________________________________________________________\n",
      "dense_2 (Dense)              (None, 1)                 513       \n",
      "=================================================================\n",
      "Total params: 4,195,329\n",
      "Trainable params: 4,195,329\n",
      "Non-trainable params: 0\n",
      "_________________________________________________________________\n"
     ]
    }
   ],
   "source": [
    "model.summary()"
   ]
  },
  {
   "cell_type": "code",
   "execution_count": 16,
   "metadata": {
    "colab": {
     "base_uri": "https://localhost:8080/",
     "height": 1091
    },
    "colab_type": "code",
    "executionInfo": {
     "elapsed": 20939,
     "status": "ok",
     "timestamp": 1559972388782,
     "user": {
      "displayName": "김화종",
      "photoUrl": "https://lh4.googleusercontent.com/-sR-MVK_KsAg/AAAAAAAAAAI/AAAAAAAALbE/3e3Eq9nrGuw/s64/photo.jpg",
      "userId": "17353049580175403985"
     },
     "user_tz": -540
    },
    "id": "hxITBhxQDwkd",
    "outputId": "49cde2f2-6e0c-4e4a-c2fb-7b7dd0fb0608"
   },
   "outputs": [
    {
     "name": "stdout",
     "output_type": "stream",
     "text": [
      "WARNING:tensorflow:From C:\\Users\\admin\\Anaconda3\\lib\\site-packages\\tensorflow\\python\\ops\\nn_impl.py:180: add_dispatch_support.<locals>.wrapper (from tensorflow.python.ops.array_ops) is deprecated and will be removed in a future version.\n",
      "Instructions for updating:\n",
      "Use tf.where in 2.0, which has the same broadcast rule as np.where\n",
      "Train on 2000 samples, validate on 1000 samples\n",
      "Epoch 1/30\n",
      "2000/2000 [==============================] - 9s 5ms/step - loss: 0.5665 - acc: 0.7035 - val_loss: 0.4019 - val_acc: 0.8510\n",
      "Epoch 2/30\n",
      "2000/2000 [==============================] - 9s 5ms/step - loss: 0.3935 - acc: 0.8335 - val_loss: 0.3370 - val_acc: 0.8740\n",
      "Epoch 3/30\n",
      "2000/2000 [==============================] - 9s 5ms/step - loss: 0.3213 - acc: 0.8685 - val_loss: 0.3092 - val_acc: 0.8900\n",
      "Epoch 4/30\n",
      "2000/2000 [==============================] - 10s 5ms/step - loss: 0.2881 - acc: 0.8880 - val_loss: 0.2949 - val_acc: 0.8850\n",
      "Epoch 5/30\n",
      "2000/2000 [==============================] - 9s 5ms/step - loss: 0.2587 - acc: 0.8970 - val_loss: 0.2848 - val_acc: 0.8940\n",
      "Epoch 6/30\n",
      "2000/2000 [==============================] - 9s 4ms/step - loss: 0.2389 - acc: 0.9110 - val_loss: 0.2783 - val_acc: 0.8960\n",
      "Epoch 7/30\n",
      "2000/2000 [==============================] - 9s 4ms/step - loss: 0.2235 - acc: 0.9135 - val_loss: 0.2733 - val_acc: 0.8880\n",
      "Epoch 8/30\n",
      "2000/2000 [==============================] - 9s 5ms/step - loss: 0.2064 - acc: 0.9295 - val_loss: 0.2696 - val_acc: 0.8950\n",
      "Epoch 9/30\n",
      "2000/2000 [==============================] - 10s 5ms/step - loss: 0.1958 - acc: 0.9285 - val_loss: 0.2678 - val_acc: 0.8850\n",
      "Epoch 10/30\n",
      "2000/2000 [==============================] - 10s 5ms/step - loss: 0.1773 - acc: 0.9405 - val_loss: 0.2642 - val_acc: 0.8920\n",
      "Epoch 11/30\n",
      "2000/2000 [==============================] - 10s 5ms/step - loss: 0.1751 - acc: 0.9415 - val_loss: 0.2644 - val_acc: 0.8900\n",
      "Epoch 12/30\n",
      "2000/2000 [==============================] - 10s 5ms/step - loss: 0.1664 - acc: 0.9405 - val_loss: 0.2640 - val_acc: 0.8850\n",
      "Epoch 13/30\n",
      "2000/2000 [==============================] - 10s 5ms/step - loss: 0.1587 - acc: 0.9470 - val_loss: 0.2706 - val_acc: 0.8750\n",
      "Epoch 14/30\n",
      "2000/2000 [==============================] - 10s 5ms/step - loss: 0.1486 - acc: 0.9500 - val_loss: 0.2603 - val_acc: 0.8910\n",
      "Epoch 15/30\n",
      "2000/2000 [==============================] - 10s 5ms/step - loss: 0.1335 - acc: 0.9605 - val_loss: 0.2626 - val_acc: 0.8950\n",
      "Epoch 16/30\n",
      "2000/2000 [==============================] - 10s 5ms/step - loss: 0.1331 - acc: 0.9590 - val_loss: 0.2979 - val_acc: 0.8690\n",
      "Epoch 17/30\n",
      "2000/2000 [==============================] - 10s 5ms/step - loss: 0.1235 - acc: 0.9610 - val_loss: 0.2589 - val_acc: 0.8900\n",
      "Epoch 18/30\n",
      "2000/2000 [==============================] - 10s 5ms/step - loss: 0.1180 - acc: 0.9605 - val_loss: 0.2617 - val_acc: 0.8850\n",
      "Epoch 19/30\n",
      "2000/2000 [==============================] - 10s 5ms/step - loss: 0.1144 - acc: 0.9640 - val_loss: 0.2747 - val_acc: 0.8990\n",
      "Epoch 20/30\n",
      "2000/2000 [==============================] - 10s 5ms/step - loss: 0.1087 - acc: 0.9705 - val_loss: 0.2587 - val_acc: 0.8910\n",
      "Epoch 21/30\n",
      "2000/2000 [==============================] - 10s 5ms/step - loss: 0.1025 - acc: 0.9710 - val_loss: 0.2595 - val_acc: 0.8870\n",
      "Epoch 22/30\n",
      "2000/2000 [==============================] - 10s 5ms/step - loss: 0.0988 - acc: 0.9705 - val_loss: 0.2640 - val_acc: 0.8870\n",
      "Epoch 23/30\n",
      "2000/2000 [==============================] - 10s 5ms/step - loss: 0.0912 - acc: 0.9745 - val_loss: 0.2646 - val_acc: 0.8860\n",
      "Epoch 24/30\n",
      "2000/2000 [==============================] - 10s 5ms/step - loss: 0.0889 - acc: 0.9765 - val_loss: 0.2615 - val_acc: 0.8910\n",
      "Epoch 25/30\n",
      "2000/2000 [==============================] - 10s 5ms/step - loss: 0.0864 - acc: 0.9755 - val_loss: 0.2712 - val_acc: 0.8850 1s - loss: 0.0834\n",
      "Epoch 26/30\n",
      "2000/2000 [==============================] - 10s 5ms/step - loss: 0.0844 - acc: 0.9780 - val_loss: 0.2696 - val_acc: 0.8840\n",
      "Epoch 27/30\n",
      "2000/2000 [==============================] - 10s 5ms/step - loss: 0.0747 - acc: 0.9820 - val_loss: 0.2663 - val_acc: 0.8950\n",
      "Epoch 28/30\n",
      "2000/2000 [==============================] - 10s 5ms/step - loss: 0.0737 - acc: 0.9790 - val_loss: 0.2650 - val_acc: 0.8960\n",
      "Epoch 29/30\n",
      "2000/2000 [==============================] - 10s 5ms/step - loss: 0.0682 - acc: 0.9825 - val_loss: 0.2687 - val_acc: 0.8960\n",
      "Epoch 30/30\n",
      "2000/2000 [==============================] - 10s 5ms/step - loss: 0.0656 - acc: 0.9830 - val_loss: 0.2736 - val_acc: 0.8950\n"
     ]
    }
   ],
   "source": [
    "model.compile(loss='binary_crossentropy',\n",
    "              optimizer=optimizers.RMSprop(lr=2e-5),\n",
    "              metrics=['acc'])\n",
    "history = model.fit(\n",
    "    train_features, train_labels,\n",
    "    epochs=30,\n",
    "    validation_data= (validation_features, validation_labels),\n",
    "    batch_size=batch_size)"
   ]
  },
  {
   "cell_type": "markdown",
   "metadata": {
    "colab_type": "text",
    "id": "Q5Vulban4ZrD"
   },
   "source": [
    "## 성능 확인"
   ]
  },
  {
   "cell_type": "code",
   "execution_count": 17,
   "metadata": {
    "colab": {
     "base_uri": "https://localhost:8080/",
     "height": 562
    },
    "colab_type": "code",
    "executionInfo": {
     "elapsed": 1380,
     "status": "ok",
     "timestamp": 1559972394177,
     "user": {
      "displayName": "김화종",
      "photoUrl": "https://lh4.googleusercontent.com/-sR-MVK_KsAg/AAAAAAAAAAI/AAAAAAAALbE/3e3Eq9nrGuw/s64/photo.jpg",
      "userId": "17353049580175403985"
     },
     "user_tz": -540
    },
    "id": "0oj0gTIy4k60",
    "outputId": "bda7e2b2-a5c3-40b7-95a0-321f0713adb5"
   },
   "outputs": [
    {
     "data": {
      "text/plain": [
       "Text(0.5, 1.0, 'Training(--) and validation loss')"
      ]
     },
     "execution_count": 17,
     "metadata": {},
     "output_type": "execute_result"
    },
    {
     "data": {
      "image/png": "[encoded data removed]",
      "text/plain": [
       "<Figure size 432x288 with 1 Axes>"
      ]
     },
     "metadata": {
      "needs_background": "light"
     },
     "output_type": "display_data"
    },
    {
     "data": {
      "image/png": "[encoded data removed]",
      "text/plain": [
       "<Figure size 432x288 with 1 Axes>"
      ]
     },
     "metadata": {
      "needs_background": "light"
     },
     "output_type": "display_data"
    }
   ],
   "source": [
    "acc = history.history['acc']\n",
    "val_acc = history.history['val_acc']\n",
    "\n",
    "loss = history.history['loss']\n",
    "val_loss = history.history['val_loss']\n",
    "\n",
    "epochs = range(len(acc))\n",
    "\n",
    "plt.plot(epochs, acc, '--')\n",
    "plt.plot(epochs, val_acc)\n",
    "plt.title('Training(--) and validation accuracy')\n",
    "\n",
    "plt.figure()\n",
    "plt.plot(epochs, loss,  '--')\n",
    "plt.plot(epochs, val_loss)\n",
    "plt.title('Training(--) and validation loss')"
   ]
  },
  {
   "cell_type": "markdown",
   "metadata": {
    "colab_type": "text",
    "id": "DgmSjUST4qoS"
   },
   "source": [
    "### 과대적합이 발생한 것을 알 수 있다.\n",
    "- 훈련 데이터가 부족하다\n",
    "- 데이터 확장을 사용하여 개선할 수 있다."
   ]
  },
  {
   "cell_type": "markdown",
   "metadata": {
    "colab_type": "text",
    "id": "zY8xC3RKIMjf"
   },
   "source": [
    "### 2) 모델에 Dense망을 추가하고 학습을 수행\n",
    "- 데이터 확장을 사용할 수 있다.\n",
    "- 비용이 많이 든다\n",
    "- 엔드-투-엔드로 실행한다"
   ]
  },
  {
   "cell_type": "code",
   "execution_count": 18,
   "metadata": {
    "colab": {
     "base_uri": "https://localhost:8080/",
     "height": 276
    },
    "colab_type": "code",
    "executionInfo": {
     "elapsed": 1161,
     "status": "ok",
     "timestamp": 1559972626894,
     "user": {
      "displayName": "김화종",
      "photoUrl": "https://lh4.googleusercontent.com/-sR-MVK_KsAg/AAAAAAAAAAI/AAAAAAAALbE/3e3Eq9nrGuw/s64/photo.jpg",
      "userId": "17353049580175403985"
     },
     "user_tz": -540
    },
    "id": "dEPZtbjoYyko",
    "outputId": "f81fef12-03cd-4c9d-da23-35a2d6cb19b0"
   },
   "outputs": [
    {
     "name": "stdout",
     "output_type": "stream",
     "text": [
      "Model: \"sequential_2\"\n",
      "_________________________________________________________________\n",
      "Layer (type)                 Output Shape              Param #   \n",
      "=================================================================\n",
      "vgg16 (Model)                (None, 4, 4, 512)         14714688  \n",
      "_________________________________________________________________\n",
      "flatten_1 (Flatten)          (None, 8192)              0         \n",
      "_________________________________________________________________\n",
      "dense_3 (Dense)              (None, 256)               2097408   \n",
      "_________________________________________________________________\n",
      "dense_4 (Dense)              (None, 1)                 257       \n",
      "=================================================================\n",
      "Total params: 16,812,353\n",
      "Trainable params: 16,812,353\n",
      "Non-trainable params: 0\n",
      "_________________________________________________________________\n"
     ]
    }
   ],
   "source": [
    "# 모델\n",
    "\n",
    "model = models.Sequential()\n",
    "model.add(conv_base)\n",
    "\n",
    "model.add(layers.Flatten())\n",
    "model.add(layers.Dense(256, activation='relu'))\n",
    "model.add(layers.Dense(1, activation='sigmoid'))\n",
    "\n",
    "model.summary()"
   ]
  },
  {
   "cell_type": "markdown",
   "metadata": {
    "colab_type": "text",
    "id": "cRwp7DKRZNey"
   },
   "source": [
    "## 학습을 동결하지 않으면 모두 재 학습된다!"
   ]
  },
  {
   "cell_type": "code",
   "execution_count": 19,
   "metadata": {
    "colab": {},
    "colab_type": "code",
    "id": "1I-bJVROjbEi"
   },
   "outputs": [],
   "source": [
    "conv_base.trainable = False"
   ]
  },
  {
   "cell_type": "code",
   "execution_count": 20,
   "metadata": {
    "colab": {
     "base_uri": "https://localhost:8080/",
     "height": 35
    },
    "colab_type": "code",
    "executionInfo": {
     "elapsed": 985,
     "status": "ok",
     "timestamp": 1559972633211,
     "user": {
      "displayName": "김화종",
      "photoUrl": "https://lh4.googleusercontent.com/-sR-MVK_KsAg/AAAAAAAAAAI/AAAAAAAALbE/3e3Eq9nrGuw/s64/photo.jpg",
      "userId": "17353049580175403985"
     },
     "user_tz": -540
    },
    "id": "MN5_TfDJjisU",
    "outputId": "eecd6a7f-4c84-40cc-c8eb-867916cdb845"
   },
   "outputs": [
    {
     "name": "stdout",
     "output_type": "stream",
     "text": [
      "4\n"
     ]
    }
   ],
   "source": [
    "print(len(model.trainable_weights))"
   ]
  },
  {
   "cell_type": "code",
   "execution_count": 21,
   "metadata": {
    "colab": {
     "base_uri": "https://localhost:8080/",
     "height": 276
    },
    "colab_type": "code",
    "executionInfo": {
     "elapsed": 888,
     "status": "ok",
     "timestamp": 1559972634804,
     "user": {
      "displayName": "김화종",
      "photoUrl": "https://lh4.googleusercontent.com/-sR-MVK_KsAg/AAAAAAAAAAI/AAAAAAAALbE/3e3Eq9nrGuw/s64/photo.jpg",
      "userId": "17353049580175403985"
     },
     "user_tz": -540
    },
    "id": "OUz97nA0jr_y",
    "outputId": "a4542024-8d1f-4a8d-c52e-834a5dccf5a9"
   },
   "outputs": [
    {
     "name": "stdout",
     "output_type": "stream",
     "text": [
      "Model: \"sequential_2\"\n",
      "_________________________________________________________________\n",
      "Layer (type)                 Output Shape              Param #   \n",
      "=================================================================\n",
      "vgg16 (Model)                (None, 4, 4, 512)         14714688  \n",
      "_________________________________________________________________\n",
      "flatten_1 (Flatten)          (None, 8192)              0         \n",
      "_________________________________________________________________\n",
      "dense_3 (Dense)              (None, 256)               2097408   \n",
      "_________________________________________________________________\n",
      "dense_4 (Dense)              (None, 1)                 257       \n",
      "=================================================================\n",
      "Total params: 16,812,353\n",
      "Trainable params: 2,097,665\n",
      "Non-trainable params: 14,714,688\n",
      "_________________________________________________________________\n"
     ]
    }
   ],
   "source": [
    "model.summary()"
   ]
  },
  {
   "cell_type": "markdown",
   "metadata": {
    "colab_type": "text",
    "id": "E68OZRcKkQoU"
   },
   "source": [
    "### 컴파일을 수행해야 변경사항이 적용된다"
   ]
  },
  {
   "cell_type": "code",
   "execution_count": 22,
   "metadata": {
    "colab": {
     "base_uri": "https://localhost:8080/",
     "height": 52
    },
    "colab_type": "code",
    "executionInfo": {
     "elapsed": 1568,
     "status": "ok",
     "timestamp": 1559972639301,
     "user": {
      "displayName": "김화종",
      "photoUrl": "https://lh4.googleusercontent.com/-sR-MVK_KsAg/AAAAAAAAAAI/AAAAAAAALbE/3e3Eq9nrGuw/s64/photo.jpg",
      "userId": "17353049580175403985"
     },
     "user_tz": -540
    },
    "id": "uG0pDWWMHKkk",
    "outputId": "44a16ef0-2440-4620-8dd2-44c604654d7b"
   },
   "outputs": [
    {
     "name": "stdout",
     "output_type": "stream",
     "text": [
      "Found 2000 images belonging to 2 classes.\n",
      "Found 1000 images belonging to 2 classes.\n"
     ]
    }
   ],
   "source": [
    "train_datagen = ImageDataGenerator(\n",
    "  rescale= 1./255,\n",
    "  rotation_range = 40,\n",
    "  width_shift_range = 0.2,\n",
    "  height_shift_range = 0.2,\n",
    "  shear_range=0.2,\n",
    "  zoom_range=0.2,\n",
    "  horizontal_flip = True,\n",
    "  fill_mode='nearest')\n",
    "\n",
    "validation_datagen = ImageDataGenerator(rescale = 1./255)\n",
    "\n",
    "train_generator = train_datagen.flow_from_directory(directory=train_dir,\n",
    "\t\t\t\t\t\t\t\t\t\t\t   target_size=(img_width,img_height),\n",
    "\t\t\t\t\t\t\t\t\t\t\t   class_mode='binary',\n",
    "\t\t\t\t\t\t\t\t\t\t\t   batch_size=20)\n",
    "\n",
    "validation_generator = validation_datagen.flow_from_directory(directory=validation_dir,\n",
    "\t\t\t\t\t\t\t\t\t\t\t   target_size=(img_width,img_height),\n",
    "\t\t\t\t\t\t\t\t\t\t\t   class_mode='binary',\n",
    "\t\t\t\t\t\t\t\t\t\t\t   batch_size=20)\n",
    "\n",
    "\n"
   ]
  },
  {
   "cell_type": "markdown",
   "metadata": {
    "colab_type": "text",
    "id": "PNj36PXplaCx"
   },
   "source": [
    "### 과대적합이 줄어든 것을 볼 수 있다."
   ]
  },
  {
   "cell_type": "code",
   "execution_count": 23,
   "metadata": {
    "colab": {
     "base_uri": "https://localhost:8080/",
     "height": 1074
    },
    "colab_type": "code",
    "executionInfo": {
     "elapsed": 504665,
     "status": "ok",
     "timestamp": 1559973149264,
     "user": {
      "displayName": "김화종",
      "photoUrl": "https://lh4.googleusercontent.com/-sR-MVK_KsAg/AAAAAAAAAAI/AAAAAAAALbE/3e3Eq9nrGuw/s64/photo.jpg",
      "userId": "17353049580175403985"
     },
     "user_tz": -540
    },
    "id": "Cpgy1ZUjHKhU",
    "outputId": "0debd4ee-a10d-4f55-db5f-6823d64d3a2c"
   },
   "outputs": [
    {
     "name": "stdout",
     "output_type": "stream",
     "text": [
      "Epoch 1/30\n",
      " 18/100 [====>.........................] - ETA: 4:44 - loss: 0.6630 - acc: 0.6056"
     ]
    },
    {
     "ename": "KeyboardInterrupt",
     "evalue": "",
     "output_type": "error",
     "traceback": [
      "\u001b[1;31m---------------------------------------------------------------------------\u001b[0m",
      "\u001b[1;31mKeyboardInterrupt\u001b[0m                         Traceback (most recent call last)",
      "\u001b[1;32m<ipython-input-23-0cbd32bf7f9e>\u001b[0m in \u001b[0;36m<module>\u001b[1;34m\u001b[0m\n\u001b[0;32m      9\u001b[0m     \u001b[0mepochs\u001b[0m\u001b[1;33m=\u001b[0m\u001b[1;36m30\u001b[0m\u001b[1;33m,\u001b[0m\u001b[1;33m\u001b[0m\u001b[1;33m\u001b[0m\u001b[0m\n\u001b[0;32m     10\u001b[0m     \u001b[0mvalidation_data\u001b[0m\u001b[1;33m=\u001b[0m\u001b[0mvalidation_generator\u001b[0m\u001b[1;33m,\u001b[0m\u001b[1;33m\u001b[0m\u001b[1;33m\u001b[0m\u001b[0m\n\u001b[1;32m---> 11\u001b[1;33m     validation_steps=50)\n\u001b[0m",
      "\u001b[1;32m~\\Anaconda3\\lib\\site-packages\\keras\\legacy\\interfaces.py\u001b[0m in \u001b[0;36mwrapper\u001b[1;34m(*args, **kwargs)\u001b[0m\n\u001b[0;32m     89\u001b[0m                 warnings.warn('Update your `' + object_name + '` call to the ' +\n\u001b[0;32m     90\u001b[0m                               'Keras 2 API: ' + signature, stacklevel=2)\n\u001b[1;32m---> 91\u001b[1;33m             \u001b[1;32mreturn\u001b[0m \u001b[0mfunc\u001b[0m\u001b[1;33m(\u001b[0m\u001b[1;33m*\u001b[0m\u001b[0margs\u001b[0m\u001b[1;33m,\u001b[0m \u001b[1;33m**\u001b[0m\u001b[0mkwargs\u001b[0m\u001b[1;33m)\u001b[0m\u001b[1;33m\u001b[0m\u001b[1;33m\u001b[0m\u001b[0m\n\u001b[0m\u001b[0;32m     92\u001b[0m         \u001b[0mwrapper\u001b[0m\u001b[1;33m.\u001b[0m\u001b[0m_original_function\u001b[0m \u001b[1;33m=\u001b[0m \u001b[0mfunc\u001b[0m\u001b[1;33m\u001b[0m\u001b[1;33m\u001b[0m\u001b[0m\n\u001b[0;32m     93\u001b[0m         \u001b[1;32mreturn\u001b[0m \u001b[0mwrapper\u001b[0m\u001b[1;33m\u001b[0m\u001b[1;33m\u001b[0m\u001b[0m\n",
      "\u001b[1;32m~\\Anaconda3\\lib\\site-packages\\keras\\engine\\training.py\u001b[0m in \u001b[0;36mfit_generator\u001b[1;34m(self, generator, steps_per_epoch, epochs, verbose, callbacks, validation_data, validation_steps, validation_freq, class_weight, max_queue_size, workers, use_multiprocessing, shuffle, initial_epoch)\u001b[0m\n\u001b[0;32m   1730\u001b[0m             \u001b[0muse_multiprocessing\u001b[0m\u001b[1;33m=\u001b[0m\u001b[0muse_multiprocessing\u001b[0m\u001b[1;33m,\u001b[0m\u001b[1;33m\u001b[0m\u001b[1;33m\u001b[0m\u001b[0m\n\u001b[0;32m   1731\u001b[0m             \u001b[0mshuffle\u001b[0m\u001b[1;33m=\u001b[0m\u001b[0mshuffle\u001b[0m\u001b[1;33m,\u001b[0m\u001b[1;33m\u001b[0m\u001b[1;33m\u001b[0m\u001b[0m\n\u001b[1;32m-> 1732\u001b[1;33m             initial_epoch=initial_epoch)\n\u001b[0m\u001b[0;32m   1733\u001b[0m \u001b[1;33m\u001b[0m\u001b[0m\n\u001b[0;32m   1734\u001b[0m     \u001b[1;33m@\u001b[0m\u001b[0minterfaces\u001b[0m\u001b[1;33m.\u001b[0m\u001b[0mlegacy_generator_methods_support\u001b[0m\u001b[1;33m\u001b[0m\u001b[1;33m\u001b[0m\u001b[0m\n",
      "\u001b[1;32m~\\Anaconda3\\lib\\site-packages\\keras\\engine\\training_generator.py\u001b[0m in \u001b[0;36mfit_generator\u001b[1;34m(model, generator, steps_per_epoch, epochs, verbose, callbacks, validation_data, validation_steps, validation_freq, class_weight, max_queue_size, workers, use_multiprocessing, shuffle, initial_epoch)\u001b[0m\n\u001b[0;32m    218\u001b[0m                                             \u001b[0msample_weight\u001b[0m\u001b[1;33m=\u001b[0m\u001b[0msample_weight\u001b[0m\u001b[1;33m,\u001b[0m\u001b[1;33m\u001b[0m\u001b[1;33m\u001b[0m\u001b[0m\n\u001b[0;32m    219\u001b[0m                                             \u001b[0mclass_weight\u001b[0m\u001b[1;33m=\u001b[0m\u001b[0mclass_weight\u001b[0m\u001b[1;33m,\u001b[0m\u001b[1;33m\u001b[0m\u001b[1;33m\u001b[0m\u001b[0m\n\u001b[1;32m--> 220\u001b[1;33m                                             reset_metrics=False)\n\u001b[0m\u001b[0;32m    221\u001b[0m \u001b[1;33m\u001b[0m\u001b[0m\n\u001b[0;32m    222\u001b[0m                 \u001b[0mouts\u001b[0m \u001b[1;33m=\u001b[0m \u001b[0mto_list\u001b[0m\u001b[1;33m(\u001b[0m\u001b[0mouts\u001b[0m\u001b[1;33m)\u001b[0m\u001b[1;33m\u001b[0m\u001b[1;33m\u001b[0m\u001b[0m\n",
      "\u001b[1;32m~\\Anaconda3\\lib\\site-packages\\keras\\engine\\training.py\u001b[0m in \u001b[0;36mtrain_on_batch\u001b[1;34m(self, x, y, sample_weight, class_weight, reset_metrics)\u001b[0m\n\u001b[0;32m   1512\u001b[0m             \u001b[0mins\u001b[0m \u001b[1;33m=\u001b[0m \u001b[0mx\u001b[0m \u001b[1;33m+\u001b[0m \u001b[0my\u001b[0m \u001b[1;33m+\u001b[0m \u001b[0msample_weights\u001b[0m\u001b[1;33m\u001b[0m\u001b[1;33m\u001b[0m\u001b[0m\n\u001b[0;32m   1513\u001b[0m         \u001b[0mself\u001b[0m\u001b[1;33m.\u001b[0m\u001b[0m_make_train_function\u001b[0m\u001b[1;33m(\u001b[0m\u001b[1;33m)\u001b[0m\u001b[1;33m\u001b[0m\u001b[1;33m\u001b[0m\u001b[0m\n\u001b[1;32m-> 1514\u001b[1;33m         \u001b[0moutputs\u001b[0m \u001b[1;33m=\u001b[0m \u001b[0mself\u001b[0m\u001b[1;33m.\u001b[0m\u001b[0mtrain_function\u001b[0m\u001b[1;33m(\u001b[0m\u001b[0mins\u001b[0m\u001b[1;33m)\u001b[0m\u001b[1;33m\u001b[0m\u001b[1;33m\u001b[0m\u001b[0m\n\u001b[0m\u001b[0;32m   1515\u001b[0m \u001b[1;33m\u001b[0m\u001b[0m\n\u001b[0;32m   1516\u001b[0m         \u001b[1;32mif\u001b[0m \u001b[0mreset_metrics\u001b[0m\u001b[1;33m:\u001b[0m\u001b[1;33m\u001b[0m\u001b[1;33m\u001b[0m\u001b[0m\n",
      "\u001b[1;32m~\\Anaconda3\\lib\\site-packages\\tensorflow\\python\\keras\\backend.py\u001b[0m in \u001b[0;36m__call__\u001b[1;34m(self, inputs)\u001b[0m\n\u001b[0;32m   3290\u001b[0m \u001b[1;33m\u001b[0m\u001b[0m\n\u001b[0;32m   3291\u001b[0m     fetched = self._callable_fn(*array_vals,\n\u001b[1;32m-> 3292\u001b[1;33m                                 run_metadata=self.run_metadata)\n\u001b[0m\u001b[0;32m   3293\u001b[0m     \u001b[0mself\u001b[0m\u001b[1;33m.\u001b[0m\u001b[0m_call_fetch_callbacks\u001b[0m\u001b[1;33m(\u001b[0m\u001b[0mfetched\u001b[0m\u001b[1;33m[\u001b[0m\u001b[1;33m-\u001b[0m\u001b[0mlen\u001b[0m\u001b[1;33m(\u001b[0m\u001b[0mself\u001b[0m\u001b[1;33m.\u001b[0m\u001b[0m_fetches\u001b[0m\u001b[1;33m)\u001b[0m\u001b[1;33m:\u001b[0m\u001b[1;33m]\u001b[0m\u001b[1;33m)\u001b[0m\u001b[1;33m\u001b[0m\u001b[1;33m\u001b[0m\u001b[0m\n\u001b[0;32m   3294\u001b[0m     output_structure = nest.pack_sequence_as(\n",
      "\u001b[1;32m~\\Anaconda3\\lib\\site-packages\\tensorflow\\python\\client\\session.py\u001b[0m in \u001b[0;36m__call__\u001b[1;34m(self, *args, **kwargs)\u001b[0m\n\u001b[0;32m   1456\u001b[0m         ret = tf_session.TF_SessionRunCallable(self._session._session,\n\u001b[0;32m   1457\u001b[0m                                                \u001b[0mself\u001b[0m\u001b[1;33m.\u001b[0m\u001b[0m_handle\u001b[0m\u001b[1;33m,\u001b[0m \u001b[0margs\u001b[0m\u001b[1;33m,\u001b[0m\u001b[1;33m\u001b[0m\u001b[1;33m\u001b[0m\u001b[0m\n\u001b[1;32m-> 1458\u001b[1;33m                                                run_metadata_ptr)\n\u001b[0m\u001b[0;32m   1459\u001b[0m         \u001b[1;32mif\u001b[0m \u001b[0mrun_metadata\u001b[0m\u001b[1;33m:\u001b[0m\u001b[1;33m\u001b[0m\u001b[1;33m\u001b[0m\u001b[0m\n\u001b[0;32m   1460\u001b[0m           \u001b[0mproto_data\u001b[0m \u001b[1;33m=\u001b[0m \u001b[0mtf_session\u001b[0m\u001b[1;33m.\u001b[0m\u001b[0mTF_GetBuffer\u001b[0m\u001b[1;33m(\u001b[0m\u001b[0mrun_metadata_ptr\u001b[0m\u001b[1;33m)\u001b[0m\u001b[1;33m\u001b[0m\u001b[1;33m\u001b[0m\u001b[0m\n",
      "\u001b[1;31mKeyboardInterrupt\u001b[0m: "
     ]
    }
   ],
   "source": [
    "model.compile(loss='binary_crossentropy',\n",
    "              optimizer=optimizers.RMSprop(lr=2e-5),\n",
    "              metrics=['acc'])\n",
    "\n",
    "\n",
    "history = model.fit_generator(\n",
    "    generator=train_generator, \n",
    "    steps_per_epoch=100,\n",
    "    epochs=30,\n",
    "    validation_data=validation_generator,\n",
    "    validation_steps=50)"
   ]
  },
  {
   "cell_type": "code",
   "execution_count": 33,
   "metadata": {
    "colab": {
     "base_uri": "https://localhost:8080/",
     "height": 562
    },
    "colab_type": "code",
    "executionInfo": {
     "elapsed": 1198,
     "status": "ok",
     "timestamp": 1559973346746,
     "user": {
      "displayName": "김화종",
      "photoUrl": "https://lh4.googleusercontent.com/-sR-MVK_KsAg/AAAAAAAAAAI/AAAAAAAALbE/3e3Eq9nrGuw/s64/photo.jpg",
      "userId": "17353049580175403985"
     },
     "user_tz": -540
    },
    "id": "5d1NMELUHKd-",
    "outputId": "5f41c425-3295-4f3f-9814-208237d80c28"
   },
   "outputs": [
    {
     "data": {
      "text/plain": [
       "Text(0.5,1,'Training(--) and validation loss')"
      ]
     },
     "execution_count": 33,
     "metadata": {
      "tags": []
     },
     "output_type": "execute_result"
    },
    {
     "data": {
      "image/png": "[encoded data removed]",
      "text/plain": [
       "<Figure size 432x288 with 1 Axes>"
      ]
     },
     "metadata": {
      "tags": []
     },
     "output_type": "display_data"
    },
    {
     "data": {
      "image/png": "[encoded data removed]",
      "text/plain": [
       "<Figure size 432x288 with 1 Axes>"
      ]
     },
     "metadata": {
      "tags": []
     },
     "output_type": "display_data"
    }
   ],
   "source": [
    "acc = history.history['acc']\n",
    "val_acc = history.history['val_acc']\n",
    "\n",
    "loss = history.history['loss']\n",
    "val_loss = history.history['val_loss']\n",
    "\n",
    "epochs = range(len(acc))\n",
    "\n",
    "plt.plot(epochs, acc, '--')\n",
    "plt.plot(epochs, val_acc)\n",
    "plt.title('Training(--) and validation accuracy')\n",
    "\n",
    "plt.figure()\n",
    "plt.plot(epochs, loss,  '--')\n",
    "plt.plot(epochs, val_loss)\n",
    "plt.title('Training(--) and validation loss')"
   ]
  },
  {
   "cell_type": "markdown",
   "metadata": {
    "colab_type": "text",
    "id": "0qC0I1Xglvbp"
   },
   "source": [
    "## 미세조정 방법\n",
    "- 상위 계층 몇개를 재학습시킨다\n",
    "- 앞에서 소개한 절차, 즉, 전결합망(top)부분을 먼저 학습시킨 후에 상위계층의 미세조정을 해야 한다 (한번에 학습하면 안되고 두 단계로 나누어야 함)\n",
    "\n",
    "         "
   ]
  },
  {
   "cell_type": "code",
   "execution_count": 34,
   "metadata": {
    "colab": {
     "base_uri": "https://localhost:8080/",
     "height": 795
    },
    "colab_type": "code",
    "executionInfo": {
     "elapsed": 2253,
     "status": "ok",
     "timestamp": 1559973524060,
     "user": {
      "displayName": "김화종",
      "photoUrl": "https://lh4.googleusercontent.com/-sR-MVK_KsAg/AAAAAAAAAAI/AAAAAAAALbE/3e3Eq9nrGuw/s64/photo.jpg",
      "userId": "17353049580175403985"
     },
     "user_tz": -540
    },
    "id": "t5XAI5qT2M8W",
    "outputId": "763f3e76-ce3d-435b-ad9c-1cd538ed7bf8"
   },
   "outputs": [
    {
     "name": "stdout",
     "output_type": "stream",
     "text": [
      "_________________________________________________________________\n",
      "Layer (type)                 Output Shape              Param #   \n",
      "=================================================================\n",
      "input_1 (InputLayer)         (None, 150, 150, 3)       0         \n",
      "_________________________________________________________________\n",
      "block1_conv1 (Conv2D)        (None, 150, 150, 64)      1792      \n",
      "_________________________________________________________________\n",
      "block1_conv2 (Conv2D)        (None, 150, 150, 64)      36928     \n",
      "_________________________________________________________________\n",
      "block1_pool (MaxPooling2D)   (None, 75, 75, 64)        0         \n",
      "_________________________________________________________________\n",
      "block2_conv1 (Conv2D)        (None, 75, 75, 128)       73856     \n",
      "_________________________________________________________________\n",
      "block2_conv2 (Conv2D)        (None, 75, 75, 128)       147584    \n",
      "_________________________________________________________________\n",
      "block2_pool (MaxPooling2D)   (None, 37, 37, 128)       0         \n",
      "_________________________________________________________________\n",
      "block3_conv1 (Conv2D)        (None, 37, 37, 256)       295168    \n",
      "_________________________________________________________________\n",
      "block3_conv2 (Conv2D)        (None, 37, 37, 256)       590080    \n",
      "_________________________________________________________________\n",
      "block3_conv3 (Conv2D)        (None, 37, 37, 256)       590080    \n",
      "_________________________________________________________________\n",
      "block3_pool (MaxPooling2D)   (None, 18, 18, 256)       0         \n",
      "_________________________________________________________________\n",
      "block4_conv1 (Conv2D)        (None, 18, 18, 512)       1180160   \n",
      "_________________________________________________________________\n",
      "block4_conv2 (Conv2D)        (None, 18, 18, 512)       2359808   \n",
      "_________________________________________________________________\n",
      "block4_conv3 (Conv2D)        (None, 18, 18, 512)       2359808   \n",
      "_________________________________________________________________\n",
      "block4_pool (MaxPooling2D)   (None, 9, 9, 512)         0         \n",
      "_________________________________________________________________\n",
      "block5_conv1 (Conv2D)        (None, 9, 9, 512)         2359808   \n",
      "_________________________________________________________________\n",
      "block5_conv2 (Conv2D)        (None, 9, 9, 512)         2359808   \n",
      "_________________________________________________________________\n",
      "block5_conv3 (Conv2D)        (None, 9, 9, 512)         2359808   \n",
      "_________________________________________________________________\n",
      "block5_pool (MaxPooling2D)   (None, 4, 4, 512)         0         \n",
      "=================================================================\n",
      "Total params: 14,714,688\n",
      "Trainable params: 0\n",
      "Non-trainable params: 14,714,688\n",
      "_________________________________________________________________\n"
     ]
    }
   ],
   "source": [
    "conv_base.summary()"
   ]
  },
  {
   "cell_type": "markdown",
   "metadata": {
    "colab_type": "text",
    "id": "RAUd8YyW2blO"
   },
   "source": [
    "### 위에서 block 5 부분만 미세조정 하겠다"
   ]
  },
  {
   "cell_type": "code",
   "execution_count": 0,
   "metadata": {
    "colab": {},
    "colab_type": "code",
    "id": "pEVEbvcW2TBl"
   },
   "outputs": [],
   "source": [
    "conv_base.trainable = True\n",
    "\n",
    "set_trainable = False\n",
    "for layer in conv_base.layers:\n",
    "  if layer.name == 'block5_conv1':\n",
    "    set_trainable = True\n",
    "  if set_trainable:\n",
    "    layer.trainable = True\n",
    "  else:\n",
    "    layer.trainable = False"
   ]
  },
  {
   "cell_type": "markdown",
   "metadata": {
    "colab_type": "text",
    "id": "7uCc31nj3lJq"
   },
   "source": [
    "### 학습률을 작게 조정한다 (천천히 학습하도록)"
   ]
  },
  {
   "cell_type": "code",
   "execution_count": 36,
   "metadata": {
    "colab": {
     "base_uri": "https://localhost:8080/",
     "height": 1074
    },
    "colab_type": "code",
    "executionInfo": {
     "elapsed": 518087,
     "status": "ok",
     "timestamp": 1559974050773,
     "user": {
      "displayName": "김화종",
      "photoUrl": "https://lh4.googleusercontent.com/-sR-MVK_KsAg/AAAAAAAAAAI/AAAAAAAALbE/3e3Eq9nrGuw/s64/photo.jpg",
      "userId": "17353049580175403985"
     },
     "user_tz": -540
    },
    "id": "oEZvEBLt3fZl",
    "outputId": "e55f3de4-ebae-4c11-a860-ff4ba1301217"
   },
   "outputs": [
    {
     "name": "stdout",
     "output_type": "stream",
     "text": [
      "Epoch 1/30\n",
      "100/100 [==============================] - 19s 188ms/step - loss: 0.2903 - acc: 0.8690 - val_loss: 0.2935 - val_acc: 0.8880\n",
      "Epoch 2/30\n",
      "100/100 [==============================] - 18s 178ms/step - loss: 0.2650 - acc: 0.8880 - val_loss: 0.2300 - val_acc: 0.9220\n",
      "Epoch 3/30\n",
      "100/100 [==============================] - 17s 174ms/step - loss: 0.2334 - acc: 0.9005 - val_loss: 0.2010 - val_acc: 0.9280\n",
      "Epoch 4/30\n",
      "100/100 [==============================] - 18s 178ms/step - loss: 0.2270 - acc: 0.8955 - val_loss: 0.2103 - val_acc: 0.9170\n",
      "Epoch 5/30\n",
      "100/100 [==============================] - 18s 179ms/step - loss: 0.2015 - acc: 0.9140 - val_loss: 0.2079 - val_acc: 0.9170\n",
      "Epoch 6/30\n",
      "100/100 [==============================] - 18s 176ms/step - loss: 0.1931 - acc: 0.9215 - val_loss: 0.2189 - val_acc: 0.9280\n",
      "Epoch 7/30\n",
      "100/100 [==============================] - 17s 173ms/step - loss: 0.1869 - acc: 0.9210 - val_loss: 0.2027 - val_acc: 0.9300\n",
      "Epoch 8/30\n",
      "100/100 [==============================] - 17s 174ms/step - loss: 0.1841 - acc: 0.9300 - val_loss: 0.2060 - val_acc: 0.9350\n",
      "Epoch 9/30\n",
      "100/100 [==============================] - 17s 171ms/step - loss: 0.1550 - acc: 0.9365 - val_loss: 0.2136 - val_acc: 0.9320\n",
      "Epoch 10/30\n",
      "100/100 [==============================] - 17s 170ms/step - loss: 0.1456 - acc: 0.9450 - val_loss: 0.1895 - val_acc: 0.9390\n",
      "Epoch 11/30\n",
      "100/100 [==============================] - 17s 173ms/step - loss: 0.1448 - acc: 0.9470 - val_loss: 0.2364 - val_acc: 0.9320\n",
      "Epoch 12/30\n",
      "100/100 [==============================] - 17s 174ms/step - loss: 0.1498 - acc: 0.9415 - val_loss: 0.3091 - val_acc: 0.9090\n",
      "Epoch 13/30\n",
      "100/100 [==============================] - 17s 172ms/step - loss: 0.1395 - acc: 0.9420 - val_loss: 0.2114 - val_acc: 0.9330\n",
      "Epoch 14/30\n",
      "100/100 [==============================] - 17s 171ms/step - loss: 0.1228 - acc: 0.9485 - val_loss: 0.1937 - val_acc: 0.9390\n",
      "Epoch 15/30\n",
      "100/100 [==============================] - 17s 169ms/step - loss: 0.1292 - acc: 0.9460 - val_loss: 0.2084 - val_acc: 0.9370\n",
      "Epoch 16/30\n",
      "100/100 [==============================] - 17s 170ms/step - loss: 0.1148 - acc: 0.9570 - val_loss: 0.2444 - val_acc: 0.9350\n",
      "Epoch 17/30\n",
      "100/100 [==============================] - 17s 167ms/step - loss: 0.1122 - acc: 0.9580 - val_loss: 0.2155 - val_acc: 0.9350\n",
      "Epoch 18/30\n",
      "100/100 [==============================] - 17s 170ms/step - loss: 0.1036 - acc: 0.9565 - val_loss: 0.2215 - val_acc: 0.9320\n",
      "Epoch 19/30\n",
      "100/100 [==============================] - 17s 168ms/step - loss: 0.0987 - acc: 0.9580 - val_loss: 0.1908 - val_acc: 0.9380\n",
      "Epoch 20/30\n",
      "100/100 [==============================] - 17s 173ms/step - loss: 0.0910 - acc: 0.9650 - val_loss: 0.2405 - val_acc: 0.9330\n",
      "Epoch 21/30\n",
      "100/100 [==============================] - 17s 170ms/step - loss: 0.0982 - acc: 0.9605 - val_loss: 0.2072 - val_acc: 0.9400\n",
      "Epoch 22/30\n",
      "100/100 [==============================] - 17s 168ms/step - loss: 0.0925 - acc: 0.9640 - val_loss: 0.1837 - val_acc: 0.9480\n",
      "Epoch 23/30\n",
      "100/100 [==============================] - 17s 169ms/step - loss: 0.0939 - acc: 0.9620 - val_loss: 0.1899 - val_acc: 0.9460\n",
      "Epoch 24/30\n",
      "100/100 [==============================] - 17s 169ms/step - loss: 0.0923 - acc: 0.9615 - val_loss: 0.2634 - val_acc: 0.9200\n",
      "Epoch 25/30\n",
      "100/100 [==============================] - 17s 170ms/step - loss: 0.0771 - acc: 0.9725 - val_loss: 0.2306 - val_acc: 0.9360\n",
      "Epoch 26/30\n",
      "100/100 [==============================] - 17s 169ms/step - loss: 0.0771 - acc: 0.9730 - val_loss: 0.2147 - val_acc: 0.9410\n",
      "Epoch 27/30\n",
      "100/100 [==============================] - 17s 169ms/step - loss: 0.0795 - acc: 0.9690 - val_loss: 0.2317 - val_acc: 0.9430\n",
      "Epoch 28/30\n",
      "100/100 [==============================] - 17s 168ms/step - loss: 0.0783 - acc: 0.9725 - val_loss: 0.2082 - val_acc: 0.9400\n",
      "Epoch 29/30\n",
      "100/100 [==============================] - 17s 169ms/step - loss: 0.0770 - acc: 0.9685 - val_loss: 0.2754 - val_acc: 0.9240\n",
      "Epoch 30/30\n",
      "100/100 [==============================] - 17s 171ms/step - loss: 0.0753 - acc: 0.9670 - val_loss: 0.2279 - val_acc: 0.9400\n"
     ]
    }
   ],
   "source": [
    "model.compile(loss='binary_crossentropy',\n",
    "              optimizer=optimizers.RMSprop(lr=1e-5),\n",
    "              metrics=['acc'])\n",
    "\n",
    "\n",
    "history = model.fit_generator(\n",
    "    generator=train_generator, \n",
    "    steps_per_epoch=100,\n",
    "    epochs=30,\n",
    "    validation_data=validation_generator,\n",
    "    validation_steps=50)"
   ]
  },
  {
   "cell_type": "code",
   "execution_count": 37,
   "metadata": {
    "colab": {
     "base_uri": "https://localhost:8080/",
     "height": 562
    },
    "colab_type": "code",
    "executionInfo": {
     "elapsed": 902,
     "status": "ok",
     "timestamp": 1559974158653,
     "user": {
      "displayName": "김화종",
      "photoUrl": "https://lh4.googleusercontent.com/-sR-MVK_KsAg/AAAAAAAAAAI/AAAAAAAALbE/3e3Eq9nrGuw/s64/photo.jpg",
      "userId": "17353049580175403985"
     },
     "user_tz": -540
    },
    "id": "kib3w3KOtI34",
    "outputId": "f994016a-70c6-4073-9bd8-c9778edac716"
   },
   "outputs": [
    {
     "data": {
      "text/plain": [
       "Text(0.5,1,'Training(--) and validation loss')"
      ]
     },
     "execution_count": 37,
     "metadata": {
      "tags": []
     },
     "output_type": "execute_result"
    },
    {
     "data": {
      "image/png": "[encoded data removed]",
      "text/plain": [
       "<Figure size 432x288 with 1 Axes>"
      ]
     },
     "metadata": {
      "tags": []
     },
     "output_type": "display_data"
    },
    {
     "data": {
      "image/png": "[encoded data removed]",
      "text/plain": [
       "<Figure size 432x288 with 1 Axes>"
      ]
     },
     "metadata": {
      "tags": []
     },
     "output_type": "display_data"
    }
   ],
   "source": [
    "acc = history.history['acc']\n",
    "val_acc = history.history['val_acc']\n",
    "\n",
    "loss = history.history['loss']\n",
    "val_loss = history.history['val_loss']\n",
    "\n",
    "epochs = range(len(acc))\n",
    "\n",
    "plt.plot(epochs, acc, '--')\n",
    "plt.plot(epochs, val_acc)\n",
    "plt.title('Training(--) and validation accuracy')\n",
    "\n",
    "plt.figure()\n",
    "plt.plot(epochs, loss,  '--')\n",
    "plt.plot(epochs, val_loss)\n",
    "plt.title('Training(--) and validation loss')"
   ]
  },
  {
   "cell_type": "markdown",
   "metadata": {
    "colab_type": "text",
    "id": "QCbU7FQU47OP"
   },
   "source": [
    "## 성능이 92%로 1% 정도 향상되었다.\n",
    "- 주의 할 것은 손실함수는 향상되지 않는 것으로 나타나도, 성능이 향상될 수 있다는 것이다. (분류 성능은 어떤 임계값만 넘으면 활률적으로 개선될 수 있다)\n",
    "\n",
    "## 요약\n",
    "- 과대적합을 줄이기 위해서 데이터 확장을 사용\n",
    "- 전이학습 중 특성 추출방식 소개\n",
    "- 전이학습 중 미세조정 방식 소개"
   ]
  },
  {
   "cell_type": "code",
   "execution_count": 0,
   "metadata": {
    "colab": {},
    "colab_type": "code",
    "id": "8zFN7erS5SEV"
   },
   "outputs": [],
   "source": []
  }
 ],
 "metadata": {
  "accelerator": "GPU",
  "colab": {
   "collapsed_sections": [],
   "name": "gg_64_cats_and_dogs_transfer.ipynb",
   "provenance": [],
   "version": "0.3.2"
  },
  "kernelspec": {
   "display_name": "Python 3 (ipykernel)",
   "language": "python",
   "name": "python3"
  },
  "language_info": {
   "codemirror_mode": {
    "name": "ipython",
    "version": 3
   },
   "file_extension": ".py",
   "mimetype": "text/x-python",
   "name": "python",
   "nbconvert_exporter": "python",
   "pygments_lexer": "ipython3",
   "version": "3.9.7"
  }
 },
 "nbformat": 4,
 "nbformat_minor": 1
}
