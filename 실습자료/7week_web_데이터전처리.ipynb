{
 "cells": [
  {
   "cell_type": "code",
   "execution_count": 2,
   "id": "cddb56cc-2b63-4daf-8c87-afa5162121b9",
   "metadata": {
    "tags": []
   },
   "outputs": [],
   "source": [
    "import pandas as pd\n",
    "import numpy as np\n",
    "import matplotlib.pyplot as plt\n",
    "import seaborn as sns\n",
    "from sklearn.preprocessing import StandardScaler as sc"
   ]
  },
  {
   "cell_type": "markdown",
   "id": "1953b236-81eb-4135-ad7b-6768ceb753ae",
   "metadata": {},
   "source": [
    "### sc().fit() 수행하면 데이터의 평균과 시그마 값을 산출\n",
    "### sc().transform 수행하면 z값을 산출\n",
    "### sc().fit_transform() 평균고 시그마 값을 산출하고 z값을 동시에 산출\n",
    "### np.random.randn(10) 표준정규분포의 값 10개를 반환해주며 +- 3 사이의 값이 반환됨"
   ]
  },
  {
   "cell_type": "code",
   "execution_count": 3,
   "id": "15cc6add-557b-4b43-9eee-b2a3d43e9c7c",
   "metadata": {
    "tags": []
   },
   "outputs": [],
   "source": [
    "sc1 = sc()\n",
    "sc2 = sc()"
   ]
  },
  {
   "cell_type": "code",
   "execution_count": 8,
   "id": "a30cb228-2f75-4206-b420-6ced26828f53",
   "metadata": {
    "tags": []
   },
   "outputs": [],
   "source": [
    "n_samples = 10\n",
    "height = 170 + 3 * np.random.randn(n_samples).round()\n",
    "weight = 70 + 4 * np.random.randn(n_samples).round()"
   ]
  },
  {
   "cell_type": "code",
   "execution_count": 10,
   "id": "59896338-ea9b-405f-8dd0-c615b8a66f7f",
   "metadata": {
    "tags": []
   },
   "outputs": [
    {
     "data": {
      "text/plain": [
       "[(170.0, 70.0),\n",
       " (173.0, 70.0),\n",
       " (170.0, 62.0),\n",
       " (167.0, 70.0),\n",
       " (167.0, 82.0),\n",
       " (170.0, 70.0),\n",
       " (170.0, 70.0),\n",
       " (170.0, 66.0),\n",
       " (167.0, 70.0),\n",
       " (167.0, 78.0)]"
      ]
     },
     "execution_count": 10,
     "metadata": {},
     "output_type": "execute_result"
    }
   ],
   "source": [
    "list(zip(height,weight))"
   ]
  },
  {
   "cell_type": "code",
   "execution_count": 13,
   "id": "76183176-7e16-4211-983d-a83dd7c430f1",
   "metadata": {
    "tags": []
   },
   "outputs": [
    {
     "data": {
      "text/html": [
       "<div>\n",
       "<style scoped>\n",
       "    .dataframe tbody tr th:only-of-type {\n",
       "        vertical-align: middle;\n",
       "    }\n",
       "\n",
       "    .dataframe tbody tr th {\n",
       "        vertical-align: top;\n",
       "    }\n",
       "\n",
       "    .dataframe thead th {\n",
       "        text-align: right;\n",
       "    }\n",
       "</style>\n",
       "<table border=\"1\" class=\"dataframe\">\n",
       "  <thead>\n",
       "    <tr style=\"text-align: right;\">\n",
       "      <th></th>\n",
       "      <th>height</th>\n",
       "      <th>weight</th>\n",
       "    </tr>\n",
       "  </thead>\n",
       "  <tbody>\n",
       "    <tr>\n",
       "      <th>0</th>\n",
       "      <td>170.0</td>\n",
       "      <td>70.0</td>\n",
       "    </tr>\n",
       "    <tr>\n",
       "      <th>1</th>\n",
       "      <td>173.0</td>\n",
       "      <td>70.0</td>\n",
       "    </tr>\n",
       "    <tr>\n",
       "      <th>2</th>\n",
       "      <td>170.0</td>\n",
       "      <td>62.0</td>\n",
       "    </tr>\n",
       "    <tr>\n",
       "      <th>3</th>\n",
       "      <td>167.0</td>\n",
       "      <td>70.0</td>\n",
       "    </tr>\n",
       "    <tr>\n",
       "      <th>4</th>\n",
       "      <td>167.0</td>\n",
       "      <td>82.0</td>\n",
       "    </tr>\n",
       "    <tr>\n",
       "      <th>5</th>\n",
       "      <td>170.0</td>\n",
       "      <td>70.0</td>\n",
       "    </tr>\n",
       "    <tr>\n",
       "      <th>6</th>\n",
       "      <td>170.0</td>\n",
       "      <td>70.0</td>\n",
       "    </tr>\n",
       "    <tr>\n",
       "      <th>7</th>\n",
       "      <td>170.0</td>\n",
       "      <td>66.0</td>\n",
       "    </tr>\n",
       "    <tr>\n",
       "      <th>8</th>\n",
       "      <td>167.0</td>\n",
       "      <td>70.0</td>\n",
       "    </tr>\n",
       "    <tr>\n",
       "      <th>9</th>\n",
       "      <td>167.0</td>\n",
       "      <td>78.0</td>\n",
       "    </tr>\n",
       "  </tbody>\n",
       "</table>\n",
       "</div>"
      ],
      "text/plain": [
       "   height  weight\n",
       "0   170.0    70.0\n",
       "1   173.0    70.0\n",
       "2   170.0    62.0\n",
       "3   167.0    70.0\n",
       "4   167.0    82.0\n",
       "5   170.0    70.0\n",
       "6   170.0    70.0\n",
       "7   170.0    66.0\n",
       "8   167.0    70.0\n",
       "9   167.0    78.0"
      ]
     },
     "execution_count": 13,
     "metadata": {},
     "output_type": "execute_result"
    }
   ],
   "source": [
    "x= pd.DataFrame(list(zip(height,weight)), columns =['height','weight'])\n",
    "x"
   ]
  },
  {
   "cell_type": "code",
   "execution_count": 18,
   "id": "6cb3c22c-a6f0-4381-ae3e-c05ab098d96a",
   "metadata": {
    "tags": []
   },
   "outputs": [
    {
     "data": {
      "text/html": [
       "<div>\n",
       "<style scoped>\n",
       "    .dataframe tbody tr th:only-of-type {\n",
       "        vertical-align: middle;\n",
       "    }\n",
       "\n",
       "    .dataframe tbody tr th {\n",
       "        vertical-align: top;\n",
       "    }\n",
       "\n",
       "    .dataframe thead th {\n",
       "        text-align: right;\n",
       "    }\n",
       "</style>\n",
       "<table border=\"1\" class=\"dataframe\">\n",
       "  <thead>\n",
       "    <tr style=\"text-align: right;\">\n",
       "      <th></th>\n",
       "      <th>height</th>\n",
       "      <th>weight</th>\n",
       "    </tr>\n",
       "  </thead>\n",
       "  <tbody>\n",
       "    <tr>\n",
       "      <th>0</th>\n",
       "      <td>0.468521</td>\n",
       "      <td>-0.150756</td>\n",
       "    </tr>\n",
       "    <tr>\n",
       "      <th>1</th>\n",
       "      <td>2.030259</td>\n",
       "      <td>-0.150756</td>\n",
       "    </tr>\n",
       "    <tr>\n",
       "      <th>2</th>\n",
       "      <td>0.468521</td>\n",
       "      <td>-1.658312</td>\n",
       "    </tr>\n",
       "    <tr>\n",
       "      <th>3</th>\n",
       "      <td>-1.093216</td>\n",
       "      <td>-0.150756</td>\n",
       "    </tr>\n",
       "    <tr>\n",
       "      <th>4</th>\n",
       "      <td>-1.093216</td>\n",
       "      <td>2.110579</td>\n",
       "    </tr>\n",
       "    <tr>\n",
       "      <th>5</th>\n",
       "      <td>0.468521</td>\n",
       "      <td>-0.150756</td>\n",
       "    </tr>\n",
       "    <tr>\n",
       "      <th>6</th>\n",
       "      <td>0.468521</td>\n",
       "      <td>-0.150756</td>\n",
       "    </tr>\n",
       "    <tr>\n",
       "      <th>7</th>\n",
       "      <td>0.468521</td>\n",
       "      <td>-0.904534</td>\n",
       "    </tr>\n",
       "    <tr>\n",
       "      <th>8</th>\n",
       "      <td>-1.093216</td>\n",
       "      <td>-0.150756</td>\n",
       "    </tr>\n",
       "    <tr>\n",
       "      <th>9</th>\n",
       "      <td>-1.093216</td>\n",
       "      <td>1.356801</td>\n",
       "    </tr>\n",
       "  </tbody>\n",
       "</table>\n",
       "</div>"
      ],
      "text/plain": [
       "     height    weight\n",
       "0  0.468521 -0.150756\n",
       "1  2.030259 -0.150756\n",
       "2  0.468521 -1.658312\n",
       "3 -1.093216 -0.150756\n",
       "4 -1.093216  2.110579\n",
       "5  0.468521 -0.150756\n",
       "6  0.468521 -0.150756\n",
       "7  0.468521 -0.904534\n",
       "8 -1.093216 -0.150756\n",
       "9 -1.093216  1.356801"
      ]
     },
     "execution_count": 18,
     "metadata": {},
     "output_type": "execute_result"
    }
   ],
   "source": [
    "x_std = pd.DataFrame(sc1.fit_transform(x),columns =['height','weight'])\n",
    "x_std"
   ]
  },
  {
   "cell_type": "markdown",
   "id": "4625cf4e-ad7f-4205-8269-3fabc5a77517",
   "metadata": {},
   "source": [
    "### MinMaxScaler : 0 ~ 1\n",
    "### MaxAbsScaler : -1 ~ +1\n",
    "### RobustScaler : 이상치를 제거한 정규화 -3 ~ +3\n",
    "### StandardScaler : 이상치를 포함한 정규화 -3 ~ +3\n",
    "---\n",
    "### np.random.randn : 표준 정규분포(평균 0, 편차 1) 데이터 반환\n",
    "### np.random.normal : 정규분포(평균과 편차를 임의로 설정) 데이터 반환"
   ]
  },
  {
   "cell_type": "code",
   "execution_count": 44,
   "id": "e02f04c4-cffe-419f-a1e7-b4cea8840b46",
   "metadata": {
    "tags": []
   },
   "outputs": [],
   "source": [
    "from sklearn.preprocessing import MinMaxScaler as mm_std, MaxAbsScaler as ma_std, RobustScaler as rb_std"
   ]
  },
  {
   "cell_type": "markdown",
   "id": "0589d002-2a66-4c21-95dd-b07d658fdb7c",
   "metadata": {},
   "source": [
    "### 데이터 변환 실습 (정규화 이전)"
   ]
  },
  {
   "cell_type": "code",
   "execution_count": 28,
   "id": "2693fea2-8767-4d6a-aef4-a8c41a87cda3",
   "metadata": {
    "tags": []
   },
   "outputs": [
    {
     "data": {
      "text/plain": [
       "<Axes: ylabel='Density'>"
      ]
     },
     "execution_count": 28,
     "metadata": {},
     "output_type": "execute_result"
    },
    {
     "data": {
      "image/png": "[encoded data removed]",
      "text/plain": [
       "<Figure size 640x480 with 1 Axes>"
      ]
     },
     "metadata": {},
     "output_type": "display_data"
    }
   ],
   "source": [
    "n_samples =10000\n",
    "df = pd.DataFrame({'x1': np.random.normal(0, 2 ,n_samples),\n",
    " 'x2': np.random.normal(5, 3, n_samples),\n",
    " 'x3': np.random.normal(-5, 5, n_samples)})\n",
    "\n",
    "df.plot.kde()"
   ]
  },
  {
   "cell_type": "code",
   "execution_count": 33,
   "id": "b651c038-ded5-456b-bf27-05299669bcfc",
   "metadata": {
    "tags": []
   },
   "outputs": [
    {
     "data": {
      "text/plain": [
       "array([-0.80879816, -1.91844284,  1.51988579,  3.055313  , -1.65491859,\n",
       "        0.18019908,  0.89610436, -1.38376017,  3.08577137,  1.01186293])"
      ]
     },
     "execution_count": 33,
     "metadata": {},
     "output_type": "execute_result"
    }
   ],
   "source": [
    "np.random.normal(0,2,10)"
   ]
  },
  {
   "cell_type": "markdown",
   "id": "70f87f97-1a95-4e35-b15c-4e675f2926c9",
   "metadata": {},
   "source": [
    "### 데이터 변환 실습 (정규화 이후) "
   ]
  },
  {
   "cell_type": "code",
   "execution_count": 34,
   "id": "b9f9c0f8-9ba2-438b-bec0-c2eea2789134",
   "metadata": {
    "tags": []
   },
   "outputs": [
    {
     "data": {
      "text/plain": [
       "<Axes: ylabel='Density'>"
      ]
     },
     "execution_count": 34,
     "metadata": {},
     "output_type": "execute_result"
    },
    {
     "data": {
      "image/png": "[encoded data removed]",
      "text/plain": [
       "<Figure size 640x480 with 1 Axes>"
      ]
     },
     "metadata": {},
     "output_type": "display_data"
    }
   ],
   "source": [
    "df_std = pd.DataFrame(sc1.fit_transform(df), columns = ['x1','x2','x3'])\n",
    "df_std.plot.kde()"
   ]
  },
  {
   "cell_type": "markdown",
   "id": "badacce9-ef67-4f82-88e3-5252e26b2a1f",
   "metadata": {},
   "source": [
    "### MinMax Scaler "
   ]
  },
  {
   "cell_type": "code",
   "execution_count": 37,
   "id": "cfa455b3-6d3a-4f79-aeca-5b226e601add",
   "metadata": {
    "tags": []
   },
   "outputs": [
    {
     "data": {
      "text/plain": [
       "<Axes: ylabel='Density'>"
      ]
     },
     "execution_count": 37,
     "metadata": {},
     "output_type": "execute_result"
    },
    {
     "data": {
      "image/png": "[encoded data removed]",
      "text/plain": [
       "<Figure size 640x480 with 1 Axes>"
      ]
     },
     "metadata": {},
     "output_type": "display_data"
    }
   ],
   "source": [
    "n_samples =1000\n",
    "df = pd.DataFrame({'x1': np.random.chisquare(8 ,n_samples),\n",
    " 'x2': np.random.beta(8,2, n_samples) * 40,\n",
    " 'x3': np.random.normal(50, 3, n_samples)})\n",
    "\n",
    "df.plot.kde()"
   ]
  },
  {
   "cell_type": "code",
   "execution_count": 38,
   "id": "481a6792-5c37-44bf-8bd6-095d28977bc9",
   "metadata": {
    "tags": []
   },
   "outputs": [
    {
     "data": {
      "text/plain": [
       "<Axes: ylabel='Density'>"
      ]
     },
     "execution_count": 38,
     "metadata": {},
     "output_type": "execute_result"
    },
    {
     "data": {
      "image/png": "[encoded data removed]",
      "text/plain": [
       "<Figure size 640x480 with 1 Axes>"
      ]
     },
     "metadata": {},
     "output_type": "display_data"
    }
   ],
   "source": [
    "mmx = mm_std()\n",
    "mmx_df = pd.DataFrame(mmx.fit_transform(df), columns = ['x1','x2','x3'])\n",
    "mmx_df.plot.kde()"
   ]
  },
  {
   "cell_type": "code",
   "execution_count": 39,
   "id": "1537f919-6907-42ae-9841-fdd57086ea25",
   "metadata": {
    "tags": []
   },
   "outputs": [
    {
     "data": {
      "text/plain": [
       "<Axes: ylabel='Density'>"
      ]
     },
     "execution_count": 39,
     "metadata": {},
     "output_type": "execute_result"
    },
    {
     "data": {
      "image/png": "[encoded data removed]",
      "text/plain": [
       "<Figure size 640x480 with 1 Axes>"
      ]
     },
     "metadata": {},
     "output_type": "display_data"
    }
   ],
   "source": [
    "mmx = mm_std()\n",
    "df_std = pd.DataFrame(sc1.fit_transform(df), columns = ['x1','x2','x3'])\n",
    "df_std.plot.kde()"
   ]
  },
  {
   "cell_type": "markdown",
   "id": "6cce62c8-7d5f-4b29-a565-52600e892e10",
   "metadata": {},
   "source": [
    "### Robust Scaler "
   ]
  },
  {
   "cell_type": "code",
   "execution_count": 48,
   "id": "21188080-6c5e-4cca-8af3-f083e543df99",
   "metadata": {
    "tags": []
   },
   "outputs": [
    {
     "data": {
      "text/plain": [
       "<Axes: ylabel='Density'>"
      ]
     },
     "execution_count": 48,
     "metadata": {},
     "output_type": "execute_result"
    },
    {
     "data": {
      "image/png": "[encoded data removed]",
      "text/plain": [
       "<Figure size 640x480 with 1 Axes>"
      ]
     },
     "metadata": {},
     "output_type": "display_data"
    }
   ],
   "source": [
    "n_samples =1000\n",
    "df = pd.DataFrame({\n",
    "    'x1': np.concatenate([np.random.normal(20,1,1000),np.random.normal(1,1,25)]),\n",
    "    'x2': np.concatenate([np.random.normal(30,1,1000),np.random.normal(50,1,25)])\n",
    "    })\n",
    "\n",
    "df.plot.kde()"
   ]
  },
  {
   "cell_type": "code",
   "execution_count": 50,
   "id": "71a92342-81ad-47f6-8791-bb0458f4c5a6",
   "metadata": {
    "tags": []
   },
   "outputs": [
    {
     "data": {
      "text/plain": [
       "<Axes: ylabel='Density'>"
      ]
     },
     "execution_count": 50,
     "metadata": {},
     "output_type": "execute_result"
    },
    {
     "data": {
      "image/png": "[encoded data removed]",
      "text/plain": [
       "<Figure size 640x480 with 1 Axes>"
      ]
     },
     "metadata": {},
     "output_type": "display_data"
    }
   ],
   "source": [
    "from sklearn.preprocessing import RobustScaler as rb_std\n",
    "rb_std = rb_std()\n",
    "robust_df = pd.DataFrame(rb_std.fit_transform(df), columns = ['x1','x2'])\n",
    "robust_df.plot.kde()"
   ]
  },
  {
   "cell_type": "code",
   "execution_count": 46,
   "id": "e2b2f342-2ccd-45f8-a16c-481d4b9ccdbd",
   "metadata": {
    "tags": []
   },
   "outputs": [
    {
     "data": {
      "text/plain": [
       "<Axes: ylabel='Density'>"
      ]
     },
     "execution_count": 46,
     "metadata": {},
     "output_type": "execute_result"
    },
    {
     "data": {
      "image/png": "[encoded data removed]",
      "text/plain": [
       "<Figure size 640x480 with 1 Axes>"
      ]
     },
     "metadata": {},
     "output_type": "display_data"
    }
   ],
   "source": [
    "std_df = pd.DataFrame(sc1.fit_transform(df), columns = ['x1','x2'])\n",
    "std_df.plot.kde()"
   ]
  },
  {
   "cell_type": "markdown",
   "id": "245d9e8d-e13a-4cf8-a5e7-b4581172527d",
   "metadata": {},
   "source": [
    "### 범주형(category) 데이터 인코딩 "
   ]
  },
  {
   "cell_type": "code",
   "execution_count": 51,
   "id": "a108a134-7646-4338-afef-7a694fd2c053",
   "metadata": {
    "tags": []
   },
   "outputs": [
    {
     "data": {
      "text/html": [
       "<div>\n",
       "<style scoped>\n",
       "    .dataframe tbody tr th:only-of-type {\n",
       "        vertical-align: middle;\n",
       "    }\n",
       "\n",
       "    .dataframe tbody tr th {\n",
       "        vertical-align: top;\n",
       "    }\n",
       "\n",
       "    .dataframe thead th {\n",
       "        text-align: right;\n",
       "    }\n",
       "</style>\n",
       "<table border=\"1\" class=\"dataframe\">\n",
       "  <thead>\n",
       "    <tr style=\"text-align: right;\">\n",
       "      <th></th>\n",
       "      <th>age</th>\n",
       "      <th>income</th>\n",
       "    </tr>\n",
       "  </thead>\n",
       "  <tbody>\n",
       "    <tr>\n",
       "      <th>0</th>\n",
       "      <td>33</td>\n",
       "      <td>low</td>\n",
       "    </tr>\n",
       "    <tr>\n",
       "      <th>1</th>\n",
       "      <td>44</td>\n",
       "      <td>low</td>\n",
       "    </tr>\n",
       "    <tr>\n",
       "      <th>2</th>\n",
       "      <td>22</td>\n",
       "      <td>high</td>\n",
       "    </tr>\n",
       "    <tr>\n",
       "      <th>3</th>\n",
       "      <td>44</td>\n",
       "      <td>medium</td>\n",
       "    </tr>\n",
       "    <tr>\n",
       "      <th>4</th>\n",
       "      <td>55</td>\n",
       "      <td>medium</td>\n",
       "    </tr>\n",
       "    <tr>\n",
       "      <th>5</th>\n",
       "      <td>22</td>\n",
       "      <td>high</td>\n",
       "    </tr>\n",
       "  </tbody>\n",
       "</table>\n",
       "</div>"
      ],
      "text/plain": [
       "   age  income\n",
       "0   33     low\n",
       "1   44     low\n",
       "2   22    high\n",
       "3   44  medium\n",
       "4   55  medium\n",
       "5   22    high"
      ]
     },
     "execution_count": 51,
     "metadata": {},
     "output_type": "execute_result"
    }
   ],
   "source": [
    "df = pd.DataFrame({\n",
    "    'age':[33,44,22,44,55,22],\n",
    "    'income':['low','low','high','medium','medium','high']\n",
    "})\n",
    "df"
   ]
  },
  {
   "cell_type": "code",
   "execution_count": 54,
   "id": "b611d186-e61e-4e43-9bca-5b3635340f50",
   "metadata": {
    "tags": []
   },
   "outputs": [
    {
     "data": {
      "text/plain": [
       "0    1\n",
       "1    1\n",
       "2    3\n",
       "3    2\n",
       "4    2\n",
       "5    3\n",
       "Name: income, dtype: int64"
      ]
     },
     "execution_count": 54,
     "metadata": {},
     "output_type": "execute_result"
    }
   ],
   "source": [
    "df['income'].map({'low':1,'medium':2,'high':3})"
   ]
  },
  {
   "cell_type": "code",
   "execution_count": 55,
   "id": "7b07c58a-fa81-433a-b264-942c66767ef0",
   "metadata": {
    "tags": []
   },
   "outputs": [
    {
     "data": {
      "text/html": [
       "<div>\n",
       "<style scoped>\n",
       "    .dataframe tbody tr th:only-of-type {\n",
       "        vertical-align: middle;\n",
       "    }\n",
       "\n",
       "    .dataframe tbody tr th {\n",
       "        vertical-align: top;\n",
       "    }\n",
       "\n",
       "    .dataframe thead th {\n",
       "        text-align: right;\n",
       "    }\n",
       "</style>\n",
       "<table border=\"1\" class=\"dataframe\">\n",
       "  <thead>\n",
       "    <tr style=\"text-align: right;\">\n",
       "      <th></th>\n",
       "      <th>age</th>\n",
       "      <th>gender</th>\n",
       "    </tr>\n",
       "  </thead>\n",
       "  <tbody>\n",
       "    <tr>\n",
       "      <th>0</th>\n",
       "      <td>33</td>\n",
       "      <td>male</td>\n",
       "    </tr>\n",
       "    <tr>\n",
       "      <th>1</th>\n",
       "      <td>44</td>\n",
       "      <td>female</td>\n",
       "    </tr>\n",
       "    <tr>\n",
       "      <th>2</th>\n",
       "      <td>22</td>\n",
       "      <td>male</td>\n",
       "    </tr>\n",
       "    <tr>\n",
       "      <th>3</th>\n",
       "      <td>44</td>\n",
       "      <td>female</td>\n",
       "    </tr>\n",
       "    <tr>\n",
       "      <th>4</th>\n",
       "      <td>55</td>\n",
       "      <td>male</td>\n",
       "    </tr>\n",
       "    <tr>\n",
       "      <th>5</th>\n",
       "      <td>22</td>\n",
       "      <td>male</td>\n",
       "    </tr>\n",
       "  </tbody>\n",
       "</table>\n",
       "</div>"
      ],
      "text/plain": [
       "   age  gender\n",
       "0   33    male\n",
       "1   44  female\n",
       "2   22    male\n",
       "3   44  female\n",
       "4   55    male\n",
       "5   22    male"
      ]
     },
     "execution_count": 55,
     "metadata": {},
     "output_type": "execute_result"
    }
   ],
   "source": [
    "df = pd.DataFrame({\n",
    "    'age':[33,44,22,44,55,22],\n",
    "    'gender':['male','female','male','female','male','male']\n",
    "})\n",
    "df"
   ]
  },
  {
   "cell_type": "code",
   "execution_count": 57,
   "id": "aaeb02bc-2aa0-4e7a-be30-9cf440315e2b",
   "metadata": {
    "tags": []
   },
   "outputs": [
    {
     "data": {
      "text/plain": [
       "array(['male', 'female'], dtype=object)"
      ]
     },
     "execution_count": 57,
     "metadata": {},
     "output_type": "execute_result"
    }
   ],
   "source": [
    "df['gender'].unique()"
   ]
  },
  {
   "cell_type": "code",
   "execution_count": 58,
   "id": "145dce3d-a7c9-447c-b24f-79c55c29ca62",
   "metadata": {
    "tags": []
   },
   "outputs": [
    {
     "data": {
      "text/plain": [
       "male      4\n",
       "female    2\n",
       "Name: gender, dtype: int64"
      ]
     },
     "execution_count": 58,
     "metadata": {},
     "output_type": "execute_result"
    }
   ],
   "source": [
    "df['gender'].value_counts()"
   ]
  },
  {
   "cell_type": "code",
   "execution_count": 59,
   "id": "30d6a412-1c42-4d6b-9393-8e2b9a5e4238",
   "metadata": {
    "tags": []
   },
   "outputs": [],
   "source": [
    "from sklearn.preprocessing import LabelEncoder, OneHotEncoder"
   ]
  },
  {
   "cell_type": "code",
   "execution_count": 61,
   "id": "4cdd4efb-de59-4236-b4a9-ac203e5d40f2",
   "metadata": {
    "tags": []
   },
   "outputs": [
    {
     "data": {
      "text/html": [
       "<div>\n",
       "<style scoped>\n",
       "    .dataframe tbody tr th:only-of-type {\n",
       "        vertical-align: middle;\n",
       "    }\n",
       "\n",
       "    .dataframe tbody tr th {\n",
       "        vertical-align: top;\n",
       "    }\n",
       "\n",
       "    .dataframe thead th {\n",
       "        text-align: right;\n",
       "    }\n",
       "</style>\n",
       "<table border=\"1\" class=\"dataframe\">\n",
       "  <thead>\n",
       "    <tr style=\"text-align: right;\">\n",
       "      <th></th>\n",
       "      <th>age</th>\n",
       "      <th>gender</th>\n",
       "      <th>gender_le</th>\n",
       "    </tr>\n",
       "  </thead>\n",
       "  <tbody>\n",
       "    <tr>\n",
       "      <th>0</th>\n",
       "      <td>33</td>\n",
       "      <td>male</td>\n",
       "      <td>1</td>\n",
       "    </tr>\n",
       "    <tr>\n",
       "      <th>1</th>\n",
       "      <td>44</td>\n",
       "      <td>female</td>\n",
       "      <td>0</td>\n",
       "    </tr>\n",
       "    <tr>\n",
       "      <th>2</th>\n",
       "      <td>22</td>\n",
       "      <td>male</td>\n",
       "      <td>1</td>\n",
       "    </tr>\n",
       "    <tr>\n",
       "      <th>3</th>\n",
       "      <td>44</td>\n",
       "      <td>female</td>\n",
       "      <td>0</td>\n",
       "    </tr>\n",
       "    <tr>\n",
       "      <th>4</th>\n",
       "      <td>55</td>\n",
       "      <td>male</td>\n",
       "      <td>1</td>\n",
       "    </tr>\n",
       "    <tr>\n",
       "      <th>5</th>\n",
       "      <td>22</td>\n",
       "      <td>male</td>\n",
       "      <td>1</td>\n",
       "    </tr>\n",
       "  </tbody>\n",
       "</table>\n",
       "</div>"
      ],
      "text/plain": [
       "   age  gender  gender_le\n",
       "0   33    male          1\n",
       "1   44  female          0\n",
       "2   22    male          1\n",
       "3   44  female          0\n",
       "4   55    male          1\n",
       "5   22    male          1"
      ]
     },
     "execution_count": 61,
     "metadata": {},
     "output_type": "execute_result"
    }
   ],
   "source": [
    "le = LabelEncoder()\n",
    "df['gender_le'] = le.fit_transform(df['gender'])\n",
    "df"
   ]
  },
  {
   "cell_type": "code",
   "execution_count": 71,
   "id": "2b0cd012-9787-4f28-84a1-b5b6295ff43a",
   "metadata": {
    "tags": []
   },
   "outputs": [
    {
     "data": {
      "text/plain": [
       "array([[0., 1.],\n",
       "       [1., 0.],\n",
       "       [0., 1.],\n",
       "       [1., 0.],\n",
       "       [0., 1.],\n",
       "       [0., 1.]])"
      ]
     },
     "execution_count": 71,
     "metadata": {},
     "output_type": "execute_result"
    }
   ],
   "source": [
    "oh = OneHotEncoder()\n",
    "oh.fit_transform(df[['gender_le']]).toarray()"
   ]
  },
  {
   "cell_type": "code",
   "execution_count": null,
   "id": "4c845d4c-3b82-47ed-b078-5016a8e7ca92",
   "metadata": {},
   "outputs": [],
   "source": []
  },
  {
   "cell_type": "code",
   "execution_count": 73,
   "id": "d3f1c2ea-9027-4f0c-ba26-543b7464f05b",
   "metadata": {
    "tags": []
   },
   "outputs": [],
   "source": [
    "items = np.array(['tv','냉장고','컴퓨터','컴퓨터','냉장고','에어콘','에어콘','선풍기'])"
   ]
  },
  {
   "cell_type": "code",
   "execution_count": 74,
   "id": "aa9b8971-f76e-44b3-9b37-643c5965d393",
   "metadata": {
    "tags": []
   },
   "outputs": [
    {
     "data": {
      "text/html": [
       "<div>\n",
       "<style scoped>\n",
       "    .dataframe tbody tr th:only-of-type {\n",
       "        vertical-align: middle;\n",
       "    }\n",
       "\n",
       "    .dataframe tbody tr th {\n",
       "        vertical-align: top;\n",
       "    }\n",
       "\n",
       "    .dataframe thead th {\n",
       "        text-align: right;\n",
       "    }\n",
       "</style>\n",
       "<table border=\"1\" class=\"dataframe\">\n",
       "  <thead>\n",
       "    <tr style=\"text-align: right;\">\n",
       "      <th></th>\n",
       "      <th>tv</th>\n",
       "      <th>냉장고</th>\n",
       "      <th>선풍기</th>\n",
       "      <th>에어콘</th>\n",
       "      <th>컴퓨터</th>\n",
       "    </tr>\n",
       "  </thead>\n",
       "  <tbody>\n",
       "    <tr>\n",
       "      <th>0</th>\n",
       "      <td>1</td>\n",
       "      <td>0</td>\n",
       "      <td>0</td>\n",
       "      <td>0</td>\n",
       "      <td>0</td>\n",
       "    </tr>\n",
       "    <tr>\n",
       "      <th>1</th>\n",
       "      <td>0</td>\n",
       "      <td>1</td>\n",
       "      <td>0</td>\n",
       "      <td>0</td>\n",
       "      <td>0</td>\n",
       "    </tr>\n",
       "    <tr>\n",
       "      <th>2</th>\n",
       "      <td>0</td>\n",
       "      <td>0</td>\n",
       "      <td>0</td>\n",
       "      <td>0</td>\n",
       "      <td>1</td>\n",
       "    </tr>\n",
       "    <tr>\n",
       "      <th>3</th>\n",
       "      <td>0</td>\n",
       "      <td>0</td>\n",
       "      <td>0</td>\n",
       "      <td>0</td>\n",
       "      <td>1</td>\n",
       "    </tr>\n",
       "    <tr>\n",
       "      <th>4</th>\n",
       "      <td>0</td>\n",
       "      <td>1</td>\n",
       "      <td>0</td>\n",
       "      <td>0</td>\n",
       "      <td>0</td>\n",
       "    </tr>\n",
       "    <tr>\n",
       "      <th>5</th>\n",
       "      <td>0</td>\n",
       "      <td>0</td>\n",
       "      <td>0</td>\n",
       "      <td>1</td>\n",
       "      <td>0</td>\n",
       "    </tr>\n",
       "    <tr>\n",
       "      <th>6</th>\n",
       "      <td>0</td>\n",
       "      <td>0</td>\n",
       "      <td>0</td>\n",
       "      <td>1</td>\n",
       "      <td>0</td>\n",
       "    </tr>\n",
       "    <tr>\n",
       "      <th>7</th>\n",
       "      <td>0</td>\n",
       "      <td>0</td>\n",
       "      <td>1</td>\n",
       "      <td>0</td>\n",
       "      <td>0</td>\n",
       "    </tr>\n",
       "  </tbody>\n",
       "</table>\n",
       "</div>"
      ],
      "text/plain": [
       "   tv  냉장고  선풍기  에어콘  컴퓨터\n",
       "0   1    0    0    0    0\n",
       "1   0    1    0    0    0\n",
       "2   0    0    0    0    1\n",
       "3   0    0    0    0    1\n",
       "4   0    1    0    0    0\n",
       "5   0    0    0    1    0\n",
       "6   0    0    0    1    0\n",
       "7   0    0    1    0    0"
      ]
     },
     "execution_count": 74,
     "metadata": {},
     "output_type": "execute_result"
    }
   ],
   "source": [
    "pd.get_dummies(items)"
   ]
  },
  {
   "cell_type": "code",
   "execution_count": null,
   "id": "8f402215-505a-4390-bc0a-8531c4b3fce7",
   "metadata": {},
   "outputs": [],
   "source": []
  },
  {
   "cell_type": "markdown",
   "id": "fdf9dba1-8d76-4a88-b96b-be1d071b5c8c",
   "metadata": {},
   "source": [
    "### 텍스트데이터 전처리(변환)  : 숫자로 변환 - countvectorizser\n",
    "#### CountVectorizer : 전체 문장중에 어떤 단어가 있는지 체크 > 각 단어에 index 부여 > 각 문장에 단어들이 몇번 발생하는지 표기\n",
    "#### CountVectorizer.vocabulary_ : 단어별 인덱스 번호\n",
    "#### CountVectorizer(stop_words = 불용어)\n",
    "#### CountVectorizer(vocabulary = 변환할단어)\n",
    "#### CountVectorizer(ngram_range = 말뭉치 수) - 여러 단어를 한 단어 합쳐서 변환할 때(최소 1개부터 최대 n개까지)"
   ]
  },
  {
   "cell_type": "code",
   "execution_count": 78,
   "id": "762762a4-bd51-4301-a043-1606b8a1c901",
   "metadata": {
    "tags": []
   },
   "outputs": [
    {
     "data": {
      "text/plain": [
       "['this is the first document awesome food',\n",
       " 'this is the second second document',\n",
       " 'and the third one the is mission impossoble',\n",
       " 'is this the first document']"
      ]
     },
     "execution_count": 78,
     "metadata": {},
     "output_type": "execute_result"
    }
   ],
   "source": [
    "corpus = ['this is the first document awesome food',\n",
    "         'this is the second second document',\n",
    "          'and the third one the is mission impossoble',\n",
    "         'is this the first document']\n",
    "corpus"
   ]
  },
  {
   "cell_type": "code",
   "execution_count": 79,
   "id": "f4f3bba5-e0f2-45e7-b1e9-c512af766fce",
   "metadata": {
    "tags": []
   },
   "outputs": [
    {
     "data": {
      "text/html": [
       "<div>\n",
       "<style scoped>\n",
       "    .dataframe tbody tr th:only-of-type {\n",
       "        vertical-align: middle;\n",
       "    }\n",
       "\n",
       "    .dataframe tbody tr th {\n",
       "        vertical-align: top;\n",
       "    }\n",
       "\n",
       "    .dataframe thead th {\n",
       "        text-align: right;\n",
       "    }\n",
       "</style>\n",
       "<table border=\"1\" class=\"dataframe\">\n",
       "  <thead>\n",
       "    <tr style=\"text-align: right;\">\n",
       "      <th></th>\n",
       "      <th>text</th>\n",
       "    </tr>\n",
       "  </thead>\n",
       "  <tbody>\n",
       "    <tr>\n",
       "      <th>0</th>\n",
       "      <td>this is the first document awesome food</td>\n",
       "    </tr>\n",
       "    <tr>\n",
       "      <th>1</th>\n",
       "      <td>this is the second second document</td>\n",
       "    </tr>\n",
       "    <tr>\n",
       "      <th>2</th>\n",
       "      <td>and the third one the is mission impossoble</td>\n",
       "    </tr>\n",
       "    <tr>\n",
       "      <th>3</th>\n",
       "      <td>is this the first document</td>\n",
       "    </tr>\n",
       "  </tbody>\n",
       "</table>\n",
       "</div>"
      ],
      "text/plain": [
       "                                          text\n",
       "0      this is the first document awesome food\n",
       "1           this is the second second document\n",
       "2  and the third one the is mission impossoble\n",
       "3                   is this the first document"
      ]
     },
     "execution_count": 79,
     "metadata": {},
     "output_type": "execute_result"
    }
   ],
   "source": [
    "df = pd.DataFrame({'text':corpus})\n",
    "df"
   ]
  },
  {
   "cell_type": "code",
   "execution_count": 81,
   "id": "1f4a0f04-4689-4353-a425-4ee189fe2c47",
   "metadata": {
    "tags": []
   },
   "outputs": [],
   "source": [
    "from sklearn.feature_extraction.text import CountVectorizer "
   ]
  },
  {
   "cell_type": "code",
   "execution_count": 87,
   "id": "864265b2-1490-4d7c-a099-f4a673f1fce2",
   "metadata": {
    "tags": []
   },
   "outputs": [
    {
     "data": {
      "text/plain": [
       "array([[0, 1, 1, 1, 1, 0, 0, 0, 0, 0, 1],\n",
       "       [0, 0, 1, 0, 0, 0, 0, 0, 2, 0, 1],\n",
       "       [1, 0, 0, 0, 0, 1, 1, 1, 0, 1, 0],\n",
       "       [0, 0, 1, 1, 0, 0, 0, 0, 0, 0, 1]], dtype=int64)"
      ]
     },
     "execution_count": 87,
     "metadata": {},
     "output_type": "execute_result"
    }
   ],
   "source": [
    "s_words = ['the','is']\n",
    "cv = CountVectorizer(stop_words = s_words)\n",
    "cv.fit_transform(df['text']).toarray()"
   ]
  },
  {
   "cell_type": "code",
   "execution_count": 86,
   "id": "fd7e04d3-0572-4427-b1ff-542a2d907588",
   "metadata": {
    "tags": []
   },
   "outputs": [
    {
     "data": {
      "text/plain": [
       "{'this': 12,\n",
       " 'is': 6,\n",
       " 'the': 10,\n",
       " 'first': 3,\n",
       " 'document': 2,\n",
       " 'awesome': 1,\n",
       " 'food': 4,\n",
       " 'second': 9,\n",
       " 'and': 0,\n",
       " 'third': 11,\n",
       " 'one': 8,\n",
       " 'mission': 7,\n",
       " 'impossoble': 5}"
      ]
     },
     "execution_count": 86,
     "metadata": {},
     "output_type": "execute_result"
    }
   ],
   "source": [
    "cv.vocabulary_"
   ]
  },
  {
   "cell_type": "code",
   "execution_count": 88,
   "id": "8e24bcad-eb6e-4b1c-b459-796636218531",
   "metadata": {
    "tags": []
   },
   "outputs": [
    {
     "data": {
      "text/plain": [
       "array([[1, 0, 0],\n",
       "       [0, 0, 2],\n",
       "       [0, 1, 0],\n",
       "       [0, 0, 0]], dtype=int64)"
      ]
     },
     "execution_count": 88,
     "metadata": {},
     "output_type": "execute_result"
    }
   ],
   "source": [
    "s_vocal = ['food','mission','second']\n",
    "cv = CountVectorizer(vocabulary= s_vocal)\n",
    "cv.fit_transform(df['text']).toarray()"
   ]
  },
  {
   "cell_type": "code",
   "execution_count": 91,
   "id": "ce72ea89-48b1-455d-8221-a7ab84fa3b6c",
   "metadata": {
    "tags": []
   },
   "outputs": [
    {
     "data": {
      "text/plain": [
       "array([[0, 0, 1, 1, 1, 1, 1, 1, 1, 0, 1, 0, 1, 0, 0, 0, 0, 0, 0, 0, 0, 1,\n",
       "        1, 0, 0, 0, 0, 0, 1, 1, 0],\n",
       "       [0, 0, 0, 0, 1, 0, 0, 0, 0, 0, 1, 0, 1, 0, 0, 0, 0, 0, 2, 1, 1, 1,\n",
       "        0, 0, 1, 0, 0, 0, 1, 1, 0],\n",
       "       [1, 1, 0, 0, 0, 0, 0, 0, 0, 1, 1, 1, 0, 0, 1, 1, 1, 1, 0, 0, 0, 2,\n",
       "        0, 1, 0, 1, 1, 1, 0, 0, 0],\n",
       "       [0, 0, 0, 0, 1, 0, 1, 1, 0, 0, 1, 0, 0, 1, 0, 0, 0, 0, 0, 0, 0, 1,\n",
       "        1, 0, 0, 0, 0, 0, 1, 0, 1]], dtype=int64)"
      ]
     },
     "execution_count": 91,
     "metadata": {},
     "output_type": "execute_result"
    }
   ],
   "source": [
    "cv = CountVectorizer(ngram_range = (1, 2))\n",
    "cv.fit_transform(df['text']).toarray()"
   ]
  },
  {
   "cell_type": "code",
   "execution_count": 92,
   "id": "3bd3df45-1cc2-4827-9814-43d89faa69b4",
   "metadata": {
    "tags": []
   },
   "outputs": [
    {
     "data": {
      "text/plain": [
       "{'this': 28,\n",
       " 'is': 10,\n",
       " 'the': 21,\n",
       " 'first': 6,\n",
       " 'document': 4,\n",
       " 'awesome': 2,\n",
       " 'food': 8,\n",
       " 'this is': 29,\n",
       " 'is the': 12,\n",
       " 'the first': 22,\n",
       " 'first document': 7,\n",
       " 'document awesome': 5,\n",
       " 'awesome food': 3,\n",
       " 'second': 18,\n",
       " 'the second': 24,\n",
       " 'second second': 20,\n",
       " 'second document': 19,\n",
       " 'and': 0,\n",
       " 'third': 26,\n",
       " 'one': 16,\n",
       " 'mission': 14,\n",
       " 'impossoble': 9,\n",
       " 'and the': 1,\n",
       " 'the third': 25,\n",
       " 'third one': 27,\n",
       " 'one the': 17,\n",
       " 'the is': 23,\n",
       " 'is mission': 11,\n",
       " 'mission impossoble': 15,\n",
       " 'is this': 13,\n",
       " 'this the': 30}"
      ]
     },
     "execution_count": 92,
     "metadata": {},
     "output_type": "execute_result"
    }
   ],
   "source": [
    "cv.vocabulary_"
   ]
  },
  {
   "cell_type": "code",
   "execution_count": 93,
   "id": "109d0b33-e5b1-4ca4-9a8d-169e2549688e",
   "metadata": {
    "tags": []
   },
   "outputs": [],
   "source": [
    "from sklearn.feature_extraction.text import TfidfVectorizer"
   ]
  },
  {
   "cell_type": "code",
   "execution_count": 101,
   "id": "bc85a1ae-71f3-4c65-83a7-3a2f5d228d0d",
   "metadata": {
    "tags": []
   },
   "outputs": [
    {
     "data": {
      "text/plain": [
       "array([[0.        , 0.50118857, 0.31990217, 0.39514283, 0.50118857,\n",
       "        0.        , 0.26154099, 0.        , 0.        , 0.        ,\n",
       "        0.26154099, 0.        , 0.31990217],\n",
       "       [0.        , 0.        , 0.27571196, 0.        , 0.        ,\n",
       "        0.        , 0.22541259, 0.        , 0.        , 0.86391212,\n",
       "        0.22541259, 0.        , 0.27571196],\n",
       "       [0.39647615, 0.        , 0.        , 0.        , 0.        ,\n",
       "        0.39647615, 0.2068977 , 0.39647615, 0.39647615, 0.        ,\n",
       "        0.41379541, 0.39647615, 0.        ],\n",
       "       [0.        , 0.        , 0.45349057, 0.56015108, 0.        ,\n",
       "        0.        , 0.37075826, 0.        , 0.        , 0.        ,\n",
       "        0.37075826, 0.        , 0.45349057]])"
      ]
     },
     "execution_count": 101,
     "metadata": {},
     "output_type": "execute_result"
    }
   ],
   "source": [
    "s_words = ['english']\n",
    "ttf = TfidfVectorizer(stop_words = s_words)\n",
    "ttf.fit_transform(df['text']).toarray()"
   ]
  },
  {
   "cell_type": "code",
   "execution_count": 102,
   "id": "1111199d-02d3-4d8c-bb43-fcdb229f775f",
   "metadata": {
    "tags": []
   },
   "outputs": [
    {
     "data": {
      "text/plain": [
       "array(['and', 'awesome', 'document', 'first', 'food', 'impossoble', 'is',\n",
       "       'mission', 'one', 'second', 'the', 'third', 'this'], dtype=object)"
      ]
     },
     "execution_count": 102,
     "metadata": {},
     "output_type": "execute_result"
    }
   ],
   "source": [
    "ttf.get_feature_names_out()"
   ]
  },
  {
   "cell_type": "code",
   "execution_count": null,
   "id": "3756f2fd-9315-40ef-9a49-ee636e35b85e",
   "metadata": {},
   "outputs": [],
   "source": []
  },
  {
   "cell_type": "code",
   "execution_count": null,
   "id": "567171fa-b78d-4850-82b0-5021ca50a074",
   "metadata": {},
   "outputs": [],
   "source": []
  },
  {
   "cell_type": "code",
   "execution_count": null,
   "id": "a82627e3-9354-4689-aa6f-a168f7e637c8",
   "metadata": {},
   "outputs": [],
   "source": []
  },
  {
   "cell_type": "code",
   "execution_count": null,
   "id": "4b5418ed-6054-4c35-beee-52411cfe4d22",
   "metadata": {},
   "outputs": [],
   "source": []
  }
 ],
 "metadata": {
  "kernelspec": {
   "display_name": "ml308",
   "language": "python",
   "name": "ml308"
  },
  "language_info": {
   "codemirror_mode": {
    "name": "ipython",
    "version": 3
   },
   "file_extension": ".py",
   "mimetype": "text/x-python",
   "name": "python",
   "nbconvert_exporter": "python",
   "pygments_lexer": "ipython3",
   "version": "3.8.10"
  }
 },
 "nbformat": 4,
 "nbformat_minor": 5
}
