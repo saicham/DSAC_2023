{
 "cells": [
  {
   "cell_type": "markdown",
   "metadata": {
    "id": "ubBk8907YUYn"
   },
   "source": [
    "## Auto Encoder\n",
    "- https://ardino.tistory.com/category/%E3%80%908%E3%80%91%EC%B5%9C%EA%B7%BC%20AutoEncoder%20%EC%9D%91%EC%9A%A9%20%EB%AA%A8%EB%8D%B8%20%EC%9D%B4%ED%95%B4%ED%95%98%EA%B3%A0%20%EC%82%AC%EC%9A%A9%ED%95%98%EA%B8%B0"
   ]
  },
  {
   "cell_type": "markdown",
   "metadata": {
    "id": "NP9-4rH1YUYs"
   },
   "source": [
    "## MNIST & Fashion MNIST"
   ]
  },
  {
   "cell_type": "code",
   "execution_count": 1,
   "metadata": {
    "executionInfo": {
     "elapsed": 27,
     "status": "ok",
     "timestamp": 1689472047812,
     "user": {
      "displayName": "OH JUN KWON",
      "userId": "15421598880490451699"
     },
     "user_tz": -540
    },
    "id": "_F1MlEllYUYt"
   },
   "outputs": [],
   "source": [
    "import numpy as np\n",
    "import matplotlib.pyplot as plt\n",
    "%matplotlib inline"
   ]
  },
  {
   "cell_type": "code",
   "execution_count": 2,
   "metadata": {
    "executionInfo": {
     "elapsed": 3465,
     "status": "ok",
     "timestamp": 1689472051255,
     "user": {
      "displayName": "OH JUN KWON",
      "userId": "15421598880490451699"
     },
     "user_tz": -540
    },
    "id": "cowZW3sxYUYu"
   },
   "outputs": [],
   "source": [
    "import tensorflow as tf\n",
    "import tensorflow.keras as kr"
   ]
  },
  {
   "cell_type": "markdown",
   "metadata": {
    "id": "5GCC3nOWYUYu"
   },
   "source": [
    "## MNIST 숫자"
   ]
  },
  {
   "cell_type": "markdown",
   "metadata": {
    "id": "pw2utoaAYUYv"
   },
   "source": [
    "### 입력 데이터"
   ]
  },
  {
   "cell_type": "code",
   "execution_count": 3,
   "metadata": {
    "executionInfo": {
     "elapsed": 340,
     "status": "ok",
     "timestamp": 1689472059066,
     "user": {
      "displayName": "OH JUN KWON",
      "userId": "15421598880490451699"
     },
     "user_tz": -540
    },
    "id": "VVvz_yhRYUYw"
   },
   "outputs": [],
   "source": [
    "from tensorflow.keras.datasets import mnist"
   ]
  },
  {
   "cell_type": "markdown",
   "metadata": {
    "id": "rUKbgreKYUYw"
   },
   "source": [
    "- load"
   ]
  },
  {
   "cell_type": "code",
   "execution_count": 4,
   "metadata": {
    "colab": {
     "base_uri": "https://localhost:8080/"
    },
    "executionInfo": {
     "elapsed": 1168,
     "status": "ok",
     "timestamp": 1689472064164,
     "user": {
      "displayName": "OH JUN KWON",
      "userId": "15421598880490451699"
     },
     "user_tz": -540
    },
    "id": "Mjfj2e_GYUYw",
    "outputId": "52c87e1c-1246-4bf6-b28f-d26e31c34d39"
   },
   "outputs": [
    {
     "name": "stdout",
     "output_type": "stream",
     "text": [
      "Downloading data from https://storage.googleapis.com/tensorflow/tf-keras-datasets/mnist.npz\n",
      "11490434/11490434 [==============================] - 0s 0us/step\n"
     ]
    }
   ],
   "source": [
    "(X_train, y_train), (X_test, y_test) = mnist.load_data()"
   ]
  },
  {
   "cell_type": "markdown",
   "metadata": {
    "id": "eCpILFgMYUYx"
   },
   "source": [
    "- 전처리\n",
    "    - 정규화 : 0 ~ 1\n",
    "    - 차원 변환 : 2차원(28, 28) --> 1차원(784)\n",
    "    - 형 변환 : float형\n",
    "      - astype(copy=False) : 사본 생성을 하지 마라\n",
    "      - https://wikidocs.net/151412"
   ]
  },
  {
   "cell_type": "code",
   "execution_count": 5,
   "metadata": {
    "executionInfo": {
     "elapsed": 323,
     "status": "ok",
     "timestamp": 1689472087210,
     "user": {
      "displayName": "OH JUN KWON",
      "userId": "15421598880490451699"
     },
     "user_tz": -540
    },
    "id": "6357j7Y5YUYx"
   },
   "outputs": [],
   "source": [
    "X_train, X_test = X_train / 255., X_test / 255.\n",
    "X_train, X_test = X_train.reshape([-1, 784]), X_test.reshape([-1, 784])"
   ]
  },
  {
   "cell_type": "code",
   "execution_count": 6,
   "metadata": {
    "executionInfo": {
     "elapsed": 478,
     "status": "ok",
     "timestamp": 1689472090451,
     "user": {
      "displayName": "OH JUN KWON",
      "userId": "15421598880490451699"
     },
     "user_tz": -540
    },
    "id": "-HE_9wN-YUYx"
   },
   "outputs": [],
   "source": [
    "X_train = X_train.astype(np.float32, copy=False)\n",
    "X_test = X_test.astype(np.float32, copy=False)"
   ]
  },
  {
   "cell_type": "markdown",
   "metadata": {
    "id": "qKkLMx0hYUYy"
   },
   "source": [
    "### Model 정의\n",
    "- 인공신경망에 사용될 파라미터 값들을 설정"
   ]
  },
  {
   "cell_type": "markdown",
   "metadata": {
    "id": "8h3dIpz3YUYy"
   },
   "source": [
    "- MNIST Dataset\n",
    "   - image shape : (28*28) ==> 1차원으로 변환 (features)"
   ]
  },
  {
   "cell_type": "code",
   "execution_count": 7,
   "metadata": {
    "executionInfo": {
     "elapsed": 304,
     "status": "ok",
     "timestamp": 1689472097573,
     "user": {
      "displayName": "OH JUN KWON",
      "userId": "15421598880490451699"
     },
     "user_tz": -540
    },
    "id": "BTFHJ2c5YUYy"
   },
   "outputs": [],
   "source": [
    "num_features = 784"
   ]
  },
  {
   "cell_type": "markdown",
   "metadata": {
    "id": "8WI0cTtiYUYy"
   },
   "source": [
    "- Network Parameters\n",
    "    - 은닉층(hidden layer) 설계\n",
    "        - 계층 수\n",
    "        - 각 계층 내 뉴런(노드)의 수"
   ]
  },
  {
   "cell_type": "code",
   "execution_count": 8,
   "metadata": {
    "executionInfo": {
     "elapsed": 341,
     "status": "ok",
     "timestamp": 1689472102704,
     "user": {
      "displayName": "OH JUN KWON",
      "userId": "15421598880490451699"
     },
     "user_tz": -540
    },
    "id": "Bu-8wEkRYUYz"
   },
   "outputs": [],
   "source": [
    "hidden_1 = 128\n",
    "hidden_2 = 64"
   ]
  },
  {
   "cell_type": "markdown",
   "metadata": {
    "id": "7VtH9yuEYUYz"
   },
   "source": [
    "### Model 설계\n",
    "    - input /\n",
    "    - encoder <-- input\n",
    "    - decoder <-- latent(encoder 출력)\n",
    "    - output  <-- decoder(encoder(input))\n",
    "    - 최종 모델 : (input, output)"
   ]
  },
  {
   "cell_type": "markdown",
   "metadata": {
    "id": "Y_926Ao6YUY0"
   },
   "source": [
    "- Encoder 모델 정의"
   ]
  },
  {
   "cell_type": "code",
   "execution_count": 9,
   "metadata": {
    "colab": {
     "base_uri": "https://localhost:8080/"
    },
    "executionInfo": {
     "elapsed": 762,
     "status": "ok",
     "timestamp": 1689472228912,
     "user": {
      "displayName": "OH JUN KWON",
      "userId": "15421598880490451699"
     },
     "user_tz": -540
    },
    "id": "M-eZ6dYDYUY0",
    "outputId": "8d645ff2-34c5-4ea9-88f6-d6e5bb8d2ee7"
   },
   "outputs": [
    {
     "name": "stdout",
     "output_type": "stream",
     "text": [
      "Model: \"encoder\"\n",
      "_________________________________________________________________\n",
      " Layer (type)                Output Shape              Param #   \n",
      "=================================================================\n",
      " input_1 (InputLayer)        [(None, 784)]             0         \n",
      "                                                                 \n",
      " dense (Dense)               (None, 128)               100480    \n",
      "                                                                 \n",
      " dense_1 (Dense)             (None, 64)                8256      \n",
      "                                                                 \n",
      "=================================================================\n",
      "Total params: 108,736\n",
      "Trainable params: 108,736\n",
      "Non-trainable params: 0\n",
      "_________________________________________________________________\n"
     ]
    }
   ],
   "source": [
    "inputs = kr.Input(shape=(num_features, ))\n",
    "\n",
    "encoder = kr.layers.Dense(hidden_1, activation='sigmoid')(inputs)\n",
    "encoder = kr.layers.Dense(hidden_2, activation='sigmoid')(encoder)\n",
    "\n",
    "encoder_model = kr.Model(inputs, encoder, name='encoder')\n",
    "encoder_model.summary()"
   ]
  },
  {
   "cell_type": "markdown",
   "metadata": {
    "id": "ZMul082IYUY2"
   },
   "source": [
    "- Decoder 모델 정의"
   ]
  },
  {
   "cell_type": "code",
   "execution_count": 10,
   "metadata": {
    "colab": {
     "base_uri": "https://localhost:8080/"
    },
    "executionInfo": {
     "elapsed": 351,
     "status": "ok",
     "timestamp": 1689472287312,
     "user": {
      "displayName": "OH JUN KWON",
      "userId": "15421598880490451699"
     },
     "user_tz": -540
    },
    "id": "cmcasbriYUY2",
    "outputId": "778fc425-4bf0-40e6-a3d9-77bc1c21ef89"
   },
   "outputs": [
    {
     "name": "stdout",
     "output_type": "stream",
     "text": [
      "Model: \"decoder\"\n",
      "_________________________________________________________________\n",
      " Layer (type)                Output Shape              Param #   \n",
      "=================================================================\n",
      " input_2 (InputLayer)        [(None, 64)]              0         \n",
      "                                                                 \n",
      " dense_2 (Dense)             (None, 128)               8320      \n",
      "                                                                 \n",
      " dense_3 (Dense)             (None, 784)               101136    \n",
      "                                                                 \n",
      "=================================================================\n",
      "Total params: 109,456\n",
      "Trainable params: 109,456\n",
      "Non-trainable params: 0\n",
      "_________________________________________________________________\n"
     ]
    }
   ],
   "source": [
    "latent_dim = kr.Input(shape=(hidden_2, ))\n",
    "\n",
    "decoder = kr.layers.Dense(hidden_1, activation='sigmoid')(latent_dim)\n",
    "decoder = kr.layers.Dense(num_features, activation='sigmoid')(decoder)\n",
    "\n",
    "decoder_model = kr.Model(latent_dim, decoder, name='decoder')\n",
    "decoder_model.summary()"
   ]
  },
  {
   "cell_type": "markdown",
   "metadata": {
    "id": "v3DxrcE6YUY3"
   },
   "source": [
    "- 최종 통합 모델(Auto Encoder) 정의"
   ]
  },
  {
   "cell_type": "code",
   "execution_count": 11,
   "metadata": {
    "colab": {
     "base_uri": "https://localhost:8080/"
    },
    "executionInfo": {
     "elapsed": 324,
     "status": "ok",
     "timestamp": 1689472307328,
     "user": {
      "displayName": "OH JUN KWON",
      "userId": "15421598880490451699"
     },
     "user_tz": -540
    },
    "id": "GoJYjw4JYUY3",
    "outputId": "3d8f770f-553e-429b-fb36-43370c2bc22e"
   },
   "outputs": [
    {
     "name": "stdout",
     "output_type": "stream",
     "text": [
      "Model: \"model\"\n",
      "_________________________________________________________________\n",
      " Layer (type)                Output Shape              Param #   \n",
      "=================================================================\n",
      " input_1 (InputLayer)        [(None, 784)]             0         \n",
      "                                                                 \n",
      " encoder (Functional)        (None, 64)                108736    \n",
      "                                                                 \n",
      " decoder (Functional)        (None, 784)               109456    \n",
      "                                                                 \n",
      "=================================================================\n",
      "Total params: 218,192\n",
      "Trainable params: 218,192\n",
      "Non-trainable params: 0\n",
      "_________________________________________________________________\n"
     ]
    }
   ],
   "source": [
    "outputs = decoder_model(encoder_model(inputs))\n",
    "\n",
    "mnist_model = kr.Model(inputs, outputs )\n",
    "\n",
    "mnist_model.summary()"
   ]
  },
  {
   "cell_type": "markdown",
   "metadata": {
    "id": "m8Dzm8Z9YUY3"
   },
   "source": [
    "### Model Compile\n",
    "    - 최적화 방법(Optimizer)\n",
    "    - 손실 함수(Loss funtion)"
   ]
  },
  {
   "cell_type": "code",
   "execution_count": 12,
   "metadata": {
    "executionInfo": {
     "elapsed": 303,
     "status": "ok",
     "timestamp": 1689472366522,
     "user": {
      "displayName": "OH JUN KWON",
      "userId": "15421598880490451699"
     },
     "user_tz": -540
    },
    "id": "AgIhJp0sYUY3"
   },
   "outputs": [],
   "source": [
    "mnist_model.compile(optimizer='adam', loss='mse')"
   ]
  },
  {
   "cell_type": "markdown",
   "metadata": {
    "id": "fXZXQCIMYUY4"
   },
   "source": [
    "### Model 훈련"
   ]
  },
  {
   "cell_type": "code",
   "execution_count": 14,
   "metadata": {
    "executionInfo": {
     "elapsed": 306,
     "status": "ok",
     "timestamp": 1689472380780,
     "user": {
      "displayName": "OH JUN KWON",
      "userId": "15421598880490451699"
     },
     "user_tz": -540
    },
    "id": "bzhGHJKEYUY4"
   },
   "outputs": [],
   "source": [
    "batch_size = 128\n",
    "epochs = 50"
   ]
  },
  {
   "cell_type": "code",
   "execution_count": 15,
   "metadata": {
    "colab": {
     "base_uri": "https://localhost:8080/"
    },
    "executionInfo": {
     "elapsed": 203563,
     "status": "ok",
     "timestamp": 1689472587733,
     "user": {
      "displayName": "OH JUN KWON",
      "userId": "15421598880490451699"
     },
     "user_tz": -540
    },
    "id": "dvRUEIVCYUY4",
    "outputId": "a788fd7b-65a5-4e7c-9178-3445da6d9228"
   },
   "outputs": [
    {
     "name": "stdout",
     "output_type": "stream",
     "text": [
      "Epoch 1/50\n",
      "469/469 [==============================] - 5s 8ms/step - loss: 0.0704\n",
      "Epoch 2/50\n",
      "469/469 [==============================] - 5s 10ms/step - loss: 0.0584\n",
      "Epoch 3/50\n",
      "469/469 [==============================] - 4s 8ms/step - loss: 0.0469\n",
      "Epoch 4/50\n",
      "469/469 [==============================] - 3s 7ms/step - loss: 0.0393\n",
      "Epoch 5/50\n",
      "469/469 [==============================] - 5s 10ms/step - loss: 0.0358\n",
      "Epoch 6/50\n",
      "469/469 [==============================] - 3s 7ms/step - loss: 0.0320\n",
      "Epoch 7/50\n",
      "469/469 [==============================] - 4s 8ms/step - loss: 0.0289\n",
      "Epoch 8/50\n",
      "469/469 [==============================] - 4s 8ms/step - loss: 0.0264\n",
      "Epoch 9/50\n",
      "469/469 [==============================] - 4s 9ms/step - loss: 0.0241\n",
      "Epoch 10/50\n",
      "469/469 [==============================] - 4s 8ms/step - loss: 0.0221\n",
      "Epoch 11/50\n",
      "469/469 [==============================] - 4s 7ms/step - loss: 0.0206\n",
      "Epoch 12/50\n",
      "469/469 [==============================] - 5s 10ms/step - loss: 0.0194\n",
      "Epoch 13/50\n",
      "469/469 [==============================] - 4s 8ms/step - loss: 0.0183\n",
      "Epoch 14/50\n",
      "469/469 [==============================] - 4s 8ms/step - loss: 0.0174\n",
      "Epoch 15/50\n",
      "469/469 [==============================] - 5s 10ms/step - loss: 0.0166\n",
      "Epoch 16/50\n",
      "469/469 [==============================] - 4s 8ms/step - loss: 0.0159\n",
      "Epoch 17/50\n",
      "469/469 [==============================] - 4s 8ms/step - loss: 0.0151\n",
      "Epoch 18/50\n",
      "469/469 [==============================] - 5s 10ms/step - loss: 0.0145\n",
      "Epoch 19/50\n",
      "469/469 [==============================] - 4s 8ms/step - loss: 0.0138\n",
      "Epoch 20/50\n",
      "469/469 [==============================] - 4s 8ms/step - loss: 0.0132\n",
      "Epoch 21/50\n",
      "469/469 [==============================] - 5s 10ms/step - loss: 0.0128\n",
      "Epoch 22/50\n",
      "469/469 [==============================] - 4s 8ms/step - loss: 0.0124\n",
      "Epoch 23/50\n",
      "469/469 [==============================] - 3s 7ms/step - loss: 0.0120\n",
      "Epoch 24/50\n",
      "469/469 [==============================] - 4s 8ms/step - loss: 0.0116\n",
      "Epoch 25/50\n",
      "469/469 [==============================] - 5s 10ms/step - loss: 0.0113\n",
      "Epoch 26/50\n",
      "469/469 [==============================] - 4s 8ms/step - loss: 0.0110\n",
      "Epoch 27/50\n",
      "469/469 [==============================] - 4s 8ms/step - loss: 0.0108\n",
      "Epoch 28/50\n",
      "469/469 [==============================] - 5s 10ms/step - loss: 0.0105\n",
      "Epoch 29/50\n",
      "469/469 [==============================] - 3s 7ms/step - loss: 0.0103\n",
      "Epoch 30/50\n",
      "469/469 [==============================] - 4s 8ms/step - loss: 0.0101\n",
      "Epoch 31/50\n",
      "469/469 [==============================] - 5s 10ms/step - loss: 0.0099\n",
      "Epoch 32/50\n",
      "469/469 [==============================] - 4s 8ms/step - loss: 0.0097\n",
      "Epoch 33/50\n",
      "469/469 [==============================] - 4s 8ms/step - loss: 0.0095\n",
      "Epoch 34/50\n",
      "469/469 [==============================] - 4s 8ms/step - loss: 0.0093\n",
      "Epoch 35/50\n",
      "469/469 [==============================] - 4s 9ms/step - loss: 0.0091\n",
      "Epoch 36/50\n",
      "469/469 [==============================] - 3s 7ms/step - loss: 0.0090\n",
      "Epoch 37/50\n",
      "469/469 [==============================] - 4s 8ms/step - loss: 0.0088\n",
      "Epoch 38/50\n",
      "469/469 [==============================] - 5s 10ms/step - loss: 0.0086\n",
      "Epoch 39/50\n",
      "469/469 [==============================] - 3s 7ms/step - loss: 0.0085\n",
      "Epoch 40/50\n",
      "469/469 [==============================] - 3s 7ms/step - loss: 0.0084\n",
      "Epoch 41/50\n",
      "469/469 [==============================] - 5s 10ms/step - loss: 0.0082\n",
      "Epoch 42/50\n",
      "469/469 [==============================] - 3s 7ms/step - loss: 0.0081\n",
      "Epoch 43/50\n",
      "469/469 [==============================] - 3s 7ms/step - loss: 0.0080\n",
      "Epoch 44/50\n",
      "469/469 [==============================] - 4s 8ms/step - loss: 0.0079\n",
      "Epoch 45/50\n",
      "469/469 [==============================] - 4s 9ms/step - loss: 0.0077\n",
      "Epoch 46/50\n",
      "469/469 [==============================] - 4s 7ms/step - loss: 0.0076\n",
      "Epoch 47/50\n",
      "469/469 [==============================] - 3s 7ms/step - loss: 0.0075\n",
      "Epoch 48/50\n",
      "469/469 [==============================] - 5s 10ms/step - loss: 0.0074\n",
      "Epoch 49/50\n",
      "469/469 [==============================] - 3s 7ms/step - loss: 0.0073\n",
      "Epoch 50/50\n",
      "469/469 [==============================] - 4s 8ms/step - loss: 0.0072\n"
     ]
    },
    {
     "data": {
      "text/plain": [
       "<keras.callbacks.History at 0x78aef02fc310>"
      ]
     },
     "execution_count": 15,
     "metadata": {},
     "output_type": "execute_result"
    }
   ],
   "source": [
    "mnist_model.fit(x=X_train, y=X_train, batch_size=batch_size, shuffle=False, epochs=epochs)"
   ]
  },
  {
   "cell_type": "markdown",
   "metadata": {
    "id": "_iEDXdm8YUY4"
   },
   "source": [
    "### Model 평가(test 데이터)"
   ]
  },
  {
   "cell_type": "code",
   "execution_count": 16,
   "metadata": {
    "colab": {
     "base_uri": "https://localhost:8080/"
    },
    "executionInfo": {
     "elapsed": 307,
     "status": "ok",
     "timestamp": 1689472593736,
     "user": {
      "displayName": "OH JUN KWON",
      "userId": "15421598880490451699"
     },
     "user_tz": -540
    },
    "id": "jQNFqhNfYUY4",
    "outputId": "97bbe75b-4dbb-4b2f-94dd-134d1e250e04"
   },
   "outputs": [
    {
     "name": "stdout",
     "output_type": "stream",
     "text": [
      "1/1 [==============================] - 0s 93ms/step\n"
     ]
    }
   ],
   "source": [
    "y_true = X_test[:10]\n",
    "y_pred = mnist_model.predict(y_true)"
   ]
  },
  {
   "cell_type": "markdown",
   "metadata": {
    "id": "iojVo981YUY5"
   },
   "source": [
    "### 결과 출력"
   ]
  },
  {
   "cell_type": "markdown",
   "metadata": {
    "id": "qZC4u_HtYUY5"
   },
   "source": [
    "- 출력 : 입력 데이터(2차원), 출력 데이터(예측 결과)\n",
    "    - 데이터 변환 : 1차원 데이터 --> 2차원 data 변환 ==> image로 출력\n",
    "    - image 입출력\n",
    "        - imread(), imshow()\n",
    "    - aspect : 가로/세로 비율, {'equal', 'auto'} or float"
   ]
  },
  {
   "cell_type": "code",
   "execution_count": 17,
   "metadata": {
    "executionInfo": {
     "elapsed": 313,
     "status": "ok",
     "timestamp": 1689472681769,
     "user": {
      "displayName": "OH JUN KWON",
      "userId": "15421598880490451699"
     },
     "user_tz": -540
    },
    "id": "oC25_YPsYUY6"
   },
   "outputs": [],
   "source": [
    "def plot_predictions(y_true, y_pred):\n",
    "    f, ax = plt.subplots(2, 10, figsize=(15, 4))\n",
    "\n",
    "    for i in range(10):\n",
    "        ax[0][i].imshow(np.reshape(y_true[i], (28, 28)), aspect='auto')\n",
    "        ax[1][i].imshow(np.reshape(y_pred[i], (28, 28)), aspect='auto')\n",
    "    plt.tight_layout()"
   ]
  },
  {
   "cell_type": "code",
   "execution_count": 18,
   "metadata": {
    "colab": {
     "base_uri": "https://localhost:8080/",
     "height": 253
    },
    "executionInfo": {
     "elapsed": 3519,
     "status": "ok",
     "timestamp": 1689472688407,
     "user": {
      "displayName": "OH JUN KWON",
      "userId": "15421598880490451699"
     },
     "user_tz": -540
    },
    "id": "ljMFOHV7YUY6",
    "outputId": "c3b704f7-8f11-4862-deee-03bcb4c859a5",
    "scrolled": false
   },
   "outputs": [
    {
     "data": {
      "image/png": "[encoded data removed]",
      "text/plain": [
       "<Figure size 1500x400 with 20 Axes>"
      ]
     },
     "metadata": {},
     "output_type": "display_data"
    }
   ],
   "source": [
    "plot_predictions(y_true, y_pred)"
   ]
  },
  {
   "cell_type": "markdown",
   "metadata": {
    "id": "ps8u5VZ6YUY6"
   },
   "source": [
    "## Fashion MNIST"
   ]
  },
  {
   "cell_type": "markdown",
   "metadata": {
    "id": "9-GVqPzlYUY6"
   },
   "source": [
    "### 입력 데이터"
   ]
  },
  {
   "cell_type": "code",
   "execution_count": 19,
   "metadata": {
    "executionInfo": {
     "elapsed": 316,
     "status": "ok",
     "timestamp": 1689472700150,
     "user": {
      "displayName": "OH JUN KWON",
      "userId": "15421598880490451699"
     },
     "user_tz": -540
    },
    "id": "cT_rgdkTYUY7"
   },
   "outputs": [],
   "source": [
    "from tensorflow.keras.datasets import fashion_mnist"
   ]
  },
  {
   "cell_type": "markdown",
   "metadata": {
    "id": "ZGj-WkpGYUY7"
   },
   "source": [
    "- load"
   ]
  },
  {
   "cell_type": "code",
   "execution_count": 20,
   "metadata": {
    "colab": {
     "base_uri": "https://localhost:8080/"
    },
    "executionInfo": {
     "elapsed": 1114,
     "status": "ok",
     "timestamp": 1689472703848,
     "user": {
      "displayName": "OH JUN KWON",
      "userId": "15421598880490451699"
     },
     "user_tz": -540
    },
    "id": "3znOdKNEYUZB",
    "outputId": "04ef47c4-5606-41b5-f912-23369d01b30f"
   },
   "outputs": [
    {
     "name": "stdout",
     "output_type": "stream",
     "text": [
      "Downloading data from https://storage.googleapis.com/tensorflow/tf-keras-datasets/train-labels-idx1-ubyte.gz\n",
      "29515/29515 [==============================] - 0s 0us/step\n",
      "Downloading data from https://storage.googleapis.com/tensorflow/tf-keras-datasets/train-images-idx3-ubyte.gz\n",
      "26421880/26421880 [==============================] - 0s 0us/step\n",
      "Downloading data from https://storage.googleapis.com/tensorflow/tf-keras-datasets/t10k-labels-idx1-ubyte.gz\n",
      "5148/5148 [==============================] - 0s 0us/step\n",
      "Downloading data from https://storage.googleapis.com/tensorflow/tf-keras-datasets/t10k-images-idx3-ubyte.gz\n",
      "4422102/4422102 [==============================] - 0s 0us/step\n"
     ]
    }
   ],
   "source": [
    "(X_train, y_train), (X_test, y_test) = fashion_mnist.load_data()"
   ]
  },
  {
   "cell_type": "markdown",
   "metadata": {
    "id": "miwWGIpQYUZC"
   },
   "source": [
    "- 전처리\n",
    "    - 정규화 : 0 ~ 1\n",
    "    - 차원 변환 : 2차원(28, 28) --> 1차원(784)\n",
    "    - 형 변환 : float형"
   ]
  },
  {
   "cell_type": "code",
   "execution_count": 21,
   "metadata": {
    "executionInfo": {
     "elapsed": 336,
     "status": "ok",
     "timestamp": 1689472713052,
     "user": {
      "displayName": "OH JUN KWON",
      "userId": "15421598880490451699"
     },
     "user_tz": -540
    },
    "id": "jsThqn--YUZC"
   },
   "outputs": [],
   "source": [
    "X_train, X_test = X_train / 255., X_test / 255.\n",
    "X_train, X_test = X_train.reshape([-1, 784]), X_test.reshape([-1, 784])"
   ]
  },
  {
   "cell_type": "code",
   "execution_count": 22,
   "metadata": {
    "executionInfo": {
     "elapsed": 9,
     "status": "ok",
     "timestamp": 1689472715891,
     "user": {
      "displayName": "OH JUN KWON",
      "userId": "15421598880490451699"
     },
     "user_tz": -540
    },
    "id": "mTeuZXH7YUZC"
   },
   "outputs": [],
   "source": [
    "X_train = X_train.astype(np.float32, copy=False)\n",
    "X_test = X_test.astype(np.float32, copy=False)"
   ]
  },
  {
   "cell_type": "markdown",
   "metadata": {
    "id": "1SEf7uKFYUZD"
   },
   "source": [
    "### Model 설계\n",
    "    - input /\n",
    "    - encoder <-- input\n",
    "    - decoder <-- latent(encoder 출력)\n",
    "    - output  <-- decoder(encoder(input))\n",
    "    - 최종 모델 : (input, output)"
   ]
  },
  {
   "cell_type": "markdown",
   "metadata": {
    "id": "dg8QtxvQYUZD"
   },
   "source": [
    "- Encoder 모델 정의"
   ]
  },
  {
   "cell_type": "code",
   "execution_count": 23,
   "metadata": {
    "colab": {
     "base_uri": "https://localhost:8080/"
    },
    "executionInfo": {
     "elapsed": 294,
     "status": "ok",
     "timestamp": 1689472726110,
     "user": {
      "displayName": "OH JUN KWON",
      "userId": "15421598880490451699"
     },
     "user_tz": -540
    },
    "id": "OkNSw-RPYUZD",
    "outputId": "b612fa4e-d66a-4426-8270-1abfcf71d62f"
   },
   "outputs": [
    {
     "name": "stdout",
     "output_type": "stream",
     "text": [
      "Model: \"encoder\"\n",
      "_________________________________________________________________\n",
      " Layer (type)                Output Shape              Param #   \n",
      "=================================================================\n",
      " input_3 (InputLayer)        [(None, 784)]             0         \n",
      "                                                                 \n",
      " dense_4 (Dense)             (None, 128)               100480    \n",
      "                                                                 \n",
      " dense_5 (Dense)             (None, 64)                8256      \n",
      "                                                                 \n",
      "=================================================================\n",
      "Total params: 108,736\n",
      "Trainable params: 108,736\n",
      "Non-trainable params: 0\n",
      "_________________________________________________________________\n"
     ]
    }
   ],
   "source": [
    "inputs = kr.Input(shape=(num_features, ))\n",
    "encoder = kr.layers.Dense(hidden_1, activation='sigmoid')(inputs)\n",
    "encoder = kr.layers.Dense(hidden_2, activation='sigmoid')(encoder)\n",
    "encoder_model = kr.Model(inputs, encoder, name='encoder')\n",
    "encoder_model.summary()"
   ]
  },
  {
   "cell_type": "markdown",
   "metadata": {
    "id": "BcGL-VwUYUZE"
   },
   "source": [
    "- Decoder 모델 정의"
   ]
  },
  {
   "cell_type": "code",
   "execution_count": 24,
   "metadata": {
    "colab": {
     "base_uri": "https://localhost:8080/"
    },
    "executionInfo": {
     "elapsed": 307,
     "status": "ok",
     "timestamp": 1689472730509,
     "user": {
      "displayName": "OH JUN KWON",
      "userId": "15421598880490451699"
     },
     "user_tz": -540
    },
    "id": "-eduGC4rYUZE",
    "outputId": "99b306be-d0e0-46f4-954b-88957af1eb20"
   },
   "outputs": [
    {
     "name": "stdout",
     "output_type": "stream",
     "text": [
      "Model: \"decoder\"\n",
      "_________________________________________________________________\n",
      " Layer (type)                Output Shape              Param #   \n",
      "=================================================================\n",
      " input_4 (InputLayer)        [(None, 64)]              0         \n",
      "                                                                 \n",
      " dense_6 (Dense)             (None, 128)               8320      \n",
      "                                                                 \n",
      " dense_7 (Dense)             (None, 784)               101136    \n",
      "                                                                 \n",
      "=================================================================\n",
      "Total params: 109,456\n",
      "Trainable params: 109,456\n",
      "Non-trainable params: 0\n",
      "_________________________________________________________________\n"
     ]
    }
   ],
   "source": [
    "latent_dim = kr.Input(shape=(hidden_2, ))\n",
    "decoder = kr.layers.Dense(hidden_1, activation='sigmoid')(latent_dim)\n",
    "decoder = kr.layers.Dense(num_features, activation='sigmoid')(decoder)\n",
    "decoder_model = kr.Model(latent_dim, decoder, name='decoder')\n",
    "decoder_model.summary()"
   ]
  },
  {
   "cell_type": "markdown",
   "metadata": {
    "id": "_N3SzakWYUZE"
   },
   "source": [
    "- 최종 통합 모델 정의"
   ]
  },
  {
   "cell_type": "code",
   "execution_count": 25,
   "metadata": {
    "colab": {
     "base_uri": "https://localhost:8080/"
    },
    "executionInfo": {
     "elapsed": 323,
     "status": "ok",
     "timestamp": 1689472734638,
     "user": {
      "displayName": "OH JUN KWON",
      "userId": "15421598880490451699"
     },
     "user_tz": -540
    },
    "id": "485DyQGLYUZE",
    "outputId": "568c4b3e-1285-48ed-9e30-18feb8029ca0",
    "scrolled": true
   },
   "outputs": [
    {
     "name": "stdout",
     "output_type": "stream",
     "text": [
      "Model: \"model_1\"\n",
      "_________________________________________________________________\n",
      " Layer (type)                Output Shape              Param #   \n",
      "=================================================================\n",
      " input_3 (InputLayer)        [(None, 784)]             0         \n",
      "                                                                 \n",
      " encoder (Functional)        (None, 64)                108736    \n",
      "                                                                 \n",
      " decoder (Functional)        (None, 784)               109456    \n",
      "                                                                 \n",
      "=================================================================\n",
      "Total params: 218,192\n",
      "Trainable params: 218,192\n",
      "Non-trainable params: 0\n",
      "_________________________________________________________________\n"
     ]
    }
   ],
   "source": [
    "outputs = decoder_model(encoder_model(inputs))\n",
    "fmnist_model = kr.Model(inputs, outputs )\n",
    "fmnist_model.compile(optimizer='adam', loss='mse')\n",
    "fmnist_model.summary()"
   ]
  },
  {
   "cell_type": "markdown",
   "metadata": {
    "id": "Wkd40VZUYUZF"
   },
   "source": [
    "### Model 훈련"
   ]
  },
  {
   "cell_type": "code",
   "execution_count": 26,
   "metadata": {
    "executionInfo": {
     "elapsed": 306,
     "status": "ok",
     "timestamp": 1689472744751,
     "user": {
      "displayName": "OH JUN KWON",
      "userId": "15421598880490451699"
     },
     "user_tz": -540
    },
    "id": "XWc_PrMdYUZG"
   },
   "outputs": [],
   "source": [
    "batch_size = 128\n",
    "epochs = 50"
   ]
  },
  {
   "cell_type": "code",
   "execution_count": 27,
   "metadata": {
    "colab": {
     "base_uri": "https://localhost:8080/"
    },
    "executionInfo": {
     "elapsed": 203229,
     "status": "ok",
     "timestamp": 1689472950463,
     "user": {
      "displayName": "OH JUN KWON",
      "userId": "15421598880490451699"
     },
     "user_tz": -540
    },
    "id": "mmEDcNJIYUZG",
    "outputId": "1a2c2aeb-19cc-4179-ea7e-f4285cb56b3f"
   },
   "outputs": [
    {
     "name": "stdout",
     "output_type": "stream",
     "text": [
      "Epoch 1/50\n",
      "469/469 [==============================] - 4s 8ms/step - loss: 0.0631\n",
      "Epoch 2/50\n",
      "469/469 [==============================] - 4s 8ms/step - loss: 0.0379\n",
      "Epoch 3/50\n",
      "469/469 [==============================] - 5s 10ms/step - loss: 0.0289\n",
      "Epoch 4/50\n",
      "469/469 [==============================] - 3s 7ms/step - loss: 0.0250\n",
      "Epoch 5/50\n",
      "469/469 [==============================] - 4s 8ms/step - loss: 0.0233\n",
      "Epoch 6/50\n",
      "469/469 [==============================] - 4s 9ms/step - loss: 0.0221\n",
      "Epoch 7/50\n",
      "469/469 [==============================] - 4s 9ms/step - loss: 0.0210\n",
      "Epoch 8/50\n",
      "469/469 [==============================] - 3s 7ms/step - loss: 0.0200\n",
      "Epoch 9/50\n",
      "469/469 [==============================] - 3s 7ms/step - loss: 0.0192\n",
      "Epoch 10/50\n",
      "469/469 [==============================] - 5s 10ms/step - loss: 0.0184\n",
      "Epoch 11/50\n",
      "469/469 [==============================] - 4s 7ms/step - loss: 0.0178\n",
      "Epoch 12/50\n",
      "469/469 [==============================] - 4s 8ms/step - loss: 0.0172\n",
      "Epoch 13/50\n",
      "469/469 [==============================] - 5s 10ms/step - loss: 0.0168\n",
      "Epoch 14/50\n",
      "469/469 [==============================] - 4s 7ms/step - loss: 0.0163\n",
      "Epoch 15/50\n",
      "469/469 [==============================] - 4s 7ms/step - loss: 0.0159\n",
      "Epoch 16/50\n",
      "469/469 [==============================] - 4s 9ms/step - loss: 0.0154\n",
      "Epoch 17/50\n",
      "469/469 [==============================] - 4s 9ms/step - loss: 0.0151\n",
      "Epoch 18/50\n",
      "469/469 [==============================] - 4s 8ms/step - loss: 0.0147\n",
      "Epoch 19/50\n",
      "469/469 [==============================] - 4s 8ms/step - loss: 0.0144\n",
      "Epoch 20/50\n",
      "469/469 [==============================] - 5s 10ms/step - loss: 0.0141\n",
      "Epoch 21/50\n",
      "469/469 [==============================] - 3s 7ms/step - loss: 0.0139\n",
      "Epoch 22/50\n",
      "469/469 [==============================] - 3s 7ms/step - loss: 0.0136\n",
      "Epoch 23/50\n",
      "469/469 [==============================] - 5s 10ms/step - loss: 0.0134\n",
      "Epoch 24/50\n",
      "469/469 [==============================] - 4s 8ms/step - loss: 0.0132\n",
      "Epoch 25/50\n",
      "469/469 [==============================] - 3s 7ms/step - loss: 0.0131\n",
      "Epoch 26/50\n",
      "469/469 [==============================] - 4s 8ms/step - loss: 0.0129\n",
      "Epoch 27/50\n",
      "469/469 [==============================] - 4s 9ms/step - loss: 0.0127\n",
      "Epoch 28/50\n",
      "469/469 [==============================] - 4s 7ms/step - loss: 0.0126\n",
      "Epoch 29/50\n",
      "469/469 [==============================] - 3s 7ms/step - loss: 0.0124\n",
      "Epoch 30/50\n",
      "469/469 [==============================] - 5s 10ms/step - loss: 0.0123\n",
      "Epoch 31/50\n",
      "469/469 [==============================] - 4s 8ms/step - loss: 0.0121\n",
      "Epoch 32/50\n",
      "469/469 [==============================] - 4s 8ms/step - loss: 0.0120\n",
      "Epoch 33/50\n",
      "469/469 [==============================] - 5s 10ms/step - loss: 0.0119\n",
      "Epoch 34/50\n",
      "469/469 [==============================] - 4s 7ms/step - loss: 0.0118\n",
      "Epoch 35/50\n",
      "469/469 [==============================] - 4s 8ms/step - loss: 0.0117\n",
      "Epoch 36/50\n",
      "469/469 [==============================] - 4s 9ms/step - loss: 0.0116\n",
      "Epoch 37/50\n",
      "469/469 [==============================] - 4s 8ms/step - loss: 0.0115\n",
      "Epoch 38/50\n",
      "469/469 [==============================] - 4s 8ms/step - loss: 0.0114\n",
      "Epoch 39/50\n",
      "469/469 [==============================] - 4s 8ms/step - loss: 0.0113\n",
      "Epoch 40/50\n",
      "469/469 [==============================] - 5s 10ms/step - loss: 0.0112\n",
      "Epoch 41/50\n",
      "469/469 [==============================] - 4s 8ms/step - loss: 0.0111\n",
      "Epoch 42/50\n",
      "469/469 [==============================] - 4s 8ms/step - loss: 0.0110\n",
      "Epoch 43/50\n",
      "469/469 [==============================] - 5s 10ms/step - loss: 0.0109\n",
      "Epoch 44/50\n",
      "469/469 [==============================] - 4s 8ms/step - loss: 0.0109\n",
      "Epoch 45/50\n",
      "469/469 [==============================] - 4s 8ms/step - loss: 0.0108\n",
      "Epoch 46/50\n",
      "469/469 [==============================] - 5s 10ms/step - loss: 0.0107\n",
      "Epoch 47/50\n",
      "469/469 [==============================] - 4s 8ms/step - loss: 0.0106\n",
      "Epoch 48/50\n",
      "469/469 [==============================] - 4s 8ms/step - loss: 0.0105\n",
      "Epoch 49/50\n",
      "469/469 [==============================] - 4s 9ms/step - loss: 0.0105\n",
      "Epoch 50/50\n",
      "469/469 [==============================] - 4s 8ms/step - loss: 0.0104\n"
     ]
    },
    {
     "data": {
      "text/plain": [
       "<keras.callbacks.History at 0x78ae581c81f0>"
      ]
     },
     "execution_count": 27,
     "metadata": {},
     "output_type": "execute_result"
    }
   ],
   "source": [
    "fmnist_model.fit(x=X_train, y=X_train, batch_size=batch_size, shuffle=False, epochs=epochs)"
   ]
  },
  {
   "cell_type": "markdown",
   "metadata": {
    "id": "DlsPL69tYUZH"
   },
   "source": [
    "### Model 평가(테스트 데이터)"
   ]
  },
  {
   "cell_type": "code",
   "execution_count": 28,
   "metadata": {
    "colab": {
     "base_uri": "https://localhost:8080/"
    },
    "executionInfo": {
     "elapsed": 294,
     "status": "ok",
     "timestamp": 1689472966208,
     "user": {
      "displayName": "OH JUN KWON",
      "userId": "15421598880490451699"
     },
     "user_tz": -540
    },
    "id": "vzeibqtaYUZH",
    "outputId": "6edb9d32-17b8-42e4-af4e-a923e14c230e"
   },
   "outputs": [
    {
     "name": "stdout",
     "output_type": "stream",
     "text": [
      "1/1 [==============================] - 0s 67ms/step\n"
     ]
    }
   ],
   "source": [
    "y_true = X_test[:10]\n",
    "y_pred = fmnist_model.predict(y_true)"
   ]
  },
  {
   "cell_type": "markdown",
   "metadata": {
    "id": "f8iCeOXtYUZI"
   },
   "source": [
    "### 결과 출력"
   ]
  },
  {
   "cell_type": "code",
   "execution_count": 29,
   "metadata": {
    "colab": {
     "base_uri": "https://localhost:8080/",
     "height": 253
    },
    "executionInfo": {
     "elapsed": 3362,
     "status": "ok",
     "timestamp": 1689472972731,
     "user": {
      "displayName": "OH JUN KWON",
      "userId": "15421598880490451699"
     },
     "user_tz": -540
    },
    "id": "Ymr9-ajuYUZI",
    "outputId": "75dae91c-65d8-41ed-8feb-86ed175abfea",
    "scrolled": true
   },
   "outputs": [
    {
     "data": {
      "image/png": "[encoded data removed]",
      "text/plain": [
       "<Figure size 1500x400 with 20 Axes>"
      ]
     },
     "metadata": {},
     "output_type": "display_data"
    }
   ],
   "source": [
    "plot_predictions(y_true, y_pred)"
   ]
  },
  {
   "cell_type": "markdown",
   "metadata": {
    "id": "4bYihImKYUZK"
   },
   "source": [
    "# Exercise"
   ]
  },
  {
   "cell_type": "code",
   "execution_count": null,
   "metadata": {
    "id": "jAQGWseyYUZL"
   },
   "outputs": [],
   "source": [
    "def load_data(choice='mnist', labels=False):\n",
    "    if choice not in ['mnist', 'fashion_mnist']:\n",
    "        raise ('Choices are mnist and fashion_mnist')\n",
    "\n",
    "    if choice == 'mnist':\n",
    "        (X_train, y_train), (X_test, y_test) = mnist.load_data()\n",
    "    else:\n",
    "        (X_train, y_train), (X_test, y_test) = fashion_mnist.load_data()\n",
    "\n",
    "    X_train, X_test = X_train / 255., X_test / 255.\n",
    "    X_train, X_test = X_train.reshape([-1, 784]), X_test.reshape([-1, 784])\n",
    "    X_train = X_train.astype(np.float32, copy=False)\n",
    "    X_test = X_test.astype(np.float32, copy=False)\n",
    "\n",
    "    if labels:\n",
    "        return (X_train, y_train), (X_test, y_test)\n",
    "\n",
    "    return X_train, X_test"
   ]
  },
  {
   "cell_type": "code",
   "execution_count": null,
   "metadata": {
    "id": "nULB9lxEYUZL"
   },
   "outputs": [],
   "source": [
    "X_train, X_test = load_data('mnist')"
   ]
  },
  {
   "cell_type": "code",
   "execution_count": null,
   "metadata": {
    "id": "AuH6iIotYUZM"
   },
   "outputs": [],
   "source": [
    "X_train, X_test = load_data('fashion_mnist')"
   ]
  },
  {
   "cell_type": "code",
   "execution_count": null,
   "metadata": {
    "id": "Ey-m0_-HYUZM"
   },
   "outputs": [],
   "source": [
    "def plot_digits(X, y, encoder, batch_size=128):\n",
    "    \"\"\"Plots labels and MNIST digits as function of 2D latent vector\n",
    "\n",
    "    Parameters:\n",
    "    ----------\n",
    "    encoder: Model\n",
    "        A Keras Model instance\n",
    "    X: np.ndarray\n",
    "        Test data\n",
    "    y: np.ndarray\n",
    "        Test data labels\n",
    "    batch_size: int\n",
    "        Prediction batch size\n",
    "    \"\"\"\n",
    "    # display a 2D plot of the digit classes in the latent space\n",
    "    z_mean, _, _ = encoder.predict(X, batch_size=batch_size)\n",
    "    plt.figure(figsize=(12, 10))\n",
    "    plt.scatter(z_mean[:, 0], z_mean[:, 1], c=y)\n",
    "    plt.colorbar()\n",
    "    plt.xlabel(\"z[0] Latent Dimension\")\n",
    "    plt.ylabel(\"z[1] Latent Dimension\")\n",
    "    plt.show()"
   ]
  },
  {
   "cell_type": "code",
   "execution_count": null,
   "metadata": {
    "id": "r5VDg4IVYUZN"
   },
   "outputs": [],
   "source": [
    "def generate_manifold(decoder):\n",
    "    \"\"\"Generates a manifold of MNIST digits from a random noisy data.\n",
    "\n",
    "    Parameters:\n",
    "    ----------\n",
    "    decoder: Model\n",
    "        A Keras Model instance\n",
    "    \"\"\"\n",
    "\n",
    "    # display a 30x30 2D manifold of digits\n",
    "    n = 30\n",
    "    digit_size = 28\n",
    "    figure = np.zeros((digit_size * n, digit_size * n))\n",
    "\n",
    "    # linearly spaced coordinates corresponding to the 2D plot\n",
    "    # of digit classes in the latent space\n",
    "    grid_x = np.linspace(-4, 4, n)\n",
    "    grid_y = np.linspace(-4, 4, n)[::-1]\n",
    "\n",
    "    for i, yi in enumerate(grid_y):\n",
    "        for j, xi in enumerate(grid_x):\n",
    "            z_sample = np.array([[xi, yi]])\n",
    "            x_decoded = decoder.predict(z_sample)\n",
    "            digit = x_decoded[0].reshape(digit_size, digit_size)\n",
    "            figure[i * digit_size: (i + 1) * digit_size,\n",
    "                   j * digit_size: (j + 1) * digit_size] = digit\n",
    "\n",
    "    plt.figure(figsize=(10, 10))\n",
    "    start_range = digit_size // 2\n",
    "    end_range = n * digit_size + start_range + 1\n",
    "    pixel_range = np.arange(start_range, end_range, digit_size)\n",
    "    sample_range_x = np.round(grid_x, 1)\n",
    "    sample_range_y = np.round(grid_y, 1)\n",
    "\n",
    "    plt.xticks(pixel_range, sample_range_x)\n",
    "    plt.yticks(pixel_range, sample_range_y)\n",
    "    plt.xlabel(\"z[0] Latent Dimension\")\n",
    "    plt.ylabel(\"z[1] Latent Dimension\")\n",
    "    plt.imshow(figure, cmap='Greys_r')\n",
    "    plt.show()"
   ]
  }
 ],
 "metadata": {
  "colab": {
   "provenance": []
  },
  "kernelspec": {
   "display_name": "Python 3",
   "language": "python",
   "name": "python3"
  },
  "language_info": {
   "codemirror_mode": {
    "name": "ipython",
    "version": 3
   },
   "file_extension": ".py",
   "mimetype": "text/x-python",
   "name": "python",
   "nbconvert_exporter": "python",
   "pygments_lexer": "ipython3",
   "version": "3.8.5"
  }
 },
 "nbformat": 4,
 "nbformat_minor": 1
}
