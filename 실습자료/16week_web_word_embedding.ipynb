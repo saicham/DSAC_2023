{
 "cells": [
  {
   "cell_type": "code",
   "execution_count": 3,
   "id": "3789162f-9cbc-4c06-b31a-259d68738395",
   "metadata": {
    "tags": []
   },
   "outputs": [
    {
     "name": "stderr",
     "output_type": "stream",
     "text": [
      "  % Total    % Received % Xferd  Average Speed   Time    Time     Time  Current\n",
      "                                 Dload  Upload   Total   Spent    Left  Speed\n",
      "\n",
      "  0     0    0     0    0     0      0      0 --:--:-- --:--:-- --:--:--     0\n",
      "100   150  100   150    0     0    637      0 --:--:-- --:--:-- --:--:--   641\n",
      "\n",
      "100    67    0    67    0     0    125      0 --:--:-- --:--:-- --:--:--   125\n",
      "\n",
      "100   297  100   297    0     0    311      0 --:--:-- --:--:-- --:--:--   311\n",
      "100   297  100   297    0     0    310      0 --:--:-- --:--:-- --:--:--     0\n",
      "\n",
      "100 76620  100 76620    0     0  52939      0  0:00:01  0:00:01 --:--:-- 52939\n"
     ]
    }
   ],
   "source": [
    "!curl -L https://bit.ly/2Wi4OXo -o little_prince.txt"
   ]
  },
  {
   "cell_type": "code",
   "execution_count": 87,
   "id": "6b5d402d-276b-482f-8484-eda031cda56b",
   "metadata": {
    "tags": []
   },
   "outputs": [],
   "source": [
    "from keras.layers import SimpleRNN\n",
    "from keras.layers import Dense, Activation\n",
    "from keras.models import Sequential\n",
    "import numpy as np"
   ]
  },
  {
   "cell_type": "code",
   "execution_count": 38,
   "id": "c25b7286-3adb-4a54-abb1-97b9089db3b2",
   "metadata": {
    "tags": []
   },
   "outputs": [],
   "source": [
    "input_file = './little_prince.txt'"
   ]
  },
  {
   "cell_type": "code",
   "execution_count": 39,
   "id": "82b4008b-a000-4620-bed1-20a61ed9eef3",
   "metadata": {
    "tags": []
   },
   "outputs": [],
   "source": [
    "fin = open(input_file, 'rb')\n",
    "lines = []\n",
    "for line in fin:\n",
    "    line = line.strip().lower()  # strip 양옆 공백 제거  lower 소문자 치환\n",
    "    line = line.decode(\"euckr\",\"ignore\") # 문자열을 EUC-KR 인코딩으로 디코딩합니다. 만약 디코딩 중 에러가 발생하면 무시합니다.\n",
    "    if len(line) ==0:\n",
    "        continue\n",
    "    lines.append(line)\n",
    "fin.close()"
   ]
  },
  {
   "cell_type": "code",
   "execution_count": 40,
   "id": "3e489d24-d4ea-428e-a845-8f3d323f1fa0",
   "metadata": {
    "tags": []
   },
   "outputs": [
    {
     "data": {
      "text/plain": [
       "['여섯 살 적에 나는 \"체험한 이야기\"라는 제목의, 원시림에 관한 책에서 기막힌 그림 하나를 본 적이 있다. 맹수를 집어삼키고 있는 보아 구렁이 그림이었다. 위의 그림은 그것을 옮겨 그린 것이다.',\n",
       " '그 책에는 이렇게 씌어 있었다.',\n",
       " '\"보아 구렁이는 먹이를 씹지도 않고 통째로 집어삼킨다.그리고는 꼼짝도 하지 못하고 여섯 달 동안 잠을 자면서 그것을 소화시킨다.\"']"
      ]
     },
     "execution_count": 40,
     "metadata": {},
     "output_type": "execute_result"
    }
   ],
   "source": [
    "lines[:3]"
   ]
  },
  {
   "cell_type": "code",
   "execution_count": 49,
   "id": "7aae804b-7a62-42c0-88b4-e34daec5332b",
   "metadata": {
    "tags": []
   },
   "outputs": [],
   "source": [
    "text = ' '.join(lines)"
   ]
  },
  {
   "cell_type": "markdown",
   "id": "ed9115dc-8d84-436e-bf7c-d330b0873192",
   "metadata": {},
   "source": [
    "### 977라인의 글을 .join함수를 이용해 1개 라인 문장으로 합침 -> text\n",
    "### text에는 977개의 음절이 있음\n",
    "### set함수를 이용해 문자단위로 중복을 음절일 제거하니 850개의 문자가 있음 -> nb_chars"
   ]
  },
  {
   "cell_type": "code",
   "execution_count": 59,
   "id": "d20bba19-e50d-4d57-9a33-9b1378755e0b",
   "metadata": {
    "tags": []
   },
   "outputs": [
    {
     "data": {
      "text/plain": [
       "'여섯 살 적에 나는 \"체험한 이야기\"라는 제목의, 원시림에 관한 책에서 기막힌 그림 하나를'"
      ]
     },
     "execution_count": 59,
     "metadata": {},
     "output_type": "execute_result"
    }
   ],
   "source": [
    "text[:50]"
   ]
  },
  {
   "cell_type": "code",
   "execution_count": 60,
   "id": "d0afed62-b687-41b5-a4ec-a283946bbf97",
   "metadata": {
    "tags": []
   },
   "outputs": [
    {
     "data": {
      "text/plain": [
       "977"
      ]
     },
     "execution_count": 60,
     "metadata": {},
     "output_type": "execute_result"
    }
   ],
   "source": [
    "len(lines)"
   ]
  },
  {
   "cell_type": "code",
   "execution_count": 61,
   "id": "aa24a3c9-429d-4991-a1c7-d5977d31c602",
   "metadata": {
    "tags": []
   },
   "outputs": [
    {
     "data": {
      "text/plain": [
       "44802"
      ]
     },
     "execution_count": 61,
     "metadata": {},
     "output_type": "execute_result"
    }
   ],
   "source": [
    "len(text)"
   ]
  },
  {
   "cell_type": "code",
   "execution_count": 62,
   "id": "22a6fe8f-883a-475c-b57a-13a0cc32ee51",
   "metadata": {
    "tags": []
   },
   "outputs": [
    {
     "data": {
      "text/plain": [
       "'여섯 살 적에 나는 \"체험한 이야기\"'"
      ]
     },
     "execution_count": 62,
     "metadata": {},
     "output_type": "execute_result"
    }
   ],
   "source": [
    "text[:20]"
   ]
  },
  {
   "cell_type": "code",
   "execution_count": 63,
   "id": "965cf231-74d1-496c-bcdd-d1a38ce576f0",
   "metadata": {
    "tags": []
   },
   "outputs": [],
   "source": [
    "chars = set(c for c in text) #  set() 함수를 사용하여 집합으로 만"
   ]
  },
  {
   "cell_type": "code",
   "execution_count": 64,
   "id": "6923c334-7905-4f1c-92b4-58b31ec34174",
   "metadata": {
    "tags": []
   },
   "outputs": [
    {
     "data": {
      "text/plain": [
       "850"
      ]
     },
     "execution_count": 64,
     "metadata": {},
     "output_type": "execute_result"
    }
   ],
   "source": [
    "nb_chars = len(chars)\n",
    "nb_chars"
   ]
  },
  {
   "cell_type": "code",
   "execution_count": 65,
   "id": "a3578415-a92b-4cf0-8c9b-2fb5269aaae8",
   "metadata": {
    "tags": []
   },
   "outputs": [
    {
     "data": {
      "text/plain": [
       "['러', '요']"
      ]
     },
     "execution_count": 65,
     "metadata": {},
     "output_type": "execute_result"
    }
   ],
   "source": [
    "list(chars)[:2]"
   ]
  },
  {
   "cell_type": "markdown",
   "id": "eacb0208-579e-468e-b3d9-93a65b11a8c3",
   "metadata": {},
   "source": [
    "### 전체 문자열수와 중복제거 문자수"
   ]
  },
  {
   "cell_type": "code",
   "execution_count": 66,
   "id": "f0712e44-d462-4679-8806-482d1e54539c",
   "metadata": {
    "tags": []
   },
   "outputs": [
    {
     "data": {
      "text/plain": [
       "(44802, 850)"
      ]
     },
     "execution_count": 66,
     "metadata": {},
     "output_type": "execute_result"
    }
   ],
   "source": [
    "len(text), nb_chars"
   ]
  },
  {
   "cell_type": "markdown",
   "id": "cfb60baf-7673-470b-a1d2-3b4727e1a9b2",
   "metadata": {},
   "source": [
    "### 음절별 단어와 인덱스 번호를 추출해 딕셔너리변수에 담음 -> char2index, index2char"
   ]
  },
  {
   "cell_type": "code",
   "execution_count": 67,
   "id": "d705bc7a-1471-4e71-8c07-00c03a973956",
   "metadata": {
    "tags": []
   },
   "outputs": [],
   "source": [
    "char2index = dict((c,i) for i, c in enumerate(chars))\n",
    "index2char = dict((i,c) for i, c in enumerate(chars))"
   ]
  },
  {
   "cell_type": "code",
   "execution_count": 68,
   "id": "201fb96f-1ed4-463b-b6c0-107526145962",
   "metadata": {
    "tags": []
   },
   "outputs": [
    {
     "data": {
      "text/plain": [
       "'가'"
      ]
     },
     "execution_count": 68,
     "metadata": {},
     "output_type": "execute_result"
    }
   ],
   "source": [
    "index2char[3]"
   ]
  },
  {
   "cell_type": "code",
   "execution_count": 69,
   "id": "6630fa7a-b5f2-420b-8524-58d29a9d5e8d",
   "metadata": {
    "tags": []
   },
   "outputs": [
    {
     "data": {
      "text/plain": [
       "'여섯 살 적에 나는 \"체험한 이야기\"라는 제목의, 원시림에 관한 책에서 '"
      ]
     },
     "execution_count": 69,
     "metadata": {},
     "output_type": "execute_result"
    }
   ],
   "source": [
    "text[:40]"
   ]
  },
  {
   "cell_type": "code",
   "execution_count": 70,
   "id": "a5c5777f-72aa-4365-b9f8-86d7d2f4bffa",
   "metadata": {
    "tags": []
   },
   "outputs": [
    {
     "data": {
      "text/plain": [
       "('러', 3)"
      ]
     },
     "execution_count": 70,
     "metadata": {},
     "output_type": "execute_result"
    }
   ],
   "source": [
    "index2char[0], char2index['가']"
   ]
  },
  {
   "cell_type": "code",
   "execution_count": 71,
   "id": "56cc6486-2034-4674-866f-0707262885d1",
   "metadata": {
    "tags": []
   },
   "outputs": [
    {
     "name": "stdout",
     "output_type": "stream",
     "text": [
      "러\n",
      "요\n",
      "둔\n",
      "가\n",
      "않\n",
      "금\n",
      "쑤\n",
      "섬\n",
      "풀\n",
      "싸\n"
     ]
    }
   ],
   "source": [
    "for i in range(10):\n",
    "    print(index2char[i])"
   ]
  },
  {
   "cell_type": "code",
   "execution_count": 73,
   "id": "bd34b5a8-2ce2-44b2-a6c5-47d793dafe56",
   "metadata": {
    "tags": []
   },
   "outputs": [],
   "source": [
    "seqlen =10\n",
    "step=1"
   ]
  },
  {
   "cell_type": "markdown",
   "id": "c0c925d9-1828-4dd8-a99a-d80034d0f40e",
   "metadata": {},
   "source": [
    "### 입력데이터 생성 : 1~10자리의 문자 -> input_chars\n",
    "### 라벨데이터 생성 : 11번째 자리 문자 -> label_chars"
   ]
  },
  {
   "cell_type": "code",
   "execution_count": 76,
   "id": "1e517c06-03b8-413e-813f-a4d31cc9a11f",
   "metadata": {
    "tags": []
   },
   "outputs": [],
   "source": [
    "input_chars = []\n",
    "label_chars=[]\n",
    "for i in range(0, len(text) - seqlen, step):\n",
    "    input_chars.append(text[i: i+seqlen])\n",
    "    label_chars.append(text[i + seqlen])"
   ]
  },
  {
   "cell_type": "code",
   "execution_count": 81,
   "id": "b0dfbabf-ff53-4c42-a559-0cf09a9491e6",
   "metadata": {
    "tags": []
   },
   "outputs": [
    {
     "data": {
      "text/plain": [
       "(' 책에는 이렇게 씌', '어')"
      ]
     },
     "execution_count": 81,
     "metadata": {},
     "output_type": "execute_result"
    }
   ],
   "source": [
    "input_chars[110],label_chars[110]"
   ]
  },
  {
   "cell_type": "code",
   "execution_count": 82,
   "id": "6ef67ff3-9f1c-4aa5-a45e-1005988239de",
   "metadata": {
    "tags": []
   },
   "outputs": [
    {
     "data": {
      "text/plain": [
       "['여섯 살 적에 나는',\n",
       " '섯 살 적에 나는 ',\n",
       " ' 살 적에 나는 \"',\n",
       " '살 적에 나는 \"체',\n",
       " ' 적에 나는 \"체험',\n",
       " '적에 나는 \"체험한',\n",
       " '에 나는 \"체험한 ',\n",
       " ' 나는 \"체험한 이',\n",
       " '나는 \"체험한 이야',\n",
       " '는 \"체험한 이야기',\n",
       " ' \"체험한 이야기\"',\n",
       " '\"체험한 이야기\"라',\n",
       " '체험한 이야기\"라는',\n",
       " '험한 이야기\"라는 ',\n",
       " '한 이야기\"라는 제']"
      ]
     },
     "execution_count": 82,
     "metadata": {},
     "output_type": "execute_result"
    }
   ],
   "source": [
    "input_chars[:15]"
   ]
  },
  {
   "cell_type": "code",
   "execution_count": 83,
   "id": "8284a4bd-7c96-4b6c-8b5b-7812b650042f",
   "metadata": {
    "tags": []
   },
   "outputs": [
    {
     "data": {
      "text/plain": [
       "[' ', '\"', '체', '험', '한', ' ', '이', '야', '기', '\"', '라', '는', ' ', '제', '목']"
      ]
     },
     "execution_count": 83,
     "metadata": {},
     "output_type": "execute_result"
    }
   ],
   "source": [
    "label_chars[:15]"
   ]
  },
  {
   "cell_type": "code",
   "execution_count": 84,
   "id": "ac655a76-a497-49c3-9135-3e9c69755452",
   "metadata": {
    "tags": []
   },
   "outputs": [
    {
     "data": {
      "text/plain": [
       "(44792, 44792)"
      ]
     },
     "execution_count": 84,
     "metadata": {},
     "output_type": "execute_result"
    }
   ],
   "source": [
    "len(input_chars), len(label_chars)"
   ]
  },
  {
   "cell_type": "markdown",
   "id": "778f19ca-eed7-4e6c-9747-074c719bace3",
   "metadata": {},
   "source": [
    "### 글자를 one-hot-encoding을 이용해 벡터로 변환\n",
    "### 글자가 850개이므로 850개의 독립변수항목을 생성\n",
    "### char2index을 이용해 벡터로 변환\n",
    "### x[데이터 전체 행수,10개 ,독립변수 문자수]\n",
    "### y[데이터 전체 행수,10개 ,종속변수 문자수]"
   ]
  },
  {
   "cell_type": "code",
   "execution_count": 90,
   "id": "ee3bb55b-6e76-400f-886a-9a4ab44f49f6",
   "metadata": {
    "tags": []
   },
   "outputs": [
    {
     "name": "stderr",
     "output_type": "stream",
     "text": [
      "C:\\Users\\lj040\\AppData\\Local\\Temp\\ipykernel_22748\\1978939750.py:1: DeprecationWarning: `np.bool` is a deprecated alias for the builtin `bool`. To silence this warning, use `bool` by itself. Doing this will not modify any behavior and is safe. If you specifically wanted the numpy scalar type, use `np.bool_` here.\n",
      "Deprecated in NumPy 1.20; for more details and guidance: https://numpy.org/devdocs/release/1.20.0-notes.html#deprecations\n",
      "  x = np.zeros((len(input_chars), seqlen, nb_chars), dtype=np.bool)\n",
      "C:\\Users\\lj040\\AppData\\Local\\Temp\\ipykernel_22748\\1978939750.py:2: DeprecationWarning: `np.bool` is a deprecated alias for the builtin `bool`. To silence this warning, use `bool` by itself. Doing this will not modify any behavior and is safe. If you specifically wanted the numpy scalar type, use `np.bool_` here.\n",
      "Deprecated in NumPy 1.20; for more details and guidance: https://numpy.org/devdocs/release/1.20.0-notes.html#deprecations\n",
      "  y = np.zeros((len(input_chars), nb_chars), dtype=np.bool)\n"
     ]
    }
   ],
   "source": [
    "x = np.zeros((len(input_chars), seqlen, nb_chars), dtype=np.bool)\n",
    "y = np.zeros((len(input_chars), nb_chars), dtype=np.bool)"
   ]
  },
  {
   "cell_type": "code",
   "execution_count": 91,
   "id": "42e092f0-f75c-464c-b10e-5ebf89ed22d1",
   "metadata": {
    "tags": []
   },
   "outputs": [
    {
     "data": {
      "text/plain": [
       "((44792, 10, 850), (44792, 850))"
      ]
     },
     "execution_count": 91,
     "metadata": {},
     "output_type": "execute_result"
    }
   ],
   "source": [
    "x.shape, y.shape"
   ]
  },
  {
   "cell_type": "code",
   "execution_count": 95,
   "id": "3a5bc16f-4408-4737-894f-cee62d7213ec",
   "metadata": {
    "tags": []
   },
   "outputs": [],
   "source": [
    "for i, input_char in enumerate(input_chars):\n",
    "    for j, char in enumerate(input_char):\n",
    "        x[i, j, char2index[char]] = 1\n",
    "        y[i, char2index[label_chars[i]]] = 1"
   ]
  },
  {
   "cell_type": "code",
   "execution_count": 96,
   "id": "09ec166f-24d6-4a5f-a365-d200e3397e03",
   "metadata": {
    "tags": []
   },
   "outputs": [
    {
     "data": {
      "text/plain": [
       "((44792, 10, 850), (44792, 850))"
      ]
     },
     "execution_count": 96,
     "metadata": {},
     "output_type": "execute_result"
    }
   ],
   "source": [
    "x.shape, y.shape"
   ]
  },
  {
   "cell_type": "code",
   "execution_count": 102,
   "id": "b9f8e1f7-4316-49e9-aa40-14605410e629",
   "metadata": {
    "tags": []
   },
   "outputs": [
    {
     "data": {
      "text/plain": [
       "850"
      ]
     },
     "execution_count": 102,
     "metadata": {},
     "output_type": "execute_result"
    }
   ],
   "source": [
    "len(x[0][0])"
   ]
  },
  {
   "cell_type": "markdown",
   "id": "482223c4-6beb-4d2e-b868-1d132f22e3dd",
   "metadata": {},
   "source": [
    "### RNN모델 설계"
   ]
  },
  {
   "cell_type": "code",
   "execution_count": 103,
   "id": "ab3bf648-b0fc-4b6f-82ab-1343a64d4140",
   "metadata": {
    "tags": []
   },
   "outputs": [],
   "source": [
    "hidden_size = 128\n",
    "batch_size = 128\n",
    "num_iterations = 25\n",
    "num_epochs_per_iterations =1\n",
    "num_preds_per_epoch = 10"
   ]
  },
  {
   "cell_type": "code",
   "execution_count": 104,
   "id": "01d08372-10b1-4098-b4bc-041467146368",
   "metadata": {
    "tags": []
   },
   "outputs": [
    {
     "name": "stdout",
     "output_type": "stream",
     "text": [
      "Model: \"sequential\"\n",
      "_________________________________________________________________\n",
      " Layer (type)                Output Shape              Param #   \n",
      "=================================================================\n",
      " simple_rnn (SimpleRNN)      (None, 128)               125312    \n",
      "                                                                 \n",
      " dense (Dense)               (None, 850)               109650    \n",
      "                                                                 \n",
      " activation (Activation)     (None, 850)               0         \n",
      "                                                                 \n",
      "=================================================================\n",
      "Total params: 234,962\n",
      "Trainable params: 234,962\n",
      "Non-trainable params: 0\n",
      "_________________________________________________________________\n"
     ]
    }
   ],
   "source": [
    "model = Sequential()\n",
    "model.add(SimpleRNN(hidden_size,return_sequences=False, input_shape= (seqlen, nb_chars), unroll=True))\n",
    "model.add(Dense(nb_chars))\n",
    "model.add(Activation('softmax'))\n",
    "model.summary()"
   ]
  },
  {
   "cell_type": "code",
   "execution_count": 105,
   "id": "8367befb-9cdd-4d62-a04d-8aadd192f1b8",
   "metadata": {
    "tags": []
   },
   "outputs": [],
   "source": [
    "model.compile(loss='categorical_crossentropy', optimizer='rmsprop')"
   ]
  },
  {
   "cell_type": "markdown",
   "id": "31239890-b568-4d51-84d1-04c9f8145dee",
   "metadata": {},
   "source": [
    "### 학습하기"
   ]
  },
  {
   "cell_type": "code",
   "execution_count": 114,
   "id": "e9c34cc6-8574-41f8-b327-ff56063ad0e3",
   "metadata": {
    "tags": []
   },
   "outputs": [
    {
     "name": "stdout",
     "output_type": "stream",
     "text": [
      "==================================================\n",
      "Iteration #: 0\n",
      "350/350 [==============================] - 10s 27ms/step - loss: 1.8282\n",
      "입력 :  싶습니다.....\n",
      " 싶습니다.....        ..\n",
      "      . ..\n",
      "        ..\n",
      "      . ..\n",
      "        ..\n",
      "      . ..\n",
      "        ..\n",
      "      . ..\n",
      "        ..\n",
      "      . ..\n",
      "==================================================\n",
      "Iteration #: 1\n",
      "350/350 [==============================] - 9s 24ms/step - loss: 1.7907\n",
      "입력 : 때 아무것도 이해할\n",
      "때 아무것도 이해할      어어  \n",
      "    다    있\n",
      "    니 ..지어\n",
      "       .  \n",
      "    다 ...그\n",
      "    니 니.. \n",
      "       ...\n",
      "    다 ....\n",
      "    니 니...\n",
      "       ...\n",
      "==================================================\n",
      "Iteration #: 2\n",
      "350/350 [==============================] - 8s 23ms/step - loss: 1.7553\n",
      "입력 : 로등 켜는 사람이 \n",
      "로등 켜는 사람이 \" 이는이이이 이말\n",
      "    다다다로다을\n",
      "          \n",
      "      ...있\n",
      "      ....\n",
      "      ....\n",
      "      ....\n",
      "      ....\n",
      "      ....\n",
      "      ....\n",
      "==================================================\n",
      "Iteration #: 3\n",
      "350/350 [==============================] - 9s 25ms/step - loss: 1.7216\n",
      "입력 : 일을 해야 해. 아\n",
      "일을 해야 해. 아라다 다다다다다다저\n",
      " 고고고가고 해  \n",
      "        을해\n",
      "      .. .\n",
      "       .가.\n",
      "      .. .\n",
      "       .가.\n",
      "      .. .\n",
      "       .가.\n",
      "      .. .\n",
      "==================================================\n",
      "Iteration #: 4\n",
      "350/350 [==============================] - 9s 25ms/step - loss: 1.6861\n",
      "입력 : 그가 물었다. \"지\n",
      "그가 물었다. \"지 심의.는   요구\n",
      "     이   있\n",
      "         었\n",
      "      ..지다\n",
      "       . .\n",
      "      ....\n",
      "       ...\n",
      "      ....\n",
      "       ...\n",
      "      ....\n",
      "==================================================\n",
      "Iteration #: 5\n",
      "350/350 [==============================] - 8s 24ms/step - loss: 1.6536\n",
      "입력 : 물었다. \"찬양한다\n",
      "물었다. \"찬양한다 에      는는\n",
      "      ... \n",
      "      ....\n",
      "      ....\n",
      "      ....\n",
      "      ....\n",
      "      ....\n",
      "      ....\n",
      "      ....\n",
      "      ....\n",
      "==================================================\n",
      "Iteration #: 6\n",
      "350/350 [==============================] - 8s 23ms/step - loss: 1.6190\n",
      "입력 :  어린아이 같은 구\n",
      " 어린아이 같은 구  로로에로로로로로\n",
      "    었었 게들 \n",
      "    라    별\n",
      "        야에\n",
      "      ..  \n",
      "       .가가\n",
      "      ... \n",
      "       ...\n",
      "      ....\n",
      "       ...\n",
      "==================================================\n",
      "Iteration #: 7\n",
      "350/350 [==============================] - 8s 23ms/step - loss: 1.5892\n",
      "입력 : . 마실 거라곤 없\n",
      ". 마실 거라곤 없리 라라라하하하하고\n",
      "라라라라라라는는는는\n",
      "  보보지는라이이 \n",
      "  오도 의 에 대\n",
      "   다   을을답\n",
      "    가....했\n",
      "    지   .다\n",
      "        ..\n",
      "      ....\n",
      "      는...\n",
      "==================================================\n",
      "Iteration #: 8\n",
      "350/350 [==============================] - 8s 24ms/step - loss: 1.5598\n",
      "입력 : 아저씨 생각으로는 \n",
      "아저씨 생각으로는 까있구   다다게거\n",
      "         든\n",
      "다   다 ..야.\n",
      "  내게하하하 하.\n",
      "다  를요다 에  \n",
      "  내      나\n",
      "다      .에를\n",
      "  내게게 ..  \n",
      "다  를  도.도꽃\n",
      "  내       \n",
      "==================================================\n",
      "Iteration #: 9\n",
      "350/350 [==============================] - 10s 27ms/step - loss: 1.5297\n",
      "입력 :  영영 다시 들을 \n",
      " 영영 다시 들을     나한   수\n",
      "     서  번 \n",
      "    다나   나\n",
      "    \"라  번는\n",
      "          \n",
      "    다 ..번있\n",
      "    \"  .  \n",
      "      ...가\n",
      "    다  ...\n",
      "    \" ....\n",
      "==================================================\n",
      "Iteration #: 10\n",
      "350/350 [==============================] - 10s 30ms/step - loss: 1.4998\n",
      "입력 : 상에 있었던 증거야\n",
      "상에 있었던 증거야        ..\n",
      "    다 ....\n",
      "      다...\n",
      "    다   ..\n",
      "      다지..\n",
      "    다  는는.\n",
      "      다다다.\n",
      "    다  는 \"\n",
      "      다다니 \n",
      "    다  는 \"\n",
      "==================================================\n",
      "Iteration #: 11\n",
      "350/350 [==============================] - 9s 27ms/step - loss: 1.4716\n",
      "입력 : 0미터쯤 되는 거리\n",
      "0미터쯤 되는 거리 하을을을 이이에에\n",
      " 이지라     게\n",
      " 이야지다요.야야 \n",
      " 이       그\n",
      " 이이이이오.이이를\n",
      " 이다다 이 오? \n",
      " 이 이이    그\n",
      " 이이이 ...에에\n",
      " 이다다다     \n",
      " 이 이여여 을을생\n",
      "==================================================\n",
      "Iteration #: 12\n",
      "350/350 [==============================] - 9s 26ms/step - loss: 1.4439\n",
      "입력 : 람이 겪을 위험은 \n",
      "람이 겪을 위험은  보도도 이.처이어\n",
      " 게도   으으으.\n",
      "  도  )하,,.\n",
      "  도      \"\n",
      "  도  도!!없없\n",
      "  도  고고그그고\n",
      "  도       \n",
      "  도  도!!없없\n",
      "  도  고고그그고\n",
      "  도       \n",
      "==================================================\n",
      "Iteration #: 13\n",
      "350/350 [==============================] - 9s 25ms/step - loss: 1.4179\n",
      "입력 : 은언제나 스스로는 \n",
      "은언제나 스스로는 은이이은 ..\"걸무\n",
      "은\"지       \n",
      "은   ...지이이\n",
      "은은든       \n",
      "은라못\"\"\"??없없\n",
      "은  )  ,  어\n",
      "은은든야어어  있린\n",
      "은라못못\"어그지지 \n",
      "은  게니니는는 않\n",
      "은은든무은은은은은은\n",
      "==================================================\n",
      "Iteration #: 14\n",
      "350/350 [==============================] - 9s 26ms/step - loss: 1.3928\n",
      "입력 : 더 힘이 세단다.\"\n",
      "더 힘이 세단다.\"마내) ...리. \n",
      "  \"만     만\n",
      " 보사지지  지있있\n",
      " 며다한한빛가일노는\n",
      " 지다다다다다다다 \n",
      " 해 들다    그\n",
      "   니니니니지지는\n",
      " 보  아왕은은않 \n",
      " 며나으나    그\n",
      " 지고고고고을을을에\n",
      "==================================================\n",
      "Iteration #: 15\n",
      "350/350 [==============================] - 9s 26ms/step - loss: 1.3669\n",
      "입력 : 물 둘레의 돌까지 \n",
      "물 둘레의 돌까지          에\n",
      "    \"   번겐\n",
      "          \n",
      "    \"   번있\n",
      "         는\n",
      "    \"   번 \n",
      "         있\n",
      "    \"   번었\n",
      "         다\n",
      "    \"   번시\n",
      "==================================================\n",
      "Iteration #: 16\n",
      "350/350 [==============================] - 10s 27ms/step - loss: 1.3420\n",
      "입력 : 는 마찬가지야. 우\n",
      "는 마찬가지야. 우이도로기이이다다지리\n",
      "는  도고도도\"\"\"\n",
      "이도하하다다도가가가\n",
      "는 \"\"\"  하는 \n",
      "이도내  .이??이\n",
      "는 도 처  \"  \n",
      "이도도도도니니이도수\n",
      "는 지 더더도도더가\n",
      "이도어야도스스스  \n",
      "는 지고\"\"\"\"\"\"\n",
      "==================================================\n",
      "Iteration #: 17\n",
      "350/350 [==============================] - 9s 27ms/step - loss: 1.3180\n",
      "입력 : 다르게 만들고, 어\n",
      "다르게 만들고, 어은고 까으게게다게느\n",
      "은은은은   거면 \n",
      "은라       그\n",
      "은은은이이..이은것\n",
      "은라 이이    도\n",
      "은은은은 이다은은 \n",
      "은라       왜\n",
      "은은은이이..이은 \n",
      "은라 이이    너\n",
      "은은은은 이다은은에\n",
      "==================================================\n",
      "Iteration #: 18\n",
      "350/350 [==============================] - 10s 28ms/step - loss: 1.2935\n",
      "입력 : 열 둘에 셋을 더하\n",
      "열 둘에 셋을 더하로로라로로라 로 면\n",
      "어어고다마었마을을서\n",
      "        알 \n",
      "      .. 있\n",
      "      ...는\n",
      "      ....\n",
      "      ....\n",
      "      ....\n",
      "      ....\n",
      "      ....\n",
      "==================================================\n",
      "Iteration #: 19\n",
      "350/350 [==============================] - 10s 28ms/step - loss: 1.2708\n",
      "입력 : 매력적이다.그것은 \n",
      "매력적이다.그것은  명명자하내이 내이\n",
      "   고   에  \n",
      "       는는있\n",
      "    \"    다\n",
      "        야가\n",
      "    \"     \n",
      "        야있\n",
      "    \"     \n",
      "        야있\n",
      "    \"     \n",
      "==================================================\n",
      "Iteration #: 20\n",
      "350/350 [==============================] - 9s 26ms/step - loss: 1.2489\n",
      "입력 : 장미의 싹이면 그대\n",
      "장미의 싹이면 그대 하     로 로\n",
      " 이니 렸 ..렸 \n",
      " 이 의    ..\n",
      " 이이 이.....\n",
      " 이하지이   ..\n",
      " 이이지이그....\n",
      " 이하하하다다 ..\n",
      " 이이이이이이 ..\n",
      " 이하다다이이이..\n",
      " 이이이지다다면..\n",
      "==================================================\n",
      "Iteration #: 21\n",
      "350/350 [==============================] - 10s 27ms/step - loss: 1.2262\n",
      "입력 : 없지. 산이 위치를\n",
      "없지. 산이 위치를이라이이기이    \n",
      "   다다다요,지있\n",
      "   어      \n",
      "     ...에가\n",
      "    \"  가  \n",
      "         있\n",
      "    \"   번어\n",
      "          \n",
      "    \"   번번\n",
      "          \n",
      "==================================================\n",
      "Iteration #: 22\n",
      "350/350 [==============================] - 9s 27ms/step - loss: 1.2057\n",
      "입력 : 는 하던 이야기로 \n",
      "는 하던 이야기로 이가가  이   하\n",
      "는 는는는로   는\n",
      "이가도이이들이이에 \n",
      "는  가,    대\n",
      "이가하하가가이이가답\n",
      "는 \"\"     는\n",
      "이가사   . 있 \n",
      "는 리리음구를를든말\n",
      "이가더   어어고고\n",
      "는 었   는는는는\n",
      "==================================================\n",
      "Iteration #: 23\n",
      "350/350 [==============================] - 9s 27ms/step - loss: 1.1815\n",
      "입력 : 사는 고장에서 수천\n",
      "사는 고장에서 수천의내불       \n",
      " 내하는이이이이이이\n",
      " 면그그그 내면면면\n",
      "   를하를에에에서\n",
      "   도요다는는는는\n",
      "   미      \n",
      "        없있\n",
      "    나    는\n",
      "          \n",
      "    나   없있\n",
      "==================================================\n",
      "Iteration #: 24\n",
      "350/350 [==============================] - 9s 25ms/step - loss: 1.1625\n",
      "입력 : 걸어가기만 하면 되\n",
      "걸어가기만 하면 되   자 하 하하는\n",
      "    었     \n",
      "    라  니니없\n",
      "    었  ...\n",
      "    라  ...\n",
      "    었  ...\n",
      "    라  ...\n",
      "    었  ...\n",
      "    라  ...\n",
      "    었  ...\n"
     ]
    }
   ],
   "source": [
    "for iteration in range(num_iterations):\n",
    "    print( '=' * 50)\n",
    "    print( 'Iteration #: %d' % (iteration))\n",
    "    model.fit(x, y, batch_size=batch_size, epochs = num_epochs_per_iterations)\n",
    "    \n",
    "    test_idx = np.random.randint(len(input_chars))\n",
    "    test_chars = input_chars[test_idx]\n",
    "    print('입력 : %s' % (test_chars))\n",
    "    print(test_chars, end='')\n",
    "    \n",
    "    for i in range(num_preds_per_epoch):\n",
    "        xtest = np.zeros((1, seqlen, nb_chars))\n",
    "    \n",
    "        for i , ch in enumerate(test_chars):\n",
    "            xtest[0, i, char2index[ch]] =1\n",
    "        \n",
    "            pred = model.predict(xtest, verbose=0)[0]\n",
    "            ypred = index2char[np.argmax(pred)]  # 가장 확률이 큰 인덱스의 번호를\n",
    "            print(ypred, end ='') # end 줄바꿈을 안함\n",
    "    \n",
    "            test_chars = test_chars[1:] + ypred\n",
    "        print()"
   ]
  },
  {
   "cell_type": "code",
   "execution_count": null,
   "id": "e172967e-19bc-4994-aad8-d74ec0ae60d0",
   "metadata": {},
   "outputs": [],
   "source": []
  },
  {
   "cell_type": "code",
   "execution_count": 109,
   "id": "d188d274-b55d-4124-beb3-7f8590179c7b",
   "metadata": {
    "tags": []
   },
   "outputs": [],
   "source": []
  },
  {
   "cell_type": "code",
   "execution_count": 113,
   "id": "c08900ea-9733-453d-85aa-d817be2a8fc5",
   "metadata": {
    "tags": []
   },
   "outputs": [
    {
     "name": "stdout",
     "output_type": "stream",
     "text": [
      "입력 : 도만        \n",
      "도만        "
     ]
    }
   ],
   "source": []
  },
  {
   "cell_type": "code",
   "execution_count": 112,
   "id": "78d66bf9-e883-4e45-8e5f-b70ce4b79f79",
   "metadata": {
    "tags": []
   },
   "outputs": [
    {
     "name": "stdout",
     "output_type": "stream",
     "text": [
      "하도 다 다....\n",
      "도도도     ..\n",
      "하가도??..?..\n",
      "도만도    \" \"\n",
      "하가이이)..이이이\n",
      "도만  가가가가만 \n",
      "하가의도지하다는하하\n",
      "도만리리시    고\n",
      "하가시하 는에에에는\n",
      "도만        \n"
     ]
    }
   ],
   "source": []
  },
  {
   "cell_type": "code",
   "execution_count": null,
   "id": "372d066b-ac16-4ff9-b3a5-5943fd0d18e9",
   "metadata": {},
   "outputs": [],
   "source": []
  },
  {
   "cell_type": "code",
   "execution_count": null,
   "id": "72fa3397-1bf3-4f3b-85af-417e5415413f",
   "metadata": {},
   "outputs": [],
   "source": []
  }
 ],
 "metadata": {
  "kernelspec": {
   "display_name": "ml308",
   "language": "python",
   "name": "ml308"
  },
  "language_info": {
   "codemirror_mode": {
    "name": "ipython",
    "version": 3
   },
   "file_extension": ".py",
   "mimetype": "text/x-python",
   "name": "python",
   "nbconvert_exporter": "python",
   "pygments_lexer": "ipython3",
   "version": "3.8.10"
  }
 },
 "nbformat": 4,
 "nbformat_minor": 5
}
