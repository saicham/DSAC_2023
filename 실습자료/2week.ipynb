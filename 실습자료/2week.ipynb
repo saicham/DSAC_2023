{
 "cells": [
  {
   "cell_type": "markdown",
   "id": "f72feecb-6f49-4adc-8506-1ee76d3ce558",
   "metadata": {},
   "source": [
    "### 강사님 블로그 : https://blog.naver.com/ojunny62/221794769702"
   ]
  },
  {
   "cell_type": "code",
   "execution_count": 5,
   "id": "b027445c-49d7-41a4-bda8-6bddec7cf89d",
   "metadata": {
    "tags": []
   },
   "outputs": [
    {
     "name": "stdout",
     "output_type": "stream",
     "text": [
      "1 = 1\n",
      "2 = 4\n",
      "3 = 9\n"
     ]
    }
   ],
   "source": [
    "for i in(1,2,3,):\n",
    "    print(i,\"=\", i*i)"
   ]
  },
  {
   "cell_type": "code",
   "execution_count": 9,
   "id": "03b4dcd7-e334-46c5-9986-28b0a8caea7a",
   "metadata": {
    "tags": []
   },
   "outputs": [],
   "source": [
    "list1 = [x*x for x in range(5)]"
   ]
  },
  {
   "cell_type": "code",
   "execution_count": 10,
   "id": "bd1123f5-119c-4ba9-b2d2-b4c954d47d19",
   "metadata": {
    "tags": []
   },
   "outputs": [
    {
     "data": {
      "text/plain": [
       "[0, 1, 4, 9, 16]"
      ]
     },
     "execution_count": 10,
     "metadata": {},
     "output_type": "execute_result"
    }
   ],
   "source": [
    "list1"
   ]
  },
  {
   "cell_type": "markdown",
   "id": "c2b7ad6f-7a5b-4f78-8307-0d8b6cb60374",
   "metadata": {},
   "source": [
    "### 연속된 값을 하나의 변수에 대입하면 \"튜플\" 자료형이 됨"
   ]
  },
  {
   "cell_type": "code",
   "execution_count": 11,
   "id": "a5e60ad1-3917-40c8-9c17-5ca3acabd84c",
   "metadata": {
    "tags": []
   },
   "outputs": [],
   "source": [
    "\n",
    "y = 4,5,\"apple\""
   ]
  },
  {
   "cell_type": "code",
   "execution_count": 12,
   "id": "52555751-f300-4db7-b431-c6ea85485c86",
   "metadata": {
    "tags": []
   },
   "outputs": [
    {
     "data": {
      "text/plain": [
       "(4, 5, 'apple')"
      ]
     },
     "execution_count": 12,
     "metadata": {},
     "output_type": "execute_result"
    }
   ],
   "source": [
    "y"
   ]
  },
  {
   "cell_type": "code",
   "execution_count": 13,
   "id": "a8f29d89-8a24-4651-858f-9e45095d6ac8",
   "metadata": {
    "tags": []
   },
   "outputs": [
    {
     "data": {
      "text/plain": [
       "tuple"
      ]
     },
     "execution_count": 13,
     "metadata": {},
     "output_type": "execute_result"
    }
   ],
   "source": [
    "type(y)"
   ]
  },
  {
   "cell_type": "code",
   "execution_count": 14,
   "id": "fc006194-c2c1-404b-8566-b752ffe87e0b",
   "metadata": {
    "tags": []
   },
   "outputs": [
    {
     "name": "stdout",
     "output_type": "stream",
     "text": [
      "(4, 5, 'apple', 4, 5, 'apple')\n"
     ]
    }
   ],
   "source": [
    "print(y+y)"
   ]
  },
  {
   "cell_type": "code",
   "execution_count": 16,
   "id": "a0473841-f349-4fc5-884a-9e27751d5a07",
   "metadata": {
    "tags": []
   },
   "outputs": [
    {
     "data": {
      "text/plain": [
       "4"
      ]
     },
     "execution_count": 16,
     "metadata": {},
     "output_type": "execute_result"
    }
   ],
   "source": [
    "y[0]"
   ]
  },
  {
   "cell_type": "code",
   "execution_count": 17,
   "id": "8456f711-0d5e-48c3-885c-a953dc34e623",
   "metadata": {
    "tags": []
   },
   "outputs": [
    {
     "ename": "TypeError",
     "evalue": "can't multiply sequence by non-int of type 'tuple'",
     "output_type": "error",
     "traceback": [
      "\u001b[1;31m---------------------------------------------------------------------------\u001b[0m",
      "\u001b[1;31mTypeError\u001b[0m                                 Traceback (most recent call last)",
      "Cell \u001b[1;32mIn[17], line 1\u001b[0m\n\u001b[1;32m----> 1\u001b[0m \u001b[38;5;28mprint\u001b[39m(\u001b[43my\u001b[49m\u001b[38;5;241;43m*\u001b[39;49m\u001b[43my\u001b[49m)\n",
      "\u001b[1;31mTypeError\u001b[0m: can't multiply sequence by non-int of type 'tuple'"
     ]
    }
   ],
   "source": [
    "print(y*y)"
   ]
  },
  {
   "cell_type": "code",
   "execution_count": 18,
   "id": "4eab2a92-dfb9-417e-994f-633b56bd13d5",
   "metadata": {
    "tags": []
   },
   "outputs": [
    {
     "ename": "TypeError",
     "evalue": "'tuple' object does not support item assignment",
     "output_type": "error",
     "traceback": [
      "\u001b[1;31m---------------------------------------------------------------------------\u001b[0m",
      "\u001b[1;31mTypeError\u001b[0m                                 Traceback (most recent call last)",
      "Cell \u001b[1;32mIn[18], line 1\u001b[0m\n\u001b[1;32m----> 1\u001b[0m \u001b[43my\u001b[49m\u001b[43m[\u001b[49m\u001b[38;5;241;43m0\u001b[39;49m\u001b[43m]\u001b[49m\u001b[38;5;241m=\u001b[39m\u001b[38;5;241m2\u001b[39m\n",
      "\u001b[1;31mTypeError\u001b[0m: 'tuple' object does not support item assignment"
     ]
    }
   ],
   "source": [
    "y[0]=2"
   ]
  },
  {
   "cell_type": "code",
   "execution_count": 47,
   "id": "a1a2de7b-881e-45c0-805d-00089292f87d",
   "metadata": {
    "tags": []
   },
   "outputs": [],
   "source": [
    "list1=[]\n",
    "list1.append([x *x for x in range(5)])"
   ]
  },
  {
   "cell_type": "code",
   "execution_count": 48,
   "id": "02d9c2b8-3beb-44ec-8096-8c0fe7eeac3c",
   "metadata": {
    "tags": []
   },
   "outputs": [
    {
     "data": {
      "text/plain": [
       "[[0, 1, 4, 9, 16]]"
      ]
     },
     "execution_count": 48,
     "metadata": {},
     "output_type": "execute_result"
    }
   ],
   "source": [
    "list1"
   ]
  },
  {
   "cell_type": "code",
   "execution_count": 49,
   "id": "f478074c-ce95-4e28-9eaf-bb04f49b739c",
   "metadata": {
    "tags": []
   },
   "outputs": [
    {
     "data": {
      "text/plain": [
       "1"
      ]
     },
     "execution_count": 49,
     "metadata": {},
     "output_type": "execute_result"
    }
   ],
   "source": [
    "len(list1)"
   ]
  },
  {
   "cell_type": "code",
   "execution_count": 50,
   "id": "f64c5843-4c8e-4321-ac5e-daad3feb8fd4",
   "metadata": {
    "tags": []
   },
   "outputs": [
    {
     "data": {
      "text/plain": [
       "[0, 1, 4, 9, 16]"
      ]
     },
     "execution_count": 50,
     "metadata": {},
     "output_type": "execute_result"
    }
   ],
   "source": [
    "[*list1[0]]"
   ]
  },
  {
   "cell_type": "code",
   "execution_count": null,
   "id": "891833bd-83cd-47b7-a770-38cc51314ce6",
   "metadata": {},
   "outputs": [],
   "source": []
  },
  {
   "cell_type": "code",
   "execution_count": 26,
   "id": "789f6f47-5df0-45f2-8696-9f3efc95997e",
   "metadata": {
    "tags": []
   },
   "outputs": [
    {
     "data": {
      "text/plain": [
       "0"
      ]
     },
     "execution_count": 26,
     "metadata": {},
     "output_type": "execute_result"
    }
   ],
   "source": [
    "list1[0][0]"
   ]
  },
  {
   "cell_type": "code",
   "execution_count": 45,
   "id": "3cfd6084-8bd3-40fc-8245-2ae774e24461",
   "metadata": {
    "tags": []
   },
   "outputs": [],
   "source": [
    "list1 =[]\n",
    "for i in range(5):\n",
    "    list1.append(i)\n"
   ]
  },
  {
   "cell_type": "code",
   "execution_count": 46,
   "id": "8386fdf3-cbb8-47d2-9698-b924ce92398b",
   "metadata": {
    "tags": []
   },
   "outputs": [
    {
     "data": {
      "text/plain": [
       "[0, 1, 2, 3, 4]"
      ]
     },
     "execution_count": 46,
     "metadata": {},
     "output_type": "execute_result"
    }
   ],
   "source": [
    "list1"
   ]
  },
  {
   "cell_type": "code",
   "execution_count": null,
   "id": "12afc7e3-38b8-4df2-acf1-33b7e75b67a6",
   "metadata": {},
   "outputs": [],
   "source": []
  },
  {
   "cell_type": "code",
   "execution_count": 32,
   "id": "159b4f1c-1130-43a4-9cb7-fd2079965a2b",
   "metadata": {
    "tags": []
   },
   "outputs": [],
   "source": [
    "import numpy as np\n",
    "import pandas as pd"
   ]
  },
  {
   "cell_type": "code",
   "execution_count": 34,
   "id": "2fcbe32b-7d46-45c6-8417-b163a09af22a",
   "metadata": {
    "tags": []
   },
   "outputs": [],
   "source": [
    "dic1 = {'lee': 20, 'kim':50}"
   ]
  },
  {
   "cell_type": "code",
   "execution_count": 38,
   "id": "42b3806d-bae6-46ed-bedd-8046f659a395",
   "metadata": {
    "tags": []
   },
   "outputs": [
    {
     "data": {
      "text/plain": [
       "dict_values([20, 50])"
      ]
     },
     "execution_count": 38,
     "metadata": {},
     "output_type": "execute_result"
    }
   ],
   "source": [
    "dic1.values()"
   ]
  },
  {
   "cell_type": "code",
   "execution_count": 40,
   "id": "7c429acd-7110-4626-ac7d-42bf11495643",
   "metadata": {
    "tags": []
   },
   "outputs": [
    {
     "data": {
      "text/plain": [
       "20"
      ]
     },
     "execution_count": 40,
     "metadata": {},
     "output_type": "execute_result"
    }
   ],
   "source": [
    "dic1['lee']"
   ]
  },
  {
   "cell_type": "code",
   "execution_count": 43,
   "id": "fa012726-2451-4249-9415-0b07878d82c3",
   "metadata": {
    "tags": []
   },
   "outputs": [
    {
     "data": {
      "text/plain": [
       "dict_items([('lee', 20), ('kim', 50)])"
      ]
     },
     "execution_count": 43,
     "metadata": {},
     "output_type": "execute_result"
    }
   ],
   "source": [
    "dic1.items()"
   ]
  },
  {
   "cell_type": "code",
   "execution_count": 51,
   "id": "c3c82ff1-0cc4-476e-bd4b-82ec6f60b4be",
   "metadata": {
    "tags": []
   },
   "outputs": [],
   "source": [
    "dic1['lee'] = 30"
   ]
  },
  {
   "cell_type": "code",
   "execution_count": 52,
   "id": "76731b08-c1b7-48c8-9afd-a2f5ae08e10c",
   "metadata": {
    "tags": []
   },
   "outputs": [
    {
     "data": {
      "text/plain": [
       "dict_items([('lee', 30), ('kim', 50)])"
      ]
     },
     "execution_count": 52,
     "metadata": {},
     "output_type": "execute_result"
    }
   ],
   "source": [
    "dic1.items()"
   ]
  },
  {
   "cell_type": "code",
   "execution_count": 54,
   "id": "364c6b6c-d74f-4973-94ca-78220b2a997a",
   "metadata": {
    "tags": []
   },
   "outputs": [
    {
     "name": "stdout",
     "output_type": "stream",
     "text": [
      "7 <\n"
     ]
    }
   ],
   "source": [
    "x = 7\n",
    "if x ==2:\n",
    "    print(x,\"+\")\n",
    "elif x >10:\n",
    "    print(x,\">\")\n",
    "elif x> 5:\n",
    "    print(x,\"<\")\n",
    "else:\n",
    "    print(x)"
   ]
  },
  {
   "cell_type": "code",
   "execution_count": 65,
   "id": "82075455-a690-49a6-8161-f2a8e205cf44",
   "metadata": {
    "tags": []
   },
   "outputs": [],
   "source": [
    "x = [2,3,6,7,1]"
   ]
  },
  {
   "cell_type": "code",
   "execution_count": 61,
   "id": "106feeb9-4c66-4fa3-bbb4-23842660da82",
   "metadata": {
    "tags": []
   },
   "outputs": [
    {
     "data": {
      "text/plain": [
       "[2, 3, 6, 7, 1]"
      ]
     },
     "execution_count": 61,
     "metadata": {},
     "output_type": "execute_result"
    }
   ],
   "source": [
    "x"
   ]
  },
  {
   "cell_type": "code",
   "execution_count": 63,
   "id": "2e21160a-f44a-45e2-bc32-6613f516c01d",
   "metadata": {
    "tags": []
   },
   "outputs": [
    {
     "name": "stdout",
     "output_type": "stream",
     "text": [
      "[7, 6, 3, 2, 1]\n"
     ]
    }
   ],
   "source": [
    "x.sort(reverse=True)\n",
    "print(x)"
   ]
  },
  {
   "cell_type": "markdown",
   "id": "89ee1044-c071-4d04-8646-42227cdb2963",
   "metadata": {},
   "source": [
    "### sorted(x) : 원본은 그대로 두고 정렬결과를 반환\n",
    "### sort(x) : 원본을 정렬"
   ]
  },
  {
   "cell_type": "code",
   "execution_count": 67,
   "id": "c915e15f-ac55-4a90-8355-c91fd5a0a8b5",
   "metadata": {
    "tags": []
   },
   "outputs": [
    {
     "name": "stdout",
     "output_type": "stream",
     "text": [
      "[7, 6, 3, 2, 1]\n",
      "[2, 3, 6, 7, 1]\n"
     ]
    }
   ],
   "source": [
    "x = [2,3,6,7,1]\n",
    "y = sorted(x,reverse=True)\n",
    "print(y)\n",
    "print(x)\n",
    "        "
   ]
  },
  {
   "cell_type": "code",
   "execution_count": 68,
   "id": "12ad59df-deed-4618-9143-2a331af4d724",
   "metadata": {
    "tags": []
   },
   "outputs": [],
   "source": [
    "import pandas as pd"
   ]
  },
  {
   "cell_type": "code",
   "execution_count": 72,
   "id": "44780be5-3809-48b2-aa6f-f19406e8e193",
   "metadata": {
    "tags": []
   },
   "outputs": [],
   "source": [
    "df = pd.DataFrame({'lee': [1,2,20], 'kim':[10,20,50]})"
   ]
  },
  {
   "cell_type": "code",
   "execution_count": 73,
   "id": "0e35ba5a-98f4-4150-8c4f-4656b4e7d159",
   "metadata": {
    "tags": []
   },
   "outputs": [
    {
     "data": {
      "text/html": [
       "<div>\n",
       "<style scoped>\n",
       "    .dataframe tbody tr th:only-of-type {\n",
       "        vertical-align: middle;\n",
       "    }\n",
       "\n",
       "    .dataframe tbody tr th {\n",
       "        vertical-align: top;\n",
       "    }\n",
       "\n",
       "    .dataframe thead th {\n",
       "        text-align: right;\n",
       "    }\n",
       "</style>\n",
       "<table border=\"1\" class=\"dataframe\">\n",
       "  <thead>\n",
       "    <tr style=\"text-align: right;\">\n",
       "      <th></th>\n",
       "      <th>lee</th>\n",
       "      <th>kim</th>\n",
       "    </tr>\n",
       "  </thead>\n",
       "  <tbody>\n",
       "    <tr>\n",
       "      <th>0</th>\n",
       "      <td>1</td>\n",
       "      <td>10</td>\n",
       "    </tr>\n",
       "    <tr>\n",
       "      <th>1</th>\n",
       "      <td>2</td>\n",
       "      <td>20</td>\n",
       "    </tr>\n",
       "    <tr>\n",
       "      <th>2</th>\n",
       "      <td>20</td>\n",
       "      <td>50</td>\n",
       "    </tr>\n",
       "  </tbody>\n",
       "</table>\n",
       "</div>"
      ],
      "text/plain": [
       "   lee  kim\n",
       "0    1   10\n",
       "1    2   20\n",
       "2   20   50"
      ]
     },
     "execution_count": 73,
     "metadata": {},
     "output_type": "execute_result"
    }
   ],
   "source": [
    "df"
   ]
  },
  {
   "cell_type": "code",
   "execution_count": 75,
   "id": "b2054ae1-20f5-4737-a623-fe1b11d0e64c",
   "metadata": {
    "tags": []
   },
   "outputs": [
    {
     "data": {
      "text/html": [
       "<div>\n",
       "<style scoped>\n",
       "    .dataframe tbody tr th:only-of-type {\n",
       "        vertical-align: middle;\n",
       "    }\n",
       "\n",
       "    .dataframe tbody tr th {\n",
       "        vertical-align: top;\n",
       "    }\n",
       "\n",
       "    .dataframe thead th {\n",
       "        text-align: right;\n",
       "    }\n",
       "</style>\n",
       "<table border=\"1\" class=\"dataframe\">\n",
       "  <thead>\n",
       "    <tr style=\"text-align: right;\">\n",
       "      <th></th>\n",
       "      <th>lee</th>\n",
       "      <th>kim</th>\n",
       "    </tr>\n",
       "  </thead>\n",
       "  <tbody>\n",
       "    <tr>\n",
       "      <th>2</th>\n",
       "      <td>20</td>\n",
       "      <td>50</td>\n",
       "    </tr>\n",
       "    <tr>\n",
       "      <th>1</th>\n",
       "      <td>2</td>\n",
       "      <td>20</td>\n",
       "    </tr>\n",
       "    <tr>\n",
       "      <th>0</th>\n",
       "      <td>1</td>\n",
       "      <td>10</td>\n",
       "    </tr>\n",
       "  </tbody>\n",
       "</table>\n",
       "</div>"
      ],
      "text/plain": [
       "   lee  kim\n",
       "2   20   50\n",
       "1    2   20\n",
       "0    1   10"
      ]
     },
     "execution_count": 75,
     "metadata": {},
     "output_type": "execute_result"
    }
   ],
   "source": [
    "df.sort_values(by=['lee'], ascending=False)"
   ]
  },
  {
   "cell_type": "markdown",
   "id": "e6aec983-2db9-4b14-977c-c278a07d906d",
   "metadata": {},
   "source": [
    "### indentation 들여쓰기"
   ]
  },
  {
   "cell_type": "code",
   "execution_count": 77,
   "id": "2392b324-377d-4ac6-a5ef-2536a5cb4c46",
   "metadata": {
    "tags": []
   },
   "outputs": [],
   "source": [
    "x = [[2,5,7],\n",
    " [3,4,5],\n",
    " [6,7,8]]"
   ]
  },
  {
   "cell_type": "code",
   "execution_count": 78,
   "id": "850bfd2b-2e87-4a1b-b2ac-7265b6491f34",
   "metadata": {
    "tags": []
   },
   "outputs": [
    {
     "data": {
      "text/plain": [
       "[[2, 5, 7], [3, 4, 5], [6, 7, 8]]"
      ]
     },
     "execution_count": 78,
     "metadata": {},
     "output_type": "execute_result"
    }
   ],
   "source": [
    "x"
   ]
  },
  {
   "cell_type": "code",
   "execution_count": 80,
   "id": "91ed9174-59ca-4fe2-8d93-257172840313",
   "metadata": {
    "tags": []
   },
   "outputs": [
    {
     "data": {
      "text/plain": [
       "2"
      ]
     },
     "execution_count": 80,
     "metadata": {},
     "output_type": "execute_result"
    }
   ],
   "source": [
    "x[0][0]"
   ]
  },
  {
   "cell_type": "code",
   "execution_count": 84,
   "id": "9f2e69dd-44f9-464e-8b76-4925d3d33129",
   "metadata": {
    "tags": []
   },
   "outputs": [],
   "source": [
    "y =1+2+7\\\n",
    "+10"
   ]
  },
  {
   "cell_type": "code",
   "execution_count": 85,
   "id": "a70318f8-b065-44a9-9288-8efe94f23dc8",
   "metadata": {
    "tags": []
   },
   "outputs": [
    {
     "data": {
      "text/plain": [
       "20"
      ]
     },
     "execution_count": 85,
     "metadata": {},
     "output_type": "execute_result"
    }
   ],
   "source": [
    "y"
   ]
  },
  {
   "cell_type": "code",
   "execution_count": 9,
   "id": "30d99733-6725-4ae8-9490-58ff85ae8400",
   "metadata": {},
   "outputs": [],
   "source": [
    "def double(x=100):\n",
    "    x = x * 2\n",
    "    y = x * 3\n",
    "    return x,y"
   ]
  },
  {
   "cell_type": "code",
   "execution_count": 11,
   "id": "30000cee-0186-4c6d-83ec-f66bc466a19b",
   "metadata": {
    "tags": []
   },
   "outputs": [
    {
     "name": "stdout",
     "output_type": "stream",
     "text": [
      "24\n"
     ]
    }
   ],
   "source": [
    "i,w = double(4)\n",
    "print(w)"
   ]
  },
  {
   "cell_type": "code",
   "execution_count": 8,
   "id": "32339ee3-1b2a-4e81-8de3-9087fad23057",
   "metadata": {
    "tags": []
   },
   "outputs": [
    {
     "data": {
      "text/plain": [
       "200"
      ]
     },
     "execution_count": 8,
     "metadata": {},
     "output_type": "execute_result"
    }
   ],
   "source": [
    "double()"
   ]
  },
  {
   "cell_type": "code",
   "execution_count": 12,
   "id": "d244d16d-d9fd-48e5-a092-5f870809e0af",
   "metadata": {},
   "outputs": [
    {
     "data": {
      "text/plain": [
       "(8, 24)"
      ]
     },
     "execution_count": 12,
     "metadata": {},
     "output_type": "execute_result"
    }
   ],
   "source": [
    "double(4)"
   ]
  },
  {
   "cell_type": "code",
   "execution_count": 82,
   "id": "b996f23a-c3be-4c94-83df-9fc141cb6078",
   "metadata": {
    "tags": []
   },
   "outputs": [
    {
     "data": {
      "text/plain": [
       "(1, 2, 3)"
      ]
     },
     "execution_count": 82,
     "metadata": {},
     "output_type": "execute_result"
    }
   ],
   "source": [
    "y"
   ]
  },
  {
   "cell_type": "code",
   "execution_count": 38,
   "id": "f773c8b3-cf3a-4753-81bc-f9e0035f816a",
   "metadata": {
    "tags": []
   },
   "outputs": [],
   "source": [
    "# 운영 체제마다 한글이 보이게 하는 설정\n",
    "# 윈도우\n",
    "import platform\n",
    "from matplotlib import font_manager, rc\n",
    "\n",
    "if platform.system() == 'Windows':\n",
    "    path = \"c:\\Windows\\Fonts\\malgun.ttf\"\n",
    "    font_name = font_manager.FontProperties(fname=path).get_name()\n",
    "    rc('font', family=font_name)\n",
    "# 맥\n",
    "elif platform.system() == 'Darwin':\n",
    "    rc('font', family='AppleGothic')\n",
    "# 리눅스\n",
    "elif platform.system() == 'Linux':\n",
    "    rc('font', family='NanumBarunGothic')\n",
    "    \n",
    "plt.rcParams['axes.unicode_minus'] = False"
   ]
  },
  {
   "cell_type": "code",
   "execution_count": 14,
   "id": "925473a8-d337-4d96-818c-7a45da8bceb4",
   "metadata": {},
   "outputs": [],
   "source": [
    "import matplotlib.pyplot as plt\n",
    "import numpy as np"
   ]
  },
  {
   "cell_type": "code",
   "execution_count": 19,
   "id": "cf9753b9-11e2-47ec-952b-5472187620e0",
   "metadata": {
    "tags": []
   },
   "outputs": [],
   "source": [
    "x = 100\n",
    "y = np.random.randn(x)"
   ]
  },
  {
   "cell_type": "code",
   "execution_count": 22,
   "id": "a398469d-8610-42cc-9b21-f592882141de",
   "metadata": {},
   "outputs": [
    {
     "data": {
      "text/plain": [
       "numpy.ndarray"
      ]
     },
     "execution_count": 22,
     "metadata": {},
     "output_type": "execute_result"
    }
   ],
   "source": [
    "type(y)"
   ]
  },
  {
   "cell_type": "code",
   "execution_count": 24,
   "id": "d8a9cc52-a98b-4586-add2-e01389ed3684",
   "metadata": {
    "tags": []
   },
   "outputs": [
    {
     "data": {
      "text/plain": [
       "(100,)"
      ]
     },
     "execution_count": 24,
     "metadata": {},
     "output_type": "execute_result"
    }
   ],
   "source": [
    "y.shape"
   ]
  },
  {
   "cell_type": "code",
   "execution_count": 29,
   "id": "5324900d-44a8-4d13-8c1f-5a8dd818ea76",
   "metadata": {
    "tags": []
   },
   "outputs": [
    {
     "data": {
      "text/plain": [
       "array([ 0.51456924,  0.68396639, -0.04774012, -0.25267028, -1.20820695,\n",
       "       -0.63470498,  0.12596024,  1.20042402,  0.22198112, -0.35494069,\n",
       "       -0.97388937, -1.14833499,  0.30612972, -1.76717567,  1.45743127,\n",
       "       -0.35753525,  1.11361415, -0.35249458, -1.09392099,  0.22543546,\n",
       "       -0.09498599,  1.319319  ,  1.47912474,  0.25620911, -1.10604759,\n",
       "       -0.07126943,  0.01829804, -0.15040217,  0.76247145, -1.57174875,\n",
       "        0.58942274, -0.44002964, -0.11432937,  0.73055287, -1.0972746 ,\n",
       "        0.41540111, -0.20497669, -1.65267027, -1.67452154,  2.11221822,\n",
       "       -0.94403419,  1.71028427,  1.21699377,  0.92641228,  0.73242942,\n",
       "       -0.77550771, -0.27778516,  1.15930284, -0.20221219, -2.06988117,\n",
       "       -0.51304861, -3.07628321, -1.64545662, -0.44228464,  0.40595078,\n",
       "       -1.42293599, -0.29909468, -2.69422878,  0.1286749 , -0.97976716,\n",
       "        2.2851864 ,  0.16166973, -1.29710864, -0.60911855,  0.46314387,\n",
       "        1.92267173,  0.34876429, -2.03629087,  0.86316849, -0.37942992,\n",
       "        1.12345615,  0.28370173,  0.51795066,  0.48982089,  1.34813473,\n",
       "        1.15395241,  0.0407339 , -0.42900045, -0.33928015, -0.4738665 ,\n",
       "       -0.35978344,  0.49021846,  0.12724985,  1.70250829, -0.3908947 ,\n",
       "        0.84294246,  0.04752374, -0.05277364, -0.5113005 , -0.1473741 ,\n",
       "       -2.16755179,  0.37871194,  1.12338911, -0.61250603, -0.35675168,\n",
       "       -1.01190086,  0.30437827,  1.15128154,  1.02465872,  0.56243755])"
      ]
     },
     "execution_count": 29,
     "metadata": {},
     "output_type": "execute_result"
    }
   ],
   "source": [
    "y"
   ]
  },
  {
   "cell_type": "code",
   "execution_count": 39,
   "id": "448a991e-f1c3-46f2-b89c-b23966d1bb9f",
   "metadata": {},
   "outputs": [
    {
     "data": {
      "image/png": "[encoded data removed]",
      "text/plain": [
       "<Figure size 640x480 with 1 Axes>"
      ]
     },
     "metadata": {},
     "output_type": "display_data"
    }
   ],
   "source": [
    "plt.plot(y)\n",
    "plt.xlabel('순번')\n",
    "plt.ylabel('값')\n",
    "plt.legend\n",
    "plt.show()"
   ]
  },
  {
   "cell_type": "code",
   "execution_count": 40,
   "id": "68ed185f-6293-4a4c-9cda-34343ad166e2",
   "metadata": {},
   "outputs": [
    {
     "data": {
      "image/png": "[encoded data removed]",
      "text/plain": [
       "<Figure size 640x480 with 1 Axes>"
      ]
     },
     "metadata": {},
     "output_type": "display_data"
    }
   ],
   "source": [
    "plt.scatter(range(len(y)),y)\n",
    "plt.xlabel('순번')\n",
    "plt.ylabel('값')\n",
    "plt.legend\n",
    "plt.show()"
   ]
  },
  {
   "cell_type": "code",
   "execution_count": 42,
   "id": "db1bae3f-e43b-4bdd-9edf-9b837a3cba25",
   "metadata": {
    "tags": []
   },
   "outputs": [
    {
     "data": {
      "text/plain": [
       "array([0.91023817, 0.15719344])"
      ]
     },
     "execution_count": 42,
     "metadata": {},
     "output_type": "execute_result"
    }
   ],
   "source": [
    "np.random.random(2)"
   ]
  },
  {
   "cell_type": "code",
   "execution_count": 45,
   "id": "d4a4306d-1722-4bfd-bd54-fababdca83d3",
   "metadata": {
    "tags": []
   },
   "outputs": [
    {
     "data": {
      "image/png": "[encoded data removed]",
      "text/plain": [
       "<Figure size 640x480 with 1 Axes>"
      ]
     },
     "metadata": {},
     "output_type": "display_data"
    }
   ],
   "source": [
    "n = 100\n",
    "x = range(n)\n",
    "y = np.random.rand(n)\n",
    "\n",
    "plt.scatter(x,y)\n",
    "plt.xlabel('x')\n",
    "plt.ylabel('y')\n",
    "plt.show()"
   ]
  },
  {
   "cell_type": "code",
   "execution_count": 50,
   "id": "569dd690-4c1b-4d5e-b813-107167d033ad",
   "metadata": {
    "tags": []
   },
   "outputs": [],
   "source": [
    "g = np.random.rand(10000)"
   ]
  },
  {
   "cell_type": "code",
   "execution_count": 51,
   "id": "e3d27b7f-11c4-415e-8915-2fa76c8535e1",
   "metadata": {
    "tags": []
   },
   "outputs": [
    {
     "data": {
      "text/plain": [
       "5058"
      ]
     },
     "execution_count": 51,
     "metadata": {},
     "output_type": "execute_result"
    }
   ],
   "source": [
    "sum(g< 0.5)"
   ]
  },
  {
   "cell_type": "code",
   "execution_count": 52,
   "id": "461fb7d2-aad2-42d3-a472-dd51c0d87944",
   "metadata": {
    "tags": []
   },
   "outputs": [
    {
     "data": {
      "text/plain": [
       "0.5058"
      ]
     },
     "execution_count": 52,
     "metadata": {},
     "output_type": "execute_result"
    }
   ],
   "source": [
    "(g < 0.5).mean()"
   ]
  },
  {
   "cell_type": "markdown",
   "id": "3a428b93-a739-41b1-8ed2-67ec40587c3d",
   "metadata": {},
   "source": [
    "### 원면적 구하기(파이) "
   ]
  },
  {
   "cell_type": "code",
   "execution_count": 53,
   "id": "27d3809f-03d6-4738-974f-4f7bfe00123b",
   "metadata": {
    "tags": []
   },
   "outputs": [],
   "source": [
    "n =10000\n",
    "x = np.random.rand(n)\n",
    "y = np.random.rand(n)"
   ]
  },
  {
   "cell_type": "code",
   "execution_count": 61,
   "id": "b5d1c24c-ee12-4840-8030-b5d8561824fc",
   "metadata": {
    "tags": []
   },
   "outputs": [
    {
     "data": {
      "image/png": "[encoded data removed]",
      "text/plain": [
       "<Figure size 600x600 with 1 Axes>"
      ]
     },
     "metadata": {},
     "output_type": "display_data"
    },
    {
     "data": {
      "text/plain": [
       "3.1472"
      ]
     },
     "execution_count": 61,
     "metadata": {},
     "output_type": "execute_result"
    }
   ],
   "source": [
    "plt.figure(figsize=(6,6))\n",
    "plt.scatter(x,y,s=1)\n",
    "\n",
    "xx = np.linspace(0,1,100)\n",
    "plt.plot(xx, (1- xx*xx)**0.5, c='r')\n",
    "\n",
    "pi = (x **2 + y**2 < 1).mean() * 4\n",
    "plt.show()\n",
    "pi\n"
   ]
  },
  {
   "cell_type": "markdown",
   "id": "61c3f537-129f-4473-b295-935ebe03654c",
   "metadata": {},
   "source": [
    "####  정규분포 "
   ]
  },
  {
   "cell_type": "code",
   "execution_count": 64,
   "id": "0a1d42c2-376e-4e4c-bd1c-f41a1414eb0d",
   "metadata": {
    "tags": []
   },
   "outputs": [
    {
     "data": {
      "text/plain": [
       "array([4, 2, 1, 5, 1, 6, 2, 6, 5, 1])"
      ]
     },
     "execution_count": 64,
     "metadata": {},
     "output_type": "execute_result"
    }
   ],
   "source": [
    "np.random.randint(1,7,10)"
   ]
  },
  {
   "cell_type": "code",
   "execution_count": 74,
   "id": "fb3ce718-91d3-452e-9d77-54ece207123d",
   "metadata": {
    "tags": []
   },
   "outputs": [],
   "source": [
    "n = 10000\n",
    "x = np.random.randint(1,7,n)"
   ]
  },
  {
   "cell_type": "code",
   "execution_count": 76,
   "id": "489161b9-9b63-4e1a-a2fe-8e7d0973269d",
   "metadata": {
    "tags": []
   },
   "outputs": [
    {
     "data": {
      "image/png": "[encoded data removed]",
      "text/plain": [
       "<Figure size 640x480 with 1 Axes>"
      ]
     },
     "metadata": {},
     "output_type": "display_data"
    }
   ],
   "source": [
    "plt.hist(x,bins=6, width=0.6)\n",
    "plt.show()"
   ]
  },
  {
   "cell_type": "code",
   "execution_count": 73,
   "id": "f9710d2b-a2b6-425a-9534-5385a0c38c30",
   "metadata": {
    "tags": []
   },
   "outputs": [
    {
     "data": {
      "image/png": "[encoded data removed]",
      "text/plain": [
       "<Figure size 640x480 with 1 Axes>"
      ]
     },
     "metadata": {},
     "output_type": "display_data"
    }
   ],
   "source": [
    "n = 32\n",
    "z = 0\n",
    "for i in range(n):\n",
    "    x = np.random.randint(1,7,10000)\n",
    "    z = z+x\n",
    "\n",
    "plt.hist(z, bins = n * 5 + 1 , width=0.6)\n",
    "plt.show()"
   ]
  },
  {
   "cell_type": "markdown",
   "id": "a6821dc7-9468-4561-bdaf-8c78f332e87c",
   "metadata": {},
   "source": [
    "### Numpy : n차원 배열(ndarray) \n",
    "#### 벡터 : 1차원 배열\n",
    "#### 매트릭스 : 2,3차원, ... 다차원 배열\n",
    "\n",
    "#### 리스트와 배열의 차이"
   ]
  },
  {
   "cell_type": "code",
   "execution_count": 78,
   "id": "c540c99f-da8b-4a51-ace9-8a29234f6c65",
   "metadata": {
    "tags": []
   },
   "outputs": [
    {
     "data": {
      "text/plain": [
       "[1, 2, 10]"
      ]
     },
     "execution_count": 78,
     "metadata": {},
     "output_type": "execute_result"
    }
   ],
   "source": [
    "# 리스트\n",
    "lst = [1,2,10]\n",
    "lst"
   ]
  },
  {
   "cell_type": "code",
   "execution_count": 84,
   "id": "6927cce2-b0b2-46a2-822c-1f974ce86f06",
   "metadata": {
    "tags": []
   },
   "outputs": [
    {
     "name": "stdout",
     "output_type": "stream",
     "text": [
      "[1, 2, 3]\n"
     ]
    }
   ],
   "source": [
    "my_tuple = (1, 2, 3)\n",
    "my_list = list(my_tuple)\n",
    "print(my_list)  # [1, 2, 3]"
   ]
  },
  {
   "cell_type": "code",
   "execution_count": 86,
   "id": "9b9bbf95-0a9a-4042-89c2-92ee8cdf4972",
   "metadata": {
    "tags": []
   },
   "outputs": [
    {
     "data": {
      "text/plain": [
       "[1, 2, 3]"
      ]
     },
     "execution_count": 86,
     "metadata": {},
     "output_type": "execute_result"
    }
   ],
   "source": [
    "list([1,2,3])"
   ]
  },
  {
   "cell_type": "code",
   "execution_count": 87,
   "id": "5ae064ff-dc61-4033-baed-4d7ab261691c",
   "metadata": {
    "tags": []
   },
   "outputs": [
    {
     "data": {
      "text/plain": [
       "array([ 1,  2, 10])"
      ]
     },
     "execution_count": 87,
     "metadata": {},
     "output_type": "execute_result"
    }
   ],
   "source": [
    "arr = np.array(lst)\n",
    "arr"
   ]
  },
  {
   "cell_type": "code",
   "execution_count": 88,
   "id": "c5686328-0de3-4535-be75-f3ec267cf304",
   "metadata": {
    "tags": []
   },
   "outputs": [
    {
     "data": {
      "text/plain": [
       "numpy.ndarray"
      ]
     },
     "execution_count": 88,
     "metadata": {},
     "output_type": "execute_result"
    }
   ],
   "source": [
    "type(arr)"
   ]
  },
  {
   "cell_type": "code",
   "execution_count": 89,
   "id": "d8206970-a8f5-48d8-b56b-7004316a2c30",
   "metadata": {
    "tags": []
   },
   "outputs": [
    {
     "data": {
      "text/plain": [
       "list"
      ]
     },
     "execution_count": 89,
     "metadata": {},
     "output_type": "execute_result"
    }
   ],
   "source": [
    "type(lst)"
   ]
  },
  {
   "cell_type": "code",
   "execution_count": 90,
   "id": "8fa35118-9bc1-4e48-967e-388f89ee3e89",
   "metadata": {
    "tags": []
   },
   "outputs": [
    {
     "data": {
      "text/plain": [
       "array([ 3,  6, 30])"
      ]
     },
     "execution_count": 90,
     "metadata": {},
     "output_type": "execute_result"
    }
   ],
   "source": [
    "arr * 3"
   ]
  },
  {
   "cell_type": "code",
   "execution_count": 91,
   "id": "e4fa3e13-2427-4ae8-91b2-d20a0cd1c941",
   "metadata": {
    "tags": []
   },
   "outputs": [
    {
     "data": {
      "text/plain": [
       "[1, 2, 10, 1, 2, 10, 1, 2, 10]"
      ]
     },
     "execution_count": 91,
     "metadata": {},
     "output_type": "execute_result"
    }
   ],
   "source": [
    "lst *3"
   ]
  },
  {
   "cell_type": "code",
   "execution_count": 92,
   "id": "c433410c-d83f-40b3-a842-6cff910ee8a1",
   "metadata": {
    "tags": []
   },
   "outputs": [
    {
     "data": {
      "text/plain": [
       "(3,)"
      ]
     },
     "execution_count": 92,
     "metadata": {},
     "output_type": "execute_result"
    }
   ],
   "source": [
    "arr.shape"
   ]
  },
  {
   "cell_type": "code",
   "execution_count": 93,
   "id": "108b8a85-7a02-4b9a-9d90-15b87ae679c7",
   "metadata": {
    "tags": []
   },
   "outputs": [
    {
     "data": {
      "text/plain": [
       "1"
      ]
     },
     "execution_count": 93,
     "metadata": {},
     "output_type": "execute_result"
    }
   ],
   "source": [
    "arr[0]"
   ]
  },
  {
   "cell_type": "code",
   "execution_count": null,
   "id": "74922dcc-f4a9-4675-b43a-af15dbca612b",
   "metadata": {},
   "outputs": [],
   "source": []
  }
 ],
 "metadata": {
  "kernelspec": {
   "display_name": "ml308",
   "language": "python",
   "name": "ml308"
  },
  "language_info": {
   "codemirror_mode": {
    "name": "ipython",
    "version": 3
   },
   "file_extension": ".py",
   "mimetype": "text/x-python",
   "name": "python",
   "nbconvert_exporter": "python",
   "pygments_lexer": "ipython3",
   "version": "3.8.10"
  }
 },
 "nbformat": 4,
 "nbformat_minor": 5
}
