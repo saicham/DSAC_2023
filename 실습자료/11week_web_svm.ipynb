{
 "cells": [
  {
   "cell_type": "markdown",
   "id": "99fc3a69",
   "metadata": {},
   "source": [
    "# Grid Search p89"
   ]
  },
  {
   "cell_type": "code",
   "execution_count": 1,
   "id": "1b8072cc",
   "metadata": {},
   "outputs": [],
   "source": [
    "from sklearn.ensemble import RandomForestRegressor\n",
    "from sklearn.model_selection import cross_val_score"
   ]
  },
  {
   "cell_type": "code",
   "execution_count": 2,
   "id": "d056857d",
   "metadata": {},
   "outputs": [],
   "source": [
    "from sklearn.datasets import load_breast_cancer\n",
    "from sklearn.model_selection import train_test_split"
   ]
  },
  {
   "cell_type": "code",
   "execution_count": 3,
   "id": "d11e29cb",
   "metadata": {},
   "outputs": [],
   "source": [
    "cancer = load_breast_cancer()"
   ]
  },
  {
   "cell_type": "code",
   "execution_count": 4,
   "id": "c853a955",
   "metadata": {},
   "outputs": [],
   "source": [
    "X_train, X_test, y_train, y_test = train_test_split(cancer.data, cancer.target, stratify=cancer.target)"
   ]
  },
  {
   "cell_type": "code",
   "execution_count": 5,
   "id": "84248063",
   "metadata": {},
   "outputs": [],
   "source": [
    "n_estimators = 30"
   ]
  },
  {
   "cell_type": "code",
   "execution_count": 6,
   "id": "64523a07",
   "metadata": {},
   "outputs": [],
   "source": [
    "max_depth_list = [10, 20, 30, 50, 100]\n",
    "max_features_list = [0.1, 0.3, 0.5, 0.7, 0.9]"
   ]
  },
  {
   "cell_type": "code",
   "execution_count": 7,
   "id": "8e3705c9",
   "metadata": {},
   "outputs": [
    {
     "name": "stdout",
     "output_type": "stream",
     "text": [
      "Score = 0.84117\n",
      "Score = 0.84652\n",
      "Score = 0.84980\n",
      "Score = 0.84971\n",
      "Score = 0.83960\n",
      "Score = 0.84052\n",
      "Score = 0.84652\n",
      "Score = 0.84980\n",
      "Score = 0.84971\n",
      "Score = 0.83960\n",
      "Score = 0.84052\n",
      "Score = 0.84652\n",
      "Score = 0.84980\n",
      "Score = 0.84971\n",
      "Score = 0.83960\n",
      "Score = 0.84052\n",
      "Score = 0.84652\n",
      "Score = 0.84980\n",
      "Score = 0.84971\n",
      "Score = 0.83960\n",
      "Score = 0.84052\n",
      "Score = 0.84652\n",
      "Score = 0.84980\n",
      "Score = 0.84971\n",
      "Score = 0.83960\n"
     ]
    }
   ],
   "source": [
    "hyperparameters_list = []\n",
    "\n",
    "for max_depth in max_depth_list :\n",
    "    for max_features in max_features_list :\n",
    "        model = RandomForestRegressor(n_estimators=n_estimators,\n",
    "                                       max_depth=max_depth,\n",
    "                                       max_features=max_features,\n",
    "                                       random_state=11, n_jobs=-1)\n",
    "        score = cross_val_score(model, X_train, y_train, \n",
    "                                cv=10).mean()\n",
    "        hyperparameters_list.append({'score': score,\n",
    "                                    'n_estimators': n_estimators,\n",
    "                                    'max_depth': max_depth,\n",
    "                                    'max_features': max_features })\n",
    "        print(\"Score = {0:.5f}\".format(score))"
   ]
  },
  {
   "cell_type": "code",
   "execution_count": 9,
   "id": "14c42acc",
   "metadata": {},
   "outputs": [],
   "source": [
    "import pandas as pd"
   ]
  },
  {
   "cell_type": "code",
   "execution_count": 10,
   "id": "0e6893f0",
   "metadata": {},
   "outputs": [],
   "source": [
    "hyperparameters_list = pd.DataFrame.from_dict(hyperparameters_list)"
   ]
  },
  {
   "cell_type": "code",
   "execution_count": 11,
   "id": "9b38717d",
   "metadata": {},
   "outputs": [],
   "source": [
    "hyperparameters_list = hyperparameters_list.sort_values(by=\"score\")"
   ]
  },
  {
   "cell_type": "code",
   "execution_count": 13,
   "id": "5005d1c4",
   "metadata": {},
   "outputs": [
    {
     "data": {
      "text/html": [
       "<div>\n",
       "<style scoped>\n",
       "    .dataframe tbody tr th:only-of-type {\n",
       "        vertical-align: middle;\n",
       "    }\n",
       "\n",
       "    .dataframe tbody tr th {\n",
       "        vertical-align: top;\n",
       "    }\n",
       "\n",
       "    .dataframe thead th {\n",
       "        text-align: right;\n",
       "    }\n",
       "</style>\n",
       "<table border=\"1\" class=\"dataframe\">\n",
       "  <thead>\n",
       "    <tr style=\"text-align: right;\">\n",
       "      <th></th>\n",
       "      <th>score</th>\n",
       "      <th>n_estimators</th>\n",
       "      <th>max_depth</th>\n",
       "      <th>max_features</th>\n",
       "    </tr>\n",
       "  </thead>\n",
       "  <tbody>\n",
       "    <tr>\n",
       "      <th>7</th>\n",
       "      <td>0.849798</td>\n",
       "      <td>30</td>\n",
       "      <td>20</td>\n",
       "      <td>0.5</td>\n",
       "    </tr>\n",
       "    <tr>\n",
       "      <th>17</th>\n",
       "      <td>0.849798</td>\n",
       "      <td>30</td>\n",
       "      <td>50</td>\n",
       "      <td>0.5</td>\n",
       "    </tr>\n",
       "    <tr>\n",
       "      <th>2</th>\n",
       "      <td>0.849798</td>\n",
       "      <td>30</td>\n",
       "      <td>10</td>\n",
       "      <td>0.5</td>\n",
       "    </tr>\n",
       "    <tr>\n",
       "      <th>22</th>\n",
       "      <td>0.849798</td>\n",
       "      <td>30</td>\n",
       "      <td>100</td>\n",
       "      <td>0.5</td>\n",
       "    </tr>\n",
       "    <tr>\n",
       "      <th>12</th>\n",
       "      <td>0.849798</td>\n",
       "      <td>30</td>\n",
       "      <td>30</td>\n",
       "      <td>0.5</td>\n",
       "    </tr>\n",
       "  </tbody>\n",
       "</table>\n",
       "</div>"
      ],
      "text/plain": [
       "       score  n_estimators  max_depth  max_features\n",
       "7   0.849798            30         20           0.5\n",
       "17  0.849798            30         50           0.5\n",
       "2   0.849798            30         10           0.5\n",
       "22  0.849798            30        100           0.5\n",
       "12  0.849798            30         30           0.5"
      ]
     },
     "execution_count": 13,
     "metadata": {},
     "output_type": "execute_result"
    }
   ],
   "source": [
    "hyperparameters_list.tail(5)"
   ]
  },
  {
   "cell_type": "markdown",
   "id": "4e086334",
   "metadata": {},
   "source": [
    "# 랜덤 탐색(Random Search) p91"
   ]
  },
  {
   "cell_type": "code",
   "execution_count": 14,
   "id": "1b7eb1c3",
   "metadata": {},
   "outputs": [],
   "source": [
    "import numpy as np"
   ]
  },
  {
   "cell_type": "code",
   "execution_count": 15,
   "id": "130e2f3c",
   "metadata": {},
   "outputs": [],
   "source": [
    "n_estimators = 30\n",
    "num_epoch = 25  "
   ]
  },
  {
   "cell_type": "code",
   "execution_count": 18,
   "id": "ff2d19c7",
   "metadata": {},
   "outputs": [
    {
     "name": "stdout",
     "output_type": "stream",
     "text": [
      "Score = 0.84052\n",
      "Score = 0.83370\n",
      "Score = 0.84625\n",
      "Score = 0.85048\n",
      "Score = 0.83960\n",
      "Score = 0.84652\n",
      "Score = 0.83848\n",
      "Score = 0.84625\n",
      "Score = 0.84915\n",
      "Score = 0.84652\n",
      "Score = 0.84593\n",
      "Score = 0.85543\n",
      "Score = 0.85543\n",
      "Score = 0.85543\n",
      "Score = 0.85187\n",
      "Score = 0.84936\n",
      "Score = 0.84936\n",
      "Score = 0.84851\n",
      "Score = 0.85504\n",
      "Score = 0.85504\n",
      "Score = 0.84211\n",
      "Score = 0.84915\n",
      "Score = 0.85754\n",
      "Score = 0.84052\n",
      "Score = 0.84936\n"
     ]
    }
   ],
   "source": [
    "hyperparameters_list = []\n",
    "\n",
    "for ecpoch in range(num_epoch) :\n",
    "    max_depth = np.random.randint(low=10, high=100)\n",
    "    max_features = np.random.uniform(low=0.1, high=1.0)\n",
    "    \n",
    "    model = RandomForestRegressor(n_estimators=n_estimators,\n",
    "                                       max_depth=max_depth,\n",
    "                                       max_features=max_features,\n",
    "                                       random_state=11, n_jobs=-1)\n",
    "    score = cross_val_score(model, X_train, y_train, \n",
    "                            cv=10).mean()\n",
    "    hyperparameters_list.append({'score': score,\n",
    "                                 'n_estimators': n_estimators,\n",
    "                                 'max_depth': max_depth,\n",
    "                                 'max_features': max_features })\n",
    "    print(\"Score = {0:.5f}\".format(score))\n"
   ]
  },
  {
   "cell_type": "code",
   "execution_count": 19,
   "id": "ec446b98",
   "metadata": {},
   "outputs": [],
   "source": [
    "hyperparameters_list = pd.DataFrame.from_dict(hyperparameters_list)"
   ]
  },
  {
   "cell_type": "code",
   "execution_count": 20,
   "id": "b0daa496",
   "metadata": {},
   "outputs": [
    {
     "data": {
      "text/html": [
       "<div>\n",
       "<style scoped>\n",
       "    .dataframe tbody tr th:only-of-type {\n",
       "        vertical-align: middle;\n",
       "    }\n",
       "\n",
       "    .dataframe tbody tr th {\n",
       "        vertical-align: top;\n",
       "    }\n",
       "\n",
       "    .dataframe thead th {\n",
       "        text-align: right;\n",
       "    }\n",
       "</style>\n",
       "<table border=\"1\" class=\"dataframe\">\n",
       "  <thead>\n",
       "    <tr style=\"text-align: right;\">\n",
       "      <th></th>\n",
       "      <th>score</th>\n",
       "      <th>n_estimators</th>\n",
       "      <th>max_depth</th>\n",
       "      <th>max_features</th>\n",
       "    </tr>\n",
       "  </thead>\n",
       "  <tbody>\n",
       "    <tr>\n",
       "      <th>19</th>\n",
       "      <td>0.855044</td>\n",
       "      <td>30</td>\n",
       "      <td>40</td>\n",
       "      <td>0.564863</td>\n",
       "    </tr>\n",
       "    <tr>\n",
       "      <th>13</th>\n",
       "      <td>0.855425</td>\n",
       "      <td>30</td>\n",
       "      <td>98</td>\n",
       "      <td>0.365863</td>\n",
       "    </tr>\n",
       "    <tr>\n",
       "      <th>11</th>\n",
       "      <td>0.855425</td>\n",
       "      <td>30</td>\n",
       "      <td>54</td>\n",
       "      <td>0.350692</td>\n",
       "    </tr>\n",
       "    <tr>\n",
       "      <th>12</th>\n",
       "      <td>0.855425</td>\n",
       "      <td>30</td>\n",
       "      <td>69</td>\n",
       "      <td>0.344987</td>\n",
       "    </tr>\n",
       "    <tr>\n",
       "      <th>22</th>\n",
       "      <td>0.857539</td>\n",
       "      <td>30</td>\n",
       "      <td>96</td>\n",
       "      <td>0.379381</td>\n",
       "    </tr>\n",
       "  </tbody>\n",
       "</table>\n",
       "</div>"
      ],
      "text/plain": [
       "       score  n_estimators  max_depth  max_features\n",
       "19  0.855044            30         40      0.564863\n",
       "13  0.855425            30         98      0.365863\n",
       "11  0.855425            30         54      0.350692\n",
       "12  0.855425            30         69      0.344987\n",
       "22  0.857539            30         96      0.379381"
      ]
     },
     "execution_count": 20,
     "metadata": {},
     "output_type": "execute_result"
    }
   ],
   "source": [
    "hyperparameters_list = hyperparameters_list.sort_values(by=\"score\")\n",
    "hyperparameters_list.tail(5)"
   ]
  },
  {
   "cell_type": "code",
   "execution_count": null,
   "id": "d6bbe970",
   "metadata": {},
   "outputs": [],
   "source": [
    "# max_depth : 50~95\n",
    "# max_features : 0.5~0.7"
   ]
  },
  {
   "cell_type": "code",
   "execution_count": 21,
   "id": "d9517e85",
   "metadata": {},
   "outputs": [
    {
     "name": "stdout",
     "output_type": "stream",
     "text": [
      "Score = 0.85024\n",
      "Score = 0.84652\n",
      "Score = 0.84980\n",
      "Score = 0.84490\n",
      "Score = 0.84052\n",
      "Score = 0.85543\n",
      "Score = 0.84174\n",
      "Score = 0.84936\n",
      "Score = 0.84052\n",
      "Score = 0.83848\n",
      "Score = 0.85187\n",
      "Score = 0.84820\n",
      "Score = 0.83839\n",
      "Score = 0.83370\n",
      "Score = 0.84174\n",
      "Score = 0.84980\n",
      "Score = 0.85543\n",
      "Score = 0.84915\n",
      "Score = 0.85543\n",
      "Score = 0.83370\n",
      "Score = 0.84490\n",
      "Score = 0.84174\n",
      "Score = 0.85504\n",
      "Score = 0.84376\n",
      "Score = 0.85187\n"
     ]
    }
   ],
   "source": [
    "hyperparameters_list = []\n",
    "\n",
    "for ecpoch in range(num_epoch) :\n",
    "    max_depth = np.random.randint(low=50, high=95)\n",
    "    max_features = np.random.uniform(low=0.1, high=1.0)\n",
    "    \n",
    "    model = RandomForestRegressor(n_estimators=n_estimators,\n",
    "                                       max_depth=max_depth,\n",
    "                                       max_features=max_features,\n",
    "                                       random_state=11, n_jobs=-1)\n",
    "    score = cross_val_score(model, X_train, y_train, \n",
    "                            cv=10).mean()\n",
    "    hyperparameters_list.append({'score': score,\n",
    "                                 'n_estimators': n_estimators,\n",
    "                                 'max_depth': max_depth,\n",
    "                                 'max_features': max_features })\n",
    "    print(\"Score = {0:.5f}\".format(score))\n"
   ]
  },
  {
   "cell_type": "code",
   "execution_count": 22,
   "id": "95aa00fd",
   "metadata": {},
   "outputs": [
    {
     "data": {
      "text/html": [
       "<div>\n",
       "<style scoped>\n",
       "    .dataframe tbody tr th:only-of-type {\n",
       "        vertical-align: middle;\n",
       "    }\n",
       "\n",
       "    .dataframe tbody tr th {\n",
       "        vertical-align: top;\n",
       "    }\n",
       "\n",
       "    .dataframe thead th {\n",
       "        text-align: right;\n",
       "    }\n",
       "</style>\n",
       "<table border=\"1\" class=\"dataframe\">\n",
       "  <thead>\n",
       "    <tr style=\"text-align: right;\">\n",
       "      <th></th>\n",
       "      <th>score</th>\n",
       "      <th>n_estimators</th>\n",
       "      <th>max_depth</th>\n",
       "      <th>max_features</th>\n",
       "    </tr>\n",
       "  </thead>\n",
       "  <tbody>\n",
       "    <tr>\n",
       "      <th>13</th>\n",
       "      <td>0.833702</td>\n",
       "      <td>30</td>\n",
       "      <td>84</td>\n",
       "      <td>0.991480</td>\n",
       "    </tr>\n",
       "    <tr>\n",
       "      <th>19</th>\n",
       "      <td>0.833702</td>\n",
       "      <td>30</td>\n",
       "      <td>69</td>\n",
       "      <td>0.985789</td>\n",
       "    </tr>\n",
       "    <tr>\n",
       "      <th>12</th>\n",
       "      <td>0.838391</td>\n",
       "      <td>30</td>\n",
       "      <td>83</td>\n",
       "      <td>0.285245</td>\n",
       "    </tr>\n",
       "    <tr>\n",
       "      <th>9</th>\n",
       "      <td>0.838481</td>\n",
       "      <td>30</td>\n",
       "      <td>80</td>\n",
       "      <td>0.955432</td>\n",
       "    </tr>\n",
       "    <tr>\n",
       "      <th>8</th>\n",
       "      <td>0.840518</td>\n",
       "      <td>30</td>\n",
       "      <td>67</td>\n",
       "      <td>0.114633</td>\n",
       "    </tr>\n",
       "    <tr>\n",
       "      <th>4</th>\n",
       "      <td>0.840518</td>\n",
       "      <td>30</td>\n",
       "      <td>52</td>\n",
       "      <td>0.111855</td>\n",
       "    </tr>\n",
       "    <tr>\n",
       "      <th>21</th>\n",
       "      <td>0.841743</td>\n",
       "      <td>30</td>\n",
       "      <td>68</td>\n",
       "      <td>0.879060</td>\n",
       "    </tr>\n",
       "    <tr>\n",
       "      <th>6</th>\n",
       "      <td>0.841743</td>\n",
       "      <td>30</td>\n",
       "      <td>57</td>\n",
       "      <td>0.897358</td>\n",
       "    </tr>\n",
       "    <tr>\n",
       "      <th>14</th>\n",
       "      <td>0.841743</td>\n",
       "      <td>30</td>\n",
       "      <td>74</td>\n",
       "      <td>0.895135</td>\n",
       "    </tr>\n",
       "    <tr>\n",
       "      <th>23</th>\n",
       "      <td>0.843761</td>\n",
       "      <td>30</td>\n",
       "      <td>82</td>\n",
       "      <td>0.232463</td>\n",
       "    </tr>\n",
       "    <tr>\n",
       "      <th>3</th>\n",
       "      <td>0.844905</td>\n",
       "      <td>30</td>\n",
       "      <td>66</td>\n",
       "      <td>0.170299</td>\n",
       "    </tr>\n",
       "    <tr>\n",
       "      <th>20</th>\n",
       "      <td>0.844905</td>\n",
       "      <td>30</td>\n",
       "      <td>50</td>\n",
       "      <td>0.166898</td>\n",
       "    </tr>\n",
       "    <tr>\n",
       "      <th>1</th>\n",
       "      <td>0.846516</td>\n",
       "      <td>30</td>\n",
       "      <td>67</td>\n",
       "      <td>0.331506</td>\n",
       "    </tr>\n",
       "    <tr>\n",
       "      <th>11</th>\n",
       "      <td>0.848201</td>\n",
       "      <td>30</td>\n",
       "      <td>66</td>\n",
       "      <td>0.153099</td>\n",
       "    </tr>\n",
       "    <tr>\n",
       "      <th>17</th>\n",
       "      <td>0.849154</td>\n",
       "      <td>30</td>\n",
       "      <td>75</td>\n",
       "      <td>0.741486</td>\n",
       "    </tr>\n",
       "    <tr>\n",
       "      <th>7</th>\n",
       "      <td>0.849359</td>\n",
       "      <td>30</td>\n",
       "      <td>94</td>\n",
       "      <td>0.475409</td>\n",
       "    </tr>\n",
       "    <tr>\n",
       "      <th>2</th>\n",
       "      <td>0.849798</td>\n",
       "      <td>30</td>\n",
       "      <td>65</td>\n",
       "      <td>0.513439</td>\n",
       "    </tr>\n",
       "    <tr>\n",
       "      <th>15</th>\n",
       "      <td>0.849798</td>\n",
       "      <td>30</td>\n",
       "      <td>52</td>\n",
       "      <td>0.523816</td>\n",
       "    </tr>\n",
       "    <tr>\n",
       "      <th>0</th>\n",
       "      <td>0.850235</td>\n",
       "      <td>30</td>\n",
       "      <td>90</td>\n",
       "      <td>0.605452</td>\n",
       "    </tr>\n",
       "    <tr>\n",
       "      <th>10</th>\n",
       "      <td>0.851872</td>\n",
       "      <td>30</td>\n",
       "      <td>91</td>\n",
       "      <td>0.404441</td>\n",
       "    </tr>\n",
       "    <tr>\n",
       "      <th>24</th>\n",
       "      <td>0.851872</td>\n",
       "      <td>30</td>\n",
       "      <td>52</td>\n",
       "      <td>0.423231</td>\n",
       "    </tr>\n",
       "    <tr>\n",
       "      <th>22</th>\n",
       "      <td>0.855044</td>\n",
       "      <td>30</td>\n",
       "      <td>61</td>\n",
       "      <td>0.556730</td>\n",
       "    </tr>\n",
       "    <tr>\n",
       "      <th>16</th>\n",
       "      <td>0.855425</td>\n",
       "      <td>30</td>\n",
       "      <td>88</td>\n",
       "      <td>0.351885</td>\n",
       "    </tr>\n",
       "    <tr>\n",
       "      <th>5</th>\n",
       "      <td>0.855425</td>\n",
       "      <td>30</td>\n",
       "      <td>87</td>\n",
       "      <td>0.338158</td>\n",
       "    </tr>\n",
       "    <tr>\n",
       "      <th>18</th>\n",
       "      <td>0.855425</td>\n",
       "      <td>30</td>\n",
       "      <td>63</td>\n",
       "      <td>0.358777</td>\n",
       "    </tr>\n",
       "  </tbody>\n",
       "</table>\n",
       "</div>"
      ],
      "text/plain": [
       "       score  n_estimators  max_depth  max_features\n",
       "13  0.833702            30         84      0.991480\n",
       "19  0.833702            30         69      0.985789\n",
       "12  0.838391            30         83      0.285245\n",
       "9   0.838481            30         80      0.955432\n",
       "8   0.840518            30         67      0.114633\n",
       "4   0.840518            30         52      0.111855\n",
       "21  0.841743            30         68      0.879060\n",
       "6   0.841743            30         57      0.897358\n",
       "14  0.841743            30         74      0.895135\n",
       "23  0.843761            30         82      0.232463\n",
       "3   0.844905            30         66      0.170299\n",
       "20  0.844905            30         50      0.166898\n",
       "1   0.846516            30         67      0.331506\n",
       "11  0.848201            30         66      0.153099\n",
       "17  0.849154            30         75      0.741486\n",
       "7   0.849359            30         94      0.475409\n",
       "2   0.849798            30         65      0.513439\n",
       "15  0.849798            30         52      0.523816\n",
       "0   0.850235            30         90      0.605452\n",
       "10  0.851872            30         91      0.404441\n",
       "24  0.851872            30         52      0.423231\n",
       "22  0.855044            30         61      0.556730\n",
       "16  0.855425            30         88      0.351885\n",
       "5   0.855425            30         87      0.338158\n",
       "18  0.855425            30         63      0.358777"
      ]
     },
     "execution_count": 22,
     "metadata": {},
     "output_type": "execute_result"
    }
   ],
   "source": [
    "hyperparameters_list = pd.DataFrame.from_dict(hyperparameters_list)\n",
    "hyperparameters_list = hyperparameters_list.sort_values(by=\"score\")\n",
    "hyperparameters_list "
   ]
  },
  {
   "cell_type": "markdown",
   "id": "a137c61e",
   "metadata": {},
   "source": [
    "# SVM(Support Vector Machine) p102"
   ]
  },
  {
   "cell_type": "code",
   "execution_count": 23,
   "id": "c42cae3d",
   "metadata": {},
   "outputs": [],
   "source": [
    "import numpy as np\n",
    "import pandas as pd\n",
    "import matplotlib.pyplot as plt"
   ]
  },
  {
   "cell_type": "code",
   "execution_count": 24,
   "id": "2e12f57f",
   "metadata": {},
   "outputs": [],
   "source": [
    "from sklearn.datasets import load_iris"
   ]
  },
  {
   "cell_type": "markdown",
   "id": "8611bedf",
   "metadata": {},
   "source": [
    "###### 훈련(학습) 데이터 생성"
   ]
  },
  {
   "cell_type": "code",
   "execution_count": 25,
   "id": "f6b0e558",
   "metadata": {},
   "outputs": [],
   "source": [
    "iris = load_iris()\n",
    "X = iris.data\n",
    "y = iris.target"
   ]
  },
  {
   "cell_type": "code",
   "execution_count": 26,
   "id": "0b0ea468",
   "metadata": {},
   "outputs": [],
   "source": [
    "X2 = X[:, :2]"
   ]
  },
  {
   "cell_type": "code",
   "execution_count": 28,
   "id": "ffdcfe6e",
   "metadata": {},
   "outputs": [
    {
     "data": {
      "text/plain": [
       "Text(0, 0.5, 'Sepal width')"
      ]
     },
     "execution_count": 28,
     "metadata": {},
     "output_type": "execute_result"
    },
    {
     "data": {
      "image/png": "[encoded data removed]",
      "text/plain": [
       "<Figure size 432x288 with 1 Axes>"
      ]
     },
     "metadata": {
      "needs_background": "light"
     },
     "output_type": "display_data"
    }
   ],
   "source": [
    "markers = ['o','+','^']\n",
    "\n",
    "for i in range(3) :\n",
    "    xs = X2[:, 0][y == i]\n",
    "    ys = X2[:, 1][y == i]\n",
    "    plt.scatter(xs, ys, marker=markers[i])\n",
    "\n",
    "plt.legend(iris.target_names)\n",
    "plt.xlabel(\"Sepal length\")\n",
    "plt.ylabel(\"Sepal width\")"
   ]
  },
  {
   "cell_type": "code",
   "execution_count": 29,
   "id": "f28a48af",
   "metadata": {},
   "outputs": [
    {
     "data": {
      "text/plain": [
       "array([0, 0, 0, 0, 0, 0, 0, 0, 0, 0, 0, 0, 0, 0, 0, 0, 0, 0, 0, 0, 0, 0,\n",
       "       0, 0, 0, 0, 0, 0, 0, 0, 0, 0, 0, 0, 0, 0, 0, 0, 0, 0, 0, 0, 0, 0,\n",
       "       0, 0, 0, 0, 0, 0, 1, 1, 1, 1, 1, 1, 1, 1, 1, 1, 1, 1, 1, 1, 1, 1,\n",
       "       1, 1, 1, 1, 1, 1, 1, 1, 1, 1, 1, 1, 1, 1, 1, 1, 1, 1, 1, 1, 1, 1,\n",
       "       1, 1, 1, 1, 1, 1, 1, 1, 1, 1, 1, 1, 1, 1, 1, 1, 1, 1, 1, 1, 1, 1,\n",
       "       1, 1, 1, 1, 1, 1, 1, 1, 1, 1, 1, 1, 1, 1, 1, 1, 1, 1, 1, 1, 1, 1,\n",
       "       1, 1, 1, 1, 1, 1, 1, 1, 1, 1, 1, 1, 1, 1, 1, 1, 1, 1])"
      ]
     },
     "execution_count": 29,
     "metadata": {},
     "output_type": "execute_result"
    }
   ],
   "source": [
    "y2 = y.copy()\n",
    "y2[y2==2] = 1\n",
    "y2"
   ]
  },
  {
   "cell_type": "code",
   "execution_count": 30,
   "id": "388a22e4",
   "metadata": {},
   "outputs": [],
   "source": [
    "from sklearn.model_selection import train_test_split"
   ]
  },
  {
   "cell_type": "code",
   "execution_count": 31,
   "id": "589dc3cd",
   "metadata": {},
   "outputs": [],
   "source": [
    "X_train, X_test, y_train, y_test = train_test_split(X2, y2, stratify=y2, test_size=0.7)"
   ]
  },
  {
   "cell_type": "code",
   "execution_count": 32,
   "id": "b7823649",
   "metadata": {},
   "outputs": [
    {
     "data": {
      "text/plain": [
       "Text(0, 0.5, 'Sepal width')"
      ]
     },
     "execution_count": 32,
     "metadata": {},
     "output_type": "execute_result"
    },
    {
     "data": {
      "image/png": "[encoded data removed]",
      "text/plain": [
       "<Figure size 432x288 with 1 Axes>"
      ]
     },
     "metadata": {
      "needs_background": "light"
     },
     "output_type": "display_data"
    }
   ],
   "source": [
    "markers = ['o','+']\n",
    "\n",
    "for i in range(2) :\n",
    "    xs = X2[:, 0][y == i]\n",
    "    ys = X2[:, 1][y == i]\n",
    "    plt.scatter(xs, ys, marker=markers[i])\n",
    "\n",
    "plt.legend(iris.target_names)\n",
    "plt.xlabel(\"Sepal length\")\n",
    "plt.ylabel(\"Sepal width\")"
   ]
  },
  {
   "cell_type": "markdown",
   "id": "027b6112",
   "metadata": {},
   "source": [
    "##### 머신러닝 모델 생성  : 1. 일반 선형 모델"
   ]
  },
  {
   "cell_type": "code",
   "execution_count": 33,
   "id": "422d8976",
   "metadata": {},
   "outputs": [],
   "source": [
    "from sklearn.linear_model import SGDClassifier"
   ]
  },
  {
   "cell_type": "code",
   "execution_count": 35,
   "id": "c60859f1",
   "metadata": {},
   "outputs": [
    {
     "data": {
      "text/html": [
       "<style>#sk-container-id-1 {color: black;background-color: white;}#sk-container-id-1 pre{padding: 0;}#sk-container-id-1 div.sk-toggleable {background-color: white;}#sk-container-id-1 label.sk-toggleable__label {cursor: pointer;display: block;width: 100%;margin-bottom: 0;padding: 0.3em;box-sizing: border-box;text-align: center;}#sk-container-id-1 label.sk-toggleable__label-arrow:before {content: \"▸\";float: left;margin-right: 0.25em;color: #696969;}#sk-container-id-1 label.sk-toggleable__label-arrow:hover:before {color: black;}#sk-container-id-1 div.sk-estimator:hover label.sk-toggleable__label-arrow:before {color: black;}#sk-container-id-1 div.sk-toggleable__content {max-height: 0;max-width: 0;overflow: hidden;text-align: left;background-color: #f0f8ff;}#sk-container-id-1 div.sk-toggleable__content pre {margin: 0.2em;color: black;border-radius: 0.25em;background-color: #f0f8ff;}#sk-container-id-1 input.sk-toggleable__control:checked~div.sk-toggleable__content {max-height: 200px;max-width: 100%;overflow: auto;}#sk-container-id-1 input.sk-toggleable__control:checked~label.sk-toggleable__label-arrow:before {content: \"▾\";}#sk-container-id-1 div.sk-estimator input.sk-toggleable__control:checked~label.sk-toggleable__label {background-color: #d4ebff;}#sk-container-id-1 div.sk-label input.sk-toggleable__control:checked~label.sk-toggleable__label {background-color: #d4ebff;}#sk-container-id-1 input.sk-hidden--visually {border: 0;clip: rect(1px 1px 1px 1px);clip: rect(1px, 1px, 1px, 1px);height: 1px;margin: -1px;overflow: hidden;padding: 0;position: absolute;width: 1px;}#sk-container-id-1 div.sk-estimator {font-family: monospace;background-color: #f0f8ff;border: 1px dotted black;border-radius: 0.25em;box-sizing: border-box;margin-bottom: 0.5em;}#sk-container-id-1 div.sk-estimator:hover {background-color: #d4ebff;}#sk-container-id-1 div.sk-parallel-item::after {content: \"\";width: 100%;border-bottom: 1px solid gray;flex-grow: 1;}#sk-container-id-1 div.sk-label:hover label.sk-toggleable__label {background-color: #d4ebff;}#sk-container-id-1 div.sk-serial::before {content: \"\";position: absolute;border-left: 1px solid gray;box-sizing: border-box;top: 0;bottom: 0;left: 50%;z-index: 0;}#sk-container-id-1 div.sk-serial {display: flex;flex-direction: column;align-items: center;background-color: white;padding-right: 0.2em;padding-left: 0.2em;position: relative;}#sk-container-id-1 div.sk-item {position: relative;z-index: 1;}#sk-container-id-1 div.sk-parallel {display: flex;align-items: stretch;justify-content: center;background-color: white;position: relative;}#sk-container-id-1 div.sk-item::before, #sk-container-id-1 div.sk-parallel-item::before {content: \"\";position: absolute;border-left: 1px solid gray;box-sizing: border-box;top: 0;bottom: 0;left: 50%;z-index: -1;}#sk-container-id-1 div.sk-parallel-item {display: flex;flex-direction: column;z-index: 1;position: relative;background-color: white;}#sk-container-id-1 div.sk-parallel-item:first-child::after {align-self: flex-end;width: 50%;}#sk-container-id-1 div.sk-parallel-item:last-child::after {align-self: flex-start;width: 50%;}#sk-container-id-1 div.sk-parallel-item:only-child::after {width: 0;}#sk-container-id-1 div.sk-dashed-wrapped {border: 1px dashed gray;margin: 0 0.4em 0.5em 0.4em;box-sizing: border-box;padding-bottom: 0.4em;background-color: white;}#sk-container-id-1 div.sk-label label {font-family: monospace;font-weight: bold;display: inline-block;line-height: 1.2em;}#sk-container-id-1 div.sk-label-container {text-align: center;}#sk-container-id-1 div.sk-container {/* jupyter's `normalize.less` sets `[hidden] { display: none; }` but bootstrap.min.css set `[hidden] { display: none !important; }` so we also need the `!important` here to be able to override the default hidden behavior on the sphinx rendered scikit-learn.org. See: https://github.com/scikit-learn/scikit-learn/issues/21755 */display: inline-block !important;position: relative;}#sk-container-id-1 div.sk-text-repr-fallback {display: none;}</style><div id=\"sk-container-id-1\" class=\"sk-top-container\"><div class=\"sk-text-repr-fallback\"><pre>SGDClassifier()</pre><b>In a Jupyter environment, please rerun this cell to show the HTML representation or trust the notebook. <br />On GitHub, the HTML representation is unable to render, please try loading this page with nbviewer.org.</b></div><div class=\"sk-container\" hidden><div class=\"sk-item\"><div class=\"sk-estimator sk-toggleable\"><input class=\"sk-toggleable__control sk-hidden--visually\" id=\"sk-estimator-id-1\" type=\"checkbox\" checked><label for=\"sk-estimator-id-1\" class=\"sk-toggleable__label sk-toggleable__label-arrow\">SGDClassifier</label><div class=\"sk-toggleable__content\"><pre>SGDClassifier()</pre></div></div></div></div></div>"
      ],
      "text/plain": [
       "SGDClassifier()"
      ]
     },
     "execution_count": 35,
     "metadata": {},
     "output_type": "execute_result"
    }
   ],
   "source": [
    "clf = SGDClassifier(max_iter=1000)\n",
    "clf.fit(X_train, y_train)"
   ]
  },
  {
   "cell_type": "code",
   "execution_count": 37,
   "id": "8ee9bd31",
   "metadata": {},
   "outputs": [
    {
     "data": {
      "text/plain": [
       "'\\nax + by + c = 0\\ny = -a/b*x + (-c/b)\\n'"
      ]
     },
     "execution_count": 37,
     "metadata": {},
     "output_type": "execute_result"
    }
   ],
   "source": [
    "'''\n",
    "ax + by + c = 0\n",
    "y = -a/b*x + (-c/b)\n",
    "'''"
   ]
  },
  {
   "cell_type": "code",
   "execution_count": 36,
   "id": "6eb115ba",
   "metadata": {},
   "outputs": [],
   "source": [
    "a = clf.coef_[0,0]\n",
    "b = clf.coef_[0,1]\n",
    "c = clf.intercept_"
   ]
  },
  {
   "cell_type": "markdown",
   "id": "380fc10b",
   "metadata": {},
   "source": [
    "##### 머신러닝 모델 생성 : 2. SVM"
   ]
  },
  {
   "cell_type": "code",
   "execution_count": 38,
   "id": "c24df43e",
   "metadata": {},
   "outputs": [],
   "source": [
    "from sklearn.svm import SVC"
   ]
  },
  {
   "cell_type": "code",
   "execution_count": 39,
   "id": "9b9ffcfe",
   "metadata": {},
   "outputs": [],
   "source": [
    "svm_clf = SVC(kernel='linear', C=float('inf'))"
   ]
  },
  {
   "cell_type": "code",
   "execution_count": 40,
   "id": "85e25728",
   "metadata": {},
   "outputs": [
    {
     "data": {
      "text/html": [
       "<style>#sk-container-id-2 {color: black;background-color: white;}#sk-container-id-2 pre{padding: 0;}#sk-container-id-2 div.sk-toggleable {background-color: white;}#sk-container-id-2 label.sk-toggleable__label {cursor: pointer;display: block;width: 100%;margin-bottom: 0;padding: 0.3em;box-sizing: border-box;text-align: center;}#sk-container-id-2 label.sk-toggleable__label-arrow:before {content: \"▸\";float: left;margin-right: 0.25em;color: #696969;}#sk-container-id-2 label.sk-toggleable__label-arrow:hover:before {color: black;}#sk-container-id-2 div.sk-estimator:hover label.sk-toggleable__label-arrow:before {color: black;}#sk-container-id-2 div.sk-toggleable__content {max-height: 0;max-width: 0;overflow: hidden;text-align: left;background-color: #f0f8ff;}#sk-container-id-2 div.sk-toggleable__content pre {margin: 0.2em;color: black;border-radius: 0.25em;background-color: #f0f8ff;}#sk-container-id-2 input.sk-toggleable__control:checked~div.sk-toggleable__content {max-height: 200px;max-width: 100%;overflow: auto;}#sk-container-id-2 input.sk-toggleable__control:checked~label.sk-toggleable__label-arrow:before {content: \"▾\";}#sk-container-id-2 div.sk-estimator input.sk-toggleable__control:checked~label.sk-toggleable__label {background-color: #d4ebff;}#sk-container-id-2 div.sk-label input.sk-toggleable__control:checked~label.sk-toggleable__label {background-color: #d4ebff;}#sk-container-id-2 input.sk-hidden--visually {border: 0;clip: rect(1px 1px 1px 1px);clip: rect(1px, 1px, 1px, 1px);height: 1px;margin: -1px;overflow: hidden;padding: 0;position: absolute;width: 1px;}#sk-container-id-2 div.sk-estimator {font-family: monospace;background-color: #f0f8ff;border: 1px dotted black;border-radius: 0.25em;box-sizing: border-box;margin-bottom: 0.5em;}#sk-container-id-2 div.sk-estimator:hover {background-color: #d4ebff;}#sk-container-id-2 div.sk-parallel-item::after {content: \"\";width: 100%;border-bottom: 1px solid gray;flex-grow: 1;}#sk-container-id-2 div.sk-label:hover label.sk-toggleable__label {background-color: #d4ebff;}#sk-container-id-2 div.sk-serial::before {content: \"\";position: absolute;border-left: 1px solid gray;box-sizing: border-box;top: 0;bottom: 0;left: 50%;z-index: 0;}#sk-container-id-2 div.sk-serial {display: flex;flex-direction: column;align-items: center;background-color: white;padding-right: 0.2em;padding-left: 0.2em;position: relative;}#sk-container-id-2 div.sk-item {position: relative;z-index: 1;}#sk-container-id-2 div.sk-parallel {display: flex;align-items: stretch;justify-content: center;background-color: white;position: relative;}#sk-container-id-2 div.sk-item::before, #sk-container-id-2 div.sk-parallel-item::before {content: \"\";position: absolute;border-left: 1px solid gray;box-sizing: border-box;top: 0;bottom: 0;left: 50%;z-index: -1;}#sk-container-id-2 div.sk-parallel-item {display: flex;flex-direction: column;z-index: 1;position: relative;background-color: white;}#sk-container-id-2 div.sk-parallel-item:first-child::after {align-self: flex-end;width: 50%;}#sk-container-id-2 div.sk-parallel-item:last-child::after {align-self: flex-start;width: 50%;}#sk-container-id-2 div.sk-parallel-item:only-child::after {width: 0;}#sk-container-id-2 div.sk-dashed-wrapped {border: 1px dashed gray;margin: 0 0.4em 0.5em 0.4em;box-sizing: border-box;padding-bottom: 0.4em;background-color: white;}#sk-container-id-2 div.sk-label label {font-family: monospace;font-weight: bold;display: inline-block;line-height: 1.2em;}#sk-container-id-2 div.sk-label-container {text-align: center;}#sk-container-id-2 div.sk-container {/* jupyter's `normalize.less` sets `[hidden] { display: none; }` but bootstrap.min.css set `[hidden] { display: none !important; }` so we also need the `!important` here to be able to override the default hidden behavior on the sphinx rendered scikit-learn.org. See: https://github.com/scikit-learn/scikit-learn/issues/21755 */display: inline-block !important;position: relative;}#sk-container-id-2 div.sk-text-repr-fallback {display: none;}</style><div id=\"sk-container-id-2\" class=\"sk-top-container\"><div class=\"sk-text-repr-fallback\"><pre>SVC(C=inf, kernel=&#x27;linear&#x27;)</pre><b>In a Jupyter environment, please rerun this cell to show the HTML representation or trust the notebook. <br />On GitHub, the HTML representation is unable to render, please try loading this page with nbviewer.org.</b></div><div class=\"sk-container\" hidden><div class=\"sk-item\"><div class=\"sk-estimator sk-toggleable\"><input class=\"sk-toggleable__control sk-hidden--visually\" id=\"sk-estimator-id-2\" type=\"checkbox\" checked><label for=\"sk-estimator-id-2\" class=\"sk-toggleable__label sk-toggleable__label-arrow\">SVC</label><div class=\"sk-toggleable__content\"><pre>SVC(C=inf, kernel=&#x27;linear&#x27;)</pre></div></div></div></div></div>"
      ],
      "text/plain": [
       "SVC(C=inf, kernel='linear')"
      ]
     },
     "execution_count": 40,
     "metadata": {},
     "output_type": "execute_result"
    }
   ],
   "source": [
    "svm_clf.fit(X_train, y_train)"
   ]
  },
  {
   "cell_type": "markdown",
   "id": "e525c21e",
   "metadata": {},
   "source": [
    "###### 그래프 그려보기"
   ]
  },
  {
   "cell_type": "code",
   "execution_count": 47,
   "id": "6d9e8c16",
   "metadata": {},
   "outputs": [
    {
     "name": "stderr",
     "output_type": "stream",
     "text": [
      "C:\\Users\\zizipong\\AppData\\Local\\Temp/ipykernel_8032/3845057663.py:27: UserWarning: Legend does not support 's' instances.\n",
      "A proxy artist may be used instead.\n",
      "See: https://matplotlib.org/users/legend_guide.html#creating-artists-specifically-for-adding-to-the-legend-aka-proxy-artists\n",
      "  plt.legend(\"setosa\", \"non-setosa\")\n",
      "C:\\Users\\zizipong\\AppData\\Local\\Temp/ipykernel_8032/3845057663.py:27: UserWarning: Legend does not support 'e' instances.\n",
      "A proxy artist may be used instead.\n",
      "See: https://matplotlib.org/users/legend_guide.html#creating-artists-specifically-for-adding-to-the-legend-aka-proxy-artists\n",
      "  plt.legend(\"setosa\", \"non-setosa\")\n",
      "C:\\Users\\zizipong\\AppData\\Local\\Temp/ipykernel_8032/3845057663.py:27: UserWarning: Legend does not support 't' instances.\n",
      "A proxy artist may be used instead.\n",
      "See: https://matplotlib.org/users/legend_guide.html#creating-artists-specifically-for-adding-to-the-legend-aka-proxy-artists\n",
      "  plt.legend(\"setosa\", \"non-setosa\")\n",
      "C:\\Users\\zizipong\\AppData\\Local\\Temp/ipykernel_8032/3845057663.py:27: UserWarning: Legend does not support 'o' instances.\n",
      "A proxy artist may be used instead.\n",
      "See: https://matplotlib.org/users/legend_guide.html#creating-artists-specifically-for-adding-to-the-legend-aka-proxy-artists\n",
      "  plt.legend(\"setosa\", \"non-setosa\")\n",
      "C:\\Users\\zizipong\\AppData\\Local\\Temp/ipykernel_8032/3845057663.py:27: UserWarning: Legend does not support 'a' instances.\n",
      "A proxy artist may be used instead.\n",
      "See: https://matplotlib.org/users/legend_guide.html#creating-artists-specifically-for-adding-to-the-legend-aka-proxy-artists\n",
      "  plt.legend(\"setosa\", \"non-setosa\")\n"
     ]
    },
    {
     "data": {
      "text/plain": [
       "[<matplotlib.lines.Line2D at 0x2016526daf0>]"
      ]
     },
     "execution_count": 47,
     "metadata": {},
     "output_type": "execute_result"
    },
    {
     "data": {
      "image/png": "[encoded data removed]",
      "text/plain": [
       "<Figure size 432x432 with 1 Axes>"
      ]
     },
     "metadata": {
      "needs_background": "light"
     },
     "output_type": "display_data"
    }
   ],
   "source": [
    "plt.figure(figsize=(6,6))\n",
    "plt.xlim(3.9, 8.1)\n",
    "plt.ylim(1.9, 4.5)\n",
    "\n",
    "XX = np.linspace(4, 8, 30)\n",
    "w = svm_clf.coef_[0]\n",
    "v = svm_clf.intercept_[0]\n",
    "\n",
    "decision_boundary = -w[0]/w[1] * XX - v/w[1]\n",
    "\n",
    "margin = 1/w[1]\n",
    "gutter_up = decision_boundary + margin\n",
    "gutter_down = decision_boundary - margin\n",
    "\n",
    "svs = svm_clf.support_vectors_\n",
    "plt.scatter(svs[:,0], svs[:,1], s=180, facecolors='#AAFFAA')\n",
    "plt.plot(XX, decision_boundary, \"k--\")\n",
    "plt.plot(XX, gutter_up, \"b--\")\n",
    "plt.plot(XX, gutter_down, \"b--\")\n",
    "\n",
    "markers = ['o', '+', '^']\n",
    "for i in range(3):\n",
    "    xs = X_train[:, 0][y_train == i]\n",
    "    ys = X_train[:, 1][y_train == i]\n",
    "    plt.scatter(xs, ys, marker=markers[i])\n",
    "    \n",
    "plt.legend(\"setosa\", \"non-setosa\")\n",
    "plt.xlabel(\"Sepal length\")\n",
    "plt.ylabel(\"Sepal width\")\n",
    "\n",
    "plt.plot(XX, (-a/b * XX + -c/b), \"r-\")"
   ]
  },
  {
   "cell_type": "markdown",
   "id": "756f1242",
   "metadata": {},
   "source": [
    "# SVM 을 이용한 비선형 분류 p112\n",
    "### kernel 사용 : 원래 데이터를 --> 고차원 속성 데이터로 변환 --> (고차원 공간상에서) 선형 분류"
   ]
  },
  {
   "cell_type": "code",
   "execution_count": 48,
   "id": "324467d6",
   "metadata": {},
   "outputs": [],
   "source": [
    "from sklearn.datasets import load_breast_cancer"
   ]
  },
  {
   "cell_type": "code",
   "execution_count": 49,
   "id": "8077148c",
   "metadata": {},
   "outputs": [
    {
     "data": {
      "text/plain": [
       "((569, 30), (569,))"
      ]
     },
     "execution_count": 49,
     "metadata": {},
     "output_type": "execute_result"
    }
   ],
   "source": [
    "cancer = load_breast_cancer()\n",
    "X = cancer.data\n",
    "y = cancer.target\n",
    "X.shape, y.shape"
   ]
  },
  {
   "cell_type": "code",
   "execution_count": 50,
   "id": "69a4f1d3",
   "metadata": {},
   "outputs": [],
   "source": [
    "np.random.seed(13)"
   ]
  },
  {
   "cell_type": "code",
   "execution_count": 51,
   "id": "94298629",
   "metadata": {},
   "outputs": [],
   "source": [
    "X_train, X_test, y_train, y_test = train_test_split(cancer.data, cancer.target, stratify=cancer.target)"
   ]
  },
  {
   "cell_type": "code",
   "execution_count": 53,
   "id": "e9f44d9e",
   "metadata": {},
   "outputs": [],
   "source": [
    "classifier = SVC(kernel='rbf', C=1000, gamma=0.1, probability=True)"
   ]
  },
  {
   "cell_type": "code",
   "execution_count": 54,
   "id": "6c1c752a",
   "metadata": {},
   "outputs": [
    {
     "data": {
      "text/html": [
       "<style>#sk-container-id-3 {color: black;background-color: white;}#sk-container-id-3 pre{padding: 0;}#sk-container-id-3 div.sk-toggleable {background-color: white;}#sk-container-id-3 label.sk-toggleable__label {cursor: pointer;display: block;width: 100%;margin-bottom: 0;padding: 0.3em;box-sizing: border-box;text-align: center;}#sk-container-id-3 label.sk-toggleable__label-arrow:before {content: \"▸\";float: left;margin-right: 0.25em;color: #696969;}#sk-container-id-3 label.sk-toggleable__label-arrow:hover:before {color: black;}#sk-container-id-3 div.sk-estimator:hover label.sk-toggleable__label-arrow:before {color: black;}#sk-container-id-3 div.sk-toggleable__content {max-height: 0;max-width: 0;overflow: hidden;text-align: left;background-color: #f0f8ff;}#sk-container-id-3 div.sk-toggleable__content pre {margin: 0.2em;color: black;border-radius: 0.25em;background-color: #f0f8ff;}#sk-container-id-3 input.sk-toggleable__control:checked~div.sk-toggleable__content {max-height: 200px;max-width: 100%;overflow: auto;}#sk-container-id-3 input.sk-toggleable__control:checked~label.sk-toggleable__label-arrow:before {content: \"▾\";}#sk-container-id-3 div.sk-estimator input.sk-toggleable__control:checked~label.sk-toggleable__label {background-color: #d4ebff;}#sk-container-id-3 div.sk-label input.sk-toggleable__control:checked~label.sk-toggleable__label {background-color: #d4ebff;}#sk-container-id-3 input.sk-hidden--visually {border: 0;clip: rect(1px 1px 1px 1px);clip: rect(1px, 1px, 1px, 1px);height: 1px;margin: -1px;overflow: hidden;padding: 0;position: absolute;width: 1px;}#sk-container-id-3 div.sk-estimator {font-family: monospace;background-color: #f0f8ff;border: 1px dotted black;border-radius: 0.25em;box-sizing: border-box;margin-bottom: 0.5em;}#sk-container-id-3 div.sk-estimator:hover {background-color: #d4ebff;}#sk-container-id-3 div.sk-parallel-item::after {content: \"\";width: 100%;border-bottom: 1px solid gray;flex-grow: 1;}#sk-container-id-3 div.sk-label:hover label.sk-toggleable__label {background-color: #d4ebff;}#sk-container-id-3 div.sk-serial::before {content: \"\";position: absolute;border-left: 1px solid gray;box-sizing: border-box;top: 0;bottom: 0;left: 50%;z-index: 0;}#sk-container-id-3 div.sk-serial {display: flex;flex-direction: column;align-items: center;background-color: white;padding-right: 0.2em;padding-left: 0.2em;position: relative;}#sk-container-id-3 div.sk-item {position: relative;z-index: 1;}#sk-container-id-3 div.sk-parallel {display: flex;align-items: stretch;justify-content: center;background-color: white;position: relative;}#sk-container-id-3 div.sk-item::before, #sk-container-id-3 div.sk-parallel-item::before {content: \"\";position: absolute;border-left: 1px solid gray;box-sizing: border-box;top: 0;bottom: 0;left: 50%;z-index: -1;}#sk-container-id-3 div.sk-parallel-item {display: flex;flex-direction: column;z-index: 1;position: relative;background-color: white;}#sk-container-id-3 div.sk-parallel-item:first-child::after {align-self: flex-end;width: 50%;}#sk-container-id-3 div.sk-parallel-item:last-child::after {align-self: flex-start;width: 50%;}#sk-container-id-3 div.sk-parallel-item:only-child::after {width: 0;}#sk-container-id-3 div.sk-dashed-wrapped {border: 1px dashed gray;margin: 0 0.4em 0.5em 0.4em;box-sizing: border-box;padding-bottom: 0.4em;background-color: white;}#sk-container-id-3 div.sk-label label {font-family: monospace;font-weight: bold;display: inline-block;line-height: 1.2em;}#sk-container-id-3 div.sk-label-container {text-align: center;}#sk-container-id-3 div.sk-container {/* jupyter's `normalize.less` sets `[hidden] { display: none; }` but bootstrap.min.css set `[hidden] { display: none !important; }` so we also need the `!important` here to be able to override the default hidden behavior on the sphinx rendered scikit-learn.org. See: https://github.com/scikit-learn/scikit-learn/issues/21755 */display: inline-block !important;position: relative;}#sk-container-id-3 div.sk-text-repr-fallback {display: none;}</style><div id=\"sk-container-id-3\" class=\"sk-top-container\"><div class=\"sk-text-repr-fallback\"><pre>SVC(C=1000, gamma=0.1, probability=True)</pre><b>In a Jupyter environment, please rerun this cell to show the HTML representation or trust the notebook. <br />On GitHub, the HTML representation is unable to render, please try loading this page with nbviewer.org.</b></div><div class=\"sk-container\" hidden><div class=\"sk-item\"><div class=\"sk-estimator sk-toggleable\"><input class=\"sk-toggleable__control sk-hidden--visually\" id=\"sk-estimator-id-3\" type=\"checkbox\" checked><label for=\"sk-estimator-id-3\" class=\"sk-toggleable__label sk-toggleable__label-arrow\">SVC</label><div class=\"sk-toggleable__content\"><pre>SVC(C=1000, gamma=0.1, probability=True)</pre></div></div></div></div></div>"
      ],
      "text/plain": [
       "SVC(C=1000, gamma=0.1, probability=True)"
      ]
     },
     "execution_count": 54,
     "metadata": {},
     "output_type": "execute_result"
    }
   ],
   "source": [
    "classifier.fit(X_train, y_train)"
   ]
  },
  {
   "cell_type": "code",
   "execution_count": 55,
   "id": "a2a497cd",
   "metadata": {},
   "outputs": [
    {
     "data": {
      "text/plain": [
       "0.63"
      ]
     },
     "execution_count": 55,
     "metadata": {},
     "output_type": "execute_result"
    }
   ],
   "source": [
    "classifier.score(X_test, y_test).round(2)"
   ]
  },
  {
   "cell_type": "markdown",
   "id": "09eb0071",
   "metadata": {},
   "source": [
    "##### 선형분류 성능 비교"
   ]
  },
  {
   "cell_type": "code",
   "execution_count": 57,
   "id": "782f86ac",
   "metadata": {},
   "outputs": [
    {
     "data": {
      "text/plain": [
       "0.73"
      ]
     },
     "execution_count": 57,
     "metadata": {},
     "output_type": "execute_result"
    }
   ],
   "source": [
    "clf = SGDClassifier(max_iter=1000)\n",
    "clf.fit(X_train, y_train)\n",
    "clf.score(X_test, y_test).round(2)"
   ]
  },
  {
   "cell_type": "code",
   "execution_count": null,
   "id": "2ff18551",
   "metadata": {},
   "outputs": [],
   "source": []
  }
 ],
 "metadata": {
  "kernelspec": {
   "display_name": "Python 3 (ipykernel)",
   "language": "python",
   "name": "python3"
  },
  "language_info": {
   "codemirror_mode": {
    "name": "ipython",
    "version": 3
   },
   "file_extension": ".py",
   "mimetype": "text/x-python",
   "name": "python",
   "nbconvert_exporter": "python",
   "pygments_lexer": "ipython3",
   "version": "3.9.7"
  }
 },
 "nbformat": 4,
 "nbformat_minor": 5
}
