{
 "cells": [
  {
   "cell_type": "markdown",
   "id": "0f8e298b-0bf7-4bd0-989d-17673d3b2c1f",
   "metadata": {},
   "source": [
    "### Bayes 알고리즘 "
   ]
  },
  {
   "cell_type": "markdown",
   "id": "f0bc408e-cf51-4a2e-afaf-e6f715502b92",
   "metadata": {},
   "source": [
    "### 베이즈(확률)이론을 이용한 기계학습 알고리즘\n",
    "#### 조건부확률이론을 이용하여 새로운 사건을 조건부 확률로 예측 (단순하지만 성능이 우수)\n",
    "#### 서로 다른 사건 2개가 있을때 A가 일어날 확률 B가 일어날 확률, A와B가 동시에 일어날 확률\n",
    "#### - 사건 A(B)가 발생한 후 B(A)발생할 확률"
   ]
  },
  {
   "cell_type": "markdown",
   "id": "1ffd7b03-eca2-4353-8c84-55e71262c008",
   "metadata": {},
   "source": [
    "### 영문이름으로 성별 예측 \n",
    "##### 아래 내용을 수행하면 male.txt, female.txt이 다운로드 된다)"
   ]
  },
  {
   "cell_type": "code",
   "execution_count": 1,
   "id": "b390aa33-45d2-4514-bb95-c501cfb48add",
   "metadata": {
    "tags": []
   },
   "outputs": [
    {
     "name": "stderr",
     "output_type": "stream",
     "text": [
      "[nltk_data] Downloading package names to\n",
      "[nltk_data]     C:\\Users\\lj040\\AppData\\Roaming\\nltk_data...\n",
      "[nltk_data]   Unzipping corpora\\names.zip.\n"
     ]
    },
    {
     "data": {
      "text/plain": [
       "True"
      ]
     },
     "execution_count": 1,
     "metadata": {},
     "output_type": "execute_result"
    }
   ],
   "source": [
    "from nltk.corpus import names as nm\n",
    "import nltk\n",
    "nltk.download('names')"
   ]
  },
  {
   "cell_type": "code",
   "execution_count": 8,
   "id": "6fef3119-fd0f-4414-bb3c-1049ec2a1fd9",
   "metadata": {
    "tags": []
   },
   "outputs": [],
   "source": [
    "label_m = ([(name,'남자') for name in nm.words('male.txt')] + [(name,'여자') for name in nm.words('female.txt')])\n"
   ]
  },
  {
   "cell_type": "code",
   "execution_count": 12,
   "id": "25b5e3e2-b213-44d3-9b46-af44db5d75b7",
   "metadata": {
    "tags": []
   },
   "outputs": [
    {
     "data": {
      "text/plain": [
       "[('Aamir', '남자'),\n",
       " ('Aaron', '남자'),\n",
       " ('Abbey', '남자'),\n",
       " ('Abbie', '남자'),\n",
       " ('Abbot', '남자'),\n",
       " ('Abbott', '남자'),\n",
       " ('Abby', '남자'),\n",
       " ('Abdel', '남자'),\n",
       " ('Abdul', '남자'),\n",
       " ('Abdulkarim', '남자')]"
      ]
     },
     "execution_count": 12,
     "metadata": {},
     "output_type": "execute_result"
    }
   ],
   "source": [
    "label_m[:10]"
   ]
  },
  {
   "cell_type": "code",
   "execution_count": 14,
   "id": "404a4443-aa2e-47e4-95ac-db471db77c43",
   "metadata": {
    "tags": []
   },
   "outputs": [
    {
     "data": {
      "text/plain": [
       "[('Karna', '여자'),\n",
       " ('Clemmie', '남자'),\n",
       " ('Pace', '남자'),\n",
       " ('Charlene', '여자'),\n",
       " ('Rosmunda', '여자'),\n",
       " ('Ginny', '여자'),\n",
       " ('Michaela', '여자'),\n",
       " ('Ernestine', '여자'),\n",
       " ('Abner', '남자'),\n",
       " ('Zack', '남자')]"
      ]
     },
     "execution_count": 14,
     "metadata": {},
     "output_type": "execute_result"
    }
   ],
   "source": [
    "import random\n",
    "random.shuffle(label_m)\n",
    "label_m[0:10]"
   ]
  },
  {
   "cell_type": "code",
   "execution_count": 15,
   "id": "78c4d585-350f-4d31-bee2-87e38d8077f6",
   "metadata": {
    "tags": []
   },
   "outputs": [],
   "source": [
    "def gen_feature(word):\n",
    "    return {'last_letter':word[-1]}"
   ]
  },
  {
   "cell_type": "code",
   "execution_count": 16,
   "id": "7cdb12c4-347a-4667-91c7-b1fc49f86c53",
   "metadata": {
    "tags": []
   },
   "outputs": [
    {
     "data": {
      "text/plain": [
       "{'last_letter': 'i'}"
      ]
     },
     "execution_count": 16,
     "metadata": {},
     "output_type": "execute_result"
    }
   ],
   "source": [
    "gen_feature('sopi')"
   ]
  },
  {
   "cell_type": "code",
   "execution_count": 17,
   "id": "eb0465b9-8485-47f1-8f05-d95f42db6dac",
   "metadata": {
    "tags": []
   },
   "outputs": [
    {
     "data": {
      "text/plain": [
       "{'last_letter': 'e'}"
      ]
     },
     "execution_count": 17,
     "metadata": {},
     "output_type": "execute_result"
    }
   ],
   "source": [
    "gen_feature('apple')"
   ]
  },
  {
   "cell_type": "code",
   "execution_count": 24,
   "id": "b73257f8-2ea0-4717-b93b-2e4616584569",
   "metadata": {
    "tags": []
   },
   "outputs": [],
   "source": [
    "datasets = [(gen_feature(n), gender) for n, gender in label_m]"
   ]
  },
  {
   "cell_type": "code",
   "execution_count": 27,
   "id": "afd403ad-9559-4f63-bae1-1bee0df041f1",
   "metadata": {
    "tags": []
   },
   "outputs": [
    {
     "data": {
      "text/plain": [
       "[({'last_letter': 'a'}, '여자'),\n",
       " ({'last_letter': 'e'}, '남자'),\n",
       " ({'last_letter': 'e'}, '남자'),\n",
       " ({'last_letter': 'e'}, '여자'),\n",
       " ({'last_letter': 'a'}, '여자'),\n",
       " ({'last_letter': 'y'}, '여자'),\n",
       " ({'last_letter': 'a'}, '여자'),\n",
       " ({'last_letter': 'e'}, '여자'),\n",
       " ({'last_letter': 'r'}, '남자'),\n",
       " ({'last_letter': 'k'}, '남자')]"
      ]
     },
     "execution_count": 27,
     "metadata": {},
     "output_type": "execute_result"
    }
   ],
   "source": [
    "datasets[:10]"
   ]
  },
  {
   "cell_type": "code",
   "execution_count": 28,
   "id": "a81acd8f-b488-454b-aadc-13fc80147109",
   "metadata": {
    "tags": []
   },
   "outputs": [
    {
     "data": {
      "text/plain": [
       "7944"
      ]
     },
     "execution_count": 28,
     "metadata": {},
     "output_type": "execute_result"
    }
   ],
   "source": [
    "len(datasets)"
   ]
  },
  {
   "cell_type": "code",
   "execution_count": 38,
   "id": "7179e4c1-b93c-42fe-abcd-e6e21a82acc9",
   "metadata": {
    "tags": []
   },
   "outputs": [],
   "source": [
    "train_set, test_set = datasets[2000:], datasets[:2000]"
   ]
  },
  {
   "cell_type": "markdown",
   "id": "536617e9-9d27-4ba8-bcfd-d3f67b15b5f0",
   "metadata": {},
   "source": [
    "### 모델 학습 "
   ]
  },
  {
   "cell_type": "code",
   "execution_count": 30,
   "id": "fba4ece7-6383-4bfb-a821-b698e5d3161f",
   "metadata": {
    "tags": []
   },
   "outputs": [],
   "source": [
    "model = nltk.NaiveBayesClassifier.train(train_set)"
   ]
  },
  {
   "cell_type": "code",
   "execution_count": 31,
   "id": "5ed1b4c3-fce7-465c-bbbb-4504cd32d104",
   "metadata": {
    "tags": []
   },
   "outputs": [
    {
     "data": {
      "text/plain": [
       "'여자'"
      ]
     },
     "execution_count": 31,
     "metadata": {},
     "output_type": "execute_result"
    }
   ],
   "source": [
    "model.classify(gen_feature('sophia'))"
   ]
  },
  {
   "cell_type": "code",
   "execution_count": 37,
   "id": "8abe3fde-0014-4857-9fd6-db1b3e7673ed",
   "metadata": {
    "tags": []
   },
   "outputs": [
    {
     "data": {
      "text/plain": [
       "'남자'"
      ]
     },
     "execution_count": 37,
     "metadata": {},
     "output_type": "execute_result"
    }
   ],
   "source": [
    "model.classify(gen_feature('mario'))"
   ]
  },
  {
   "cell_type": "markdown",
   "id": "a638effa-5065-4943-bd11-6664446220f0",
   "metadata": {},
   "source": [
    "### 분류모델의 분류 기준 확인"
   ]
  },
  {
   "cell_type": "code",
   "execution_count": 34,
   "id": "3d097ee3-f1c0-4075-8ef8-916315e8bd25",
   "metadata": {
    "tags": []
   },
   "outputs": [
    {
     "name": "stdout",
     "output_type": "stream",
     "text": [
      "Most Informative Features\n",
      "             last_letter = 'k'                남자 : 여자     =     38.0 : 1.0\n",
      "             last_letter = 'a'                여자 : 남자     =     34.5 : 1.0\n",
      "             last_letter = 'f'                남자 : 여자     =     17.7 : 1.0\n",
      "             last_letter = 'v'                남자 : 여자     =      9.2 : 1.0\n",
      "             last_letter = 'd'                남자 : 여자     =      9.1 : 1.0\n",
      "             last_letter = 'o'                남자 : 여자     =      8.9 : 1.0\n",
      "             last_letter = 'p'                남자 : 여자     =      8.6 : 1.0\n",
      "             last_letter = 'w'                남자 : 여자     =      8.1 : 1.0\n",
      "             last_letter = 'r'                남자 : 여자     =      6.9 : 1.0\n",
      "             last_letter = 'g'                남자 : 여자     =      6.1 : 1.0\n"
     ]
    }
   ],
   "source": [
    "model.show_most_informative_features(10)"
   ]
  },
  {
   "cell_type": "code",
   "execution_count": 40,
   "id": "4971b77e-81a3-4f53-9813-bebd167eaa51",
   "metadata": {
    "tags": []
   },
   "outputs": [
    {
     "data": {
      "text/plain": [
       "'남자'"
      ]
     },
     "execution_count": 40,
     "metadata": {},
     "output_type": "execute_result"
    }
   ],
   "source": [
    "model.classify(gen_feature('alphak'))"
   ]
  },
  {
   "cell_type": "markdown",
   "id": "4289658f-0a35-4380-af5f-7e01b805af41",
   "metadata": {},
   "source": [
    "### 모델 성능 확인 "
   ]
  },
  {
   "cell_type": "code",
   "execution_count": 39,
   "id": "a4aa193a-ffc9-4341-94e4-d242dd38dc6b",
   "metadata": {
    "tags": []
   },
   "outputs": [
    {
     "data": {
      "text/plain": [
       "0.771"
      ]
     },
     "execution_count": 39,
     "metadata": {},
     "output_type": "execute_result"
    }
   ],
   "source": [
    "nltk.classify.accuracy(model, test_set)"
   ]
  },
  {
   "cell_type": "code",
   "execution_count": null,
   "id": "d3771392-1a17-4543-9e76-67603feee4f5",
   "metadata": {},
   "outputs": [],
   "source": []
  }
 ],
 "metadata": {
  "kernelspec": {
   "display_name": "ml308",
   "language": "python",
   "name": "ml308"
  },
  "language_info": {
   "codemirror_mode": {
    "name": "ipython",
    "version": 3
   },
   "file_extension": ".py",
   "mimetype": "text/x-python",
   "name": "python",
   "nbconvert_exporter": "python",
   "pygments_lexer": "ipython3",
   "version": "3.8.10"
  }
 },
 "nbformat": 4,
 "nbformat_minor": 5
}
