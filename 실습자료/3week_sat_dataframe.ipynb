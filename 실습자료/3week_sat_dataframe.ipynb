{
 "cells": [
  {
   "cell_type": "code",
   "execution_count": 3,
   "id": "c5f8f14d-3acd-4949-bde7-f4c10a48d5b7",
   "metadata": {
    "tags": []
   },
   "outputs": [],
   "source": [
    "import matplotlib.pyplot as plt\n",
    "import pandas as pd\n",
    "import numpy as np\n",
    "from pandas import Series  as SE, DataFrame as DF"
   ]
  },
  {
   "cell_type": "code",
   "execution_count": 7,
   "id": "78b6d143-a283-4e60-9970-b069ea584eba",
   "metadata": {
    "tags": []
   },
   "outputs": [
    {
     "data": {
      "text/plain": [
       "d    0\n",
       "a    1\n",
       "b    2\n",
       "c    3\n",
       "dtype: int64"
      ]
     },
     "execution_count": 7,
     "metadata": {},
     "output_type": "execute_result"
    }
   ],
   "source": [
    "obj = SE(range(4),index=['d','a','b','c'])\n",
    "obj"
   ]
  },
  {
   "cell_type": "code",
   "execution_count": 8,
   "id": "70eb6284-f1c8-4740-920f-c2138e01ac88",
   "metadata": {
    "tags": []
   },
   "outputs": [
    {
     "data": {
      "text/plain": [
       "a    1\n",
       "b    2\n",
       "c    3\n",
       "d    0\n",
       "dtype: int64"
      ]
     },
     "execution_count": 8,
     "metadata": {},
     "output_type": "execute_result"
    }
   ],
   "source": [
    "obj.sort_index()"
   ]
  },
  {
   "cell_type": "code",
   "execution_count": 9,
   "id": "1ac0e5c6-cbea-4a38-9c5d-bfc3c858f00f",
   "metadata": {
    "tags": []
   },
   "outputs": [
    {
     "data": {
      "text/plain": [
       "d    0\n",
       "a    1\n",
       "b    2\n",
       "c    3\n",
       "dtype: int64"
      ]
     },
     "execution_count": 9,
     "metadata": {},
     "output_type": "execute_result"
    }
   ],
   "source": [
    "obj.sort_values()"
   ]
  },
  {
   "cell_type": "code",
   "execution_count": 11,
   "id": "0315e74e-2ed5-4366-91e8-07fae0c4838c",
   "metadata": {
    "tags": []
   },
   "outputs": [
    {
     "data": {
      "text/plain": [
       "a    1\n",
       "b    2\n",
       "c    3\n",
       "d    0\n",
       "dtype: int64"
      ]
     },
     "execution_count": 11,
     "metadata": {},
     "output_type": "execute_result"
    }
   ],
   "source": [
    "obj = obj.sort_index()\n",
    "obj"
   ]
  },
  {
   "cell_type": "code",
   "execution_count": 37,
   "id": "792fda53-d1dc-414b-b97d-295f261a7a09",
   "metadata": {
    "tags": []
   },
   "outputs": [],
   "source": [
    "frame = DF(np.arange(8).reshape(2,4),columns=['d','a','b','c'], index=['three','one'])\n",
    "#frame = DF(np.arange(8).reshape(2,4),columns=[list('dabc')], index=['three','one'])"
   ]
  },
  {
   "cell_type": "code",
   "execution_count": 38,
   "id": "8427ac01-ae58-49e1-9957-f31b2305aed7",
   "metadata": {
    "tags": []
   },
   "outputs": [
    {
     "data": {
      "text/html": [
       "<div>\n",
       "<style scoped>\n",
       "    .dataframe tbody tr th:only-of-type {\n",
       "        vertical-align: middle;\n",
       "    }\n",
       "\n",
       "    .dataframe tbody tr th {\n",
       "        vertical-align: top;\n",
       "    }\n",
       "\n",
       "    .dataframe thead th {\n",
       "        text-align: right;\n",
       "    }\n",
       "</style>\n",
       "<table border=\"1\" class=\"dataframe\">\n",
       "  <thead>\n",
       "    <tr style=\"text-align: right;\">\n",
       "      <th></th>\n",
       "      <th>d</th>\n",
       "      <th>a</th>\n",
       "      <th>b</th>\n",
       "      <th>c</th>\n",
       "    </tr>\n",
       "  </thead>\n",
       "  <tbody>\n",
       "    <tr>\n",
       "      <th>one</th>\n",
       "      <td>4</td>\n",
       "      <td>5</td>\n",
       "      <td>6</td>\n",
       "      <td>7</td>\n",
       "    </tr>\n",
       "    <tr>\n",
       "      <th>three</th>\n",
       "      <td>0</td>\n",
       "      <td>1</td>\n",
       "      <td>2</td>\n",
       "      <td>3</td>\n",
       "    </tr>\n",
       "  </tbody>\n",
       "</table>\n",
       "</div>"
      ],
      "text/plain": [
       "       d  a  b  c\n",
       "one    4  5  6  7\n",
       "three  0  1  2  3"
      ]
     },
     "execution_count": 38,
     "metadata": {},
     "output_type": "execute_result"
    }
   ],
   "source": [
    "frame.sort_index()"
   ]
  },
  {
   "cell_type": "code",
   "execution_count": 39,
   "id": "bce82004-29a9-4c50-96d3-900bda308cf6",
   "metadata": {
    "tags": []
   },
   "outputs": [
    {
     "data": {
      "text/html": [
       "<div>\n",
       "<style scoped>\n",
       "    .dataframe tbody tr th:only-of-type {\n",
       "        vertical-align: middle;\n",
       "    }\n",
       "\n",
       "    .dataframe tbody tr th {\n",
       "        vertical-align: top;\n",
       "    }\n",
       "\n",
       "    .dataframe thead th {\n",
       "        text-align: right;\n",
       "    }\n",
       "</style>\n",
       "<table border=\"1\" class=\"dataframe\">\n",
       "  <thead>\n",
       "    <tr style=\"text-align: right;\">\n",
       "      <th></th>\n",
       "      <th>a</th>\n",
       "      <th>b</th>\n",
       "      <th>c</th>\n",
       "      <th>d</th>\n",
       "    </tr>\n",
       "  </thead>\n",
       "  <tbody>\n",
       "    <tr>\n",
       "      <th>three</th>\n",
       "      <td>1</td>\n",
       "      <td>2</td>\n",
       "      <td>3</td>\n",
       "      <td>0</td>\n",
       "    </tr>\n",
       "    <tr>\n",
       "      <th>one</th>\n",
       "      <td>5</td>\n",
       "      <td>6</td>\n",
       "      <td>7</td>\n",
       "      <td>4</td>\n",
       "    </tr>\n",
       "  </tbody>\n",
       "</table>\n",
       "</div>"
      ],
      "text/plain": [
       "       a  b  c  d\n",
       "three  1  2  3  0\n",
       "one    5  6  7  4"
      ]
     },
     "execution_count": 39,
     "metadata": {},
     "output_type": "execute_result"
    }
   ],
   "source": [
    "frame.sort_index(axis=1)"
   ]
  },
  {
   "cell_type": "code",
   "execution_count": 40,
   "id": "b604f2ad-20c1-4390-8e46-675dae17b89e",
   "metadata": {
    "tags": []
   },
   "outputs": [
    {
     "data": {
      "text/html": [
       "<div>\n",
       "<style scoped>\n",
       "    .dataframe tbody tr th:only-of-type {\n",
       "        vertical-align: middle;\n",
       "    }\n",
       "\n",
       "    .dataframe tbody tr th {\n",
       "        vertical-align: top;\n",
       "    }\n",
       "\n",
       "    .dataframe thead th {\n",
       "        text-align: right;\n",
       "    }\n",
       "</style>\n",
       "<table border=\"1\" class=\"dataframe\">\n",
       "  <thead>\n",
       "    <tr style=\"text-align: right;\">\n",
       "      <th></th>\n",
       "      <th>d</th>\n",
       "      <th>c</th>\n",
       "      <th>b</th>\n",
       "      <th>a</th>\n",
       "    </tr>\n",
       "  </thead>\n",
       "  <tbody>\n",
       "    <tr>\n",
       "      <th>three</th>\n",
       "      <td>0</td>\n",
       "      <td>3</td>\n",
       "      <td>2</td>\n",
       "      <td>1</td>\n",
       "    </tr>\n",
       "    <tr>\n",
       "      <th>one</th>\n",
       "      <td>4</td>\n",
       "      <td>7</td>\n",
       "      <td>6</td>\n",
       "      <td>5</td>\n",
       "    </tr>\n",
       "  </tbody>\n",
       "</table>\n",
       "</div>"
      ],
      "text/plain": [
       "       d  c  b  a\n",
       "three  0  3  2  1\n",
       "one    4  7  6  5"
      ]
     },
     "execution_count": 40,
     "metadata": {},
     "output_type": "execute_result"
    }
   ],
   "source": [
    "frame.sort_index(axis=1,ascending=False)"
   ]
  },
  {
   "cell_type": "code",
   "execution_count": 41,
   "id": "f9c4b6f6-0e4b-4f55-b3d2-cf825bb28532",
   "metadata": {
    "tags": []
   },
   "outputs": [
    {
     "data": {
      "text/html": [
       "<div>\n",
       "<style scoped>\n",
       "    .dataframe tbody tr th:only-of-type {\n",
       "        vertical-align: middle;\n",
       "    }\n",
       "\n",
       "    .dataframe tbody tr th {\n",
       "        vertical-align: top;\n",
       "    }\n",
       "\n",
       "    .dataframe thead th {\n",
       "        text-align: right;\n",
       "    }\n",
       "</style>\n",
       "<table border=\"1\" class=\"dataframe\">\n",
       "  <thead>\n",
       "    <tr style=\"text-align: right;\">\n",
       "      <th></th>\n",
       "      <th>d</th>\n",
       "      <th>a</th>\n",
       "      <th>b</th>\n",
       "      <th>c</th>\n",
       "    </tr>\n",
       "  </thead>\n",
       "  <tbody>\n",
       "    <tr>\n",
       "      <th>three</th>\n",
       "      <td>0</td>\n",
       "      <td>1</td>\n",
       "      <td>2</td>\n",
       "      <td>3</td>\n",
       "    </tr>\n",
       "    <tr>\n",
       "      <th>one</th>\n",
       "      <td>4</td>\n",
       "      <td>5</td>\n",
       "      <td>6</td>\n",
       "      <td>7</td>\n",
       "    </tr>\n",
       "  </tbody>\n",
       "</table>\n",
       "</div>"
      ],
      "text/plain": [
       "       d  a  b  c\n",
       "three  0  1  2  3\n",
       "one    4  5  6  7"
      ]
     },
     "execution_count": 41,
     "metadata": {},
     "output_type": "execute_result"
    }
   ],
   "source": [
    "#frame.info()\n",
    "frame.sort_values(by=['d'])"
   ]
  },
  {
   "cell_type": "code",
   "execution_count": 31,
   "id": "344194d2-ecb6-4d69-aec2-13d0f8515438",
   "metadata": {
    "tags": []
   },
   "outputs": [],
   "source": [
    "fr = DF({'b':[4,7,3,2],'a':[4,9,2,5],'c':[5,3,7,9]})"
   ]
  },
  {
   "cell_type": "code",
   "execution_count": 33,
   "id": "95d9965d-16c8-4911-9efa-4711c0d37db3",
   "metadata": {
    "tags": []
   },
   "outputs": [
    {
     "data": {
      "text/html": [
       "<div>\n",
       "<style scoped>\n",
       "    .dataframe tbody tr th:only-of-type {\n",
       "        vertical-align: middle;\n",
       "    }\n",
       "\n",
       "    .dataframe tbody tr th {\n",
       "        vertical-align: top;\n",
       "    }\n",
       "\n",
       "    .dataframe thead th {\n",
       "        text-align: right;\n",
       "    }\n",
       "</style>\n",
       "<table border=\"1\" class=\"dataframe\">\n",
       "  <thead>\n",
       "    <tr style=\"text-align: right;\">\n",
       "      <th></th>\n",
       "      <th>b</th>\n",
       "      <th>a</th>\n",
       "      <th>c</th>\n",
       "    </tr>\n",
       "  </thead>\n",
       "  <tbody>\n",
       "    <tr>\n",
       "      <th>3</th>\n",
       "      <td>2</td>\n",
       "      <td>5</td>\n",
       "      <td>9</td>\n",
       "    </tr>\n",
       "    <tr>\n",
       "      <th>2</th>\n",
       "      <td>3</td>\n",
       "      <td>2</td>\n",
       "      <td>7</td>\n",
       "    </tr>\n",
       "    <tr>\n",
       "      <th>0</th>\n",
       "      <td>4</td>\n",
       "      <td>4</td>\n",
       "      <td>5</td>\n",
       "    </tr>\n",
       "    <tr>\n",
       "      <th>1</th>\n",
       "      <td>7</td>\n",
       "      <td>9</td>\n",
       "      <td>3</td>\n",
       "    </tr>\n",
       "  </tbody>\n",
       "</table>\n",
       "</div>"
      ],
      "text/plain": [
       "   b  a  c\n",
       "3  2  5  9\n",
       "2  3  2  7\n",
       "0  4  4  5\n",
       "1  7  9  3"
      ]
     },
     "execution_count": 33,
     "metadata": {},
     "output_type": "execute_result"
    }
   ],
   "source": [
    "fr.sort_values(by='b')"
   ]
  },
  {
   "cell_type": "code",
   "execution_count": 47,
   "id": "c8670ada-abad-4a53-b946-50dc0a461d8d",
   "metadata": {
    "tags": []
   },
   "outputs": [
    {
     "data": {
      "text/plain": [
       "0    100\n",
       "1     23\n",
       "2     55\n",
       "3     44\n",
       "4     22\n",
       "5     99\n",
       "6     33\n",
       "dtype: int64"
      ]
     },
     "execution_count": 47,
     "metadata": {},
     "output_type": "execute_result"
    }
   ],
   "source": [
    "obj = SE([100,23,55,44,22,99,33])\n",
    "obj"
   ]
  },
  {
   "cell_type": "code",
   "execution_count": 46,
   "id": "728c456e-aafb-4911-b58b-b6ec81c4c18c",
   "metadata": {
    "tags": []
   },
   "outputs": [
    {
     "data": {
      "text/plain": [
       "0    1.0\n",
       "1    6.0\n",
       "2    3.0\n",
       "3    4.0\n",
       "4    7.0\n",
       "5    2.0\n",
       "6    5.0\n",
       "dtype: float64"
      ]
     },
     "execution_count": 46,
     "metadata": {},
     "output_type": "execute_result"
    }
   ],
   "source": [
    "obj.rank(ascending=False)"
   ]
  },
  {
   "cell_type": "code",
   "execution_count": 48,
   "id": "edf813ab-d9e8-4e53-b2b5-61e18b55867f",
   "metadata": {
    "tags": []
   },
   "outputs": [
    {
     "data": {
      "text/plain": [
       "0    100\n",
       "1     23\n",
       "2    100\n",
       "3     44\n",
       "4     22\n",
       "5     99\n",
       "6     33\n",
       "dtype: int64"
      ]
     },
     "execution_count": 48,
     "metadata": {},
     "output_type": "execute_result"
    }
   ],
   "source": [
    "obj = SE([100,23,100,44,22,99,33])\n",
    "obj"
   ]
  },
  {
   "cell_type": "code",
   "execution_count": 50,
   "id": "17ce8d77-1d57-47ec-b9d4-f4e602ae1379",
   "metadata": {
    "tags": []
   },
   "outputs": [
    {
     "data": {
      "text/plain": [
       "0    1.5\n",
       "1    6.0\n",
       "2    1.5\n",
       "3    4.0\n",
       "4    7.0\n",
       "5    3.0\n",
       "6    5.0\n",
       "dtype: float64"
      ]
     },
     "execution_count": 50,
     "metadata": {},
     "output_type": "execute_result"
    }
   ],
   "source": [
    "obj.rank(ascending=False)"
   ]
  },
  {
   "cell_type": "code",
   "execution_count": 51,
   "id": "0d2cee1b-c53c-48b0-a25d-d3ae50d4e3c4",
   "metadata": {
    "tags": []
   },
   "outputs": [
    {
     "data": {
      "text/plain": [
       "0    1.0\n",
       "1    6.0\n",
       "2    2.0\n",
       "3    4.0\n",
       "4    7.0\n",
       "5    3.0\n",
       "6    5.0\n",
       "dtype: float64"
      ]
     },
     "execution_count": 51,
     "metadata": {},
     "output_type": "execute_result"
    }
   ],
   "source": [
    "obj.rank(ascending=False, method='first')"
   ]
  },
  {
   "cell_type": "code",
   "execution_count": 52,
   "id": "70f4a968-aaac-45ed-bbf8-ce06eff49b73",
   "metadata": {
    "tags": []
   },
   "outputs": [
    {
     "data": {
      "text/html": [
       "<div>\n",
       "<style scoped>\n",
       "    .dataframe tbody tr th:only-of-type {\n",
       "        vertical-align: middle;\n",
       "    }\n",
       "\n",
       "    .dataframe tbody tr th {\n",
       "        vertical-align: top;\n",
       "    }\n",
       "\n",
       "    .dataframe thead th {\n",
       "        text-align: right;\n",
       "    }\n",
       "</style>\n",
       "<table border=\"1\" class=\"dataframe\">\n",
       "  <thead>\n",
       "    <tr style=\"text-align: right;\">\n",
       "      <th></th>\n",
       "      <th>b</th>\n",
       "      <th>a</th>\n",
       "      <th>c</th>\n",
       "    </tr>\n",
       "  </thead>\n",
       "  <tbody>\n",
       "    <tr>\n",
       "      <th>0</th>\n",
       "      <td>4</td>\n",
       "      <td>4</td>\n",
       "      <td>5</td>\n",
       "    </tr>\n",
       "    <tr>\n",
       "      <th>1</th>\n",
       "      <td>7</td>\n",
       "      <td>9</td>\n",
       "      <td>3</td>\n",
       "    </tr>\n",
       "    <tr>\n",
       "      <th>2</th>\n",
       "      <td>3</td>\n",
       "      <td>2</td>\n",
       "      <td>7</td>\n",
       "    </tr>\n",
       "    <tr>\n",
       "      <th>3</th>\n",
       "      <td>2</td>\n",
       "      <td>5</td>\n",
       "      <td>9</td>\n",
       "    </tr>\n",
       "  </tbody>\n",
       "</table>\n",
       "</div>"
      ],
      "text/plain": [
       "   b  a  c\n",
       "0  4  4  5\n",
       "1  7  9  3\n",
       "2  3  2  7\n",
       "3  2  5  9"
      ]
     },
     "execution_count": 52,
     "metadata": {},
     "output_type": "execute_result"
    }
   ],
   "source": [
    "fr"
   ]
  },
  {
   "cell_type": "code",
   "execution_count": 53,
   "id": "90ed4236-ae31-4880-82c2-daff29f8baae",
   "metadata": {
    "tags": []
   },
   "outputs": [
    {
     "data": {
      "text/html": [
       "<div>\n",
       "<style scoped>\n",
       "    .dataframe tbody tr th:only-of-type {\n",
       "        vertical-align: middle;\n",
       "    }\n",
       "\n",
       "    .dataframe tbody tr th {\n",
       "        vertical-align: top;\n",
       "    }\n",
       "\n",
       "    .dataframe thead th {\n",
       "        text-align: right;\n",
       "    }\n",
       "</style>\n",
       "<table border=\"1\" class=\"dataframe\">\n",
       "  <thead>\n",
       "    <tr style=\"text-align: right;\">\n",
       "      <th></th>\n",
       "      <th>b</th>\n",
       "      <th>a</th>\n",
       "      <th>c</th>\n",
       "    </tr>\n",
       "  </thead>\n",
       "  <tbody>\n",
       "    <tr>\n",
       "      <th>0</th>\n",
       "      <td>1.5</td>\n",
       "      <td>1.5</td>\n",
       "      <td>3.0</td>\n",
       "    </tr>\n",
       "    <tr>\n",
       "      <th>1</th>\n",
       "      <td>2.0</td>\n",
       "      <td>3.0</td>\n",
       "      <td>1.0</td>\n",
       "    </tr>\n",
       "    <tr>\n",
       "      <th>2</th>\n",
       "      <td>2.0</td>\n",
       "      <td>1.0</td>\n",
       "      <td>3.0</td>\n",
       "    </tr>\n",
       "    <tr>\n",
       "      <th>3</th>\n",
       "      <td>1.0</td>\n",
       "      <td>2.0</td>\n",
       "      <td>3.0</td>\n",
       "    </tr>\n",
       "  </tbody>\n",
       "</table>\n",
       "</div>"
      ],
      "text/plain": [
       "     b    a    c\n",
       "0  1.5  1.5  3.0\n",
       "1  2.0  3.0  1.0\n",
       "2  2.0  1.0  3.0\n",
       "3  1.0  2.0  3.0"
      ]
     },
     "execution_count": 53,
     "metadata": {},
     "output_type": "execute_result"
    }
   ],
   "source": [
    "fr.rank(axis=1)"
   ]
  },
  {
   "cell_type": "code",
   "execution_count": 54,
   "id": "2a39b062-6343-4cc9-96e7-846cee22f238",
   "metadata": {
    "tags": []
   },
   "outputs": [
    {
     "data": {
      "text/html": [
       "<div>\n",
       "<style scoped>\n",
       "    .dataframe tbody tr th:only-of-type {\n",
       "        vertical-align: middle;\n",
       "    }\n",
       "\n",
       "    .dataframe tbody tr th {\n",
       "        vertical-align: top;\n",
       "    }\n",
       "\n",
       "    .dataframe thead th {\n",
       "        text-align: right;\n",
       "    }\n",
       "</style>\n",
       "<table border=\"1\" class=\"dataframe\">\n",
       "  <thead>\n",
       "    <tr style=\"text-align: right;\">\n",
       "      <th></th>\n",
       "      <th>b</th>\n",
       "      <th>a</th>\n",
       "      <th>c</th>\n",
       "    </tr>\n",
       "  </thead>\n",
       "  <tbody>\n",
       "    <tr>\n",
       "      <th>0</th>\n",
       "      <td>3.0</td>\n",
       "      <td>2.0</td>\n",
       "      <td>2.0</td>\n",
       "    </tr>\n",
       "    <tr>\n",
       "      <th>1</th>\n",
       "      <td>4.0</td>\n",
       "      <td>4.0</td>\n",
       "      <td>1.0</td>\n",
       "    </tr>\n",
       "    <tr>\n",
       "      <th>2</th>\n",
       "      <td>2.0</td>\n",
       "      <td>1.0</td>\n",
       "      <td>3.0</td>\n",
       "    </tr>\n",
       "    <tr>\n",
       "      <th>3</th>\n",
       "      <td>1.0</td>\n",
       "      <td>3.0</td>\n",
       "      <td>4.0</td>\n",
       "    </tr>\n",
       "  </tbody>\n",
       "</table>\n",
       "</div>"
      ],
      "text/plain": [
       "     b    a    c\n",
       "0  3.0  2.0  2.0\n",
       "1  4.0  4.0  1.0\n",
       "2  2.0  1.0  3.0\n",
       "3  1.0  3.0  4.0"
      ]
     },
     "execution_count": 54,
     "metadata": {},
     "output_type": "execute_result"
    }
   ],
   "source": [
    "fr.rank()"
   ]
  },
  {
   "cell_type": "code",
   "execution_count": 55,
   "id": "598c63ac-3887-4280-a90f-d5eba3504769",
   "metadata": {
    "tags": []
   },
   "outputs": [],
   "source": [
    "fr = DF({'b':[4,7,3,2],'a':[4,9,2,5],'c':[5,3,7,np.nan]})"
   ]
  },
  {
   "cell_type": "code",
   "execution_count": 57,
   "id": "0d59c067-a474-4730-b719-a7fa2c255b6a",
   "metadata": {
    "tags": []
   },
   "outputs": [
    {
     "data": {
      "text/html": [
       "<div>\n",
       "<style scoped>\n",
       "    .dataframe tbody tr th:only-of-type {\n",
       "        vertical-align: middle;\n",
       "    }\n",
       "\n",
       "    .dataframe tbody tr th {\n",
       "        vertical-align: top;\n",
       "    }\n",
       "\n",
       "    .dataframe thead th {\n",
       "        text-align: right;\n",
       "    }\n",
       "</style>\n",
       "<table border=\"1\" class=\"dataframe\">\n",
       "  <thead>\n",
       "    <tr style=\"text-align: right;\">\n",
       "      <th></th>\n",
       "      <th>b</th>\n",
       "      <th>a</th>\n",
       "      <th>c</th>\n",
       "    </tr>\n",
       "  </thead>\n",
       "  <tbody>\n",
       "    <tr>\n",
       "      <th>0</th>\n",
       "      <td>4</td>\n",
       "      <td>4</td>\n",
       "      <td>5.0</td>\n",
       "    </tr>\n",
       "    <tr>\n",
       "      <th>1</th>\n",
       "      <td>7</td>\n",
       "      <td>9</td>\n",
       "      <td>3.0</td>\n",
       "    </tr>\n",
       "    <tr>\n",
       "      <th>2</th>\n",
       "      <td>3</td>\n",
       "      <td>2</td>\n",
       "      <td>7.0</td>\n",
       "    </tr>\n",
       "    <tr>\n",
       "      <th>3</th>\n",
       "      <td>2</td>\n",
       "      <td>5</td>\n",
       "      <td>NaN</td>\n",
       "    </tr>\n",
       "  </tbody>\n",
       "</table>\n",
       "</div>"
      ],
      "text/plain": [
       "   b  a    c\n",
       "0  4  4  5.0\n",
       "1  7  9  3.0\n",
       "2  3  2  7.0\n",
       "3  2  5  NaN"
      ]
     },
     "execution_count": 57,
     "metadata": {},
     "output_type": "execute_result"
    }
   ],
   "source": [
    "fr"
   ]
  },
  {
   "cell_type": "code",
   "execution_count": 65,
   "id": "f0d68210-5020-4261-b5e4-fd5a5e806d80",
   "metadata": {
    "tags": []
   },
   "outputs": [
    {
     "data": {
      "text/plain": [
       "b    16.0\n",
       "a    20.0\n",
       "c    15.0\n",
       "dtype: float64"
      ]
     },
     "execution_count": 65,
     "metadata": {},
     "output_type": "execute_result"
    }
   ],
   "source": [
    "fr.sum()"
   ]
  },
  {
   "cell_type": "code",
   "execution_count": 70,
   "id": "42f4b644-32b7-4ed1-9776-f25b4b1be4e1",
   "metadata": {
    "tags": []
   },
   "outputs": [
    {
     "data": {
      "text/plain": [
       "b    16.0\n",
       "a    20.0\n",
       "c     NaN\n",
       "dtype: float64"
      ]
     },
     "execution_count": 70,
     "metadata": {},
     "output_type": "execute_result"
    }
   ],
   "source": [
    "fr.sum(skipna=False)"
   ]
  },
  {
   "cell_type": "markdown",
   "id": "819be1be-0832-4a36-b831-8611cd5aa6f2",
   "metadata": {},
   "source": [
    "### 최대치/최소치가 있는 위치 : idxmax(), idxmin()"
   ]
  },
  {
   "cell_type": "code",
   "execution_count": 71,
   "id": "99183ed0-7522-4211-ae47-826b403a6458",
   "metadata": {
    "tags": []
   },
   "outputs": [
    {
     "data": {
      "text/plain": [
       "b    1\n",
       "a    1\n",
       "c    2\n",
       "dtype: int64"
      ]
     },
     "execution_count": 71,
     "metadata": {},
     "output_type": "execute_result"
    }
   ],
   "source": [
    "fr.idxmax()"
   ]
  },
  {
   "cell_type": "code",
   "execution_count": 72,
   "id": "d32c3d5a-9331-480e-b7bc-02ad1ea06081",
   "metadata": {
    "tags": []
   },
   "outputs": [
    {
     "data": {
      "text/plain": [
       "b    3\n",
       "a    2\n",
       "c    1\n",
       "dtype: int64"
      ]
     },
     "execution_count": 72,
     "metadata": {},
     "output_type": "execute_result"
    }
   ],
   "source": [
    "fr.idxmin()"
   ]
  },
  {
   "cell_type": "code",
   "execution_count": 63,
   "id": "91df9cc1-4c1d-4abe-a816-158655840452",
   "metadata": {
    "tags": []
   },
   "outputs": [
    {
     "data": {
      "text/plain": [
       "b    4.0\n",
       "a    5.0\n",
       "c    5.0\n",
       "dtype: float64"
      ]
     },
     "execution_count": 63,
     "metadata": {},
     "output_type": "execute_result"
    }
   ],
   "source": [
    "fr.mean()"
   ]
  },
  {
   "cell_type": "code",
   "execution_count": 64,
   "id": "4f3ba18f-f96d-47be-8ed2-1b582a8075c1",
   "metadata": {
    "tags": []
   },
   "outputs": [
    {
     "data": {
      "text/plain": [
       "b    4.0\n",
       "a    5.0\n",
       "c    NaN\n",
       "dtype: float64"
      ]
     },
     "execution_count": 64,
     "metadata": {},
     "output_type": "execute_result"
    }
   ],
   "source": [
    "fr.mean(skipna=False)"
   ]
  },
  {
   "cell_type": "code",
   "execution_count": 62,
   "id": "bd1bf5ec-df0e-40c4-8672-520e10eafe6f",
   "metadata": {
    "tags": []
   },
   "outputs": [
    {
     "data": {
      "text/plain": [
       "0    13.0\n",
       "1    19.0\n",
       "2    12.0\n",
       "3     7.0\n",
       "dtype: float64"
      ]
     },
     "execution_count": 62,
     "metadata": {},
     "output_type": "execute_result"
    }
   ],
   "source": [
    "fr.sum(axis=1)"
   ]
  },
  {
   "cell_type": "code",
   "execution_count": null,
   "id": "56b72afd-aece-44cb-bfa3-6ecb817c38eb",
   "metadata": {},
   "outputs": [],
   "source": []
  },
  {
   "cell_type": "code",
   "execution_count": 74,
   "id": "c23e24e2-a7d1-435b-940b-e400690fd8c2",
   "metadata": {
    "tags": []
   },
   "outputs": [
    {
     "data": {
      "text/plain": [
       "0    c\n",
       "1    a\n",
       "2    d\n",
       "3    a\n",
       "4    a\n",
       "5    b\n",
       "6    b\n",
       "7    c\n",
       "8    c\n",
       "dtype: object"
      ]
     },
     "execution_count": 74,
     "metadata": {},
     "output_type": "execute_result"
    }
   ],
   "source": [
    "obj = SE(list('cadaabbcc'))\n",
    "obj"
   ]
  },
  {
   "cell_type": "code",
   "execution_count": 76,
   "id": "68690426-2308-415b-a4ae-b2d38af6bd9b",
   "metadata": {
    "tags": []
   },
   "outputs": [
    {
     "data": {
      "text/plain": [
       "array(['c', 'a', 'd', 'b'], dtype=object)"
      ]
     },
     "execution_count": 76,
     "metadata": {},
     "output_type": "execute_result"
    }
   ],
   "source": [
    "obj.unique()"
   ]
  },
  {
   "cell_type": "code",
   "execution_count": 85,
   "id": "22509d06-d596-46a0-bb73-9d9c731cacd2",
   "metadata": {
    "tags": []
   },
   "outputs": [
    {
     "data": {
      "text/plain": [
       "c    3\n",
       "a    3\n",
       "b    2\n",
       "d    1\n",
       "dtype: int64"
      ]
     },
     "execution_count": 85,
     "metadata": {},
     "output_type": "execute_result"
    }
   ],
   "source": [
    "obj.value_counts(ascending=False)"
   ]
  },
  {
   "cell_type": "code",
   "execution_count": 87,
   "id": "4935fe6c-d5dd-4ef3-91c9-5a8b7dec0646",
   "metadata": {
    "tags": []
   },
   "outputs": [
    {
     "data": {
      "text/plain": [
       "1    a\n",
       "2    d\n",
       "3    a\n",
       "4    a\n",
       "dtype: object"
      ]
     },
     "execution_count": 87,
     "metadata": {},
     "output_type": "execute_result"
    }
   ],
   "source": [
    "obj[obj.isin(['a','d'])]"
   ]
  },
  {
   "cell_type": "code",
   "execution_count": 88,
   "id": "b5410bcb-1589-442d-bc16-d078d5037e0b",
   "metadata": {
    "tags": []
   },
   "outputs": [],
   "source": [
    "mask = obj.isin(['a','d'])"
   ]
  },
  {
   "cell_type": "code",
   "execution_count": 91,
   "id": "f6d95c30-85d7-4669-973c-c02022dcab31",
   "metadata": {
    "tags": []
   },
   "outputs": [
    {
     "data": {
      "text/plain": [
       "0    False\n",
       "1     True\n",
       "2     True\n",
       "3     True\n",
       "4     True\n",
       "5    False\n",
       "6    False\n",
       "7    False\n",
       "8    False\n",
       "dtype: bool"
      ]
     },
     "execution_count": 91,
     "metadata": {},
     "output_type": "execute_result"
    }
   ],
   "source": [
    "mask"
   ]
  },
  {
   "cell_type": "code",
   "execution_count": 97,
   "id": "5f113d4c-0c46-4e50-b6e7-7eb0dc73c66e",
   "metadata": {
    "tags": []
   },
   "outputs": [
    {
     "data": {
      "text/plain": [
       "1    a\n",
       "2    d\n",
       "3    a\n",
       "4    a\n",
       "dtype: object"
      ]
     },
     "execution_count": 97,
     "metadata": {},
     "output_type": "execute_result"
    }
   ],
   "source": [
    "obj[mask]"
   ]
  },
  {
   "cell_type": "markdown",
   "id": "b55457c1-6a78-465a-ba9a-ebcf7545c88b",
   "metadata": {},
   "source": [
    "### 객체.isin()의 반대는 ~객체.isin()"
   ]
  },
  {
   "cell_type": "code",
   "execution_count": 96,
   "id": "0d769455-7399-4c43-bbb7-6f70ab96621d",
   "metadata": {
    "tags": []
   },
   "outputs": [
    {
     "data": {
      "text/plain": [
       "0     True\n",
       "1    False\n",
       "2    False\n",
       "3    False\n",
       "4    False\n",
       "5     True\n",
       "6     True\n",
       "7     True\n",
       "8     True\n",
       "dtype: bool"
      ]
     },
     "execution_count": 96,
     "metadata": {},
     "output_type": "execute_result"
    }
   ],
   "source": [
    "~obj.isin(['a', 'd'])"
   ]
  },
  {
   "cell_type": "code",
   "execution_count": 101,
   "id": "f2b77ee3-801f-439f-8021-a6ece0b24d4f",
   "metadata": {
    "tags": []
   },
   "outputs": [
    {
     "data": {
      "text/html": [
       "<div>\n",
       "<style scoped>\n",
       "    .dataframe tbody tr th:only-of-type {\n",
       "        vertical-align: middle;\n",
       "    }\n",
       "\n",
       "    .dataframe tbody tr th {\n",
       "        vertical-align: top;\n",
       "    }\n",
       "\n",
       "    .dataframe thead th {\n",
       "        text-align: right;\n",
       "    }\n",
       "</style>\n",
       "<table border=\"1\" class=\"dataframe\">\n",
       "  <thead>\n",
       "    <tr style=\"text-align: right;\">\n",
       "      <th></th>\n",
       "      <th>X</th>\n",
       "      <th>Y</th>\n",
       "      <th>Z</th>\n",
       "    </tr>\n",
       "  </thead>\n",
       "  <tbody>\n",
       "    <tr>\n",
       "      <th>0</th>\n",
       "      <td>c</td>\n",
       "      <td>f</td>\n",
       "      <td>a</td>\n",
       "    </tr>\n",
       "    <tr>\n",
       "      <th>1</th>\n",
       "      <td>a</td>\n",
       "      <td>g</td>\n",
       "      <td>e</td>\n",
       "    </tr>\n",
       "    <tr>\n",
       "      <th>2</th>\n",
       "      <td>d</td>\n",
       "      <td>d</td>\n",
       "      <td>d</td>\n",
       "    </tr>\n",
       "    <tr>\n",
       "      <th>3</th>\n",
       "      <td>a</td>\n",
       "      <td>g</td>\n",
       "      <td>g</td>\n",
       "    </tr>\n",
       "    <tr>\n",
       "      <th>4</th>\n",
       "      <td>a</td>\n",
       "      <td>h</td>\n",
       "      <td>d</td>\n",
       "    </tr>\n",
       "    <tr>\n",
       "      <th>5</th>\n",
       "      <td>b</td>\n",
       "      <td>e</td>\n",
       "      <td>e</td>\n",
       "    </tr>\n",
       "    <tr>\n",
       "      <th>6</th>\n",
       "      <td>b</td>\n",
       "      <td>d</td>\n",
       "      <td>q</td>\n",
       "    </tr>\n",
       "    <tr>\n",
       "      <th>7</th>\n",
       "      <td>c</td>\n",
       "      <td>h</td>\n",
       "      <td>b</td>\n",
       "    </tr>\n",
       "    <tr>\n",
       "      <th>8</th>\n",
       "      <td>c</td>\n",
       "      <td>f</td>\n",
       "      <td>c</td>\n",
       "    </tr>\n",
       "  </tbody>\n",
       "</table>\n",
       "</div>"
      ],
      "text/plain": [
       "   X  Y  Z\n",
       "0  c  f  a\n",
       "1  a  g  e\n",
       "2  d  d  d\n",
       "3  a  g  g\n",
       "4  a  h  d\n",
       "5  b  e  e\n",
       "6  b  d  q\n",
       "7  c  h  b\n",
       "8  c  f  c"
      ]
     },
     "execution_count": 101,
     "metadata": {},
     "output_type": "execute_result"
    }
   ],
   "source": [
    "frame = DF({'X':['c','a','d','a','a','b','b','c','c'],\n",
    "'Y':['f','g','d','g','h','e','d','h','f'],\n",
    "'Z':['a','e','d','g','d','e','q','b','c']})\n",
    "frame"
   ]
  },
  {
   "cell_type": "code",
   "execution_count": 102,
   "id": "d9cb69b5-58cb-4a71-85d7-82d73eec4ac5",
   "metadata": {
    "tags": []
   },
   "outputs": [
    {
     "data": {
      "text/html": [
       "<div>\n",
       "<style scoped>\n",
       "    .dataframe tbody tr th:only-of-type {\n",
       "        vertical-align: middle;\n",
       "    }\n",
       "\n",
       "    .dataframe tbody tr th {\n",
       "        vertical-align: top;\n",
       "    }\n",
       "\n",
       "    .dataframe thead th {\n",
       "        text-align: right;\n",
       "    }\n",
       "</style>\n",
       "<table border=\"1\" class=\"dataframe\">\n",
       "  <thead>\n",
       "    <tr style=\"text-align: right;\">\n",
       "      <th></th>\n",
       "      <th>X</th>\n",
       "      <th>Y</th>\n",
       "      <th>Z</th>\n",
       "    </tr>\n",
       "  </thead>\n",
       "  <tbody>\n",
       "    <tr>\n",
       "      <th>a</th>\n",
       "      <td>3.0</td>\n",
       "      <td>NaN</td>\n",
       "      <td>1.0</td>\n",
       "    </tr>\n",
       "    <tr>\n",
       "      <th>b</th>\n",
       "      <td>2.0</td>\n",
       "      <td>NaN</td>\n",
       "      <td>1.0</td>\n",
       "    </tr>\n",
       "    <tr>\n",
       "      <th>c</th>\n",
       "      <td>3.0</td>\n",
       "      <td>NaN</td>\n",
       "      <td>1.0</td>\n",
       "    </tr>\n",
       "    <tr>\n",
       "      <th>d</th>\n",
       "      <td>1.0</td>\n",
       "      <td>2.0</td>\n",
       "      <td>2.0</td>\n",
       "    </tr>\n",
       "    <tr>\n",
       "      <th>e</th>\n",
       "      <td>NaN</td>\n",
       "      <td>1.0</td>\n",
       "      <td>2.0</td>\n",
       "    </tr>\n",
       "    <tr>\n",
       "      <th>f</th>\n",
       "      <td>NaN</td>\n",
       "      <td>2.0</td>\n",
       "      <td>NaN</td>\n",
       "    </tr>\n",
       "    <tr>\n",
       "      <th>g</th>\n",
       "      <td>NaN</td>\n",
       "      <td>2.0</td>\n",
       "      <td>1.0</td>\n",
       "    </tr>\n",
       "    <tr>\n",
       "      <th>h</th>\n",
       "      <td>NaN</td>\n",
       "      <td>2.0</td>\n",
       "      <td>NaN</td>\n",
       "    </tr>\n",
       "    <tr>\n",
       "      <th>q</th>\n",
       "      <td>NaN</td>\n",
       "      <td>NaN</td>\n",
       "      <td>1.0</td>\n",
       "    </tr>\n",
       "  </tbody>\n",
       "</table>\n",
       "</div>"
      ],
      "text/plain": [
       "     X    Y    Z\n",
       "a  3.0  NaN  1.0\n",
       "b  2.0  NaN  1.0\n",
       "c  3.0  NaN  1.0\n",
       "d  1.0  2.0  2.0\n",
       "e  NaN  1.0  2.0\n",
       "f  NaN  2.0  NaN\n",
       "g  NaN  2.0  1.0\n",
       "h  NaN  2.0  NaN\n",
       "q  NaN  NaN  1.0"
      ]
     },
     "execution_count": 102,
     "metadata": {},
     "output_type": "execute_result"
    }
   ],
   "source": [
    "frame.apply(pd.value_counts)"
   ]
  },
  {
   "cell_type": "code",
   "execution_count": 104,
   "id": "1902ca68-89b8-41cc-82a3-5ad5fac0734d",
   "metadata": {
    "tags": []
   },
   "outputs": [
    {
     "data": {
      "text/plain": [
       "X  Y  Z\n",
       "a  g  e    1\n",
       "      g    1\n",
       "   h  d    1\n",
       "b  d  q    1\n",
       "   e  e    1\n",
       "c  f  a    1\n",
       "      c    1\n",
       "   h  b    1\n",
       "d  d  d    1\n",
       "dtype: int64"
      ]
     },
     "execution_count": 104,
     "metadata": {},
     "output_type": "execute_result"
    }
   ],
   "source": [
    "frame.value_counts()"
   ]
  },
  {
   "cell_type": "code",
   "execution_count": 105,
   "id": "d9c46f3e-bccd-4f10-b727-04561980f6de",
   "metadata": {
    "tags": []
   },
   "outputs": [
    {
     "data": {
      "text/html": [
       "<div>\n",
       "<style scoped>\n",
       "    .dataframe tbody tr th:only-of-type {\n",
       "        vertical-align: middle;\n",
       "    }\n",
       "\n",
       "    .dataframe tbody tr th {\n",
       "        vertical-align: top;\n",
       "    }\n",
       "\n",
       "    .dataframe thead th {\n",
       "        text-align: right;\n",
       "    }\n",
       "</style>\n",
       "<table border=\"1\" class=\"dataframe\">\n",
       "  <thead>\n",
       "    <tr style=\"text-align: right;\">\n",
       "      <th></th>\n",
       "      <th>X</th>\n",
       "      <th>Y</th>\n",
       "      <th>Z</th>\n",
       "    </tr>\n",
       "  </thead>\n",
       "  <tbody>\n",
       "    <tr>\n",
       "      <th>a</th>\n",
       "      <td>3.0</td>\n",
       "      <td>0.0</td>\n",
       "      <td>1.0</td>\n",
       "    </tr>\n",
       "    <tr>\n",
       "      <th>b</th>\n",
       "      <td>2.0</td>\n",
       "      <td>0.0</td>\n",
       "      <td>1.0</td>\n",
       "    </tr>\n",
       "    <tr>\n",
       "      <th>c</th>\n",
       "      <td>3.0</td>\n",
       "      <td>0.0</td>\n",
       "      <td>1.0</td>\n",
       "    </tr>\n",
       "    <tr>\n",
       "      <th>d</th>\n",
       "      <td>1.0</td>\n",
       "      <td>2.0</td>\n",
       "      <td>2.0</td>\n",
       "    </tr>\n",
       "    <tr>\n",
       "      <th>e</th>\n",
       "      <td>0.0</td>\n",
       "      <td>1.0</td>\n",
       "      <td>2.0</td>\n",
       "    </tr>\n",
       "    <tr>\n",
       "      <th>f</th>\n",
       "      <td>0.0</td>\n",
       "      <td>2.0</td>\n",
       "      <td>0.0</td>\n",
       "    </tr>\n",
       "    <tr>\n",
       "      <th>g</th>\n",
       "      <td>0.0</td>\n",
       "      <td>2.0</td>\n",
       "      <td>1.0</td>\n",
       "    </tr>\n",
       "    <tr>\n",
       "      <th>h</th>\n",
       "      <td>0.0</td>\n",
       "      <td>2.0</td>\n",
       "      <td>0.0</td>\n",
       "    </tr>\n",
       "    <tr>\n",
       "      <th>q</th>\n",
       "      <td>0.0</td>\n",
       "      <td>0.0</td>\n",
       "      <td>1.0</td>\n",
       "    </tr>\n",
       "  </tbody>\n",
       "</table>\n",
       "</div>"
      ],
      "text/plain": [
       "     X    Y    Z\n",
       "a  3.0  0.0  1.0\n",
       "b  2.0  0.0  1.0\n",
       "c  3.0  0.0  1.0\n",
       "d  1.0  2.0  2.0\n",
       "e  0.0  1.0  2.0\n",
       "f  0.0  2.0  0.0\n",
       "g  0.0  2.0  1.0\n",
       "h  0.0  2.0  0.0\n",
       "q  0.0  0.0  1.0"
      ]
     },
     "execution_count": 105,
     "metadata": {},
     "output_type": "execute_result"
    }
   ],
   "source": [
    "frame.apply(pd.value_counts).fillna(0)"
   ]
  },
  {
   "cell_type": "code",
   "execution_count": 108,
   "id": "b46b6fa2-442c-416c-a3e5-2e6e5d5f9b10",
   "metadata": {
    "tags": []
   },
   "outputs": [
    {
     "data": {
      "text/html": [
       "<div>\n",
       "<style scoped>\n",
       "    .dataframe tbody tr th:only-of-type {\n",
       "        vertical-align: middle;\n",
       "    }\n",
       "\n",
       "    .dataframe tbody tr th {\n",
       "        vertical-align: top;\n",
       "    }\n",
       "\n",
       "    .dataframe thead th {\n",
       "        text-align: right;\n",
       "    }\n",
       "</style>\n",
       "<table border=\"1\" class=\"dataframe\">\n",
       "  <thead>\n",
       "    <tr style=\"text-align: right;\">\n",
       "      <th></th>\n",
       "      <th>0</th>\n",
       "      <th>1</th>\n",
       "      <th>2</th>\n",
       "    </tr>\n",
       "  </thead>\n",
       "  <tbody>\n",
       "    <tr>\n",
       "      <th>0</th>\n",
       "      <td>NaN</td>\n",
       "      <td>6.5</td>\n",
       "      <td>3.0</td>\n",
       "    </tr>\n",
       "    <tr>\n",
       "      <th>1</th>\n",
       "      <td>NaN</td>\n",
       "      <td>NaN</td>\n",
       "      <td>NaN</td>\n",
       "    </tr>\n",
       "    <tr>\n",
       "      <th>2</th>\n",
       "      <td>NaN</td>\n",
       "      <td>NaN</td>\n",
       "      <td>NaN</td>\n",
       "    </tr>\n",
       "    <tr>\n",
       "      <th>3</th>\n",
       "      <td>NaN</td>\n",
       "      <td>6.5</td>\n",
       "      <td>3.0</td>\n",
       "    </tr>\n",
       "  </tbody>\n",
       "</table>\n",
       "</div>"
      ],
      "text/plain": [
       "    0    1    2\n",
       "0 NaN  6.5  3.0\n",
       "1 NaN  NaN  NaN\n",
       "2 NaN  NaN  NaN\n",
       "3 NaN  6.5  3.0"
      ]
     },
     "execution_count": 108,
     "metadata": {},
     "output_type": "execute_result"
    }
   ],
   "source": [
    "from numpy import nan as NA\n",
    "data = DF([[NA,6.5,3.],[NA,NA,NA],[NA,NA,NA],[NA,6.5,3.]])\n",
    "data"
   ]
  },
  {
   "cell_type": "code",
   "execution_count": 109,
   "id": "b087e932-0d47-474c-8785-9e29140a9c66",
   "metadata": {
    "tags": []
   },
   "outputs": [
    {
     "data": {
      "text/html": [
       "<div>\n",
       "<style scoped>\n",
       "    .dataframe tbody tr th:only-of-type {\n",
       "        vertical-align: middle;\n",
       "    }\n",
       "\n",
       "    .dataframe tbody tr th {\n",
       "        vertical-align: top;\n",
       "    }\n",
       "\n",
       "    .dataframe thead th {\n",
       "        text-align: right;\n",
       "    }\n",
       "</style>\n",
       "<table border=\"1\" class=\"dataframe\">\n",
       "  <thead>\n",
       "    <tr style=\"text-align: right;\">\n",
       "      <th></th>\n",
       "      <th>0</th>\n",
       "      <th>1</th>\n",
       "      <th>2</th>\n",
       "    </tr>\n",
       "  </thead>\n",
       "  <tbody>\n",
       "    <tr>\n",
       "      <th>0</th>\n",
       "      <td>0.0</td>\n",
       "      <td>6.5</td>\n",
       "      <td>3.0</td>\n",
       "    </tr>\n",
       "    <tr>\n",
       "      <th>1</th>\n",
       "      <td>0.0</td>\n",
       "      <td>0.0</td>\n",
       "      <td>0.0</td>\n",
       "    </tr>\n",
       "    <tr>\n",
       "      <th>2</th>\n",
       "      <td>0.0</td>\n",
       "      <td>0.0</td>\n",
       "      <td>0.0</td>\n",
       "    </tr>\n",
       "    <tr>\n",
       "      <th>3</th>\n",
       "      <td>0.0</td>\n",
       "      <td>6.5</td>\n",
       "      <td>3.0</td>\n",
       "    </tr>\n",
       "  </tbody>\n",
       "</table>\n",
       "</div>"
      ],
      "text/plain": [
       "     0    1    2\n",
       "0  0.0  6.5  3.0\n",
       "1  0.0  0.0  0.0\n",
       "2  0.0  0.0  0.0\n",
       "3  0.0  6.5  3.0"
      ]
     },
     "execution_count": 109,
     "metadata": {},
     "output_type": "execute_result"
    }
   ],
   "source": [
    "data.fillna(0)"
   ]
  },
  {
   "cell_type": "code",
   "execution_count": 120,
   "id": "5c25ef65-5573-4263-a437-89ff7af7f595",
   "metadata": {
    "tags": []
   },
   "outputs": [
    {
     "data": {
      "text/html": [
       "<div>\n",
       "<style scoped>\n",
       "    .dataframe tbody tr th:only-of-type {\n",
       "        vertical-align: middle;\n",
       "    }\n",
       "\n",
       "    .dataframe tbody tr th {\n",
       "        vertical-align: top;\n",
       "    }\n",
       "\n",
       "    .dataframe thead th {\n",
       "        text-align: right;\n",
       "    }\n",
       "</style>\n",
       "<table border=\"1\" class=\"dataframe\">\n",
       "  <thead>\n",
       "    <tr style=\"text-align: right;\">\n",
       "      <th></th>\n",
       "      <th>0</th>\n",
       "      <th>1</th>\n",
       "      <th>2</th>\n",
       "    </tr>\n",
       "  </thead>\n",
       "  <tbody>\n",
       "    <tr>\n",
       "      <th>0</th>\n",
       "      <td>True</td>\n",
       "      <td>False</td>\n",
       "      <td>False</td>\n",
       "    </tr>\n",
       "    <tr>\n",
       "      <th>1</th>\n",
       "      <td>True</td>\n",
       "      <td>True</td>\n",
       "      <td>True</td>\n",
       "    </tr>\n",
       "    <tr>\n",
       "      <th>2</th>\n",
       "      <td>True</td>\n",
       "      <td>True</td>\n",
       "      <td>True</td>\n",
       "    </tr>\n",
       "    <tr>\n",
       "      <th>3</th>\n",
       "      <td>True</td>\n",
       "      <td>False</td>\n",
       "      <td>False</td>\n",
       "    </tr>\n",
       "  </tbody>\n",
       "</table>\n",
       "</div>"
      ],
      "text/plain": [
       "      0      1      2\n",
       "0  True  False  False\n",
       "1  True   True   True\n",
       "2  True   True   True\n",
       "3  True  False  False"
      ]
     },
     "execution_count": 120,
     "metadata": {},
     "output_type": "execute_result"
    }
   ],
   "source": [
    "data.isin([np.nan])"
   ]
  },
  {
   "cell_type": "code",
   "execution_count": 118,
   "id": "18dbfdd8-e49c-44e1-a1b5-4ae75781b570",
   "metadata": {
    "tags": []
   },
   "outputs": [
    {
     "data": {
      "text/html": [
       "<div>\n",
       "<style scoped>\n",
       "    .dataframe tbody tr th:only-of-type {\n",
       "        vertical-align: middle;\n",
       "    }\n",
       "\n",
       "    .dataframe tbody tr th {\n",
       "        vertical-align: top;\n",
       "    }\n",
       "\n",
       "    .dataframe thead th {\n",
       "        text-align: right;\n",
       "    }\n",
       "</style>\n",
       "<table border=\"1\" class=\"dataframe\">\n",
       "  <thead>\n",
       "    <tr style=\"text-align: right;\">\n",
       "      <th></th>\n",
       "      <th>0</th>\n",
       "      <th>1</th>\n",
       "      <th>2</th>\n",
       "    </tr>\n",
       "  </thead>\n",
       "  <tbody>\n",
       "    <tr>\n",
       "      <th>0</th>\n",
       "      <td>NaN</td>\n",
       "      <td>6.5</td>\n",
       "      <td>3.0</td>\n",
       "    </tr>\n",
       "    <tr>\n",
       "      <th>3</th>\n",
       "      <td>NaN</td>\n",
       "      <td>6.5</td>\n",
       "      <td>3.0</td>\n",
       "    </tr>\n",
       "  </tbody>\n",
       "</table>\n",
       "</div>"
      ],
      "text/plain": [
       "    0    1    2\n",
       "0 NaN  6.5  3.0\n",
       "3 NaN  6.5  3.0"
      ]
     },
     "execution_count": 118,
     "metadata": {},
     "output_type": "execute_result"
    }
   ],
   "source": [
    "# 모든 열의 값이 Null인 경우만 삭제)\n",
    "data.dropna(how='all')"
   ]
  },
  {
   "cell_type": "code",
   "execution_count": 119,
   "id": "c096628c-8d28-468a-a113-45f67516540e",
   "metadata": {
    "tags": []
   },
   "outputs": [
    {
     "data": {
      "text/html": [
       "<div>\n",
       "<style scoped>\n",
       "    .dataframe tbody tr th:only-of-type {\n",
       "        vertical-align: middle;\n",
       "    }\n",
       "\n",
       "    .dataframe tbody tr th {\n",
       "        vertical-align: top;\n",
       "    }\n",
       "\n",
       "    .dataframe thead th {\n",
       "        text-align: right;\n",
       "    }\n",
       "</style>\n",
       "<table border=\"1\" class=\"dataframe\">\n",
       "  <thead>\n",
       "    <tr style=\"text-align: right;\">\n",
       "      <th></th>\n",
       "      <th>0</th>\n",
       "      <th>1</th>\n",
       "      <th>2</th>\n",
       "    </tr>\n",
       "  </thead>\n",
       "  <tbody>\n",
       "  </tbody>\n",
       "</table>\n",
       "</div>"
      ],
      "text/plain": [
       "Empty DataFrame\n",
       "Columns: [0, 1, 2]\n",
       "Index: []"
      ]
     },
     "execution_count": 119,
     "metadata": {},
     "output_type": "execute_result"
    }
   ],
   "source": [
    "data.dropna(how='any')"
   ]
  },
  {
   "cell_type": "code",
   "execution_count": 125,
   "id": "4b3d5b5a-a582-40d4-9d31-79f30e47b303",
   "metadata": {
    "tags": []
   },
   "outputs": [
    {
     "data": {
      "text/html": [
       "<div>\n",
       "<style scoped>\n",
       "    .dataframe tbody tr th:only-of-type {\n",
       "        vertical-align: middle;\n",
       "    }\n",
       "\n",
       "    .dataframe tbody tr th {\n",
       "        vertical-align: top;\n",
       "    }\n",
       "\n",
       "    .dataframe thead th {\n",
       "        text-align: right;\n",
       "    }\n",
       "</style>\n",
       "<table border=\"1\" class=\"dataframe\">\n",
       "  <thead>\n",
       "    <tr style=\"text-align: right;\">\n",
       "      <th></th>\n",
       "    </tr>\n",
       "  </thead>\n",
       "  <tbody>\n",
       "    <tr>\n",
       "      <th>0</th>\n",
       "    </tr>\n",
       "    <tr>\n",
       "      <th>1</th>\n",
       "    </tr>\n",
       "    <tr>\n",
       "      <th>2</th>\n",
       "    </tr>\n",
       "    <tr>\n",
       "      <th>3</th>\n",
       "    </tr>\n",
       "  </tbody>\n",
       "</table>\n",
       "</div>"
      ],
      "text/plain": [
       "Empty DataFrame\n",
       "Columns: []\n",
       "Index: [0, 1, 2, 3]"
      ]
     },
     "execution_count": 125,
     "metadata": {},
     "output_type": "execute_result"
    }
   ],
   "source": [
    "data.dropna(axis=1)"
   ]
  },
  {
   "cell_type": "markdown",
   "id": "15b3b24e-c96e-4d00-87d0-572bbad3df5f",
   "metadata": {},
   "source": [
    "### np.random.randn(행,열) 평균이 0이고 편차가 1인 정규분포 난수생성"
   ]
  },
  {
   "cell_type": "code",
   "execution_count": 124,
   "id": "794bb47f-3204-43e2-8960-a63824ef6bc7",
   "metadata": {
    "tags": []
   },
   "outputs": [
    {
     "data": {
      "text/html": [
       "<div>\n",
       "<style scoped>\n",
       "    .dataframe tbody tr th:only-of-type {\n",
       "        vertical-align: middle;\n",
       "    }\n",
       "\n",
       "    .dataframe tbody tr th {\n",
       "        vertical-align: top;\n",
       "    }\n",
       "\n",
       "    .dataframe thead th {\n",
       "        text-align: right;\n",
       "    }\n",
       "</style>\n",
       "<table border=\"1\" class=\"dataframe\">\n",
       "  <thead>\n",
       "    <tr style=\"text-align: right;\">\n",
       "      <th></th>\n",
       "      <th>0</th>\n",
       "      <th>1</th>\n",
       "      <th>2</th>\n",
       "    </tr>\n",
       "  </thead>\n",
       "  <tbody>\n",
       "    <tr>\n",
       "      <th>0</th>\n",
       "      <td>-2.061982</td>\n",
       "      <td>-0.255181</td>\n",
       "      <td>0.064343</td>\n",
       "    </tr>\n",
       "    <tr>\n",
       "      <th>1</th>\n",
       "      <td>0.121817</td>\n",
       "      <td>1.170627</td>\n",
       "      <td>0.279092</td>\n",
       "    </tr>\n",
       "    <tr>\n",
       "      <th>2</th>\n",
       "      <td>0.991460</td>\n",
       "      <td>-0.282933</td>\n",
       "      <td>0.471214</td>\n",
       "    </tr>\n",
       "    <tr>\n",
       "      <th>3</th>\n",
       "      <td>2.419356</td>\n",
       "      <td>0.501409</td>\n",
       "      <td>0.452233</td>\n",
       "    </tr>\n",
       "    <tr>\n",
       "      <th>4</th>\n",
       "      <td>-0.123398</td>\n",
       "      <td>0.481885</td>\n",
       "      <td>-0.992963</td>\n",
       "    </tr>\n",
       "    <tr>\n",
       "      <th>5</th>\n",
       "      <td>-0.001034</td>\n",
       "      <td>1.234511</td>\n",
       "      <td>0.928106</td>\n",
       "    </tr>\n",
       "    <tr>\n",
       "      <th>6</th>\n",
       "      <td>0.655306</td>\n",
       "      <td>-0.797469</td>\n",
       "      <td>-1.827123</td>\n",
       "    </tr>\n",
       "  </tbody>\n",
       "</table>\n",
       "</div>"
      ],
      "text/plain": [
       "          0         1         2\n",
       "0 -2.061982 -0.255181  0.064343\n",
       "1  0.121817  1.170627  0.279092\n",
       "2  0.991460 -0.282933  0.471214\n",
       "3  2.419356  0.501409  0.452233\n",
       "4 -0.123398  0.481885 -0.992963\n",
       "5 -0.001034  1.234511  0.928106\n",
       "6  0.655306 -0.797469 -1.827123"
      ]
     },
     "execution_count": 124,
     "metadata": {},
     "output_type": "execute_result"
    }
   ],
   "source": [
    "df = DF(np.random.randn(7,3))\n",
    "df"
   ]
  },
  {
   "cell_type": "code",
   "execution_count": 129,
   "id": "91fcbaf6-34be-4956-b746-3647341ef7e0",
   "metadata": {
    "tags": []
   },
   "outputs": [
    {
     "data": {
      "text/html": [
       "<div>\n",
       "<style scoped>\n",
       "    .dataframe tbody tr th:only-of-type {\n",
       "        vertical-align: middle;\n",
       "    }\n",
       "\n",
       "    .dataframe tbody tr th {\n",
       "        vertical-align: top;\n",
       "    }\n",
       "\n",
       "    .dataframe thead th {\n",
       "        text-align: right;\n",
       "    }\n",
       "</style>\n",
       "<table border=\"1\" class=\"dataframe\">\n",
       "  <thead>\n",
       "    <tr style=\"text-align: right;\">\n",
       "      <th></th>\n",
       "      <th>0</th>\n",
       "      <th>2</th>\n",
       "    </tr>\n",
       "  </thead>\n",
       "  <tbody>\n",
       "    <tr>\n",
       "      <th>0</th>\n",
       "      <td>-2.061982</td>\n",
       "      <td>0.064343</td>\n",
       "    </tr>\n",
       "    <tr>\n",
       "      <th>1</th>\n",
       "      <td>0.121817</td>\n",
       "      <td>0.279092</td>\n",
       "    </tr>\n",
       "    <tr>\n",
       "      <th>2</th>\n",
       "      <td>0.991460</td>\n",
       "      <td>0.471214</td>\n",
       "    </tr>\n",
       "    <tr>\n",
       "      <th>3</th>\n",
       "      <td>2.419356</td>\n",
       "      <td>0.452233</td>\n",
       "    </tr>\n",
       "  </tbody>\n",
       "</table>\n",
       "</div>"
      ],
      "text/plain": [
       "          0         2\n",
       "0 -2.061982  0.064343\n",
       "1  0.121817  0.279092\n",
       "2  0.991460  0.471214\n",
       "3  2.419356  0.452233"
      ]
     },
     "execution_count": 129,
     "metadata": {},
     "output_type": "execute_result"
    }
   ],
   "source": [
    "df.iloc[:4,[0,2]]"
   ]
  },
  {
   "cell_type": "code",
   "execution_count": 130,
   "id": "ede51370-46ca-4abb-9f76-d7ff20dec012",
   "metadata": {
    "tags": []
   },
   "outputs": [
    {
     "data": {
      "text/plain": [
       "0   -0.255181\n",
       "1    1.170627\n",
       "2   -0.282933\n",
       "3    0.501409\n",
       "Name: 1, dtype: float64"
      ]
     },
     "execution_count": 130,
     "metadata": {},
     "output_type": "execute_result"
    }
   ],
   "source": [
    "df.iloc[:4,1]"
   ]
  },
  {
   "cell_type": "code",
   "execution_count": 131,
   "id": "6624a03b-8000-4712-99d4-a09a1f68f8ce",
   "metadata": {
    "tags": []
   },
   "outputs": [
    {
     "data": {
      "text/html": [
       "<div>\n",
       "<style scoped>\n",
       "    .dataframe tbody tr th:only-of-type {\n",
       "        vertical-align: middle;\n",
       "    }\n",
       "\n",
       "    .dataframe tbody tr th {\n",
       "        vertical-align: top;\n",
       "    }\n",
       "\n",
       "    .dataframe thead th {\n",
       "        text-align: right;\n",
       "    }\n",
       "</style>\n",
       "<table border=\"1\" class=\"dataframe\">\n",
       "  <thead>\n",
       "    <tr style=\"text-align: right;\">\n",
       "      <th></th>\n",
       "      <th>0</th>\n",
       "      <th>1</th>\n",
       "      <th>2</th>\n",
       "    </tr>\n",
       "  </thead>\n",
       "  <tbody>\n",
       "    <tr>\n",
       "      <th>0</th>\n",
       "      <td>-2.061982</td>\n",
       "      <td>NaN</td>\n",
       "      <td>0.064343</td>\n",
       "    </tr>\n",
       "    <tr>\n",
       "      <th>1</th>\n",
       "      <td>0.121817</td>\n",
       "      <td>NaN</td>\n",
       "      <td>0.279092</td>\n",
       "    </tr>\n",
       "    <tr>\n",
       "      <th>2</th>\n",
       "      <td>0.991460</td>\n",
       "      <td>NaN</td>\n",
       "      <td>0.471214</td>\n",
       "    </tr>\n",
       "    <tr>\n",
       "      <th>3</th>\n",
       "      <td>2.419356</td>\n",
       "      <td>NaN</td>\n",
       "      <td>0.452233</td>\n",
       "    </tr>\n",
       "    <tr>\n",
       "      <th>4</th>\n",
       "      <td>-0.123398</td>\n",
       "      <td>0.481885</td>\n",
       "      <td>-0.992963</td>\n",
       "    </tr>\n",
       "    <tr>\n",
       "      <th>5</th>\n",
       "      <td>-0.001034</td>\n",
       "      <td>1.234511</td>\n",
       "      <td>0.928106</td>\n",
       "    </tr>\n",
       "    <tr>\n",
       "      <th>6</th>\n",
       "      <td>0.655306</td>\n",
       "      <td>-0.797469</td>\n",
       "      <td>-1.827123</td>\n",
       "    </tr>\n",
       "  </tbody>\n",
       "</table>\n",
       "</div>"
      ],
      "text/plain": [
       "          0         1         2\n",
       "0 -2.061982       NaN  0.064343\n",
       "1  0.121817       NaN  0.279092\n",
       "2  0.991460       NaN  0.471214\n",
       "3  2.419356       NaN  0.452233\n",
       "4 -0.123398  0.481885 -0.992963\n",
       "5 -0.001034  1.234511  0.928106\n",
       "6  0.655306 -0.797469 -1.827123"
      ]
     },
     "execution_count": 131,
     "metadata": {},
     "output_type": "execute_result"
    }
   ],
   "source": [
    "df.iloc[:4,1] = np.nan\n",
    "df"
   ]
  },
  {
   "cell_type": "code",
   "execution_count": 133,
   "id": "457f017f-b863-46a0-add7-a1e265d7698f",
   "metadata": {
    "tags": []
   },
   "outputs": [
    {
     "data": {
      "text/plain": [
       "0    0.064343\n",
       "1    0.279092\n",
       "Name: 2, dtype: float64"
      ]
     },
     "execution_count": 133,
     "metadata": {},
     "output_type": "execute_result"
    }
   ],
   "source": [
    "df.iloc[:2,2]"
   ]
  },
  {
   "cell_type": "code",
   "execution_count": 134,
   "id": "2acd0b46-b0f9-454e-bb7c-1af8822f90c4",
   "metadata": {
    "tags": []
   },
   "outputs": [
    {
     "data": {
      "text/html": [
       "<div>\n",
       "<style scoped>\n",
       "    .dataframe tbody tr th:only-of-type {\n",
       "        vertical-align: middle;\n",
       "    }\n",
       "\n",
       "    .dataframe tbody tr th {\n",
       "        vertical-align: top;\n",
       "    }\n",
       "\n",
       "    .dataframe thead th {\n",
       "        text-align: right;\n",
       "    }\n",
       "</style>\n",
       "<table border=\"1\" class=\"dataframe\">\n",
       "  <thead>\n",
       "    <tr style=\"text-align: right;\">\n",
       "      <th></th>\n",
       "      <th>0</th>\n",
       "      <th>1</th>\n",
       "      <th>2</th>\n",
       "    </tr>\n",
       "  </thead>\n",
       "  <tbody>\n",
       "    <tr>\n",
       "      <th>0</th>\n",
       "      <td>-2.061982</td>\n",
       "      <td>NaN</td>\n",
       "      <td>NaN</td>\n",
       "    </tr>\n",
       "    <tr>\n",
       "      <th>1</th>\n",
       "      <td>0.121817</td>\n",
       "      <td>NaN</td>\n",
       "      <td>NaN</td>\n",
       "    </tr>\n",
       "    <tr>\n",
       "      <th>2</th>\n",
       "      <td>0.991460</td>\n",
       "      <td>NaN</td>\n",
       "      <td>0.471214</td>\n",
       "    </tr>\n",
       "    <tr>\n",
       "      <th>3</th>\n",
       "      <td>2.419356</td>\n",
       "      <td>NaN</td>\n",
       "      <td>0.452233</td>\n",
       "    </tr>\n",
       "    <tr>\n",
       "      <th>4</th>\n",
       "      <td>-0.123398</td>\n",
       "      <td>0.481885</td>\n",
       "      <td>-0.992963</td>\n",
       "    </tr>\n",
       "    <tr>\n",
       "      <th>5</th>\n",
       "      <td>-0.001034</td>\n",
       "      <td>1.234511</td>\n",
       "      <td>0.928106</td>\n",
       "    </tr>\n",
       "    <tr>\n",
       "      <th>6</th>\n",
       "      <td>0.655306</td>\n",
       "      <td>-0.797469</td>\n",
       "      <td>-1.827123</td>\n",
       "    </tr>\n",
       "  </tbody>\n",
       "</table>\n",
       "</div>"
      ],
      "text/plain": [
       "          0         1         2\n",
       "0 -2.061982       NaN       NaN\n",
       "1  0.121817       NaN       NaN\n",
       "2  0.991460       NaN  0.471214\n",
       "3  2.419356       NaN  0.452233\n",
       "4 -0.123398  0.481885 -0.992963\n",
       "5 -0.001034  1.234511  0.928106\n",
       "6  0.655306 -0.797469 -1.827123"
      ]
     },
     "execution_count": 134,
     "metadata": {},
     "output_type": "execute_result"
    }
   ],
   "source": [
    "df.iloc[:2,2] = NA\n",
    "df"
   ]
  },
  {
   "cell_type": "code",
   "execution_count": 136,
   "id": "d1559319-5f50-433b-86db-cec13a933b11",
   "metadata": {
    "tags": []
   },
   "outputs": [
    {
     "data": {
      "text/plain": [
       "-2.0619822363815947"
      ]
     },
     "execution_count": 136,
     "metadata": {},
     "output_type": "execute_result"
    }
   ],
   "source": [
    "df.iloc[0,0]"
   ]
  },
  {
   "cell_type": "code",
   "execution_count": 137,
   "id": "c96659c4-ca43-4043-94a9-fb9412f5454a",
   "metadata": {
    "tags": []
   },
   "outputs": [
    {
     "data": {
      "text/html": [
       "<div>\n",
       "<style scoped>\n",
       "    .dataframe tbody tr th:only-of-type {\n",
       "        vertical-align: middle;\n",
       "    }\n",
       "\n",
       "    .dataframe tbody tr th {\n",
       "        vertical-align: top;\n",
       "    }\n",
       "\n",
       "    .dataframe thead th {\n",
       "        text-align: right;\n",
       "    }\n",
       "</style>\n",
       "<table border=\"1\" class=\"dataframe\">\n",
       "  <thead>\n",
       "    <tr style=\"text-align: right;\">\n",
       "      <th></th>\n",
       "      <th>0</th>\n",
       "      <th>1</th>\n",
       "      <th>2</th>\n",
       "    </tr>\n",
       "  </thead>\n",
       "  <tbody>\n",
       "    <tr>\n",
       "      <th>0</th>\n",
       "      <td>NaN</td>\n",
       "      <td>NaN</td>\n",
       "      <td>NaN</td>\n",
       "    </tr>\n",
       "    <tr>\n",
       "      <th>1</th>\n",
       "      <td>0.121817</td>\n",
       "      <td>NaN</td>\n",
       "      <td>NaN</td>\n",
       "    </tr>\n",
       "    <tr>\n",
       "      <th>2</th>\n",
       "      <td>0.991460</td>\n",
       "      <td>NaN</td>\n",
       "      <td>0.471214</td>\n",
       "    </tr>\n",
       "    <tr>\n",
       "      <th>3</th>\n",
       "      <td>2.419356</td>\n",
       "      <td>NaN</td>\n",
       "      <td>0.452233</td>\n",
       "    </tr>\n",
       "    <tr>\n",
       "      <th>4</th>\n",
       "      <td>-0.123398</td>\n",
       "      <td>0.481885</td>\n",
       "      <td>-0.992963</td>\n",
       "    </tr>\n",
       "    <tr>\n",
       "      <th>5</th>\n",
       "      <td>-0.001034</td>\n",
       "      <td>1.234511</td>\n",
       "      <td>0.928106</td>\n",
       "    </tr>\n",
       "    <tr>\n",
       "      <th>6</th>\n",
       "      <td>0.655306</td>\n",
       "      <td>-0.797469</td>\n",
       "      <td>-1.827123</td>\n",
       "    </tr>\n",
       "  </tbody>\n",
       "</table>\n",
       "</div>"
      ],
      "text/plain": [
       "          0         1         2\n",
       "0       NaN       NaN       NaN\n",
       "1  0.121817       NaN       NaN\n",
       "2  0.991460       NaN  0.471214\n",
       "3  2.419356       NaN  0.452233\n",
       "4 -0.123398  0.481885 -0.992963\n",
       "5 -0.001034  1.234511  0.928106\n",
       "6  0.655306 -0.797469 -1.827123"
      ]
     },
     "execution_count": 137,
     "metadata": {},
     "output_type": "execute_result"
    }
   ],
   "source": [
    "df.iloc[0,0] = np.nan\n",
    "df"
   ]
  },
  {
   "cell_type": "code",
   "execution_count": 138,
   "id": "5c3dd7fd-5ad8-4271-8268-af8a9e07eb1b",
   "metadata": {
    "tags": []
   },
   "outputs": [
    {
     "data": {
      "text/html": [
       "<div>\n",
       "<style scoped>\n",
       "    .dataframe tbody tr th:only-of-type {\n",
       "        vertical-align: middle;\n",
       "    }\n",
       "\n",
       "    .dataframe tbody tr th {\n",
       "        vertical-align: top;\n",
       "    }\n",
       "\n",
       "    .dataframe thead th {\n",
       "        text-align: right;\n",
       "    }\n",
       "</style>\n",
       "<table border=\"1\" class=\"dataframe\">\n",
       "  <thead>\n",
       "    <tr style=\"text-align: right;\">\n",
       "      <th></th>\n",
       "      <th>0</th>\n",
       "      <th>1</th>\n",
       "      <th>2</th>\n",
       "    </tr>\n",
       "  </thead>\n",
       "  <tbody>\n",
       "    <tr>\n",
       "      <th>4</th>\n",
       "      <td>-0.123398</td>\n",
       "      <td>0.481885</td>\n",
       "      <td>-0.992963</td>\n",
       "    </tr>\n",
       "    <tr>\n",
       "      <th>5</th>\n",
       "      <td>-0.001034</td>\n",
       "      <td>1.234511</td>\n",
       "      <td>0.928106</td>\n",
       "    </tr>\n",
       "    <tr>\n",
       "      <th>6</th>\n",
       "      <td>0.655306</td>\n",
       "      <td>-0.797469</td>\n",
       "      <td>-1.827123</td>\n",
       "    </tr>\n",
       "  </tbody>\n",
       "</table>\n",
       "</div>"
      ],
      "text/plain": [
       "          0         1         2\n",
       "4 -0.123398  0.481885 -0.992963\n",
       "5 -0.001034  1.234511  0.928106\n",
       "6  0.655306 -0.797469 -1.827123"
      ]
     },
     "execution_count": 138,
     "metadata": {},
     "output_type": "execute_result"
    }
   ],
   "source": [
    "df.dropna()"
   ]
  },
  {
   "cell_type": "code",
   "execution_count": 142,
   "id": "2baaa804-43ec-49df-9bdf-a70fd60ea1f0",
   "metadata": {
    "tags": []
   },
   "outputs": [
    {
     "data": {
      "text/html": [
       "<div>\n",
       "<style scoped>\n",
       "    .dataframe tbody tr th:only-of-type {\n",
       "        vertical-align: middle;\n",
       "    }\n",
       "\n",
       "    .dataframe tbody tr th {\n",
       "        vertical-align: top;\n",
       "    }\n",
       "\n",
       "    .dataframe thead th {\n",
       "        text-align: right;\n",
       "    }\n",
       "</style>\n",
       "<table border=\"1\" class=\"dataframe\">\n",
       "  <thead>\n",
       "    <tr style=\"text-align: right;\">\n",
       "      <th></th>\n",
       "      <th>0</th>\n",
       "      <th>1</th>\n",
       "      <th>2</th>\n",
       "    </tr>\n",
       "  </thead>\n",
       "  <tbody>\n",
       "    <tr>\n",
       "      <th>1</th>\n",
       "      <td>0.121817</td>\n",
       "      <td>NaN</td>\n",
       "      <td>NaN</td>\n",
       "    </tr>\n",
       "    <tr>\n",
       "      <th>2</th>\n",
       "      <td>0.991460</td>\n",
       "      <td>NaN</td>\n",
       "      <td>0.471214</td>\n",
       "    </tr>\n",
       "    <tr>\n",
       "      <th>3</th>\n",
       "      <td>2.419356</td>\n",
       "      <td>NaN</td>\n",
       "      <td>0.452233</td>\n",
       "    </tr>\n",
       "    <tr>\n",
       "      <th>4</th>\n",
       "      <td>-0.123398</td>\n",
       "      <td>0.481885</td>\n",
       "      <td>-0.992963</td>\n",
       "    </tr>\n",
       "    <tr>\n",
       "      <th>5</th>\n",
       "      <td>-0.001034</td>\n",
       "      <td>1.234511</td>\n",
       "      <td>0.928106</td>\n",
       "    </tr>\n",
       "    <tr>\n",
       "      <th>6</th>\n",
       "      <td>0.655306</td>\n",
       "      <td>-0.797469</td>\n",
       "      <td>-1.827123</td>\n",
       "    </tr>\n",
       "  </tbody>\n",
       "</table>\n",
       "</div>"
      ],
      "text/plain": [
       "          0         1         2\n",
       "1  0.121817       NaN       NaN\n",
       "2  0.991460       NaN  0.471214\n",
       "3  2.419356       NaN  0.452233\n",
       "4 -0.123398  0.481885 -0.992963\n",
       "5 -0.001034  1.234511  0.928106\n",
       "6  0.655306 -0.797469 -1.827123"
      ]
     },
     "execution_count": 142,
     "metadata": {},
     "output_type": "execute_result"
    }
   ],
   "source": [
    "df.dropna(axis=0,how='all')"
   ]
  },
  {
   "cell_type": "code",
   "execution_count": 143,
   "id": "a46a7f55-43ef-41c5-8469-691b0faa813c",
   "metadata": {
    "tags": []
   },
   "outputs": [
    {
     "data": {
      "text/html": [
       "<div>\n",
       "<style scoped>\n",
       "    .dataframe tbody tr th:only-of-type {\n",
       "        vertical-align: middle;\n",
       "    }\n",
       "\n",
       "    .dataframe tbody tr th {\n",
       "        vertical-align: top;\n",
       "    }\n",
       "\n",
       "    .dataframe thead th {\n",
       "        text-align: right;\n",
       "    }\n",
       "</style>\n",
       "<table border=\"1\" class=\"dataframe\">\n",
       "  <thead>\n",
       "    <tr style=\"text-align: right;\">\n",
       "      <th></th>\n",
       "      <th>0</th>\n",
       "      <th>1</th>\n",
       "      <th>2</th>\n",
       "    </tr>\n",
       "  </thead>\n",
       "  <tbody>\n",
       "    <tr>\n",
       "      <th>0</th>\n",
       "      <td>NaN</td>\n",
       "      <td>NaN</td>\n",
       "      <td>NaN</td>\n",
       "    </tr>\n",
       "    <tr>\n",
       "      <th>1</th>\n",
       "      <td>0.121817</td>\n",
       "      <td>NaN</td>\n",
       "      <td>NaN</td>\n",
       "    </tr>\n",
       "    <tr>\n",
       "      <th>2</th>\n",
       "      <td>0.991460</td>\n",
       "      <td>NaN</td>\n",
       "      <td>0.471214</td>\n",
       "    </tr>\n",
       "    <tr>\n",
       "      <th>3</th>\n",
       "      <td>2.419356</td>\n",
       "      <td>NaN</td>\n",
       "      <td>0.452233</td>\n",
       "    </tr>\n",
       "    <tr>\n",
       "      <th>4</th>\n",
       "      <td>-0.123398</td>\n",
       "      <td>0.481885</td>\n",
       "      <td>-0.992963</td>\n",
       "    </tr>\n",
       "    <tr>\n",
       "      <th>5</th>\n",
       "      <td>-0.001034</td>\n",
       "      <td>1.234511</td>\n",
       "      <td>0.928106</td>\n",
       "    </tr>\n",
       "    <tr>\n",
       "      <th>6</th>\n",
       "      <td>0.655306</td>\n",
       "      <td>-0.797469</td>\n",
       "      <td>-1.827123</td>\n",
       "    </tr>\n",
       "  </tbody>\n",
       "</table>\n",
       "</div>"
      ],
      "text/plain": [
       "          0         1         2\n",
       "0       NaN       NaN       NaN\n",
       "1  0.121817       NaN       NaN\n",
       "2  0.991460       NaN  0.471214\n",
       "3  2.419356       NaN  0.452233\n",
       "4 -0.123398  0.481885 -0.992963\n",
       "5 -0.001034  1.234511  0.928106\n",
       "6  0.655306 -0.797469 -1.827123"
      ]
     },
     "execution_count": 143,
     "metadata": {},
     "output_type": "execute_result"
    }
   ],
   "source": [
    "df.dropna(axis=1,how='all')"
   ]
  },
  {
   "cell_type": "code",
   "execution_count": 144,
   "id": "85f2c54b-132f-47cd-ab7b-541cd55ce784",
   "metadata": {
    "tags": []
   },
   "outputs": [
    {
     "data": {
      "text/html": [
       "<div>\n",
       "<style scoped>\n",
       "    .dataframe tbody tr th:only-of-type {\n",
       "        vertical-align: middle;\n",
       "    }\n",
       "\n",
       "    .dataframe tbody tr th {\n",
       "        vertical-align: top;\n",
       "    }\n",
       "\n",
       "    .dataframe thead th {\n",
       "        text-align: right;\n",
       "    }\n",
       "</style>\n",
       "<table border=\"1\" class=\"dataframe\">\n",
       "  <thead>\n",
       "    <tr style=\"text-align: right;\">\n",
       "      <th></th>\n",
       "      <th>0</th>\n",
       "      <th>1</th>\n",
       "      <th>2</th>\n",
       "    </tr>\n",
       "  </thead>\n",
       "  <tbody>\n",
       "    <tr>\n",
       "      <th>2</th>\n",
       "      <td>0.991460</td>\n",
       "      <td>NaN</td>\n",
       "      <td>0.471214</td>\n",
       "    </tr>\n",
       "    <tr>\n",
       "      <th>3</th>\n",
       "      <td>2.419356</td>\n",
       "      <td>NaN</td>\n",
       "      <td>0.452233</td>\n",
       "    </tr>\n",
       "    <tr>\n",
       "      <th>4</th>\n",
       "      <td>-0.123398</td>\n",
       "      <td>0.481885</td>\n",
       "      <td>-0.992963</td>\n",
       "    </tr>\n",
       "    <tr>\n",
       "      <th>5</th>\n",
       "      <td>-0.001034</td>\n",
       "      <td>1.234511</td>\n",
       "      <td>0.928106</td>\n",
       "    </tr>\n",
       "    <tr>\n",
       "      <th>6</th>\n",
       "      <td>0.655306</td>\n",
       "      <td>-0.797469</td>\n",
       "      <td>-1.827123</td>\n",
       "    </tr>\n",
       "  </tbody>\n",
       "</table>\n",
       "</div>"
      ],
      "text/plain": [
       "          0         1         2\n",
       "2  0.991460       NaN  0.471214\n",
       "3  2.419356       NaN  0.452233\n",
       "4 -0.123398  0.481885 -0.992963\n",
       "5 -0.001034  1.234511  0.928106\n",
       "6  0.655306 -0.797469 -1.827123"
      ]
     },
     "execution_count": 144,
     "metadata": {},
     "output_type": "execute_result"
    }
   ],
   "source": [
    "df.dropna(thresh=2)"
   ]
  },
  {
   "cell_type": "code",
   "execution_count": 148,
   "id": "73527c58-d9ee-4fd2-824d-8641fa4e54bd",
   "metadata": {
    "tags": []
   },
   "outputs": [
    {
     "data": {
      "text/html": [
       "<div>\n",
       "<style scoped>\n",
       "    .dataframe tbody tr th:only-of-type {\n",
       "        vertical-align: middle;\n",
       "    }\n",
       "\n",
       "    .dataframe tbody tr th {\n",
       "        vertical-align: top;\n",
       "    }\n",
       "\n",
       "    .dataframe thead th {\n",
       "        text-align: right;\n",
       "    }\n",
       "</style>\n",
       "<table border=\"1\" class=\"dataframe\">\n",
       "  <thead>\n",
       "    <tr style=\"text-align: right;\">\n",
       "      <th></th>\n",
       "      <th>0</th>\n",
       "      <th>1</th>\n",
       "      <th>2</th>\n",
       "    </tr>\n",
       "  </thead>\n",
       "  <tbody>\n",
       "    <tr>\n",
       "      <th>0</th>\n",
       "      <td>NaN</td>\n",
       "      <td>NaN</td>\n",
       "      <td>NaN</td>\n",
       "    </tr>\n",
       "    <tr>\n",
       "      <th>1</th>\n",
       "      <td>0.121817</td>\n",
       "      <td>NaN</td>\n",
       "      <td>NaN</td>\n",
       "    </tr>\n",
       "    <tr>\n",
       "      <th>2</th>\n",
       "      <td>0.991460</td>\n",
       "      <td>NaN</td>\n",
       "      <td>0.471214</td>\n",
       "    </tr>\n",
       "    <tr>\n",
       "      <th>3</th>\n",
       "      <td>2.419356</td>\n",
       "      <td>NaN</td>\n",
       "      <td>0.452233</td>\n",
       "    </tr>\n",
       "    <tr>\n",
       "      <th>4</th>\n",
       "      <td>-0.123398</td>\n",
       "      <td>0.481885</td>\n",
       "      <td>-0.992963</td>\n",
       "    </tr>\n",
       "    <tr>\n",
       "      <th>5</th>\n",
       "      <td>-0.001034</td>\n",
       "      <td>1.234511</td>\n",
       "      <td>0.928106</td>\n",
       "    </tr>\n",
       "    <tr>\n",
       "      <th>6</th>\n",
       "      <td>0.655306</td>\n",
       "      <td>-0.797469</td>\n",
       "      <td>-1.827123</td>\n",
       "    </tr>\n",
       "  </tbody>\n",
       "</table>\n",
       "</div>"
      ],
      "text/plain": [
       "          0         1         2\n",
       "0       NaN       NaN       NaN\n",
       "1  0.121817       NaN       NaN\n",
       "2  0.991460       NaN  0.471214\n",
       "3  2.419356       NaN  0.452233\n",
       "4 -0.123398  0.481885 -0.992963\n",
       "5 -0.001034  1.234511  0.928106\n",
       "6  0.655306 -0.797469 -1.827123"
      ]
     },
     "execution_count": 148,
     "metadata": {},
     "output_type": "execute_result"
    }
   ],
   "source": [
    "df"
   ]
  },
  {
   "cell_type": "markdown",
   "id": "70b94b84-a0a8-4409-967d-af45f3d2a330",
   "metadata": {},
   "source": [
    "### 결측치 대체 df.fillna({첫번째열:대체값,두번째열:대체값,...}) "
   ]
  },
  {
   "cell_type": "code",
   "execution_count": 147,
   "id": "271657ab-a7b9-470d-a1e4-726f76bb5b4f",
   "metadata": {
    "tags": []
   },
   "outputs": [
    {
     "data": {
      "text/html": [
       "<div>\n",
       "<style scoped>\n",
       "    .dataframe tbody tr th:only-of-type {\n",
       "        vertical-align: middle;\n",
       "    }\n",
       "\n",
       "    .dataframe tbody tr th {\n",
       "        vertical-align: top;\n",
       "    }\n",
       "\n",
       "    .dataframe thead th {\n",
       "        text-align: right;\n",
       "    }\n",
       "</style>\n",
       "<table border=\"1\" class=\"dataframe\">\n",
       "  <thead>\n",
       "    <tr style=\"text-align: right;\">\n",
       "      <th></th>\n",
       "      <th>0</th>\n",
       "      <th>1</th>\n",
       "      <th>2</th>\n",
       "    </tr>\n",
       "  </thead>\n",
       "  <tbody>\n",
       "    <tr>\n",
       "      <th>0</th>\n",
       "      <td>100.000000</td>\n",
       "      <td>0.500000</td>\n",
       "      <td>0.700000</td>\n",
       "    </tr>\n",
       "    <tr>\n",
       "      <th>1</th>\n",
       "      <td>0.121817</td>\n",
       "      <td>0.500000</td>\n",
       "      <td>0.700000</td>\n",
       "    </tr>\n",
       "    <tr>\n",
       "      <th>2</th>\n",
       "      <td>0.991460</td>\n",
       "      <td>0.500000</td>\n",
       "      <td>0.471214</td>\n",
       "    </tr>\n",
       "    <tr>\n",
       "      <th>3</th>\n",
       "      <td>2.419356</td>\n",
       "      <td>0.500000</td>\n",
       "      <td>0.452233</td>\n",
       "    </tr>\n",
       "    <tr>\n",
       "      <th>4</th>\n",
       "      <td>-0.123398</td>\n",
       "      <td>0.481885</td>\n",
       "      <td>-0.992963</td>\n",
       "    </tr>\n",
       "    <tr>\n",
       "      <th>5</th>\n",
       "      <td>-0.001034</td>\n",
       "      <td>1.234511</td>\n",
       "      <td>0.928106</td>\n",
       "    </tr>\n",
       "    <tr>\n",
       "      <th>6</th>\n",
       "      <td>0.655306</td>\n",
       "      <td>-0.797469</td>\n",
       "      <td>-1.827123</td>\n",
       "    </tr>\n",
       "  </tbody>\n",
       "</table>\n",
       "</div>"
      ],
      "text/plain": [
       "            0         1         2\n",
       "0  100.000000  0.500000  0.700000\n",
       "1    0.121817  0.500000  0.700000\n",
       "2    0.991460  0.500000  0.471214\n",
       "3    2.419356  0.500000  0.452233\n",
       "4   -0.123398  0.481885 -0.992963\n",
       "5   -0.001034  1.234511  0.928106\n",
       "6    0.655306 -0.797469 -1.827123"
      ]
     },
     "execution_count": 147,
     "metadata": {},
     "output_type": "execute_result"
    }
   ],
   "source": [
    "df.fillna({0:100,1:0.5,2:0.7})"
   ]
  },
  {
   "cell_type": "markdown",
   "id": "b47e5083-a2da-48ff-b949-d9cfc06b7bac",
   "metadata": {},
   "source": [
    "### List "
   ]
  },
  {
   "cell_type": "code",
   "execution_count": 149,
   "id": "a0413afe-287b-4ce5-8d0d-f3e85e67afea",
   "metadata": {
    "tags": []
   },
   "outputs": [],
   "source": [
    "shop_lst = []"
   ]
  },
  {
   "cell_type": "code",
   "execution_count": 150,
   "id": "67be3ca5-00c3-4d33-8964-b42e102492c5",
   "metadata": {
    "tags": []
   },
   "outputs": [
    {
     "data": {
      "text/plain": [
       "['milk']"
      ]
     },
     "execution_count": 150,
     "metadata": {},
     "output_type": "execute_result"
    }
   ],
   "source": [
    "shop_lst.append('milk')\n",
    "shop_lst"
   ]
  },
  {
   "cell_type": "code",
   "execution_count": 151,
   "id": "82feffef-b050-40ba-a92e-89f0da63eadf",
   "metadata": {
    "tags": []
   },
   "outputs": [
    {
     "data": {
      "text/plain": [
       "['milk', 't', 'w', 'o']"
      ]
     },
     "execution_count": 151,
     "metadata": {},
     "output_type": "execute_result"
    }
   ],
   "source": [
    "shop_lst.extend('two')\n",
    "shop_lst"
   ]
  },
  {
   "cell_type": "code",
   "execution_count": 152,
   "id": "914a7515-f149-40bf-ab65-35a302a24a46",
   "metadata": {
    "tags": []
   },
   "outputs": [
    {
     "data": {
      "text/plain": [
       "['milk', 'bread', 'w', 'o']"
      ]
     },
     "execution_count": 152,
     "metadata": {},
     "output_type": "execute_result"
    }
   ],
   "source": [
    "shop_lst[1] = 'bread'\n",
    "shop_lst"
   ]
  },
  {
   "cell_type": "code",
   "execution_count": 153,
   "id": "1235363e-2a56-4dce-8567-087b45c5af2c",
   "metadata": {
    "tags": []
   },
   "outputs": [
    {
     "data": {
      "text/plain": [
       "['milk', 'bread', 'cheese', 'o']"
      ]
     },
     "execution_count": 153,
     "metadata": {},
     "output_type": "execute_result"
    }
   ],
   "source": [
    "shop_lst[2] = 'cheese'\n",
    "shop_lst"
   ]
  },
  {
   "cell_type": "markdown",
   "id": "70aa02f2-ab84-4f3a-9b28-eb19fae2893e",
   "metadata": {},
   "source": [
    "### list.remove(\"값\") "
   ]
  },
  {
   "cell_type": "code",
   "execution_count": 154,
   "id": "d390012f-8d7e-4c16-9d00-91675c96522e",
   "metadata": {
    "tags": []
   },
   "outputs": [],
   "source": [
    "shop_lst.remove('o')"
   ]
  },
  {
   "cell_type": "code",
   "execution_count": 155,
   "id": "42989e46-180b-43fa-9033-07d5ce79ba8a",
   "metadata": {
    "tags": []
   },
   "outputs": [
    {
     "data": {
      "text/plain": [
       "['milk', 'bread', 'cheese']"
      ]
     },
     "execution_count": 155,
     "metadata": {},
     "output_type": "execute_result"
    }
   ],
   "source": [
    "shop_lst"
   ]
  },
  {
   "cell_type": "code",
   "execution_count": 156,
   "id": "6754b440-4921-4702-9e0c-4f1b27b9c1dd",
   "metadata": {
    "tags": []
   },
   "outputs": [
    {
     "name": "stdout",
     "output_type": "stream",
     "text": [
      "milk\n",
      "bread\n",
      "cheese\n"
     ]
    }
   ],
   "source": [
    "for i in shop_lst:\n",
    "    print(i)"
   ]
  },
  {
   "cell_type": "code",
   "execution_count": 161,
   "id": "ab4a70e8-7711-4a59-85b4-ef05cddf4cf9",
   "metadata": {
    "tags": []
   },
   "outputs": [
    {
     "name": "stdout",
     "output_type": "stream",
     "text": [
      "0 milk\n",
      "1 bread\n",
      "2 cheese\n"
     ]
    }
   ],
   "source": [
    "for i,j in enumerate(shop_lst):\n",
    "    print(i, j)"
   ]
  },
  {
   "cell_type": "code",
   "execution_count": 163,
   "id": "58aed185-f948-49d8-a261-6f2e6693ba4f",
   "metadata": {
    "tags": []
   },
   "outputs": [
    {
     "ename": "AttributeError",
     "evalue": "'list' object has no attribute 'isin'",
     "output_type": "error",
     "traceback": [
      "\u001b[1;31m---------------------------------------------------------------------------\u001b[0m",
      "\u001b[1;31mAttributeError\u001b[0m                            Traceback (most recent call last)",
      "Cell \u001b[1;32mIn[163], line 1\u001b[0m\n\u001b[1;32m----> 1\u001b[0m \u001b[38;5;28;01mif\u001b[39;00m \u001b[43mshop_lst\u001b[49m\u001b[38;5;241;43m.\u001b[39;49m\u001b[43misin\u001b[49m([\u001b[38;5;124m'\u001b[39m\u001b[38;5;124mmilk\u001b[39m\u001b[38;5;124m'\u001b[39m]):\n\u001b[0;32m      2\u001b[0m     \u001b[38;5;28mprint\u001b[39m(\u001b[38;5;124m'\u001b[39m\u001b[38;5;124mgood\u001b[39m\u001b[38;5;124m'\u001b[39m)\n",
      "\u001b[1;31mAttributeError\u001b[0m: 'list' object has no attribute 'isin'"
     ]
    }
   ],
   "source": [
    "if shop_lst.isin(['milk']):\n",
    "    print('good')"
   ]
  },
  {
   "cell_type": "code",
   "execution_count": 164,
   "id": "70494f1f-05ca-4396-a157-c45109169db8",
   "metadata": {
    "tags": []
   },
   "outputs": [
    {
     "name": "stdout",
     "output_type": "stream",
     "text": [
      "good\n"
     ]
    }
   ],
   "source": [
    "if 'milk' in shop_lst:\n",
    "    print('good')"
   ]
  },
  {
   "cell_type": "code",
   "execution_count": 165,
   "id": "2b8f84af-6cd3-48dd-885e-31563958d277",
   "metadata": {
    "tags": []
   },
   "outputs": [],
   "source": [
    "if 'milk' not in shop_lst:\n",
    "    print('Well')"
   ]
  },
  {
   "cell_type": "code",
   "execution_count": null,
   "id": "a548b983-b561-4428-8ed0-960130e5b174",
   "metadata": {},
   "outputs": [],
   "source": []
  },
  {
   "cell_type": "markdown",
   "id": "2149ad63-8ed2-467c-a272-ff5dc2239f4b",
   "metadata": {},
   "source": [
    "### DICT{key:value, key:value, ...} "
   ]
  },
  {
   "cell_type": "code",
   "execution_count": 166,
   "id": "40948fe4-a0ed-4565-8a4c-c4c7c35b92b9",
   "metadata": {
    "tags": []
   },
   "outputs": [],
   "source": [
    "foods = {}"
   ]
  },
  {
   "cell_type": "code",
   "execution_count": 167,
   "id": "fa6743e3-a94e-4dd7-8055-acb1394ada4a",
   "metadata": {
    "tags": []
   },
   "outputs": [
    {
     "data": {
      "text/plain": [
       "{'banana': 'delicious'}"
      ]
     },
     "execution_count": 167,
     "metadata": {},
     "output_type": "execute_result"
    }
   ],
   "source": [
    "foods['banana'] = 'delicious'\n",
    "foods"
   ]
  },
  {
   "cell_type": "code",
   "execution_count": 168,
   "id": "11e17620-d81c-483e-bb92-f3f7a6a9035c",
   "metadata": {
    "tags": []
   },
   "outputs": [
    {
     "data": {
      "text/plain": [
       "{'banana': 'delicious', 'dirt': 'Not delicious'}"
      ]
     },
     "execution_count": 168,
     "metadata": {},
     "output_type": "execute_result"
    }
   ],
   "source": [
    "foods['dirt'] = 'Not delicious'\n",
    "foods"
   ]
  },
  {
   "cell_type": "code",
   "execution_count": 170,
   "id": "556bb850-bb6e-4a23-9050-9ceca6343dea",
   "metadata": {
    "tags": []
   },
   "outputs": [
    {
     "data": {
      "text/plain": [
       "dict_keys(['banana', 'dirt'])"
      ]
     },
     "execution_count": 170,
     "metadata": {},
     "output_type": "execute_result"
    }
   ],
   "source": [
    "foods.keys()"
   ]
  },
  {
   "cell_type": "code",
   "execution_count": 172,
   "id": "593283b7-d649-4539-8d2a-4593594a9748",
   "metadata": {
    "tags": []
   },
   "outputs": [
    {
     "data": {
      "text/plain": [
       "dict_values(['delicious', 'Not delicious'])"
      ]
     },
     "execution_count": 172,
     "metadata": {},
     "output_type": "execute_result"
    }
   ],
   "source": [
    "foods.values()"
   ]
  },
  {
   "cell_type": "code",
   "execution_count": 173,
   "id": "19b2fd0e-61bd-4c62-9a4a-67eadb08011b",
   "metadata": {
    "tags": []
   },
   "outputs": [
    {
     "data": {
      "text/plain": [
       "dict_items([('banana', 'delicious'), ('dirt', 'Not delicious')])"
      ]
     },
     "execution_count": 173,
     "metadata": {},
     "output_type": "execute_result"
    }
   ],
   "source": [
    "foods.items()"
   ]
  },
  {
   "cell_type": "code",
   "execution_count": 174,
   "id": "d9f0948c-ed57-4f6b-93f1-db84e61c3549",
   "metadata": {
    "tags": []
   },
   "outputs": [
    {
     "data": {
      "text/plain": [
       "'delicious'"
      ]
     },
     "execution_count": 174,
     "metadata": {},
     "output_type": "execute_result"
    }
   ],
   "source": [
    "foods['banana']"
   ]
  },
  {
   "cell_type": "code",
   "execution_count": 175,
   "id": "5bc22124-476a-4644-bfd3-6b099372c108",
   "metadata": {
    "tags": []
   },
   "outputs": [
    {
     "name": "stdout",
     "output_type": "stream",
     "text": [
      "good\n"
     ]
    }
   ],
   "source": [
    "if 'banana' in foods:\n",
    "    print('good')"
   ]
  },
  {
   "cell_type": "code",
   "execution_count": 177,
   "id": "e8f53ed4-642c-48c8-80a3-980ef50901ed",
   "metadata": {
    "tags": []
   },
   "outputs": [
    {
     "name": "stdout",
     "output_type": "stream",
     "text": [
      "sad\n"
     ]
    }
   ],
   "source": [
    "if 'apple' in foods:\n",
    "    print('good')\n",
    "else:\n",
    "    print('sad')"
   ]
  },
  {
   "cell_type": "markdown",
   "id": "d6d2c0da-76d9-40f9-8319-cbedc25c5d0e",
   "metadata": {},
   "source": [
    "### del dict['key']  특정 딕셔너리 삭제 "
   ]
  },
  {
   "cell_type": "code",
   "execution_count": 182,
   "id": "c8cb3b52-1d4b-476d-ada2-58ac0d79b75c",
   "metadata": {
    "tags": []
   },
   "outputs": [
    {
     "ename": "KeyError",
     "evalue": "'dirt'",
     "output_type": "error",
     "traceback": [
      "\u001b[1;31m---------------------------------------------------------------------------\u001b[0m",
      "\u001b[1;31mKeyError\u001b[0m                                  Traceback (most recent call last)",
      "Cell \u001b[1;32mIn[182], line 1\u001b[0m\n\u001b[1;32m----> 1\u001b[0m \u001b[38;5;28;01mdel\u001b[39;00m foods[\u001b[38;5;124m'\u001b[39m\u001b[38;5;124mdirt\u001b[39m\u001b[38;5;124m'\u001b[39m]\n\u001b[0;32m      2\u001b[0m foods\n",
      "\u001b[1;31mKeyError\u001b[0m: 'dirt'"
     ]
    }
   ],
   "source": [
    "del foods['dirt']\n",
    "foods"
   ]
  },
  {
   "cell_type": "markdown",
   "id": "1482ca56-6c69-411a-af15-3a90a7f8e0b6",
   "metadata": {},
   "source": [
    "## *** File 다루기 *** "
   ]
  },
  {
   "cell_type": "markdown",
   "id": "85f87e20-82ff-4558-b772-93118c5d64a7",
   "metadata": {},
   "source": [
    "### 강사님 블로그 : https://blog.naver.com/ojunny62/221794769702"
   ]
  },
  {
   "cell_type": "code",
   "execution_count": 185,
   "id": "4a838fe9-c1f5-4f08-b9ee-2fd22027f824",
   "metadata": {
    "collapsed": true,
    "jupyter": {
     "outputs_hidden": true
    },
    "tags": []
   },
   "outputs": [
    {
     "name": "stdout",
     "output_type": "stream",
     "text": [
      "Evie Pulsford - April Cross\n",
      "Matilda Condon - April Cross\n",
      "Samantha Mansell - Champion\n",
      "geronima trevisani - cherry belle\n",
      "Alexandra Shoebridge - Snow Belle\n",
      "Sarah Ahuia Ova - Snow Belle\n",
      "Emma Slattery - Bunny Tail\n",
      "Fabiana  Milanesi - Champion\n",
      "Makayla McMinn - Snow Belle\n",
      "Julian O'Leary - Sicily Giant\n",
      "Hannah Collie - Bunny Tail\n",
      "Toby Lundie - Plum Purple\n",
      "Baldo Palerma - Champion\n",
      "Phoebe Barwell - Plum Purple\n",
      "Sheng Shen - Champion\n",
      "Jonathan Rolph - Snow Belle\n",
      "Aaron Yarnold - Red King\n",
      "Indiana angwin -  Daikon \n",
      "Luke Komine - White Icicle\n",
      "Blake Ricardo - Daikon\n",
      "Mikayla Biddell - Daikon\n",
      "Piper Wheelwright - Bunny Tail\n",
      "Bailey Derrington - White Icicle\n",
      "Eufrosina Ferri - Daikon\n",
      "Madeleine Abrahams - Daikon\n",
      "Indiana Cowper - Sicily Giant\n",
      "Procopio Zito - Red King\n",
      "Ryan Langley - French Breakfast\n",
      "anthony Gairdner - French Breakfast\n",
      "Darcy Kayser - Champion\n",
      "Adelmo De Luca - Plum Purple\n",
      "Sienna Hovell - Champion\n",
      "Mary Cardell - April Cross\n",
      "Ebony Agnes - Daikon\n",
      "Lola Atkinson - Plum Purple\n",
      "Jonathan Walton - Champion\n",
      "Tristan Gwynn - Red King\n",
      "Jackson Longman - Red King\n",
      "Archer Dodds - April Cross\n",
      "Lilian Burne - French Breakfast\n",
      "Ava McNaughtan - April Cross\n",
      "Nate Shelley - Daikon\n",
      "Antonia Buccho - Champion\n",
      "Kaitlyn Rudduck - Cherry Belle\n",
      "Skye Thynne - Champion\n",
      "Ethan Collings - Plum Purple\n",
      "Finn Leverrier - Plum Purple\n",
      "Lee T'an - Plum Purple\n",
      "Tyler Forbes - White Icicle\n",
      "abbey dunkley -  plum purple\n",
      "rose stacy - french breakfast\n",
      "Gianfranco Cremonesi - White Icicle\n",
      "Grace Wentworth - French Breakfast\n",
      "Cooper Menkens -  Snow Belle\n",
      "Scarlett Macdougall - French Breakfast\n",
      "Fabio Pugliesi - Bunny Tail\n",
      "Keira Wrenfordsley - Red King\n",
      "Daniel Krimper -  Plum Purple\n",
      "Anna Deniehy - April Cross\n",
      "Sabrina Beneventi - Cherry Belle\n",
      "Oliver Potts - Snow Belle\n",
      "Milla Winn - Plum Purple\n",
      "Finn Whitworth - Sicily Giant\n",
      "Sophie Keynes - Plum Purple\n",
      "Joel Brownell - Plum Purple\n",
      "Jonathan Parsons - French Breakfast \n",
      "Amelia Ellwood - Snow Belle\n",
      "Lincoln Gatehouse - Bunny Tail\n",
      "Jin Huang - Daikon\n",
      "Kuan-Yin Sun - Champion\n",
      "Tao Hsiao - White Icicle\n",
      "Emily Walters - White Icicle\n",
      "nicholas kirby - french breakfast\n",
      "Hong Tsui - April Cross\n",
      "Mikayla Fullagar - Cherry Belle\n",
      "Lola Catchpole - April Cross\n",
      "Lelia Toscani - Bunny Tail\n",
      "Natasha Prout - Cherry Belle\n",
      "Raffaello Schiavone - Red King\n",
      "Erin Stephen - Plum Purple\n",
      "Eve Peacock - Daikon\n",
      "Jordan Manning - Sicily Giant\n",
      "Tyler Lister - April Cross\n",
      "brodie agnew - daikon\n",
      "Lincoln Hirschfeld - Champion\n",
      "Ciriaca Genovesi - Bunny Tail\n",
      "Dewei Niu - Snow Belle\n",
      "Fai Teng - Bunny Tail\n",
      "Rossana Cattaneo -  Snow Belle\n",
      "Isabelle Coombes - Daikon\n",
      "Layla Hitchcock - Red King\n",
      "Ashley Brigstocke - Red King\n",
      "Lei Tai - Daikon\n",
      "Victoria Humffray - Sicily Giant\n",
      "Jake Champ - Daikon\n",
      "Ben Vosper - Cherry Belle\n",
      "Harrison Rose - Red King\n",
      "Thomas Oom - White Icicle\n",
      "Sophie Browning - Red King\n",
      "Scarlett Hughes - Bunny Tail\n",
      "Anthony Collits - Champion\n",
      "Alicia Forrest - Sicily Giant\n",
      "Riley Leakey - April Cross\n",
      "Bethany Calwell - French Breakfast\n",
      "Leo Sheil - April Cross\n",
      "Kai MacMahon - April Cross\n",
      "Rong Kuo - Champion\n",
      "Stephanie Schnaars - White Icicle\n",
      "Bethany Bardolph - French Breakfast\n",
      "Guido Beneventi - French Breakfast\n",
      "Victoria Witt - Daikon\n",
      "Jun Hsiung - Bunny Tail\n",
      "Noah Berrick - Daikon\n",
      "Beato Mazzanti - Sicily Giant\n",
      "Anna Denning - White Icicle\n",
      "Sebastian George - Cherry Belle\n",
      "Mackenzie Andrade - Champion\n",
      "Sarah Joris  - Champion \n",
      "Joel Cassell - Plum Purple\n",
      "Harrison Moowattin - Champion\n",
      "william fenner - plum purple\n",
      "Madeline Corbin - Bunny Tail\n",
      "Sebastian Davitt - Champion\n",
      "Li Qin Ch'ien - Sicily Giant\n",
      "Owen Lea - Champion\n",
      "Liam Copeland - Champion\n",
      "Brianna Eltham - Sicily Giant\n",
      "Joseph Gresswell - Sicily Giant\n",
      "Alfonsina Marchesi - April Cross\n",
      "Caitlin Houlding - Snow Belle\n",
      "Natalie Schlapp - April Cross\n",
      "Shaiming Fu - Champion\n",
      "Lisandro Monaldo - Champion\n",
      "Ruby Fox - White Icicle\n",
      "Benjamin Rankin - Snow Belle\n",
      "Connor Letters - April Cross\n",
      "Laura Macdowell - Daikon\n",
      "Jake Hervey - April Cross\n",
      "Alyssa Batman - Snow Belle\n",
      "Archer Larra - French Breakfast\n",
      "Brayden Dixon - Bunny Tail\n",
      "Kuan-Yin Kuo - Cherry Belle\n",
      "Lucy Ley - Red King\n",
      "Rachele  Russo - Cherry Belle\n",
      "Lucy Somers - Daikon\n",
      "Ella Boucaut - Champion\n",
      "Iacopo Baresi - Bunny Tail\n",
      "Ali Dedman - White Icicle\n",
      "Victoria Edinburgh - French Breakfast\n",
      "Brianna Pye - Red King\n",
      "Joel Bruce - Snow Belle\n",
      "Lola Lea - Bunny Tail\n",
      "Zachary Burford - Champion\n",
      "Gabriella Bruton - April Cross\n",
      "Finn Dunstan - Cherry Belle\n",
      "Logan Truchanas - Red King\n",
      "beau mclarty - white icicle\n",
      "Carla De Luca - Daikon\n",
      "Taylah Reynolds - Champion\n",
      "Ava Musgrave - Bunny Tail\n",
      "Jade Grimmett - Bunny Tail\n",
      "Eliza Fink - April Cross\n",
      "Charles Tearle - April Cross\n",
      "Victoria Birch - Snow Belle\n",
      "Mackenzie Geach - Plum Purple\n",
      "Charles Card - Cherry Belle\n",
      "Olivia Warnes - Sicily Giant\n",
      "Jake Murdoch - Cherry Belle\n",
      "Brayden Massina - April Cross\n",
      "Sarah Milford - White Icicle\n",
      "Lilian Pike - French Breakfast \n",
      "Blake Dakin - Champion\n",
      "Chi Hsiung - April Cross\n",
      "Ludovica Siciliano - Sicily Giant\n",
      "Rose Leahy - French Breakfast\n",
      "Nicodemo Udinese - Bunny Tail\n",
      "Amy Harriman - Sicily Giant\n",
      "Harrison Macgeorge - Red King\n",
      "Charles Mockridge - Cherry Belle\n",
      "Victoria Hardie  - Sicily Giant\n",
      "Jake Hambly - Sicily Giant \n",
      "Bartolomeo Mancini - French Breakfast\n",
      "Maya Shackleton - Snow Belle\n",
      "Hudson Dodgshun - White Icicle\n",
      "Scarlett Sullivan - Snow Belle\n",
      "Noah Doyne - April cross\n",
      "Aidan Santo - Bunny Tail \n",
      "kai emmett - bunny tail\n",
      "Christopher Gillan - Daikon\n",
      "Lara Salting - White Icicle\n",
      "Alfonso Costa - Daikon \n",
      "Mackenzie Knatchbull - Red King\n",
      "Oliver Beit - Plum Purple\n",
      "Thomas Muecke - French Breakfast\n",
      "Sabrina Li Fonti - Bunny Tail\n",
      "Jasmine Brake - Snow Belle\n",
      "Sienna Bonnor - Daikon\n",
      "Isabelle Llewelyn - Daikon\n",
      "Amelie Farber - White Icicle\n",
      "Keira Horner - Red King\n",
      "Annabelle Colechin - French Breakfast\n",
      "George Schlunke - Daikon\n",
      "Hugo Stretch - French Breakfast\n",
      "Isabella Pardey - White Icicle\n",
      "Toby Docker - Red King\n",
      "Caitlyn Hotchin - French Breakfast\n",
      "Samuel Ansell - Sicily Giant\n",
      "Prospero Milano - Champion\n",
      "Zhi Chin - White Icicle\n",
      "nate brooker - daikon\n",
      "Elizabeth McNab - April Cross\n",
      "Amelie Torpy - Champion\n",
      "Audrey Bock - Bunny Tail\n",
      "Abbey Dawson - Plum Purple\n",
      "Hugo Coppleson - Daikon\n",
      "Lilly Tait - Red King\n",
      "Archer Frederick - April Cross\n",
      "Alvisio Mazzi - April Cross\n",
      "Chloe  MacLaurin - Champion\n",
      "Georgia Bruny - April Cross\n",
      "Caitlyn Mullah - White Icicle\n",
      "Gang Chia - Red King\n",
      "Lauren Pennefather - French Breakfast\n",
      "Fang Ch'eng - Cherry Belle\n",
      "Summer Withers - Snow Belle\n",
      "Kayla Sievier - Snow Belle\n",
      "Edoardo Sal - Champion\n",
      "Layla Fossey - April Cross\n",
      "Ella Weston - Champion\n",
      "Patrick Camidge - French Breakfast\n",
      "Erin Stretton - French Breakfast\n",
      "Poppy Duggan - Champion\n",
      "Daniel Hogben - Daikon\n",
      "Wan Tsai - Snow Belle\n",
      "Olimpia Udinesi - April Cross\n",
      "Xue Fang Fu - Daikon\n",
      "Alyssa McInnes - Daikon\n",
      "Connor Morphett - Plum Purple\n",
      "Nathan Trott - French Breakfast\n",
      "Brock Brunker - Bunny Tail\n",
      "Hayden O'Connell - French Breakfast\n",
      "James  Larra - April Cross\n",
      "Eva Geiger - Plum Purple\n",
      "Taj Shackell - White Icicle\n",
      "Eliza O'Haran - Champion\n",
      "Aidan Dore - April Cross\n",
      "Aiden Reginald - Plum Purple\n",
      "Bruna Rizzo - Snow Belle\n",
      "Alex Wemyss - April Cross\n",
      "claudia westgarth - daikon\n",
      "Jett Glynde - Plum Purple\n",
      "Brooke Huffer - Daikon\n",
      "Stephanie Synan - Sicily Giant\n",
      "Salvatore Sagese - French Breakfast\n",
      "Edgardo Mazzanti - Daikon\n",
      "Brodie De Lissa - Cherry Belle\n",
      "Cai Pan - Sicily Giant\n",
      "Caitlyn Ridgeway - Sicily Giant\n",
      "Mason Dymock - Plum Purple\n",
      "Oliviero Lucchesi - Bunny Tail\n",
      "Antonietta Baresi - Cherry Belle\n",
      "Abbey Cousens - Daikon\n",
      "Hui Hsiung - Cherry Belle\n",
      "Marcus Brown - Sicily Giant\n",
      "James Poupinel - Daikon\n",
      "Lucas Tomkinson - Champion\n",
      "Xin Qian Shih - White Icicle\n",
      "Abigail Clark - White Icicle\n",
      "Archie Gilfillan - French Breakfast\n",
      "maya woolcock - april cross\n",
      "Wei Hsiao - Daikon\n",
      "Lauren Rosevear - Red King\n",
      "Eve Gargett - Snow Belle\n",
      "Cristian Pisano - Champion\n",
      "Bianca Knopwood - White Icicle\n",
      "Alyssa Loewe - Daikon\n",
      "Feng Li - French Breakfast\n",
      "Yi Min Chu - Plum Purple\n",
      "Aiden Tasman - Red King\n",
      "corinna lucchese - champion\n",
      "Taylah Shore - Cherry Belle\n",
      "nilde beneventi - french breakfast\n",
      "edward greener - bunny tail\n",
      "Nate Lodewyckx - Sicily Giant\n",
      "Mariam Langridge - Red King\n",
      "Indiana Cory - Champion\n",
      "David Rees - April Cross\n",
      "Daniel Appleton - Red King\n",
      "Luke Leeper - Red King\n",
      "Toby Spring - French Breakfast \n",
      "Cody Laffer - Red King\n",
      "Lilian Woodriff - Plum Purple\n",
      "hudson crane - sicily giant\n",
      "Anthony Wand - Bunny Tail\n",
      "Dean Mattner - Red King\n",
      "Lucinda Howarde - Sicily Giant\n",
      "Caleb Clancy - Red King \n",
      "Mia Legg - White Icicle\n",
      "Isla Mehaffey - Sicily Giant\n",
      "Cooper Lasseter - April Cross\n",
      "Indiana Scott - Cherry Belle\n",
      "Kaitlyn Kay - French Breakfast\n",
      "Abbey Aronson - April Cross\n",
      "Madeleine Hartung - Snow Belle\n",
      "Abbey Tyas - Red King\n",
      "Jacob Spowers - Snow Belle\n",
      "Brodie Fraser - French Breakfast\n",
      "Ivo Lucchesi - Champion\n",
      "Harry Wormald - French Breakfast \n",
      "Lilian Macquarie - White Icicle\n",
      "Chelsea Warby - Bunny Tail\n",
      "Eugenio Pagnotto - Sicily Giant\n",
      "Michael Hargrave - Cherry Belle\n",
      "Leda Romani - April Cross\n",
      "Christopher Walton - Champion\n",
      "Zachary Bass - White Icicle\n",
      "jorja franklyn - white icicle\n",
      "Makayla Sutton - Plum Purple\n",
      "Shu Fang Tsou - French Breakfast\n",
      "Evie Carey - Bunny Tail\n",
      "Alannah Bleakley - Bunny Tail\n",
      "Alma Longo - Cherry Belle\n",
      "Abbey Garvin - Snow Belle\n",
      "Isabella Van De Velde - Plum Purple\n",
      "scarlett price - april cross\n",
      "Beau Hauslaib - Champion\n",
      "Isabelle Mathew - Sicily Giant\n",
      "Laura Callinan - Cherry Belle\n",
      "Cody Le Rennetel - French Breakfast\n",
      "Rachel Luke - Snow Belle\n",
      "Tristan Glynde - Snow Belle\n",
      "Qiao Tien - Bunny Tail\n",
      "Alana Meares - Red King\n",
      "Xiao Chen Chiang - Sicily Giant\n",
      "Jack Finlay - Cherry Belle\n",
      "Jaxon Keen  - Plum Purple\n",
      "Jordan Catani - Plum Purple\n",
      "Piera Trevisan - Red King\n",
      "Bailey Mussen - Bunny Tail\n",
      "Hayley Coverdale - White Icicle\n",
      "Sophie Eipper - Snow Belle\n",
      "Beata Endrizzi - Daikon\n",
      "David Moynihan - White Icicle\n",
      "Andrew Martens - French Breakfast\n",
      "Nate Higgs - Red King\n",
      "Isaac Banks - Snow Belle\n",
      "Xavier Sligo - Champion\n",
      "Nathan Aird  - Plum Purple\n",
      "Cooper Monk - Bunny Tail\n",
      "Kayla Kinsella - Champion\n",
      "Sean Maclurcan - Sicily Giant\n",
      "Jett Faucett - April Cross\n",
      "Koby Mary - Red King\n",
      "Lok Fan - Champion\n",
      "Liam Burn - French Breakfast\n",
      "Ryan Skeats - Snow Belle\n",
      "Harrison Barlee - Cherry Belle\n",
      "Marcus South - Champion\n",
      "Emily Kumm -  White Icicle\n",
      "Tristan Lack - Cherry Belle\n",
      "Rebecca Godfrey - Red King\n",
      "Bailey Randell - Red King\n",
      "Emma Slater - Bunny Tail\n",
      "Ellie Eaton - Sicily Giant\n",
      "Hamish Kevin - Sicily Giant\n",
      "Bella Lyttle - Bunny Tail\n",
      "Guang Lo - April Cross\n",
      "Jai Keith - Daikon\n",
      "Lucinda Emanuel - Plum Purple\n",
      "Tayla English - Plum Purple\n",
      "Eden Petchy - Daikon\n",
      "Lee Chen - April Cross\n",
      "Angus De Mestre - White Icicle\n",
      "Maya Huish - Snow Belle\n",
      "Emily Plante - White Icicle\n",
      "Connor Fairbridge - Bunny Tail\n",
      "Lara Cawker - Champion\n",
      "Blanda Panicucci - Bunny Tail\n",
      "Napoleone Marcelo - Champion\n",
      "Georgia Gillen - Snow Belle\n",
      "Giselda Napolitano - French Breakfast\n",
      "Anthony Hugo - Red King\n",
      "Oscar Saltau - April Cross\n",
      "Ashton Pearce - Daikon\n",
      "Kiara Maxwell-Mahon - White Icicle\n",
      "Sebastian Ball - French Breakfast\n",
      "Anna Howarde - Bunny Tail\n",
      "Lauren Nisbet - Plum Purple\n",
      "Patrick Porteus - Bunny Tail\n",
      "ling tuan - Red King\n",
      "Park Ch'en - Sicily Giant\n",
      "Yi Tseng - French Breakfast\n",
      "Angelina Dangar - Snow Belle\n",
      "Carolina Cattaneo - Snow Belle\n",
      "Sean Tait - Snow Belle\n",
      "Alex Falk - White Icicle\n",
      "oliver thirkell - french breakfast\n",
      "Jesse Fairley - Champion\n",
      "Benito Cocci - Snow Belle\n",
      "Laura Samuels - Champion\n",
      "Kuan-Yin Tao - Cherry Belle\n",
      "Shi She - Champion\n",
      "Isabella Hoffnung - April Cross\n",
      "George Carandini - White Icicle\n",
      "Sarah Bindi - French Breakfast\n",
      "Andrew Quick - April Cross\n",
      "Giosu챔 Romano - Champion\n",
      "Eva Ruth - Plum Purple\n",
      "Koby Gabriel - Champion\n",
      "Jayden Josephson - April Cross\n",
      "Mafalda Marchesi - Snow Belle \n",
      "Gabrielle Porteus - Daikon\n",
      "Dylan Synnot - Red King\n",
      "Brooke Kisch - Bunny Tail\n",
      "Quintilia Trentini - Bunny Tail\n",
      "Taj Moonlight - Plum Purple\n",
      "Ava Sorell - Bunny Tail\n",
      "Kate Buchanan - Sicily Giant\n",
      "Stella Inwood - Cherry Belle\n",
      "Cody Glauert - Snow Belle\n",
      "Callimaco Lombardi - Champion\n",
      "ella irving - cherry belle\n",
      "Guan-yin Hsiao - Red King\n",
      "alicia muscio - april cross\n",
      "Alana Sturdee - Champion\n",
      "Makayla Fairbairn - White Icicle\n",
      "Kaitlyn Collings - Bunny Tail\n",
      "Alexis Le Hunte - Champion\n",
      "lilian andrade - bunny tail\n",
      "Alannah Housley - Bunny Tail\n",
      "Rose Peeler - Champion\n",
      "Yue Wan Yeh - White Icicle\n",
      "Evie Langwell - Snow Belle\n",
      "Zoe Jasprizza - Red King\n",
      "Ivo Sagese - April Cross\n",
      "Rory Springthorpe - Snow Belle\n",
      "hannah gabriel - red king\n",
      "Jonathan Paten - Bunny Tail\n",
      "Jessica Rapke - Sicily Giant\n",
      "Jake Sterne - Daikon\n",
      "Lola Mashman - Bunny Tail\n",
      "Chan Yen - Cherry Belle\n",
      "Timothy Beeton - White Icicle\n",
      "Joseph Hill - Daikon\n",
      "Luke Gye - Plum Purple\n",
      "Giuseppe Manna - Sicily Giant\n",
      "Matilda Wardlaw - Red King\n",
      "Hannah Dibbs - Plum Purple\n",
      "Xavier Truman - French Breakfast\n",
      "Emma Sodersten - April Cross\n",
      "Blake Sodersten - French Breakfast\n",
      "Andrew Schwarz - Cherry Belle\n",
      "Owen Montgomery - Snow Belle\n",
      "Blake Hurst - White Icicle\n",
      "Brayden Brill - Cherry Belle\n",
      "Keira Strzelecki - Champion\n",
      "Zhen Juan Tsai - White Icicle\n",
      "Mulan Kung - Red King\n",
      "Clorinda Pugliesi - Champion\n",
      "Abbey Strzelecki - French Breakfast\n",
      "Andrew Howitt - April Cross\n",
      "Sebastian Langford - Cherry  Belle \n",
      "hayley Hinchcliffe - Cherry Belle\n",
      "Ebony Anton - Sicily Giant\n",
      "Seth Reginald - April Cross\n",
      "Beau Gosling - Plum Purple\n",
      "Christopher Moss - White Icicle\n",
      "laura uhr - red king\n",
      "Jamie Faithful -  Red King\n",
      "Isaac Tennyson - Daikon\n",
      "Gemma Norton -  Sicily Giant\n",
      "Matilda Madden - Red King\n",
      "Azeglio Napolitano - Red King\n",
      "David Tomlinson - Bunny Tail\n",
      "Christian Morris - Champion\n",
      "Amy Goulburn - April Cross\n",
      "Christopher Clunies - April Cross\n",
      "annabelle armytage - daikon\n",
      "Hunter Connely - Snow Belle\n",
      "Summer Stenhouse - April Cross\n",
      "Alicia Farmer - White Icicle\n",
      "Charlotte Slattery - Red King\n",
      "Georgia Jessop - Cherry Belle\n",
      "Abby Metters - Champion\n",
      "Madeleine Behan - Snow Belle\n",
      "Hayley Kernot - Plum Purple\n",
      "Ubaldo Trevisani - Champion\n",
      "Annabelle Scarfe - Cherry Belle\n",
      "Flynn Weingarth - Sicily Giant\n",
      "Indiana Keast - April Cross\n",
      "Wang Tien - French Breakfast\n",
      "Elijah Kingsbury - Plum Purple\n",
      "henry wright - sicily giant\n",
      "Meng Ni - Snow Belle\n",
      "Sara Coffill - Sicily Giant\n",
      "Giusy Lombardi - Plum  Purple\n",
      "Egidio Mancini - Sicily Giant\n",
      "Bethany Macfarlan - Bunny Tail\n",
      "Alexis Cowlishaw - Bunny Tail\n",
      "Skye Garvin - April Cross\n",
      "Abbey Rivett - Snow Belle\n",
      "Mikayla Woollacott - Sicily Giant\n",
      "Abbey Cochran - Daikon\n",
      "Jasmine Baughan - White Icicle\n",
      "Da-Xia Liang - April Cross\n",
      "Dominic Nangle - White Icicle\n",
      "Jesse Jury - Sicily Giant\n",
      "Ruby Elias - Daikon\n",
      "David Read - Bunny Tail\n",
      "Yue Yan T'ang - April Cross\n",
      "Qiang Tsui - Cherry Belle\n",
      "Grace Parkinson - Snow Belle\n",
      "Yue Yan Hu - White Icicle\n",
      "Adele Buccho - White Icicle\n",
      "Imogen Gertrude - Bunny Tail\n",
      "Kate Cyril - April Cross\n",
      "Zoe Canning - Plum Purple\n",
      "Imogen Gaunson - Bunny Tail\n",
      "Brayden Stretch - April Cross\n",
      "Jian Ts'ao - Plum Purple\n",
      "Gabriella Titheradge - Red King\n",
      "Alexis Nesbitt - Daikon\n",
      "Galeazzo Milanesi - Champion\n",
      "Eve Everingham - Daikon\n",
      "on h챗 - snow belle\n",
      "Archie Mathy - White Icicle\n",
      "Skye Reynolds - French Breakfast\n",
      "Ben Denovan - April Cross\n",
      "Pia Folliero - White Icicle\n",
      "Archie Michelides - Cherry Belle\n",
      "zane pavy - bunny tail\n",
      "Ramiro Esposito - Daikon\n",
      "Brock Eames - Daikon\n",
      "Savannah Sheehan - French Breakfast\n",
      "angus christie - french breakfast\n",
      "Dominic Tregurtha - Cherry Belle\n",
      "Molly Piguenit - Plum Purple\n",
      "matthew john - snow belle\n",
      "Koby Ledger - White Icicle\n",
      "Jasper Harper - White Icicle\n",
      "William Doyle  - French Breakfast\n",
      "Taj Maria - Sicily Giant\n",
      "Michael Elliot - April Cross\n",
      "Matthew Knibbs - Sicily Giant\n",
      "Patrick Tilly - White Icicle\n",
      "Sarah Kashiwagi - Bunny Tail\n",
      "Abbey Bouton - Champion\n",
      "Kayla Sandover - Bunny Tail\n",
      "Anna Septimus - French Breakfast\n",
      "Matthew Birch - Champion\n",
      "Mikayla Kennerley - French Breakfast\n",
      "Charli Birkbeck - Daikon\n",
      "Matilda Gullett - Champion\n",
      "Ella McLellan - April Cross\n",
      "Silvia Rossi - Plum Purple\n",
      "Chan Juan Hs체 - French Breakfast\n",
      "Oliver Aspinall -  Cherry Belle\n",
      "Timothy Baldwinson - Bunny Tail\n",
      "Li Wei Chien - Snow Belle\n",
      "Bethany Layh - French Breakfast\n",
      "Gang Hsu - April Cross\n",
      "Mikayla Brodney - Champion\n",
      "Kuan-Yin Mao - Daikon\n",
      "Elizabeth Minifie - Champion\n",
      "Sarah Band - Sicily Giant\n",
      "Tyson Kaberry - French Breakfast\n",
      "Victoria Shipp - Cherry Belle\n",
      "Henry McCorkindale - French Breakfast\n",
      "William De Satg - Snow Belle\n",
      "Skye Atkins - Cherry Belle\n",
      "Sean Hogben - Champion\n",
      "Claire Boelke - Cherry Belle\n",
      "Tristan Turley - Snow Belle\n",
      "Tyler Hansen - Champion\n",
      "Caleb Ride - Bunny Tail\n",
      "Archer Cathcart - April Cross\n",
      "Hamish Helena  - French Breakfast\n",
      "Agostino Milanesi - April Cross\n",
      "lilly wunderlich - french breakfast\n",
      "Brooke Mahomet - Sicily Giant\n",
      "Seth Bramston - Daikon\n",
      "Archer Kirwan - Cherry Belle\n",
      "Ettore Marcelo - Champion\n",
      "Blake D'Alton - Sicily Giant\n",
      "Jai Burgoyne - Bunny Tail\n",
      "Mikayla Minogue - April Cross\n",
      "Thomas Catt - April Cross\n",
      "Oscar Cocci - Daikon\n",
      "Claudia Boxall - Plum Purple\n",
      "Imogen Macaulay - Snow Belle\n",
      "Tyson Platt - Bunny Tail\n",
      "Isabelle Camden - White Icicle\n",
      "Kiara Maxted - Daikon\n",
      "Raffaella Trevisan - Daikon\n",
      "Xiang Hs체 - Plum Purple\n",
      "Hudson Greene - Bunny Tail\n",
      "Ruby Wakefield - Cherry Belle\n",
      "Matilda Macarthur-Onslow - Plum Purple\n",
      "Jasmine Fetherstonhaugh - Snow Belle\n",
      "Andrew Bower - Bunny Tail\n",
      "Olindo De Luca - Cherry Belle\n",
      "Alexis Kelynack - French Breakfast\n",
      "Amy Clunie - White Icicle\n",
      "Kang Yu - Cherry Belle\n",
      "Henry Birdseye - Snow Belle\n",
      "dominic gale - april cross\n",
      "Edward Edmond - Snow Belle\n",
      "Raul Pinto - Cherry Belle\n",
      "Laura Bath - Red King\n",
      "John Bale - Cherry Belle\n",
      "Margherita Milani - Red King\n",
      "Hudson Devine - Champion\n",
      "Jaxon Cowles - Sicily Giant\n",
      "Cameron Embley - Sicily Giant\n",
      "Laura Wawn - Cherry Belle\n",
      "Li Ming Niu - Cherry Belle\n",
      "Eden Sheehan - Cherry Belle\n",
      "Taj Bjelke-Petersen - French Breakfast\n",
      "Declan Winston - White Icicle\n",
      "Chan Chao - Red King\n",
      "mikayla hebblethwaite - sicily giant\n",
      "Tristan Monson - Cherry Belle\n",
      "Leah Ross-Watt - Plum Purple\n",
      "Hu K'ung - Daikon\n",
      "Kaitlyn Carnegie - Champion\n",
      "Victoria Brereton - Plum Purple\n",
      "Keira Toutcher - Cherry Belle\n",
      "David Morgans - Daikon\n",
      "Norma Fiorentino - Red King\n",
      "Sarah Paten - Sicily  Giant\n",
      "Zac Cowles - Sicily Giant\n",
      "Brock Fiaschi - French Breakfast\n",
      "Eliza Naylor - French Breakfast\n",
      "Imogen Raws - Red King\n",
      "Jesse Abercrombie - Snow Belle\n",
      "James Luke - White Icicle\n",
      "Riley Stewart - White Icicle\n",
      "amelia blue - white icicle\n",
      "Cameron Pearce - Red King\n",
      "Ennio DeRose - French Breakfast\n",
      "Samuel Henschke - Sicily Giant\n",
      "Blake MacFarland - Cherry Belle\n",
      "Mary Randall - Cherry Belle\n",
      "luce de luca - snow belle\n",
      "Marcus Derbyshire - Bunny Tail\n",
      "Hunter McEachern - Bunny Tail\n",
      "Jasper Gibney - French Breakfast\n",
      "Lincoln  Hoare - French Breakfast\n",
      "Sofia Donnithorne - Snow Belle\n",
      "Anthony Stuart - Snow Belle\n",
      "Hamish Yarnold - April Cross\n",
      "Lucas Schuler - Plum Purple\n",
      "Milla Garling - French Breakfast\n",
      "Abigail Wiltshire - Bunny Tail\n",
      "Zane Wreford - Snow Belle\n",
      "Sean Glew - Daikon\n",
      "Ryan Aird - Red King\n",
      "Jasper Harford - Champion \n",
      "Charlie McCabe - Bunny Tail\n",
      "Rory Evenden - White Icicle\n",
      "Ebony Florence - Snow Belle\n",
      "Flynn Poninski - Daikon\n",
      "Ebony Lawlor - Bunny Tail\n",
      "Ethan Dickson - Bunny Tail\n",
      "Xavier Howchin - Bunny Tail\n",
      "Zane Weindorfer - Cherry Belle\n",
      "Sienna Dann - Snow Belle\n",
      "Eleuterio Lombardo - White Icicle\n",
      "Tyler Makutz - Champion\n",
      "Yong Hsiao - White Icicle\n",
      "Erin Binnie - Bunny Tail\n",
      "Phoebe Barwell - Plum Purple\n",
      "Dylan Barney - French Breakfast\n",
      "Tristan Charteris - April Cross\n",
      "Sebastian Helmore - Bunny Tail\n",
      "Thomas Darcy - Bunny Tail\n",
      "Quinzia Costa - Daikon\n",
      "Da-Xia Hsiao - French Breakfast\n",
      "Grace Frayne - Sicily Giant\n",
      "Toby Queale - White Icicle\n",
      "Logan Lackey - Plum Purple\n",
      "na t'ao - french breakfast\n",
      "Callum Prentice - Plum Purple\n",
      "Levi Ferry - Sicily Giant\n",
      "Hsin Tan - April Cross\n",
      "Lara Macarthur - French Breakfast\n",
      "Scarlett Bruny - Champion\n",
      "Procopio Zito - white icicle\n",
      "Jamie Ham - Bunny Tail\n",
      "Kaitlyn Mullen - Daikon\n",
      "Cameron Landseer - April Cross\n",
      "Jasper Alfred - White Icicle\n",
      "Andrew Coventry -  Cherry Belle\n",
      "Scarlett Schonell - Plum Purple\n",
      "Mia Alngindabu - Champion\n",
      "Claire Bisdee - Daikon\n",
      "Gabriella Beale - Cherry Belle\n",
      "Rebecca Petrie - Snow Belle\n",
      "Alexander McKean - Bunny Tail\n",
      "Cody Leakey - Plum Purple\n",
      "Sam Scarfe - Sicily Giant\n",
      "Angus Langley - French Breakfast\n",
      "Shi Shen - Sicily Giant\n",
      "Park Wu - Champion\n",
      "Isabelle Finney - April Cross\n",
      "Aaron Addison - Plum Purple\n",
      "Ethan Macdougall - Champion\n",
      "cody vale - red king\n",
      "Aidan Clutterbuck - French Breakfast\n",
      "Durante Ferri - White Icicle\n",
      "eliana baresi - white icicle\n"
     ]
    }
   ],
   "source": [
    "!type radishsurvey.txt"
   ]
  },
  {
   "cell_type": "markdown",
   "id": "4fcd2b5b-5e0f-4d20-96eb-da7fb6c287e6",
   "metadata": {},
   "source": [
    "### strip() 문자열 및 공백 제거 \n",
    "### data.strip('앞뒤 공백제거')\n",
    "### data.strip('문자열 제거')\n",
    "#### data.lstrip('시작문자열 제거')\n",
    "#### data.rstrip('종료문자열 제거')"
   ]
  },
  {
   "cell_type": "code",
   "execution_count": 186,
   "id": "80bd87ab-43d6-40d0-a457-b95319065f9a",
   "metadata": {
    "collapsed": true,
    "jupyter": {
     "outputs_hidden": true
    },
    "tags": []
   },
   "outputs": [
    {
     "name": "stdout",
     "output_type": "stream",
     "text": [
      "Evie Pulsford   April Cross\n",
      "Matilda Condon   April Cross\n",
      "Samantha Mansell   Champion\n",
      "geronima trevisani   cherry belle\n",
      "Alexandra Shoebridge   Snow Belle\n",
      "Sarah Ahuia Ova   Snow Belle\n",
      "Emma Slattery   Bunny Tail\n",
      "Fabiana  Milanesi   Champion\n",
      "Makayla McMinn   Snow Belle\n",
      "Julian O'Leary   Sicily Giant\n",
      "Hannah Collie   Bunny Tail\n",
      "Toby Lundie   Plum Purple\n",
      "Baldo Palerma   Champion\n",
      "Phoebe Barwell   Plum Purple\n",
      "Sheng Shen   Champion\n",
      "Jonathan Rolph   Snow Belle\n",
      "Aaron Yarnold   Red King\n",
      "Indiana angwin    Daikon\n",
      "Luke Komine   White Icicle\n",
      "Blake Ricardo   Daikon\n",
      "Mikayla Biddell   Daikon\n",
      "Piper Wheelwright   Bunny Tail\n",
      "Bailey Derrington   White Icicle\n",
      "Eufrosina Ferri   Daikon\n",
      "Madeleine Abrahams   Daikon\n",
      "Indiana Cowper   Sicily Giant\n",
      "Procopio Zito   Red King\n",
      "Ryan Langley   French Breakfast\n",
      "anthony Gairdner   French Breakfast\n",
      "Darcy Kayser   Champion\n",
      "Adelmo De Luca   Plum Purple\n",
      "Sienna Hovell   Champion\n",
      "Mary Cardell   April Cross\n",
      "Ebony Agnes   Daikon\n",
      "Lola Atkinson   Plum Purple\n",
      "Jonathan Walton   Champion\n",
      "Tristan Gwynn   Red King\n",
      "Jackson Longman   Red King\n",
      "Archer Dodds   April Cross\n",
      "Lilian Burne   French Breakfast\n",
      "Ava McNaughtan   April Cross\n",
      "Nate Shelley   Daikon\n",
      "Antonia Buccho   Champion\n",
      "Kaitlyn Rudduck   Cherry Belle\n",
      "Skye Thynne   Champion\n",
      "Ethan Collings   Plum Purple\n",
      "Finn Leverrier   Plum Purple\n",
      "Lee T'an   Plum Purple\n",
      "Tyler Forbes   White Icicle\n",
      "abbey dunkley    plum purple\n",
      "rose stacy   french breakfast\n",
      "Gianfranco Cremonesi   White Icicle\n",
      "Grace Wentworth   French Breakfast\n",
      "Cooper Menkens    Snow Belle\n",
      "Scarlett Macdougall   French Breakfast\n",
      "Fabio Pugliesi   Bunny Tail\n",
      "Keira Wrenfordsley   Red King\n",
      "Daniel Krimper    Plum Purple\n",
      "Anna Deniehy   April Cross\n",
      "Sabrina Beneventi   Cherry Belle\n",
      "Oliver Potts   Snow Belle\n",
      "Milla Winn   Plum Purple\n",
      "Finn Whitworth   Sicily Giant\n",
      "Sophie Keynes   Plum Purple\n",
      "Joel Brownell   Plum Purple\n",
      "Jonathan Parsons   French Breakfast\n",
      "Amelia Ellwood   Snow Belle\n",
      "Lincoln Gatehouse   Bunny Tail\n",
      "Jin Huang   Daikon\n",
      "Kuan Yin Sun \n",
      "Tao Hsiao   White Icicle\n",
      "Emily Walters   White Icicle\n",
      "nicholas kirby   french breakfast\n",
      "Hong Tsui   April Cross\n",
      "Mikayla Fullagar   Cherry Belle\n",
      "Lola Catchpole   April Cross\n",
      "Lelia Toscani   Bunny Tail\n",
      "Natasha Prout   Cherry Belle\n",
      "Raffaello Schiavone   Red King\n",
      "Erin Stephen   Plum Purple\n",
      "Eve Peacock   Daikon\n",
      "Jordan Manning   Sicily Giant\n",
      "Tyler Lister   April Cross\n",
      "brodie agnew   daikon\n",
      "Lincoln Hirschfeld   Champion\n",
      "Ciriaca Genovesi   Bunny Tail\n",
      "Dewei Niu   Snow Belle\n",
      "Fai Teng   Bunny Tail\n",
      "Rossana Cattaneo    Snow Belle\n",
      "Isabelle Coombes   Daikon\n",
      "Layla Hitchcock   Red King\n",
      "Ashley Brigstocke   Red King\n",
      "Lei Tai   Daikon\n",
      "Victoria Humffray   Sicily Giant\n",
      "Jake Champ   Daikon\n",
      "Ben Vosper   Cherry Belle\n",
      "Harrison Rose   Red King\n",
      "Thomas Oom   White Icicle\n",
      "Sophie Browning   Red King\n",
      "Scarlett Hughes   Bunny Tail\n",
      "Anthony Collits   Champion\n",
      "Alicia Forrest   Sicily Giant\n",
      "Riley Leakey   April Cross\n",
      "Bethany Calwell   French Breakfast\n",
      "Leo Sheil   April Cross\n",
      "Kai MacMahon   April Cross\n",
      "Rong Kuo   Champion\n",
      "Stephanie Schnaars   White Icicle\n",
      "Bethany Bardolph   French Breakfast\n",
      "Guido Beneventi   French Breakfast\n",
      "Victoria Witt   Daikon\n",
      "Jun Hsiung   Bunny Tail\n",
      "Noah Berrick   Daikon\n",
      "Beato Mazzanti   Sicily Giant\n",
      "Anna Denning   White Icicle\n",
      "Sebastian George   Cherry Belle\n",
      "Mackenzie Andrade   Champion\n",
      "Sarah Joris    Champion\n",
      "Joel Cassell   Plum Purple\n",
      "Harrison Moowattin   Champion\n",
      "william fenner   plum purple\n",
      "Madeline Corbin   Bunny Tail\n",
      "Sebastian Davitt   Champion\n",
      "Li Qin Ch'ien   Sicily Giant\n",
      "Owen Lea   Champion\n",
      "Liam Copeland   Champion\n",
      "Brianna Eltham   Sicily Giant\n",
      "Joseph Gresswell   Sicily Giant\n",
      "Alfonsina Marchesi   April Cross\n",
      "Caitlin Houlding   Snow Belle\n",
      "Natalie Schlapp   April Cross\n",
      "Shaiming Fu   Champion\n",
      "Lisandro Monaldo   Champion\n",
      "Ruby Fox   White Icicle\n",
      "Benjamin Rankin   Snow Belle\n",
      "Connor Letters   April Cross\n",
      "Laura Macdowell   Daikon\n",
      "Jake Hervey   April Cross\n",
      "Alyssa Batman   Snow Belle\n",
      "Archer Larra   French Breakfast\n",
      "Brayden Dixon   Bunny Tail\n",
      "Kuan Yin Kuo \n",
      "Lucy Ley   Red King\n",
      "Rachele  Russo   Cherry Belle\n",
      "Lucy Somers   Daikon\n",
      "Ella Boucaut   Champion\n",
      "Iacopo Baresi   Bunny Tail\n",
      "Ali Dedman   White Icicle\n",
      "Victoria Edinburgh   French Breakfast\n",
      "Brianna Pye   Red King\n",
      "Joel Bruce   Snow Belle\n",
      "Lola Lea   Bunny Tail\n",
      "Zachary Burford   Champion\n",
      "Gabriella Bruton   April Cross\n",
      "Finn Dunstan   Cherry Belle\n",
      "Logan Truchanas   Red King\n",
      "beau mclarty   white icicle\n",
      "Carla De Luca   Daikon\n",
      "Taylah Reynolds   Champion\n",
      "Ava Musgrave   Bunny Tail\n",
      "Jade Grimmett   Bunny Tail\n",
      "Eliza Fink   April Cross\n",
      "Charles Tearle   April Cross\n",
      "Victoria Birch   Snow Belle\n",
      "Mackenzie Geach   Plum Purple\n",
      "Charles Card   Cherry Belle\n",
      "Olivia Warnes   Sicily Giant\n",
      "Jake Murdoch   Cherry Belle\n",
      "Brayden Massina   April Cross\n",
      "Sarah Milford   White Icicle\n",
      "Lilian Pike   French Breakfast\n",
      "Blake Dakin   Champion\n",
      "Chi Hsiung   April Cross\n",
      "Ludovica Siciliano   Sicily Giant\n",
      "Rose Leahy   French Breakfast\n",
      "Nicodemo Udinese   Bunny Tail\n",
      "Amy Harriman   Sicily Giant\n",
      "Harrison Macgeorge   Red King\n",
      "Charles Mockridge   Cherry Belle\n",
      "Victoria Hardie    Sicily Giant\n",
      "Jake Hambly   Sicily Giant\n",
      "Bartolomeo Mancini   French Breakfast\n",
      "Maya Shackleton   Snow Belle\n",
      "Hudson Dodgshun   White Icicle\n",
      "Scarlett Sullivan   Snow Belle\n",
      "Noah Doyne   April cross\n",
      "Aidan Santo   Bunny Tail\n",
      "kai emmett   bunny tail\n",
      "Christopher Gillan   Daikon\n",
      "Lara Salting   White Icicle\n",
      "Alfonso Costa   Daikon\n",
      "Mackenzie Knatchbull   Red King\n",
      "Oliver Beit   Plum Purple\n",
      "Thomas Muecke   French Breakfast\n",
      "Sabrina Li Fonti   Bunny Tail\n",
      "Jasmine Brake   Snow Belle\n",
      "Sienna Bonnor   Daikon\n",
      "Isabelle Llewelyn   Daikon\n",
      "Amelie Farber   White Icicle\n",
      "Keira Horner   Red King\n",
      "Annabelle Colechin   French Breakfast\n",
      "George Schlunke   Daikon\n",
      "Hugo Stretch   French Breakfast\n",
      "Isabella Pardey   White Icicle\n",
      "Toby Docker   Red King\n",
      "Caitlyn Hotchin   French Breakfast\n",
      "Samuel Ansell   Sicily Giant\n",
      "Prospero Milano   Champion\n",
      "Zhi Chin   White Icicle\n",
      "nate brooker   daikon\n",
      "Elizabeth McNab   April Cross\n",
      "Amelie Torpy   Champion\n",
      "Audrey Bock   Bunny Tail\n",
      "Abbey Dawson   Plum Purple\n",
      "Hugo Coppleson   Daikon\n",
      "Lilly Tait   Red King\n",
      "Archer Frederick   April Cross\n",
      "Alvisio Mazzi   April Cross\n",
      "Chloe  MacLaurin   Champion\n",
      "Georgia Bruny   April Cross\n",
      "Caitlyn Mullah   White Icicle\n",
      "Gang Chia   Red King\n",
      "Lauren Pennefather   French Breakfast\n",
      "Fang Ch'eng   Cherry Belle\n",
      "Summer Withers   Snow Belle\n",
      "Kayla Sievier   Snow Belle\n",
      "Edoardo Sal   Champion\n",
      "Layla Fossey   April Cross\n",
      "Ella Weston   Champion\n",
      "Patrick Camidge   French Breakfast\n",
      "Erin Stretton   French Breakfast\n",
      "Poppy Duggan   Champion\n",
      "Daniel Hogben   Daikon\n",
      "Wan Tsai   Snow Belle\n",
      "Olimpia Udinesi   April Cross\n",
      "Xue Fang Fu   Daikon\n",
      "Alyssa McInnes   Daikon\n",
      "Connor Morphett   Plum Purple\n",
      "Nathan Trott   French Breakfast\n",
      "Brock Brunker   Bunny Tail\n",
      "Hayden O'Connell   French Breakfast\n",
      "James  Larra   April Cross\n",
      "Eva Geiger   Plum Purple\n",
      "Taj Shackell   White Icicle\n",
      "Eliza O'Haran   Champion\n",
      "Aidan Dore   April Cross\n",
      "Aiden Reginald   Plum Purple\n",
      "Bruna Rizzo   Snow Belle\n",
      "Alex Wemyss   April Cross\n",
      "claudia westgarth   daikon\n",
      "Jett Glynde   Plum Purple\n",
      "Brooke Huffer   Daikon\n",
      "Stephanie Synan   Sicily Giant\n",
      "Salvatore Sagese   French Breakfast\n",
      "Edgardo Mazzanti   Daikon\n",
      "Brodie De Lissa   Cherry Belle\n",
      "Cai Pan   Sicily Giant\n",
      "Caitlyn Ridgeway   Sicily Giant\n",
      "Mason Dymock   Plum Purple\n",
      "Oliviero Lucchesi   Bunny Tail\n",
      "Antonietta Baresi   Cherry Belle\n",
      "Abbey Cousens   Daikon\n",
      "Hui Hsiung   Cherry Belle\n",
      "Marcus Brown   Sicily Giant\n",
      "James Poupinel   Daikon\n",
      "Lucas Tomkinson   Champion\n",
      "Xin Qian Shih   White Icicle\n",
      "Abigail Clark   White Icicle\n",
      "Archie Gilfillan   French Breakfast\n",
      "maya woolcock   april cross\n",
      "Wei Hsiao   Daikon\n",
      "Lauren Rosevear   Red King\n",
      "Eve Gargett   Snow Belle\n",
      "Cristian Pisano   Champion\n",
      "Bianca Knopwood   White Icicle\n",
      "Alyssa Loewe   Daikon\n",
      "Feng Li   French Breakfast\n",
      "Yi Min Chu   Plum Purple\n",
      "Aiden Tasman   Red King\n",
      "corinna lucchese   champion\n",
      "Taylah Shore   Cherry Belle\n",
      "nilde beneventi   french breakfast\n",
      "edward greener   bunny tail\n",
      "Nate Lodewyckx   Sicily Giant\n",
      "Mariam Langridge   Red King\n",
      "Indiana Cory   Champion\n",
      "David Rees   April Cross\n",
      "Daniel Appleton   Red King\n",
      "Luke Leeper   Red King\n",
      "Toby Spring   French Breakfast\n",
      "Cody Laffer   Red King\n",
      "Lilian Woodriff   Plum Purple\n",
      "hudson crane   sicily giant\n",
      "Anthony Wand   Bunny Tail\n",
      "Dean Mattner   Red King\n",
      "Lucinda Howarde   Sicily Giant\n",
      "Caleb Clancy   Red King\n",
      "Mia Legg   White Icicle\n",
      "Isla Mehaffey   Sicily Giant\n",
      "Cooper Lasseter   April Cross\n",
      "Indiana Scott   Cherry Belle\n",
      "Kaitlyn Kay   French Breakfast\n",
      "Abbey Aronson   April Cross\n",
      "Madeleine Hartung   Snow Belle\n",
      "Abbey Tyas   Red King\n",
      "Jacob Spowers   Snow Belle\n",
      "Brodie Fraser   French Breakfast\n",
      "Ivo Lucchesi   Champion\n",
      "Harry Wormald   French Breakfast\n",
      "Lilian Macquarie   White Icicle\n",
      "Chelsea Warby   Bunny Tail\n",
      "Eugenio Pagnotto   Sicily Giant\n",
      "Michael Hargrave   Cherry Belle\n",
      "Leda Romani   April Cross\n",
      "Christopher Walton   Champion\n",
      "Zachary Bass   White Icicle\n",
      "jorja franklyn   white icicle\n",
      "Makayla Sutton   Plum Purple\n",
      "Shu Fang Tsou   French Breakfast\n",
      "Evie Carey   Bunny Tail\n",
      "Alannah Bleakley   Bunny Tail\n",
      "Alma Longo   Cherry Belle\n",
      "Abbey Garvin   Snow Belle\n",
      "Isabella Van De Velde   Plum Purple\n",
      "scarlett price   april cross\n",
      "Beau Hauslaib   Champion\n",
      "Isabelle Mathew   Sicily Giant\n",
      "Laura Callinan   Cherry Belle\n",
      "Cody Le Rennetel   French Breakfast\n",
      "Rachel Luke   Snow Belle\n",
      "Tristan Glynde   Snow Belle\n",
      "Qiao Tien   Bunny Tail\n",
      "Alana Meares   Red King\n",
      "Xiao Chen Chiang   Sicily Giant\n",
      "Jack Finlay   Cherry Belle\n",
      "Jaxon Keen    Plum Purple\n",
      "Jordan Catani   Plum Purple\n",
      "Piera Trevisan   Red King\n",
      "Bailey Mussen   Bunny Tail\n",
      "Hayley Coverdale   White Icicle\n",
      "Sophie Eipper   Snow Belle\n",
      "Beata Endrizzi   Daikon\n",
      "David Moynihan   White Icicle\n",
      "Andrew Martens   French Breakfast\n",
      "Nate Higgs   Red King\n",
      "Isaac Banks   Snow Belle\n",
      "Xavier Sligo   Champion\n",
      "Nathan Aird    Plum Purple\n",
      "Cooper Monk   Bunny Tail\n",
      "Kayla Kinsella   Champion\n",
      "Sean Maclurcan   Sicily Giant\n",
      "Jett Faucett   April Cross\n",
      "Koby Mary   Red King\n",
      "Lok Fan   Champion\n",
      "Liam Burn   French Breakfast\n",
      "Ryan Skeats   Snow Belle\n",
      "Harrison Barlee   Cherry Belle\n",
      "Marcus South   Champion\n",
      "Emily Kumm    White Icicle\n",
      "Tristan Lack   Cherry Belle\n",
      "Rebecca Godfrey   Red King\n",
      "Bailey Randell   Red King\n",
      "Emma Slater   Bunny Tail\n",
      "Ellie Eaton   Sicily Giant\n",
      "Hamish Kevin   Sicily Giant\n",
      "Bella Lyttle   Bunny Tail\n",
      "Guang Lo   April Cross\n",
      "Jai Keith   Daikon\n",
      "Lucinda Emanuel   Plum Purple\n",
      "Tayla English   Plum Purple\n",
      "Eden Petchy   Daikon\n",
      "Lee Chen   April Cross\n",
      "Angus De Mestre   White Icicle\n",
      "Maya Huish   Snow Belle\n",
      "Emily Plante   White Icicle\n",
      "Connor Fairbridge   Bunny Tail\n",
      "Lara Cawker   Champion\n",
      "Blanda Panicucci   Bunny Tail\n",
      "Napoleone Marcelo   Champion\n",
      "Georgia Gillen   Snow Belle\n",
      "Giselda Napolitano   French Breakfast\n",
      "Anthony Hugo   Red King\n",
      "Oscar Saltau   April Cross\n",
      "Ashton Pearce   Daikon\n",
      "Kiara Maxwell Mahon \n",
      "Sebastian Ball   French Breakfast\n",
      "Anna Howarde   Bunny Tail\n",
      "Lauren Nisbet   Plum Purple\n",
      "Patrick Porteus   Bunny Tail\n",
      "ling tuan   Red King\n",
      "Park Ch'en   Sicily Giant\n",
      "Yi Tseng   French Breakfast\n",
      "Angelina Dangar   Snow Belle\n",
      "Carolina Cattaneo   Snow Belle\n",
      "Sean Tait   Snow Belle\n",
      "Alex Falk   White Icicle\n",
      "oliver thirkell   french breakfast\n",
      "Jesse Fairley   Champion\n",
      "Benito Cocci   Snow Belle\n",
      "Laura Samuels   Champion\n",
      "Kuan Yin Tao \n",
      "Shi She   Champion\n",
      "Isabella Hoffnung   April Cross\n",
      "George Carandini   White Icicle\n",
      "Sarah Bindi   French Breakfast\n",
      "Andrew Quick   April Cross\n",
      "Giosu챔 Romano   Champion\n",
      "Eva Ruth   Plum Purple\n",
      "Koby Gabriel   Champion\n",
      "Jayden Josephson   April Cross\n",
      "Mafalda Marchesi   Snow Belle\n",
      "Gabrielle Porteus   Daikon\n",
      "Dylan Synnot   Red King\n",
      "Brooke Kisch   Bunny Tail\n",
      "Quintilia Trentini   Bunny Tail\n",
      "Taj Moonlight   Plum Purple\n",
      "Ava Sorell   Bunny Tail\n",
      "Kate Buchanan   Sicily Giant\n",
      "Stella Inwood   Cherry Belle\n",
      "Cody Glauert   Snow Belle\n",
      "Callimaco Lombardi   Champion\n",
      "ella irving   cherry belle\n",
      "Guan yin Hsiao \n",
      "alicia muscio   april cross\n",
      "Alana Sturdee   Champion\n",
      "Makayla Fairbairn   White Icicle\n",
      "Kaitlyn Collings   Bunny Tail\n",
      "Alexis Le Hunte   Champion\n",
      "lilian andrade   bunny tail\n",
      "Alannah Housley   Bunny Tail\n",
      "Rose Peeler   Champion\n",
      "Yue Wan Yeh   White Icicle\n",
      "Evie Langwell   Snow Belle\n",
      "Zoe Jasprizza   Red King\n",
      "Ivo Sagese   April Cross\n",
      "Rory Springthorpe   Snow Belle\n",
      "hannah gabriel   red king\n",
      "Jonathan Paten   Bunny Tail\n",
      "Jessica Rapke   Sicily Giant\n",
      "Jake Sterne   Daikon\n",
      "Lola Mashman   Bunny Tail\n",
      "Chan Yen   Cherry Belle\n",
      "Timothy Beeton   White Icicle\n",
      "Joseph Hill   Daikon\n",
      "Luke Gye   Plum Purple\n",
      "Giuseppe Manna   Sicily Giant\n",
      "Matilda Wardlaw   Red King\n",
      "Hannah Dibbs   Plum Purple\n",
      "Xavier Truman   French Breakfast\n",
      "Emma Sodersten   April Cross\n",
      "Blake Sodersten   French Breakfast\n",
      "Andrew Schwarz   Cherry Belle\n",
      "Owen Montgomery   Snow Belle\n",
      "Blake Hurst   White Icicle\n",
      "Brayden Brill   Cherry Belle\n",
      "Keira Strzelecki   Champion\n",
      "Zhen Juan Tsai   White Icicle\n",
      "Mulan Kung   Red King\n",
      "Clorinda Pugliesi   Champion\n",
      "Abbey Strzelecki   French Breakfast\n",
      "Andrew Howitt   April Cross\n",
      "Sebastian Langford   Cherry  Belle\n",
      "hayley Hinchcliffe   Cherry Belle\n",
      "Ebony Anton   Sicily Giant\n",
      "Seth Reginald   April Cross\n",
      "Beau Gosling   Plum Purple\n",
      "Christopher Moss   White Icicle\n",
      "laura uhr   red king\n",
      "Jamie Faithful    Red King\n",
      "Isaac Tennyson   Daikon\n",
      "Gemma Norton    Sicily Giant\n",
      "Matilda Madden   Red King\n",
      "Azeglio Napolitano   Red King\n",
      "David Tomlinson   Bunny Tail\n",
      "Christian Morris   Champion\n",
      "Amy Goulburn   April Cross\n",
      "Christopher Clunies   April Cross\n",
      "annabelle armytage   daikon\n",
      "Hunter Connely   Snow Belle\n",
      "Summer Stenhouse   April Cross\n",
      "Alicia Farmer   White Icicle\n",
      "Charlotte Slattery   Red King\n",
      "Georgia Jessop   Cherry Belle\n",
      "Abby Metters   Champion\n",
      "Madeleine Behan   Snow Belle\n",
      "Hayley Kernot   Plum Purple\n",
      "Ubaldo Trevisani   Champion\n",
      "Annabelle Scarfe   Cherry Belle\n",
      "Flynn Weingarth   Sicily Giant\n",
      "Indiana Keast   April Cross\n",
      "Wang Tien   French Breakfast\n",
      "Elijah Kingsbury   Plum Purple\n",
      "henry wright   sicily giant\n",
      "Meng Ni   Snow Belle\n",
      "Sara Coffill   Sicily Giant\n",
      "Giusy Lombardi   Plum  Purple\n",
      "Egidio Mancini   Sicily Giant\n",
      "Bethany Macfarlan   Bunny Tail\n",
      "Alexis Cowlishaw   Bunny Tail\n",
      "Skye Garvin   April Cross\n",
      "Abbey Rivett   Snow Belle\n",
      "Mikayla Woollacott   Sicily Giant\n",
      "Abbey Cochran   Daikon\n",
      "Jasmine Baughan   White Icicle\n",
      "Da Xia Liang \n",
      "Dominic Nangle   White Icicle\n",
      "Jesse Jury   Sicily Giant\n",
      "Ruby Elias   Daikon\n",
      "David Read   Bunny Tail\n",
      "Yue Yan T'ang   April Cross\n",
      "Qiang Tsui   Cherry Belle\n",
      "Grace Parkinson   Snow Belle\n",
      "Yue Yan Hu   White Icicle\n",
      "Adele Buccho   White Icicle\n",
      "Imogen Gertrude   Bunny Tail\n",
      "Kate Cyril   April Cross\n",
      "Zoe Canning   Plum Purple\n",
      "Imogen Gaunson   Bunny Tail\n",
      "Brayden Stretch   April Cross\n",
      "Jian Ts'ao   Plum Purple\n",
      "Gabriella Titheradge   Red King\n",
      "Alexis Nesbitt   Daikon\n",
      "Galeazzo Milanesi   Champion\n",
      "Eve Everingham   Daikon\n",
      "on h챗   snow belle\n",
      "Archie Mathy   White Icicle\n",
      "Skye Reynolds   French Breakfast\n",
      "Ben Denovan   April Cross\n",
      "Pia Folliero   White Icicle\n",
      "Archie Michelides   Cherry Belle\n",
      "zane pavy   bunny tail\n",
      "Ramiro Esposito   Daikon\n",
      "Brock Eames   Daikon\n",
      "Savannah Sheehan   French Breakfast\n",
      "angus christie   french breakfast\n",
      "Dominic Tregurtha   Cherry Belle\n",
      "Molly Piguenit   Plum Purple\n",
      "matthew john   snow belle\n",
      "Koby Ledger   White Icicle\n",
      "Jasper Harper   White Icicle\n",
      "William Doyle    French Breakfast\n",
      "Taj Maria   Sicily Giant\n",
      "Michael Elliot   April Cross\n",
      "Matthew Knibbs   Sicily Giant\n",
      "Patrick Tilly   White Icicle\n",
      "Sarah Kashiwagi   Bunny Tail\n",
      "Abbey Bouton   Champion\n",
      "Kayla Sandover   Bunny Tail\n",
      "Anna Septimus   French Breakfast\n",
      "Matthew Birch   Champion\n",
      "Mikayla Kennerley   French Breakfast\n",
      "Charli Birkbeck   Daikon\n",
      "Matilda Gullett   Champion\n",
      "Ella McLellan   April Cross\n",
      "Silvia Rossi   Plum Purple\n",
      "Chan Juan Hs체   French Breakfast\n",
      "Oliver Aspinall    Cherry Belle\n",
      "Timothy Baldwinson   Bunny Tail\n",
      "Li Wei Chien   Snow Belle\n",
      "Bethany Layh   French Breakfast\n",
      "Gang Hsu   April Cross\n",
      "Mikayla Brodney   Champion\n",
      "Kuan Yin Mao \n",
      "Elizabeth Minifie   Champion\n",
      "Sarah Band   Sicily Giant\n",
      "Tyson Kaberry   French Breakfast\n",
      "Victoria Shipp   Cherry Belle\n",
      "Henry McCorkindale   French Breakfast\n",
      "William De Satg   Snow Belle\n",
      "Skye Atkins   Cherry Belle\n",
      "Sean Hogben   Champion\n",
      "Claire Boelke   Cherry Belle\n",
      "Tristan Turley   Snow Belle\n",
      "Tyler Hansen   Champion\n",
      "Caleb Ride   Bunny Tail\n",
      "Archer Cathcart   April Cross\n",
      "Hamish Helena    French Breakfast\n",
      "Agostino Milanesi   April Cross\n",
      "lilly wunderlich   french breakfast\n",
      "Brooke Mahomet   Sicily Giant\n",
      "Seth Bramston   Daikon\n",
      "Archer Kirwan   Cherry Belle\n",
      "Ettore Marcelo   Champion\n",
      "Blake D'Alton   Sicily Giant\n",
      "Jai Burgoyne   Bunny Tail\n",
      "Mikayla Minogue   April Cross\n",
      "Thomas Catt   April Cross\n",
      "Oscar Cocci   Daikon\n",
      "Claudia Boxall   Plum Purple\n",
      "Imogen Macaulay   Snow Belle\n",
      "Tyson Platt   Bunny Tail\n",
      "Isabelle Camden   White Icicle\n",
      "Kiara Maxted   Daikon\n",
      "Raffaella Trevisan   Daikon\n",
      "Xiang Hs체   Plum Purple\n",
      "Hudson Greene   Bunny Tail\n",
      "Ruby Wakefield   Cherry Belle\n",
      "Matilda Macarthur Onslow \n",
      "Jasmine Fetherstonhaugh   Snow Belle\n",
      "Andrew Bower   Bunny Tail\n",
      "Olindo De Luca   Cherry Belle\n",
      "Alexis Kelynack   French Breakfast\n",
      "Amy Clunie   White Icicle\n",
      "Kang Yu   Cherry Belle\n",
      "Henry Birdseye   Snow Belle\n",
      "dominic gale   april cross\n",
      "Edward Edmond   Snow Belle\n",
      "Raul Pinto   Cherry Belle\n",
      "Laura Bath   Red King\n",
      "John Bale   Cherry Belle\n",
      "Margherita Milani   Red King\n",
      "Hudson Devine   Champion\n",
      "Jaxon Cowles   Sicily Giant\n",
      "Cameron Embley   Sicily Giant\n",
      "Laura Wawn   Cherry Belle\n",
      "Li Ming Niu   Cherry Belle\n",
      "Eden Sheehan   Cherry Belle\n",
      "Taj Bjelke Petersen \n",
      "Declan Winston   White Icicle\n",
      "Chan Chao   Red King\n",
      "mikayla hebblethwaite   sicily giant\n",
      "Tristan Monson   Cherry Belle\n",
      "Leah Ross Watt \n",
      "Hu K'ung   Daikon\n",
      "Kaitlyn Carnegie   Champion\n",
      "Victoria Brereton   Plum Purple\n",
      "Keira Toutcher   Cherry Belle\n",
      "David Morgans   Daikon\n",
      "Norma Fiorentino   Red King\n",
      "Sarah Paten   Sicily  Giant\n",
      "Zac Cowles   Sicily Giant\n",
      "Brock Fiaschi   French Breakfast\n",
      "Eliza Naylor   French Breakfast\n",
      "Imogen Raws   Red King\n",
      "Jesse Abercrombie   Snow Belle\n",
      "James Luke   White Icicle\n",
      "Riley Stewart   White Icicle\n",
      "amelia blue   white icicle\n",
      "Cameron Pearce   Red King\n",
      "Ennio DeRose   French Breakfast\n",
      "Samuel Henschke   Sicily Giant\n",
      "Blake MacFarland   Cherry Belle\n",
      "Mary Randall   Cherry Belle\n",
      "luce de luca   snow belle\n",
      "Marcus Derbyshire   Bunny Tail\n",
      "Hunter McEachern   Bunny Tail\n",
      "Jasper Gibney   French Breakfast\n",
      "Lincoln  Hoare   French Breakfast\n",
      "Sofia Donnithorne   Snow Belle\n",
      "Anthony Stuart   Snow Belle\n",
      "Hamish Yarnold   April Cross\n",
      "Lucas Schuler   Plum Purple\n",
      "Milla Garling   French Breakfast\n",
      "Abigail Wiltshire   Bunny Tail\n",
      "Zane Wreford   Snow Belle\n",
      "Sean Glew   Daikon\n",
      "Ryan Aird   Red King\n",
      "Jasper Harford   Champion\n",
      "Charlie McCabe   Bunny Tail\n",
      "Rory Evenden   White Icicle\n",
      "Ebony Florence   Snow Belle\n",
      "Flynn Poninski   Daikon\n",
      "Ebony Lawlor   Bunny Tail\n",
      "Ethan Dickson   Bunny Tail\n",
      "Xavier Howchin   Bunny Tail\n",
      "Zane Weindorfer   Cherry Belle\n",
      "Sienna Dann   Snow Belle\n",
      "Eleuterio Lombardo   White Icicle\n",
      "Tyler Makutz   Champion\n",
      "Yong Hsiao   White Icicle\n",
      "Erin Binnie   Bunny Tail\n",
      "Phoebe Barwell   Plum Purple\n",
      "Dylan Barney   French Breakfast\n",
      "Tristan Charteris   April Cross\n",
      "Sebastian Helmore   Bunny Tail\n",
      "Thomas Darcy   Bunny Tail\n",
      "Quinzia Costa   Daikon\n",
      "Da Xia Hsiao \n",
      "Grace Frayne   Sicily Giant\n",
      "Toby Queale   White Icicle\n",
      "Logan Lackey   Plum Purple\n",
      "na t'ao   french breakfast\n",
      "Callum Prentice   Plum Purple\n",
      "Levi Ferry   Sicily Giant\n",
      "Hsin Tan   April Cross\n",
      "Lara Macarthur   French Breakfast\n",
      "Scarlett Bruny   Champion\n",
      "Procopio Zito   white icicle\n",
      "Jamie Ham   Bunny Tail\n",
      "Kaitlyn Mullen   Daikon\n",
      "Cameron Landseer   April Cross\n",
      "Jasper Alfred   White Icicle\n",
      "Andrew Coventry    Cherry Belle\n",
      "Scarlett Schonell   Plum Purple\n",
      "Mia Alngindabu   Champion\n",
      "Claire Bisdee   Daikon\n",
      "Gabriella Beale   Cherry Belle\n",
      "Rebecca Petrie   Snow Belle\n",
      "Alexander McKean   Bunny Tail\n",
      "Cody Leakey   Plum Purple\n",
      "Sam Scarfe   Sicily Giant\n",
      "Angus Langley   French Breakfast\n",
      "Shi Shen   Sicily Giant\n",
      "Park Wu   Champion\n",
      "Isabelle Finney   April Cross\n",
      "Aaron Addison   Plum Purple\n",
      "Ethan Macdougall   Champion\n",
      "cody vale   red king\n",
      "Aidan Clutterbuck   French Breakfast\n",
      "Durante Ferri   White Icicle\n",
      "eliana baresi   white icicle\n"
     ]
    }
   ],
   "source": [
    "with open('./radishsurvey.txt') as f:  # with문이 끝나면 자동으로 close\n",
    "    for i in f:                        # 라인별로 데이터 읽기\n",
    "        ttxt = i.strip()               # 공백 및 캐리지리턴 제거\n",
    "        parts = ttxt.split('-')        # '-'기준으로 문자열 분리\n",
    "        print(parts[0], parts[1])"
   ]
  },
  {
   "cell_type": "code",
   "execution_count": 187,
   "id": "27a92f8b-d42e-49c2-980f-dae691456155",
   "metadata": {
    "tags": []
   },
   "outputs": [
    {
     "data": {
      "text/plain": [
       "['jin li ', ' white ', ' icicle']"
      ]
     },
     "execution_count": 187,
     "metadata": {},
     "output_type": "execute_result"
    }
   ],
   "source": [
    "'jin li - white - icicle'.split('-')"
   ]
  },
  {
   "cell_type": "code",
   "execution_count": 188,
   "id": "512d613f-cd32-4d89-8958-9515813f1400",
   "metadata": {
    "tags": []
   },
   "outputs": [
    {
     "data": {
      "text/plain": [
       "['jin li', 'white', 'icicle']"
      ]
     },
     "execution_count": 188,
     "metadata": {},
     "output_type": "execute_result"
    }
   ],
   "source": [
    "'jin li - white - icicle'.split(' - ')"
   ]
  },
  {
   "cell_type": "code",
   "execution_count": 193,
   "id": "d6607296-9fdd-48d3-abe7-461ef15f5acd",
   "metadata": {
    "tags": []
   },
   "outputs": [
    {
     "name": "stdout",
     "output_type": "stream",
     "text": [
      "[White Icicle] - Luke Komine Likes White Icicle\n",
      "[White Icicle] - Bailey Derrington Likes White Icicle\n",
      "[White Icicle] - Tyler Forbes Likes White Icicle\n",
      "[White Icicle] - Gianfranco Cremonesi Likes White Icicle\n",
      "[White Icicle] - Tao Hsiao Likes White Icicle\n",
      "[White Icicle] - Emily Walters Likes White Icicle\n",
      "[White Icicle] - Thomas Oom Likes White Icicle\n",
      "[White Icicle] - Stephanie Schnaars Likes White Icicle\n",
      "[White Icicle] - Anna Denning Likes White Icicle\n",
      "[White Icicle] - Ruby Fox Likes White Icicle\n",
      "[White Icicle] - Ali Dedman Likes White Icicle\n",
      "[White Icicle] - Sarah Milford Likes White Icicle\n",
      "[White Icicle] - Hudson Dodgshun Likes White Icicle\n",
      "[White Icicle] - Lara Salting Likes White Icicle\n",
      "[White Icicle] - Amelie Farber Likes White Icicle\n",
      "[White Icicle] - Isabella Pardey Likes White Icicle\n",
      "[White Icicle] - Zhi Chin Likes White Icicle\n",
      "[White Icicle] - Caitlyn Mullah Likes White Icicle\n",
      "[White Icicle] - Taj Shackell Likes White Icicle\n",
      "[White Icicle] - Xin Qian Shih Likes White Icicle\n",
      "[White Icicle] - Abigail Clark Likes White Icicle\n",
      "[White Icicle] - Bianca Knopwood Likes White Icicle\n",
      "[White Icicle] - Mia Legg Likes White Icicle\n",
      "[White Icicle] - Lilian Macquarie Likes White Icicle\n",
      "[White Icicle] - Zachary Bass Likes White Icicle\n",
      "[White Icicle] - Hayley Coverdale Likes White Icicle\n",
      "[White Icicle] - David Moynihan Likes White Icicle\n",
      "[White Icicle] - Angus De Mestre Likes White Icicle\n",
      "[White Icicle] - Emily Plante Likes White Icicle\n",
      "[White Icicle] - Kiara Maxwell-Mahon Likes White Icicle\n",
      "[White Icicle] - Alex Falk Likes White Icicle\n",
      "[White Icicle] - George Carandini Likes White Icicle\n",
      "[White Icicle] - Makayla Fairbairn Likes White Icicle\n",
      "[White Icicle] - Yue Wan Yeh Likes White Icicle\n",
      "[White Icicle] - Timothy Beeton Likes White Icicle\n",
      "[White Icicle] - Blake Hurst Likes White Icicle\n",
      "[White Icicle] - Zhen Juan Tsai Likes White Icicle\n",
      "[White Icicle] - Christopher Moss Likes White Icicle\n",
      "[White Icicle] - Alicia Farmer Likes White Icicle\n",
      "[White Icicle] - Jasmine Baughan Likes White Icicle\n",
      "[White Icicle] - Dominic Nangle Likes White Icicle\n",
      "[White Icicle] - Yue Yan Hu Likes White Icicle\n",
      "[White Icicle] - Adele Buccho Likes White Icicle\n",
      "[White Icicle] - Archie Mathy Likes White Icicle\n",
      "[White Icicle] - Pia Folliero Likes White Icicle\n",
      "[White Icicle] - Koby Ledger Likes White Icicle\n",
      "[White Icicle] - Jasper Harper Likes White Icicle\n",
      "[White Icicle] - Patrick Tilly Likes White Icicle\n",
      "[White Icicle] - Isabelle Camden Likes White Icicle\n",
      "[White Icicle] - Amy Clunie Likes White Icicle\n",
      "[White Icicle] - Declan Winston Likes White Icicle\n",
      "[White Icicle] - James Luke Likes White Icicle\n",
      "[White Icicle] - Riley Stewart Likes White Icicle\n",
      "[White Icicle] - Rory Evenden Likes White Icicle\n",
      "[White Icicle] - Eleuterio Lombardo Likes White Icicle\n",
      "[White Icicle] - Yong Hsiao Likes White Icicle\n",
      "[White Icicle] - Toby Queale Likes White Icicle\n",
      "[White Icicle] - Jasper Alfred Likes White Icicle\n",
      "[White Icicle] - Durante Ferri Likes White Icicle\n",
      "Likes White Icicle count :  59\n"
     ]
    }
   ],
   "source": [
    "cnt = 0\n",
    "with open('./radishsurvey.txt') as f:  # with문이 끝나면 자동으로 close\n",
    "    for i in f:                        # 라인별로 데이터 읽기\n",
    "        ttxt = i.strip()               # 공백 및 캐리지리턴 제거\n",
    "        parts = ttxt.split(' - ')      # 앞뒤 공백과 '-'기준으로 문자열 분리\n",
    "        name, vote = parts             # parts변수의 첫번째 겂을 name에 두번째 값을 vote에 대입\n",
    "        if vote == 'White Icicle':\n",
    "            print('['+ vote +'] - '+name + ' Likes White Icicle')\n",
    "            cnt += 1\n",
    "print('Likes White Icicle count : ', cnt)"
   ]
  },
  {
   "cell_type": "code",
   "execution_count": 196,
   "id": "82250dc3-3152-44fb-872a-15c286224187",
   "metadata": {
    "tags": []
   },
   "outputs": [
    {
     "name": "stdout",
     "output_type": "stream",
     "text": [
      "{'April Cross': 67, 'Champion': 75, 'cherry belle': 2, 'Snow Belle': 58, 'Bunny Tail': 68, 'Sicily Giant': 52, 'Plum Purple': 53, 'Red King': 52, ' Daikon': 1, 'White Icicle': 59, 'Daikon': 58, 'French Breakfast': 65, 'Cherry Belle': 53, ' plum purple': 1, 'french breakfast': 7, ' Snow Belle': 2, ' Plum Purple': 1, 'daikon': 4, 'plum purple': 1, 'white icicle': 5, 'April cross': 1, 'bunny tail': 4, 'april cross': 4, 'champion': 1, 'sicily giant': 3, ' White Icicle': 1, 'red king': 3, 'Cherry  Belle': 1, ' Red King': 1, ' Sicily Giant': 1, 'Plum  Purple': 1, 'snow belle': 3, ' Cherry Belle': 2, 'Sicily  Giant': 1}\n"
     ]
    }
   ],
   "source": [
    "dic_cnt = {}\n",
    "cnt = 0\n",
    "with open('./radishsurvey.txt') as f:  # with문이 끝나면 자동으로 close\n",
    "    for i in f:                        # 라인별로 데이터 읽기\n",
    "        ttxt = i.strip()               # 공백 및 캐리지리턴 제거\n",
    "        parts = ttxt.split(' - ')      # 앞뒤 공백과 '-'기준으로 문자열 분리\n",
    "        name, vote = parts             # parts변수의 첫번째 겂을 name에 두번째 값을 vote에 대입\n",
    "        if vote not in dic_cnt:        # dic_cnt변수에 vote 존재여부 확인\n",
    "            dic_cnt[vote] = 1          # 없으면 dic_cnt에 1을 셋팅\n",
    "        else:                          # 있으면 dic_cnt에 1을 더함\n",
    "            dic_cnt[vote] += 1\n",
    "            cnt += 1\n",
    "print(dic_cnt)"
   ]
  },
  {
   "cell_type": "code",
   "execution_count": 205,
   "id": "a23eec5b-5a70-4d4a-aa31-807dfaea0170",
   "metadata": {
    "tags": []
   },
   "outputs": [
    {
     "name": "stdout",
     "output_type": "stream",
     "text": [
      "April Cross  :  67\n",
      "Champion  :  75\n",
      "cherry belle  :  2\n",
      "Snow Belle  :  58\n",
      "Bunny Tail  :  68\n",
      "Sicily Giant  :  52\n",
      "Plum Purple  :  53\n",
      "Red King  :  52\n",
      " Daikon  :  1\n",
      "White Icicle  :  59\n",
      "Daikon  :  58\n",
      "French Breakfast  :  65\n",
      "Cherry Belle  :  53\n",
      " plum purple  :  1\n",
      "french breakfast  :  7\n",
      " Snow Belle  :  2\n",
      " Plum Purple  :  1\n",
      "daikon  :  4\n",
      "plum purple  :  1\n",
      "white icicle  :  5\n",
      "April cross  :  1\n",
      "bunny tail  :  4\n",
      "april cross  :  4\n",
      "champion  :  1\n",
      "sicily giant  :  3\n",
      " White Icicle  :  1\n",
      "red king  :  3\n",
      "Cherry  Belle  :  1\n",
      " Red King  :  1\n",
      " Sicily Giant  :  1\n",
      "Plum  Purple  :  1\n",
      "snow belle  :  3\n",
      " Cherry Belle  :  2\n",
      "Sicily  Giant  :  1\n"
     ]
    }
   ],
   "source": [
    "for i in dic_cnt:\n",
    "    count = dic_cnt[i]\n",
    "    print(i,' : ', count)"
   ]
  },
  {
   "cell_type": "code",
   "execution_count": 210,
   "id": "a3882e3b-3af5-42ac-a723-a63679146078",
   "metadata": {
    "tags": []
   },
   "outputs": [
    {
     "data": {
      "text/html": [
       "<div>\n",
       "<style scoped>\n",
       "    .dataframe tbody tr th:only-of-type {\n",
       "        vertical-align: middle;\n",
       "    }\n",
       "\n",
       "    .dataframe tbody tr th {\n",
       "        vertical-align: top;\n",
       "    }\n",
       "\n",
       "    .dataframe thead th {\n",
       "        text-align: right;\n",
       "    }\n",
       "</style>\n",
       "<table border=\"1\" class=\"dataframe\">\n",
       "  <thead>\n",
       "    <tr style=\"text-align: right;\">\n",
       "      <th></th>\n",
       "      <th>keys</th>\n",
       "      <th>values</th>\n",
       "    </tr>\n",
       "  </thead>\n",
       "  <tbody>\n",
       "    <tr>\n",
       "      <th>0</th>\n",
       "      <td>April Cross</td>\n",
       "      <td>67</td>\n",
       "    </tr>\n",
       "    <tr>\n",
       "      <th>1</th>\n",
       "      <td>Champion</td>\n",
       "      <td>75</td>\n",
       "    </tr>\n",
       "    <tr>\n",
       "      <th>2</th>\n",
       "      <td>cherry belle</td>\n",
       "      <td>2</td>\n",
       "    </tr>\n",
       "    <tr>\n",
       "      <th>3</th>\n",
       "      <td>Snow Belle</td>\n",
       "      <td>58</td>\n",
       "    </tr>\n",
       "    <tr>\n",
       "      <th>4</th>\n",
       "      <td>Bunny Tail</td>\n",
       "      <td>68</td>\n",
       "    </tr>\n",
       "    <tr>\n",
       "      <th>5</th>\n",
       "      <td>Sicily Giant</td>\n",
       "      <td>52</td>\n",
       "    </tr>\n",
       "    <tr>\n",
       "      <th>6</th>\n",
       "      <td>Plum Purple</td>\n",
       "      <td>53</td>\n",
       "    </tr>\n",
       "    <tr>\n",
       "      <th>7</th>\n",
       "      <td>Red King</td>\n",
       "      <td>52</td>\n",
       "    </tr>\n",
       "    <tr>\n",
       "      <th>8</th>\n",
       "      <td>Daikon</td>\n",
       "      <td>1</td>\n",
       "    </tr>\n",
       "    <tr>\n",
       "      <th>9</th>\n",
       "      <td>White Icicle</td>\n",
       "      <td>59</td>\n",
       "    </tr>\n",
       "    <tr>\n",
       "      <th>10</th>\n",
       "      <td>Daikon</td>\n",
       "      <td>58</td>\n",
       "    </tr>\n",
       "    <tr>\n",
       "      <th>11</th>\n",
       "      <td>French Breakfast</td>\n",
       "      <td>65</td>\n",
       "    </tr>\n",
       "    <tr>\n",
       "      <th>12</th>\n",
       "      <td>Cherry Belle</td>\n",
       "      <td>53</td>\n",
       "    </tr>\n",
       "    <tr>\n",
       "      <th>13</th>\n",
       "      <td>plum purple</td>\n",
       "      <td>1</td>\n",
       "    </tr>\n",
       "    <tr>\n",
       "      <th>14</th>\n",
       "      <td>french breakfast</td>\n",
       "      <td>7</td>\n",
       "    </tr>\n",
       "    <tr>\n",
       "      <th>15</th>\n",
       "      <td>Snow Belle</td>\n",
       "      <td>2</td>\n",
       "    </tr>\n",
       "    <tr>\n",
       "      <th>16</th>\n",
       "      <td>Plum Purple</td>\n",
       "      <td>1</td>\n",
       "    </tr>\n",
       "    <tr>\n",
       "      <th>17</th>\n",
       "      <td>daikon</td>\n",
       "      <td>4</td>\n",
       "    </tr>\n",
       "    <tr>\n",
       "      <th>18</th>\n",
       "      <td>plum purple</td>\n",
       "      <td>1</td>\n",
       "    </tr>\n",
       "    <tr>\n",
       "      <th>19</th>\n",
       "      <td>white icicle</td>\n",
       "      <td>5</td>\n",
       "    </tr>\n",
       "    <tr>\n",
       "      <th>20</th>\n",
       "      <td>April cross</td>\n",
       "      <td>1</td>\n",
       "    </tr>\n",
       "    <tr>\n",
       "      <th>21</th>\n",
       "      <td>bunny tail</td>\n",
       "      <td>4</td>\n",
       "    </tr>\n",
       "    <tr>\n",
       "      <th>22</th>\n",
       "      <td>april cross</td>\n",
       "      <td>4</td>\n",
       "    </tr>\n",
       "    <tr>\n",
       "      <th>23</th>\n",
       "      <td>champion</td>\n",
       "      <td>1</td>\n",
       "    </tr>\n",
       "    <tr>\n",
       "      <th>24</th>\n",
       "      <td>sicily giant</td>\n",
       "      <td>3</td>\n",
       "    </tr>\n",
       "    <tr>\n",
       "      <th>25</th>\n",
       "      <td>White Icicle</td>\n",
       "      <td>1</td>\n",
       "    </tr>\n",
       "    <tr>\n",
       "      <th>26</th>\n",
       "      <td>red king</td>\n",
       "      <td>3</td>\n",
       "    </tr>\n",
       "    <tr>\n",
       "      <th>27</th>\n",
       "      <td>Cherry  Belle</td>\n",
       "      <td>1</td>\n",
       "    </tr>\n",
       "    <tr>\n",
       "      <th>28</th>\n",
       "      <td>Red King</td>\n",
       "      <td>1</td>\n",
       "    </tr>\n",
       "    <tr>\n",
       "      <th>29</th>\n",
       "      <td>Sicily Giant</td>\n",
       "      <td>1</td>\n",
       "    </tr>\n",
       "    <tr>\n",
       "      <th>30</th>\n",
       "      <td>Plum  Purple</td>\n",
       "      <td>1</td>\n",
       "    </tr>\n",
       "    <tr>\n",
       "      <th>31</th>\n",
       "      <td>snow belle</td>\n",
       "      <td>3</td>\n",
       "    </tr>\n",
       "    <tr>\n",
       "      <th>32</th>\n",
       "      <td>Cherry Belle</td>\n",
       "      <td>2</td>\n",
       "    </tr>\n",
       "    <tr>\n",
       "      <th>33</th>\n",
       "      <td>Sicily  Giant</td>\n",
       "      <td>1</td>\n",
       "    </tr>\n",
       "  </tbody>\n",
       "</table>\n",
       "</div>"
      ],
      "text/plain": [
       "                keys  values\n",
       "0        April Cross      67\n",
       "1           Champion      75\n",
       "2       cherry belle       2\n",
       "3         Snow Belle      58\n",
       "4         Bunny Tail      68\n",
       "5       Sicily Giant      52\n",
       "6        Plum Purple      53\n",
       "7           Red King      52\n",
       "8             Daikon       1\n",
       "9       White Icicle      59\n",
       "10            Daikon      58\n",
       "11  French Breakfast      65\n",
       "12      Cherry Belle      53\n",
       "13       plum purple       1\n",
       "14  french breakfast       7\n",
       "15        Snow Belle       2\n",
       "16       Plum Purple       1\n",
       "17            daikon       4\n",
       "18       plum purple       1\n",
       "19      white icicle       5\n",
       "20       April cross       1\n",
       "21        bunny tail       4\n",
       "22       april cross       4\n",
       "23          champion       1\n",
       "24      sicily giant       3\n",
       "25      White Icicle       1\n",
       "26          red king       3\n",
       "27     Cherry  Belle       1\n",
       "28          Red King       1\n",
       "29      Sicily Giant       1\n",
       "30      Plum  Purple       1\n",
       "31        snow belle       3\n",
       "32      Cherry Belle       2\n",
       "33     Sicily  Giant       1"
      ]
     },
     "execution_count": 210,
     "metadata": {},
     "output_type": "execute_result"
    }
   ],
   "source": [
    "DF(list(dic_cnt.items()), columns=['keys', 'values'])"
   ]
  },
  {
   "cell_type": "code",
   "execution_count": 204,
   "id": "7a57dad3-45ef-40b7-9e21-289dd571b942",
   "metadata": {
    "tags": []
   },
   "outputs": [
    {
     "ename": "ValueError",
     "evalue": "If using all scalar values, you must pass an index",
     "output_type": "error",
     "traceback": [
      "\u001b[1;31m---------------------------------------------------------------------------\u001b[0m",
      "\u001b[1;31mValueError\u001b[0m                                Traceback (most recent call last)",
      "Cell \u001b[1;32mIn[204], line 1\u001b[0m\n\u001b[1;32m----> 1\u001b[0m \u001b[43mpd\u001b[49m\u001b[38;5;241;43m.\u001b[39;49m\u001b[43mDataFrame\u001b[49m\u001b[43m(\u001b[49m\u001b[43mdic_cnt\u001b[49m\u001b[43m)\u001b[49m\n",
      "File \u001b[1;32mC:\\python\\ml308\\lib\\site-packages\\pandas\\core\\frame.py:664\u001b[0m, in \u001b[0;36mDataFrame.__init__\u001b[1;34m(self, data, index, columns, dtype, copy)\u001b[0m\n\u001b[0;32m    658\u001b[0m     mgr \u001b[38;5;241m=\u001b[39m \u001b[38;5;28mself\u001b[39m\u001b[38;5;241m.\u001b[39m_init_mgr(\n\u001b[0;32m    659\u001b[0m         data, axes\u001b[38;5;241m=\u001b[39m{\u001b[38;5;124m\"\u001b[39m\u001b[38;5;124mindex\u001b[39m\u001b[38;5;124m\"\u001b[39m: index, \u001b[38;5;124m\"\u001b[39m\u001b[38;5;124mcolumns\u001b[39m\u001b[38;5;124m\"\u001b[39m: columns}, dtype\u001b[38;5;241m=\u001b[39mdtype, copy\u001b[38;5;241m=\u001b[39mcopy\n\u001b[0;32m    660\u001b[0m     )\n\u001b[0;32m    662\u001b[0m \u001b[38;5;28;01melif\u001b[39;00m \u001b[38;5;28misinstance\u001b[39m(data, \u001b[38;5;28mdict\u001b[39m):\n\u001b[0;32m    663\u001b[0m     \u001b[38;5;66;03m# GH#38939 de facto copy defaults to False only in non-dict cases\u001b[39;00m\n\u001b[1;32m--> 664\u001b[0m     mgr \u001b[38;5;241m=\u001b[39m \u001b[43mdict_to_mgr\u001b[49m\u001b[43m(\u001b[49m\u001b[43mdata\u001b[49m\u001b[43m,\u001b[49m\u001b[43m \u001b[49m\u001b[43mindex\u001b[49m\u001b[43m,\u001b[49m\u001b[43m \u001b[49m\u001b[43mcolumns\u001b[49m\u001b[43m,\u001b[49m\u001b[43m \u001b[49m\u001b[43mdtype\u001b[49m\u001b[38;5;241;43m=\u001b[39;49m\u001b[43mdtype\u001b[49m\u001b[43m,\u001b[49m\u001b[43m \u001b[49m\u001b[43mcopy\u001b[49m\u001b[38;5;241;43m=\u001b[39;49m\u001b[43mcopy\u001b[49m\u001b[43m,\u001b[49m\u001b[43m \u001b[49m\u001b[43mtyp\u001b[49m\u001b[38;5;241;43m=\u001b[39;49m\u001b[43mmanager\u001b[49m\u001b[43m)\u001b[49m\n\u001b[0;32m    665\u001b[0m \u001b[38;5;28;01melif\u001b[39;00m \u001b[38;5;28misinstance\u001b[39m(data, ma\u001b[38;5;241m.\u001b[39mMaskedArray):\n\u001b[0;32m    666\u001b[0m     \u001b[38;5;28;01mimport\u001b[39;00m \u001b[38;5;21;01mnumpy\u001b[39;00m\u001b[38;5;21;01m.\u001b[39;00m\u001b[38;5;21;01mma\u001b[39;00m\u001b[38;5;21;01m.\u001b[39;00m\u001b[38;5;21;01mmrecords\u001b[39;00m \u001b[38;5;28;01mas\u001b[39;00m \u001b[38;5;21;01mmrecords\u001b[39;00m\n",
      "File \u001b[1;32mC:\\python\\ml308\\lib\\site-packages\\pandas\\core\\internals\\construction.py:493\u001b[0m, in \u001b[0;36mdict_to_mgr\u001b[1;34m(data, index, columns, dtype, typ, copy)\u001b[0m\n\u001b[0;32m    489\u001b[0m     \u001b[38;5;28;01melse\u001b[39;00m:\n\u001b[0;32m    490\u001b[0m         \u001b[38;5;66;03m# dtype check to exclude e.g. range objects, scalars\u001b[39;00m\n\u001b[0;32m    491\u001b[0m         arrays \u001b[38;5;241m=\u001b[39m [x\u001b[38;5;241m.\u001b[39mcopy() \u001b[38;5;28;01mif\u001b[39;00m \u001b[38;5;28mhasattr\u001b[39m(x, \u001b[38;5;124m\"\u001b[39m\u001b[38;5;124mdtype\u001b[39m\u001b[38;5;124m\"\u001b[39m) \u001b[38;5;28;01melse\u001b[39;00m x \u001b[38;5;28;01mfor\u001b[39;00m x \u001b[38;5;129;01min\u001b[39;00m arrays]\n\u001b[1;32m--> 493\u001b[0m \u001b[38;5;28;01mreturn\u001b[39;00m \u001b[43marrays_to_mgr\u001b[49m\u001b[43m(\u001b[49m\u001b[43marrays\u001b[49m\u001b[43m,\u001b[49m\u001b[43m \u001b[49m\u001b[43mcolumns\u001b[49m\u001b[43m,\u001b[49m\u001b[43m \u001b[49m\u001b[43mindex\u001b[49m\u001b[43m,\u001b[49m\u001b[43m \u001b[49m\u001b[43mdtype\u001b[49m\u001b[38;5;241;43m=\u001b[39;49m\u001b[43mdtype\u001b[49m\u001b[43m,\u001b[49m\u001b[43m \u001b[49m\u001b[43mtyp\u001b[49m\u001b[38;5;241;43m=\u001b[39;49m\u001b[43mtyp\u001b[49m\u001b[43m,\u001b[49m\u001b[43m \u001b[49m\u001b[43mconsolidate\u001b[49m\u001b[38;5;241;43m=\u001b[39;49m\u001b[43mcopy\u001b[49m\u001b[43m)\u001b[49m\n",
      "File \u001b[1;32mC:\\python\\ml308\\lib\\site-packages\\pandas\\core\\internals\\construction.py:118\u001b[0m, in \u001b[0;36marrays_to_mgr\u001b[1;34m(arrays, columns, index, dtype, verify_integrity, typ, consolidate)\u001b[0m\n\u001b[0;32m    115\u001b[0m \u001b[38;5;28;01mif\u001b[39;00m verify_integrity:\n\u001b[0;32m    116\u001b[0m     \u001b[38;5;66;03m# figure out the index, if necessary\u001b[39;00m\n\u001b[0;32m    117\u001b[0m     \u001b[38;5;28;01mif\u001b[39;00m index \u001b[38;5;129;01mis\u001b[39;00m \u001b[38;5;28;01mNone\u001b[39;00m:\n\u001b[1;32m--> 118\u001b[0m         index \u001b[38;5;241m=\u001b[39m \u001b[43m_extract_index\u001b[49m\u001b[43m(\u001b[49m\u001b[43marrays\u001b[49m\u001b[43m)\u001b[49m\n\u001b[0;32m    119\u001b[0m     \u001b[38;5;28;01melse\u001b[39;00m:\n\u001b[0;32m    120\u001b[0m         index \u001b[38;5;241m=\u001b[39m ensure_index(index)\n",
      "File \u001b[1;32mC:\\python\\ml308\\lib\\site-packages\\pandas\\core\\internals\\construction.py:656\u001b[0m, in \u001b[0;36m_extract_index\u001b[1;34m(data)\u001b[0m\n\u001b[0;32m    653\u001b[0m         \u001b[38;5;28;01mraise\u001b[39;00m \u001b[38;5;167;01mValueError\u001b[39;00m(\u001b[38;5;124m\"\u001b[39m\u001b[38;5;124mPer-column arrays must each be 1-dimensional\u001b[39m\u001b[38;5;124m\"\u001b[39m)\n\u001b[0;32m    655\u001b[0m \u001b[38;5;28;01mif\u001b[39;00m \u001b[38;5;129;01mnot\u001b[39;00m indexes \u001b[38;5;129;01mand\u001b[39;00m \u001b[38;5;129;01mnot\u001b[39;00m raw_lengths:\n\u001b[1;32m--> 656\u001b[0m     \u001b[38;5;28;01mraise\u001b[39;00m \u001b[38;5;167;01mValueError\u001b[39;00m(\u001b[38;5;124m\"\u001b[39m\u001b[38;5;124mIf using all scalar values, you must pass an index\u001b[39m\u001b[38;5;124m\"\u001b[39m)\n\u001b[0;32m    658\u001b[0m \u001b[38;5;28;01melif\u001b[39;00m have_series:\n\u001b[0;32m    659\u001b[0m     index \u001b[38;5;241m=\u001b[39m union_indexes(indexes)\n",
      "\u001b[1;31mValueError\u001b[0m: If using all scalar values, you must pass an index"
     ]
    }
   ],
   "source": [
    "{'b':[4,7,3,2],'a':[4,9,2,5],'c':[5,3,7,np.nan]}"
   ]
  },
  {
   "cell_type": "code",
   "execution_count": null,
   "id": "14c46bda-c653-4587-88ce-05b120c6b4e4",
   "metadata": {},
   "outputs": [],
   "source": []
  },
  {
   "cell_type": "code",
   "execution_count": null,
   "id": "61e0d3ce-77e7-4c4f-ba2b-f081a09aef3f",
   "metadata": {},
   "outputs": [],
   "source": []
  },
  {
   "cell_type": "code",
   "execution_count": null,
   "id": "374af168-8573-4396-8f20-6475eed43675",
   "metadata": {},
   "outputs": [],
   "source": []
  },
  {
   "cell_type": "code",
   "execution_count": null,
   "id": "05fe550f-5ce1-49b2-ad2a-72d732bfca33",
   "metadata": {},
   "outputs": [],
   "source": []
  },
  {
   "cell_type": "code",
   "execution_count": null,
   "id": "fb3f359f-146c-48e0-9c46-08e9d3584f2e",
   "metadata": {},
   "outputs": [],
   "source": []
  },
  {
   "cell_type": "code",
   "execution_count": null,
   "id": "84b43287-dba2-4e98-9aca-2fabb2e73fd2",
   "metadata": {},
   "outputs": [],
   "source": []
  }
 ],
 "metadata": {
  "kernelspec": {
   "display_name": "ml308",
   "language": "python",
   "name": "ml308"
  },
  "language_info": {
   "codemirror_mode": {
    "name": "ipython",
    "version": 3
   },
   "file_extension": ".py",
   "mimetype": "text/x-python",
   "name": "python",
   "nbconvert_exporter": "python",
   "pygments_lexer": "ipython3",
   "version": "3.8.10"
  }
 },
 "nbformat": 4,
 "nbformat_minor": 5
}
