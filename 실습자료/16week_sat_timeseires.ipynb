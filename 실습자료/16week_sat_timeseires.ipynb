{
  "nbformat": 4,
  "nbformat_minor": 0,
  "metadata": {
    "colab": {
      "provenance": []
    },
    "kernelspec": {
      "name": "python3",
      "display_name": "Python 3"
    },
    "language_info": {
      "name": "python"
    }
  },
  "cells": [
    {
      "cell_type": "code",
      "execution_count": 2,
      "metadata": {
        "id": "owIqHcjP5RoB"
      },
      "outputs": [],
      "source": [
        "import numpy as np\n",
        "import pandas as pd\n",
        "import os, os.path, shutil\n",
        "import matplotlib.pyplot as plt"
      ]
    },
    {
      "cell_type": "markdown",
      "source": [
        "### 날씨 데이터"
      ],
      "metadata": {
        "id": "lNfN15HB5iM4"
      }
    },
    {
      "cell_type": "code",
      "source": [
        "!wget --no-check-certificate https://s3.amazonaws.com/keras-datasets/jena_climate_2009_2016.csv.zip -O jena_climate.zip"
      ],
      "metadata": {
        "colab": {
          "base_uri": "https://localhost:8080/"
        },
        "id": "aPo29AFM5lTr",
        "outputId": "4bde22de-1f07-472a-f447-914db7e4536b"
      },
      "execution_count": 4,
      "outputs": [
        {
          "output_type": "stream",
          "name": "stdout",
          "text": [
            "--2023-12-09 04:48:49--  https://s3.amazonaws.com/keras-datasets/jena_climate_2009_2016.csv.zip\n",
            "Resolving s3.amazonaws.com (s3.amazonaws.com)... 52.217.104.166, 52.216.251.6, 52.217.65.126, ...\n",
            "Connecting to s3.amazonaws.com (s3.amazonaws.com)|52.217.104.166|:443... connected.\n",
            "HTTP request sent, awaiting response... 200 OK\n",
            "Length: 13565642 (13M) [application/zip]\n",
            "Saving to: ‘jena_climate.zip’\n",
            "\n",
            "jena_climate.zip    100%[===================>]  12.94M  7.06MB/s    in 1.8s    \n",
            "\n",
            "2023-12-09 04:48:52 (7.06 MB/s) - ‘jena_climate.zip’ saved [13565642/13565642]\n",
            "\n"
          ]
        }
      ]
    },
    {
      "cell_type": "code",
      "source": [
        "!unzip jena_climate.zip"
      ],
      "metadata": {
        "colab": {
          "base_uri": "https://localhost:8080/"
        },
        "id": "hUe_sr1C6Bu-",
        "outputId": "5af09094-38a0-44df-858c-2b6ae3cc5036"
      },
      "execution_count": 5,
      "outputs": [
        {
          "output_type": "stream",
          "name": "stdout",
          "text": [
            "Archive:  jena_climate.zip\n",
            "  inflating: jena_climate_2009_2016.csv  \n",
            "  inflating: __MACOSX/._jena_climate_2009_2016.csv  \n"
          ]
        }
      ]
    },
    {
      "cell_type": "code",
      "source": [
        "df = pd.read_csv('./jena_climate_2009_2016.csv')"
      ],
      "metadata": {
        "id": "4VsdJ4qO6HIo"
      },
      "execution_count": 6,
      "outputs": []
    },
    {
      "cell_type": "code",
      "source": [
        "df[:3]"
      ],
      "metadata": {
        "colab": {
          "base_uri": "https://localhost:8080/",
          "height": 213
        },
        "id": "ZcXwwzOi6Piz",
        "outputId": "d9c35759-5301-4774-c027-2303e8438ef1"
      },
      "execution_count": 7,
      "outputs": [
        {
          "output_type": "execute_result",
          "data": {
            "text/plain": [
              "             Date Time  p (mbar)  T (degC)  Tpot (K)  Tdew (degC)  rh (%)  \\\n",
              "0  01.01.2009 00:10:00    996.52     -8.02    265.40        -8.90    93.3   \n",
              "1  01.01.2009 00:20:00    996.57     -8.41    265.01        -9.28    93.4   \n",
              "2  01.01.2009 00:30:00    996.53     -8.51    264.91        -9.31    93.9   \n",
              "\n",
              "   VPmax (mbar)  VPact (mbar)  VPdef (mbar)  sh (g/kg)  H2OC (mmol/mol)  \\\n",
              "0          3.33          3.11          0.22       1.94             3.12   \n",
              "1          3.23          3.02          0.21       1.89             3.03   \n",
              "2          3.21          3.01          0.20       1.88             3.02   \n",
              "\n",
              "   rho (g/m**3)  wv (m/s)  max. wv (m/s)  wd (deg)  \n",
              "0       1307.75      1.03           1.75     152.3  \n",
              "1       1309.80      0.72           1.50     136.1  \n",
              "2       1310.24      0.19           0.63     171.6  "
            ],
            "text/html": [
              "\n",
              "  <div id=\"df-d6d14df4-57ef-499e-ac7e-4d6225c5855e\" class=\"colab-df-container\">\n",
              "    <div>\n",
              "<style scoped>\n",
              "    .dataframe tbody tr th:only-of-type {\n",
              "        vertical-align: middle;\n",
              "    }\n",
              "\n",
              "    .dataframe tbody tr th {\n",
              "        vertical-align: top;\n",
              "    }\n",
              "\n",
              "    .dataframe thead th {\n",
              "        text-align: right;\n",
              "    }\n",
              "</style>\n",
              "<table border=\"1\" class=\"dataframe\">\n",
              "  <thead>\n",
              "    <tr style=\"text-align: right;\">\n",
              "      <th></th>\n",
              "      <th>Date Time</th>\n",
              "      <th>p (mbar)</th>\n",
              "      <th>T (degC)</th>\n",
              "      <th>Tpot (K)</th>\n",
              "      <th>Tdew (degC)</th>\n",
              "      <th>rh (%)</th>\n",
              "      <th>VPmax (mbar)</th>\n",
              "      <th>VPact (mbar)</th>\n",
              "      <th>VPdef (mbar)</th>\n",
              "      <th>sh (g/kg)</th>\n",
              "      <th>H2OC (mmol/mol)</th>\n",
              "      <th>rho (g/m**3)</th>\n",
              "      <th>wv (m/s)</th>\n",
              "      <th>max. wv (m/s)</th>\n",
              "      <th>wd (deg)</th>\n",
              "    </tr>\n",
              "  </thead>\n",
              "  <tbody>\n",
              "    <tr>\n",
              "      <th>0</th>\n",
              "      <td>01.01.2009 00:10:00</td>\n",
              "      <td>996.52</td>\n",
              "      <td>-8.02</td>\n",
              "      <td>265.40</td>\n",
              "      <td>-8.90</td>\n",
              "      <td>93.3</td>\n",
              "      <td>3.33</td>\n",
              "      <td>3.11</td>\n",
              "      <td>0.22</td>\n",
              "      <td>1.94</td>\n",
              "      <td>3.12</td>\n",
              "      <td>1307.75</td>\n",
              "      <td>1.03</td>\n",
              "      <td>1.75</td>\n",
              "      <td>152.3</td>\n",
              "    </tr>\n",
              "    <tr>\n",
              "      <th>1</th>\n",
              "      <td>01.01.2009 00:20:00</td>\n",
              "      <td>996.57</td>\n",
              "      <td>-8.41</td>\n",
              "      <td>265.01</td>\n",
              "      <td>-9.28</td>\n",
              "      <td>93.4</td>\n",
              "      <td>3.23</td>\n",
              "      <td>3.02</td>\n",
              "      <td>0.21</td>\n",
              "      <td>1.89</td>\n",
              "      <td>3.03</td>\n",
              "      <td>1309.80</td>\n",
              "      <td>0.72</td>\n",
              "      <td>1.50</td>\n",
              "      <td>136.1</td>\n",
              "    </tr>\n",
              "    <tr>\n",
              "      <th>2</th>\n",
              "      <td>01.01.2009 00:30:00</td>\n",
              "      <td>996.53</td>\n",
              "      <td>-8.51</td>\n",
              "      <td>264.91</td>\n",
              "      <td>-9.31</td>\n",
              "      <td>93.9</td>\n",
              "      <td>3.21</td>\n",
              "      <td>3.01</td>\n",
              "      <td>0.20</td>\n",
              "      <td>1.88</td>\n",
              "      <td>3.02</td>\n",
              "      <td>1310.24</td>\n",
              "      <td>0.19</td>\n",
              "      <td>0.63</td>\n",
              "      <td>171.6</td>\n",
              "    </tr>\n",
              "  </tbody>\n",
              "</table>\n",
              "</div>\n",
              "    <div class=\"colab-df-buttons\">\n",
              "\n",
              "  <div class=\"colab-df-container\">\n",
              "    <button class=\"colab-df-convert\" onclick=\"convertToInteractive('df-d6d14df4-57ef-499e-ac7e-4d6225c5855e')\"\n",
              "            title=\"Convert this dataframe to an interactive table.\"\n",
              "            style=\"display:none;\">\n",
              "\n",
              "  <svg xmlns=\"http://www.w3.org/2000/svg\" height=\"24px\" viewBox=\"0 -960 960 960\">\n",
              "    <path d=\"M120-120v-720h720v720H120Zm60-500h600v-160H180v160Zm220 220h160v-160H400v160Zm0 220h160v-160H400v160ZM180-400h160v-160H180v160Zm440 0h160v-160H620v160ZM180-180h160v-160H180v160Zm440 0h160v-160H620v160Z\"/>\n",
              "  </svg>\n",
              "    </button>\n",
              "\n",
              "  <style>\n",
              "    .colab-df-container {\n",
              "      display:flex;\n",
              "      gap: 12px;\n",
              "    }\n",
              "\n",
              "    .colab-df-convert {\n",
              "      background-color: #E8F0FE;\n",
              "      border: none;\n",
              "      border-radius: 50%;\n",
              "      cursor: pointer;\n",
              "      display: none;\n",
              "      fill: #1967D2;\n",
              "      height: 32px;\n",
              "      padding: 0 0 0 0;\n",
              "      width: 32px;\n",
              "    }\n",
              "\n",
              "    .colab-df-convert:hover {\n",
              "      background-color: #E2EBFA;\n",
              "      box-shadow: 0px 1px 2px rgba(60, 64, 67, 0.3), 0px 1px 3px 1px rgba(60, 64, 67, 0.15);\n",
              "      fill: #174EA6;\n",
              "    }\n",
              "\n",
              "    .colab-df-buttons div {\n",
              "      margin-bottom: 4px;\n",
              "    }\n",
              "\n",
              "    [theme=dark] .colab-df-convert {\n",
              "      background-color: #3B4455;\n",
              "      fill: #D2E3FC;\n",
              "    }\n",
              "\n",
              "    [theme=dark] .colab-df-convert:hover {\n",
              "      background-color: #434B5C;\n",
              "      box-shadow: 0px 1px 3px 1px rgba(0, 0, 0, 0.15);\n",
              "      filter: drop-shadow(0px 1px 2px rgba(0, 0, 0, 0.3));\n",
              "      fill: #FFFFFF;\n",
              "    }\n",
              "  </style>\n",
              "\n",
              "    <script>\n",
              "      const buttonEl =\n",
              "        document.querySelector('#df-d6d14df4-57ef-499e-ac7e-4d6225c5855e button.colab-df-convert');\n",
              "      buttonEl.style.display =\n",
              "        google.colab.kernel.accessAllowed ? 'block' : 'none';\n",
              "\n",
              "      async function convertToInteractive(key) {\n",
              "        const element = document.querySelector('#df-d6d14df4-57ef-499e-ac7e-4d6225c5855e');\n",
              "        const dataTable =\n",
              "          await google.colab.kernel.invokeFunction('convertToInteractive',\n",
              "                                                    [key], {});\n",
              "        if (!dataTable) return;\n",
              "\n",
              "        const docLinkHtml = 'Like what you see? Visit the ' +\n",
              "          '<a target=\"_blank\" href=https://colab.research.google.com/notebooks/data_table.ipynb>data table notebook</a>'\n",
              "          + ' to learn more about interactive tables.';\n",
              "        element.innerHTML = '';\n",
              "        dataTable['output_type'] = 'display_data';\n",
              "        await google.colab.output.renderOutput(dataTable, element);\n",
              "        const docLink = document.createElement('div');\n",
              "        docLink.innerHTML = docLinkHtml;\n",
              "        element.appendChild(docLink);\n",
              "      }\n",
              "    </script>\n",
              "  </div>\n",
              "\n",
              "\n",
              "<div id=\"df-6c5c7fd8-d611-4e57-8288-14cd87d69b1a\">\n",
              "  <button class=\"colab-df-quickchart\" onclick=\"quickchart('df-6c5c7fd8-d611-4e57-8288-14cd87d69b1a')\"\n",
              "            title=\"Suggest charts\"\n",
              "            style=\"display:none;\">\n",
              "\n",
              "<svg xmlns=\"http://www.w3.org/2000/svg\" height=\"24px\"viewBox=\"0 0 24 24\"\n",
              "     width=\"24px\">\n",
              "    <g>\n",
              "        <path d=\"M19 3H5c-1.1 0-2 .9-2 2v14c0 1.1.9 2 2 2h14c1.1 0 2-.9 2-2V5c0-1.1-.9-2-2-2zM9 17H7v-7h2v7zm4 0h-2V7h2v10zm4 0h-2v-4h2v4z\"/>\n",
              "    </g>\n",
              "</svg>\n",
              "  </button>\n",
              "\n",
              "<style>\n",
              "  .colab-df-quickchart {\n",
              "      --bg-color: #E8F0FE;\n",
              "      --fill-color: #1967D2;\n",
              "      --hover-bg-color: #E2EBFA;\n",
              "      --hover-fill-color: #174EA6;\n",
              "      --disabled-fill-color: #AAA;\n",
              "      --disabled-bg-color: #DDD;\n",
              "  }\n",
              "\n",
              "  [theme=dark] .colab-df-quickchart {\n",
              "      --bg-color: #3B4455;\n",
              "      --fill-color: #D2E3FC;\n",
              "      --hover-bg-color: #434B5C;\n",
              "      --hover-fill-color: #FFFFFF;\n",
              "      --disabled-bg-color: #3B4455;\n",
              "      --disabled-fill-color: #666;\n",
              "  }\n",
              "\n",
              "  .colab-df-quickchart {\n",
              "    background-color: var(--bg-color);\n",
              "    border: none;\n",
              "    border-radius: 50%;\n",
              "    cursor: pointer;\n",
              "    display: none;\n",
              "    fill: var(--fill-color);\n",
              "    height: 32px;\n",
              "    padding: 0;\n",
              "    width: 32px;\n",
              "  }\n",
              "\n",
              "  .colab-df-quickchart:hover {\n",
              "    background-color: var(--hover-bg-color);\n",
              "    box-shadow: 0 1px 2px rgba(60, 64, 67, 0.3), 0 1px 3px 1px rgba(60, 64, 67, 0.15);\n",
              "    fill: var(--button-hover-fill-color);\n",
              "  }\n",
              "\n",
              "  .colab-df-quickchart-complete:disabled,\n",
              "  .colab-df-quickchart-complete:disabled:hover {\n",
              "    background-color: var(--disabled-bg-color);\n",
              "    fill: var(--disabled-fill-color);\n",
              "    box-shadow: none;\n",
              "  }\n",
              "\n",
              "  .colab-df-spinner {\n",
              "    border: 2px solid var(--fill-color);\n",
              "    border-color: transparent;\n",
              "    border-bottom-color: var(--fill-color);\n",
              "    animation:\n",
              "      spin 1s steps(1) infinite;\n",
              "  }\n",
              "\n",
              "  @keyframes spin {\n",
              "    0% {\n",
              "      border-color: transparent;\n",
              "      border-bottom-color: var(--fill-color);\n",
              "      border-left-color: var(--fill-color);\n",
              "    }\n",
              "    20% {\n",
              "      border-color: transparent;\n",
              "      border-left-color: var(--fill-color);\n",
              "      border-top-color: var(--fill-color);\n",
              "    }\n",
              "    30% {\n",
              "      border-color: transparent;\n",
              "      border-left-color: var(--fill-color);\n",
              "      border-top-color: var(--fill-color);\n",
              "      border-right-color: var(--fill-color);\n",
              "    }\n",
              "    40% {\n",
              "      border-color: transparent;\n",
              "      border-right-color: var(--fill-color);\n",
              "      border-top-color: var(--fill-color);\n",
              "    }\n",
              "    60% {\n",
              "      border-color: transparent;\n",
              "      border-right-color: var(--fill-color);\n",
              "    }\n",
              "    80% {\n",
              "      border-color: transparent;\n",
              "      border-right-color: var(--fill-color);\n",
              "      border-bottom-color: var(--fill-color);\n",
              "    }\n",
              "    90% {\n",
              "      border-color: transparent;\n",
              "      border-bottom-color: var(--fill-color);\n",
              "    }\n",
              "  }\n",
              "</style>\n",
              "\n",
              "  <script>\n",
              "    async function quickchart(key) {\n",
              "      const quickchartButtonEl =\n",
              "        document.querySelector('#' + key + ' button');\n",
              "      quickchartButtonEl.disabled = true;  // To prevent multiple clicks.\n",
              "      quickchartButtonEl.classList.add('colab-df-spinner');\n",
              "      try {\n",
              "        const charts = await google.colab.kernel.invokeFunction(\n",
              "            'suggestCharts', [key], {});\n",
              "      } catch (error) {\n",
              "        console.error('Error during call to suggestCharts:', error);\n",
              "      }\n",
              "      quickchartButtonEl.classList.remove('colab-df-spinner');\n",
              "      quickchartButtonEl.classList.add('colab-df-quickchart-complete');\n",
              "    }\n",
              "    (() => {\n",
              "      let quickchartButtonEl =\n",
              "        document.querySelector('#df-6c5c7fd8-d611-4e57-8288-14cd87d69b1a button');\n",
              "      quickchartButtonEl.style.display =\n",
              "        google.colab.kernel.accessAllowed ? 'block' : 'none';\n",
              "    })();\n",
              "  </script>\n",
              "</div>\n",
              "    </div>\n",
              "  </div>\n"
            ]
          },
          "metadata": {},
          "execution_count": 7
        }
      ]
    },
    {
      "cell_type": "code",
      "source": [
        "x = df.drop('Date Time',axis=1).values"
      ],
      "metadata": {
        "id": "iBy-TH3w6SCZ"
      },
      "execution_count": 12,
      "outputs": []
    },
    {
      "cell_type": "code",
      "source": [
        "x[:3]"
      ],
      "metadata": {
        "colab": {
          "base_uri": "https://localhost:8080/"
        },
        "id": "HNVspCzW6nai",
        "outputId": "5e6c85b0-8552-45db-d901-c248c5afd9a8"
      },
      "execution_count": 13,
      "outputs": [
        {
          "output_type": "execute_result",
          "data": {
            "text/plain": [
              "array([[ 9.96520e+02, -8.02000e+00,  2.65400e+02, -8.90000e+00,\n",
              "         9.33000e+01,  3.33000e+00,  3.11000e+00,  2.20000e-01,\n",
              "         1.94000e+00,  3.12000e+00,  1.30775e+03,  1.03000e+00,\n",
              "         1.75000e+00,  1.52300e+02],\n",
              "       [ 9.96570e+02, -8.41000e+00,  2.65010e+02, -9.28000e+00,\n",
              "         9.34000e+01,  3.23000e+00,  3.02000e+00,  2.10000e-01,\n",
              "         1.89000e+00,  3.03000e+00,  1.30980e+03,  7.20000e-01,\n",
              "         1.50000e+00,  1.36100e+02],\n",
              "       [ 9.96530e+02, -8.51000e+00,  2.64910e+02, -9.31000e+00,\n",
              "         9.39000e+01,  3.21000e+00,  3.01000e+00,  2.00000e-01,\n",
              "         1.88000e+00,  3.02000e+00,  1.31024e+03,  1.90000e-01,\n",
              "         6.30000e-01,  1.71600e+02]])"
            ]
          },
          "metadata": {},
          "execution_count": 13
        }
      ]
    },
    {
      "cell_type": "code",
      "source": [
        "len(x)"
      ],
      "metadata": {
        "colab": {
          "base_uri": "https://localhost:8080/"
        },
        "id": "-eKROYAf6mOm",
        "outputId": "915814b4-4c5e-4525-ba34-7db0c7416110"
      },
      "execution_count": 14,
      "outputs": [
        {
          "output_type": "execute_result",
          "data": {
            "text/plain": [
              "420451"
            ]
          },
          "metadata": {},
          "execution_count": 14
        }
      ]
    },
    {
      "cell_type": "code",
      "source": [
        "f = open('jena_climate_2009_2016.csv')\n",
        "data = f.read()\n",
        "f.close()"
      ],
      "metadata": {
        "id": "b_23pwFY63VB"
      },
      "execution_count": 15,
      "outputs": []
    },
    {
      "cell_type": "code",
      "source": [
        "lines = data.split('\\n')"
      ],
      "metadata": {
        "id": "xqBstVzF7Jq1"
      },
      "execution_count": 16,
      "outputs": []
    },
    {
      "cell_type": "code",
      "source": [
        "header = lines[0].split(',')"
      ],
      "metadata": {
        "id": "UAPjsald7QuG"
      },
      "execution_count": 17,
      "outputs": []
    },
    {
      "cell_type": "code",
      "source": [
        "lines = lines[1:]\n",
        "print(header)"
      ],
      "metadata": {
        "colab": {
          "base_uri": "https://localhost:8080/"
        },
        "id": "hJQoJ_BL7WPr",
        "outputId": "21d08e6d-3000-495c-b7bc-fb4e1efbd137"
      },
      "execution_count": 18,
      "outputs": [
        {
          "output_type": "stream",
          "name": "stdout",
          "text": [
            "['\"Date Time\"', '\"p (mbar)\"', '\"T (degC)\"', '\"Tpot (K)\"', '\"Tdew (degC)\"', '\"rh (%)\"', '\"VPmax (mbar)\"', '\"VPact (mbar)\"', '\"VPdef (mbar)\"', '\"sh (g/kg)\"', '\"H2OC (mmol/mol)\"', '\"rho (g/m**3)\"', '\"wv (m/s)\"', '\"max. wv (m/s)\"', '\"wd (deg)\"']\n"
          ]
        }
      ]
    },
    {
      "cell_type": "code",
      "source": [
        "len(lines)"
      ],
      "metadata": {
        "colab": {
          "base_uri": "https://localhost:8080/"
        },
        "id": "TGj9CJyJ7cxD",
        "outputId": "74130ff6-1902-4449-db6f-3c50159cdd3e"
      },
      "execution_count": 19,
      "outputs": [
        {
          "output_type": "execute_result",
          "data": {
            "text/plain": [
              "420451"
            ]
          },
          "metadata": {},
          "execution_count": 19
        }
      ]
    },
    {
      "cell_type": "code",
      "source": [
        "x = np.zeros((len(lines), len(header)-1))\n",
        "x.shape"
      ],
      "metadata": {
        "colab": {
          "base_uri": "https://localhost:8080/"
        },
        "id": "MNaSOd8I7kNo",
        "outputId": "044e3f4a-c0c7-47c2-84d3-4926ad329fe6"
      },
      "execution_count": 21,
      "outputs": [
        {
          "output_type": "execute_result",
          "data": {
            "text/plain": [
              "(420451, 14)"
            ]
          },
          "metadata": {},
          "execution_count": 21
        }
      ]
    },
    {
      "cell_type": "code",
      "source": [
        "for i, line in enumerate(lines):\n",
        "  values = [ float(x) for x in line.split(',')[1:]]\n",
        "  x[i,:] = values"
      ],
      "metadata": {
        "id": "69d3R5u06kLE"
      },
      "execution_count": 22,
      "outputs": []
    },
    {
      "cell_type": "code",
      "source": [
        "x[:3]"
      ],
      "metadata": {
        "colab": {
          "base_uri": "https://localhost:8080/"
        },
        "id": "cJ4yDa708SHG",
        "outputId": "c71c983a-f5b1-4803-b7db-6009480fe3b3"
      },
      "execution_count": 23,
      "outputs": [
        {
          "output_type": "execute_result",
          "data": {
            "text/plain": [
              "array([[ 9.96520e+02, -8.02000e+00,  2.65400e+02, -8.90000e+00,\n",
              "         9.33000e+01,  3.33000e+00,  3.11000e+00,  2.20000e-01,\n",
              "         1.94000e+00,  3.12000e+00,  1.30775e+03,  1.03000e+00,\n",
              "         1.75000e+00,  1.52300e+02],\n",
              "       [ 9.96570e+02, -8.41000e+00,  2.65010e+02, -9.28000e+00,\n",
              "         9.34000e+01,  3.23000e+00,  3.02000e+00,  2.10000e-01,\n",
              "         1.89000e+00,  3.03000e+00,  1.30980e+03,  7.20000e-01,\n",
              "         1.50000e+00,  1.36100e+02],\n",
              "       [ 9.96530e+02, -8.51000e+00,  2.64910e+02, -9.31000e+00,\n",
              "         9.39000e+01,  3.21000e+00,  3.01000e+00,  2.00000e-01,\n",
              "         1.88000e+00,  3.02000e+00,  1.31024e+03,  1.90000e-01,\n",
              "         6.30000e-01,  1.71600e+02]])"
            ]
          },
          "metadata": {},
          "execution_count": 23
        }
      ]
    },
    {
      "cell_type": "code",
      "source": [
        "temp = x[:,1]\n",
        "plt.plot(range(len(temp)), temp)\n",
        "plt.show()"
      ],
      "metadata": {
        "colab": {
          "base_uri": "https://localhost:8080/",
          "height": 434
        },
        "id": "gCbq8kAp6f41",
        "outputId": "c0230975-0866-4edd-ff06-ab3af78fd78c"
      },
      "execution_count": 25,
      "outputs": [
        {
          "output_type": "display_data",
          "data": {
            "text/plain": [
              "<Figure size 640x480 with 1 Axes>"
            ],
            "image/png": "[encoded data removed]"
          },
          "metadata": {}
        }
      ]
    },
    {
      "cell_type": "code",
      "source": [
        "plt.plot(range(1440), temp[:1440])\n",
        "plt.show()"
      ],
      "metadata": {
        "colab": {
          "base_uri": "https://localhost:8080/",
          "height": 430
        },
        "id": "yLO5vlg58ng9",
        "outputId": "fc4d180d-9a3c-4051-f16d-1c195976e39e"
      },
      "execution_count": 26,
      "outputs": [
        {
          "output_type": "display_data",
          "data": {
            "text/plain": [
              "<Figure size 640x480 with 1 Axes>"
            ],
            "image/png": "[encoded data removed]"
          },
          "metadata": {}
        }
      ]
    },
    {
      "cell_type": "code",
      "source": [
        "mean = x[:20000].mean(axis=0)\n",
        "std = x[:20000].std(axis=0)"
      ],
      "metadata": {
        "id": "nL3r00-q85XL"
      },
      "execution_count": 37,
      "outputs": []
    },
    {
      "cell_type": "code",
      "source": [
        "x[:,1].mean(axis=0)"
      ],
      "metadata": {
        "colab": {
          "base_uri": "https://localhost:8080/"
        },
        "id": "HDYVihPw6cGE",
        "outputId": "46f1cc49-1acd-41ab-cd1e-f69af65c4ba5"
      },
      "execution_count": 32,
      "outputs": [
        {
          "output_type": "execute_result",
          "data": {
            "text/plain": [
              "9.44856687223957"
            ]
          },
          "metadata": {},
          "execution_count": 32
        }
      ]
    },
    {
      "cell_type": "code",
      "source": [
        "x -= mean"
      ],
      "metadata": {
        "id": "Pz4pi4T257lX"
      },
      "execution_count": 35,
      "outputs": []
    },
    {
      "cell_type": "code",
      "source": [
        "x /=std"
      ],
      "metadata": {
        "id": "XESNl3qV95bn"
      },
      "execution_count": 38,
      "outputs": []
    },
    {
      "cell_type": "code",
      "source": [
        "std, mean"
      ],
      "metadata": {
        "colab": {
          "base_uri": "https://localhost:8080/"
        },
        "id": "o81HGkuV5guH",
        "outputId": "413ae177-56d0-417e-d8e8-6cf3d54a3709"
      },
      "execution_count": 39,
      "outputs": [
        {
          "output_type": "execute_result",
          "data": {
            "text/plain": [
              "(array([10.43698592,  7.64456982,  7.82804682,  5.96853777, 15.88586242,\n",
              "         5.15402052,  2.68174274,  3.33775969,  1.70035661,  2.71840314,\n",
              "        39.66767543,  1.46425765,  2.24213234, 89.21949358]),\n",
              " array([ 3.11979420e-12,  7.15838944e-14,  2.23093934e-12,  3.06787484e-14,\n",
              "        -1.50622981e-13,  1.09760379e-13,  1.55955249e-15,  1.28666855e-14,\n",
              "        -3.25150129e-14, -1.42926559e-14,  4.63040806e-12,  2.04424255e-14,\n",
              "         4.07286049e-13,  3.31432659e-13]))"
            ]
          },
          "metadata": {},
          "execution_count": 39
        }
      ]
    },
    {
      "cell_type": "markdown",
      "source": [
        "## 제너레이터 : 모든 데이터를 메모리에 로드하지 않고 필요한 만큼씩만 가져오기 위한 방법\n",
        "### 제너레이터는 (samples, target)형태의 값을 생성한다. sample은 입력의 한 배치를 나타냄\n",
        "\n",
        "### data : 스케일링 된 데이터\n",
        "### looback : 과거의 몇개 탐스텝을 사용할지 지정\n",
        "### delay : 미래 몇 타임 스텝후를 예측할지 지정\n",
        "### min_index, max_index : 검증 및 테스트 데이터를 구분하는 경계를 표시\n",
        "### shuffle : 샘플을 랜덤 여부\n",
        "### batch_zise : 배치크기\n",
        "### step : 샘플 데이터를 취할 타임스텝 수"
      ],
      "metadata": {
        "id": "9EB5yxBw_1Mt"
      }
    },
    {
      "cell_type": "code",
      "source": [
        "def generator(data, lookback, delay, min_index, max_index, shuffle=False, batch_size=128, step=6):\n",
        "    if max_index is None:\n",
        "        max_index = len(data) - delay - 1\n",
        "    i = min_index + lookback\n",
        "    while 1:\n",
        "        if shuffle:\n",
        "            rows = np.random.randint(\n",
        "                min_index + lookback, max_index, size=batch_size)\n",
        "        else:\n",
        "            if i + batch_size >= max_index:\n",
        "                i = min_index + lookback\n",
        "            rows = np.arange(i, min(i + batch_size, max_index))\n",
        "            i += len(rows)\n",
        "\n",
        "        samples = np.zeros((len(rows),\n",
        "                           lookback // step,\n",
        "                           data.shape[-1]))\n",
        "        targets = np.zeros((len(rows),))\n",
        "        for j, row in enumerate(rows):\n",
        "            indices = range(rows[j] - lookback, rows[j], step)\n",
        "            samples[j] = data[indices]\n",
        "            targets[j] = data[rows[j] + delay][1]\n",
        "        yield samples, targets"
      ],
      "metadata": {
        "id": "gsqD7_eXA5Az"
      },
      "execution_count": 55,
      "outputs": []
    },
    {
      "cell_type": "code",
      "source": [
        "lookback = 1440 # 10일간 데이터 - 10분간 6개 * 24시간 * 10일\n",
        "step = 6 # 6회 즉, 1시간마다 한번 샘플링\n",
        "delay =144 # 24시간 후를 예측\n",
        "batch_size = 128 # 128개씩 처리"
      ],
      "metadata": {
        "id": "TniMIYLu5hf3"
      },
      "execution_count": 44,
      "outputs": []
    },
    {
      "cell_type": "code",
      "source": [
        "\n",
        "\n",
        "train_gen = generator(x,\n",
        "                      lookback=lookback,\n",
        "                      delay=delay,\n",
        "                      min_index=0,\n",
        "                      max_index=200000,\n",
        "                      shuffle=True,\n",
        "                      step=step,\n",
        "                      batch_size=batch_size)\n",
        "val_gen = generator(x,\n",
        "                    lookback=lookback,\n",
        "                    delay=delay,\n",
        "                    min_index=200001,\n",
        "                    max_index=300000,\n",
        "                    step=step,\n",
        "                    batch_size=batch_size)\n",
        "test_gen = generator(x,\n",
        "                     lookback=lookback,\n",
        "                     delay=delay,\n",
        "                     min_index=300001,\n",
        "                     max_index=None,\n",
        "                     step=step,\n",
        "                     batch_size=batch_size)\n",
        "\n",
        "val_steps = (300000 - 200001 - lookback) // batch_size\n",
        "test_steps = (len(x) - 300001 - lookback) // batch_size"
      ],
      "metadata": {
        "id": "nFbLK82ZFj19"
      },
      "execution_count": 56,
      "outputs": []
    },
    {
      "cell_type": "code",
      "source": [
        "test_steps"
      ],
      "metadata": {
        "colab": {
          "base_uri": "https://localhost:8080/"
        },
        "id": "P04_l6HMFnbn",
        "outputId": "05c49159-25f3-4649-83e1-1fb5db4fd1c0"
      },
      "execution_count": 52,
      "outputs": [
        {
          "output_type": "execute_result",
          "data": {
            "text/plain": [
              "929"
            ]
          },
          "metadata": {},
          "execution_count": 52
        }
      ]
    },
    {
      "cell_type": "code",
      "source": [
        "def evaluate_naive_method():\n",
        "    batch_maes = []\n",
        "    for step in range(val_steps):\n",
        "        samples, targets = next(val_gen)\n",
        "        preds = samples[:, -1, 1]\n",
        "        mae = np.mean(np.abs(preds - targets))\n",
        "        batch_maes.append(mae)\n",
        "    print(np.mean(batch_maes))\n",
        "\n",
        "evaluate_naive_method()"
      ],
      "metadata": {
        "colab": {
          "base_uri": "https://localhost:8080/"
        },
        "id": "t8Ibmh1CGFJs",
        "outputId": "80853657-fba5-45f0-8185-be4def5989a0"
      },
      "execution_count": 57,
      "outputs": [
        {
          "output_type": "stream",
          "name": "stdout",
          "text": [
            "0.33551756286169604\n"
          ]
        }
      ]
    },
    {
      "cell_type": "markdown",
      "source": [
        "### 신경망 모델"
      ],
      "metadata": {
        "id": "J9eCW4OZIWHO"
      }
    },
    {
      "cell_type": "code",
      "source": [
        "from keras.models import Sequential\n",
        "from keras import layers\n",
        "from keras.optimizers import RMSprop\n",
        "\n",
        "model = Sequential()\n",
        "model.add(layers.Flatten(input_shape=(lookback // step, x.shape[-1])))\n",
        "model.add(layers.Dense(32, activation='relu'))\n",
        "model.add(layers.Dense(1))\n",
        "\n",
        "model.summary()"
      ],
      "metadata": {
        "colab": {
          "base_uri": "https://localhost:8080/"
        },
        "id": "xawQktVmGxth",
        "outputId": "26a6ab40-c425-48a7-b97d-f0ecdaae33f4"
      },
      "execution_count": 58,
      "outputs": [
        {
          "output_type": "stream",
          "name": "stdout",
          "text": [
            "Model: \"sequential\"\n",
            "_________________________________________________________________\n",
            " Layer (type)                Output Shape              Param #   \n",
            "=================================================================\n",
            " flatten (Flatten)           (None, 3360)              0         \n",
            "                                                                 \n",
            " dense (Dense)               (None, 32)                107552    \n",
            "                                                                 \n",
            " dense_1 (Dense)             (None, 1)                 33        \n",
            "                                                                 \n",
            "=================================================================\n",
            "Total params: 107585 (420.25 KB)\n",
            "Trainable params: 107585 (420.25 KB)\n",
            "Non-trainable params: 0 (0.00 Byte)\n",
            "_________________________________________________________________\n"
          ]
        }
      ]
    },
    {
      "cell_type": "code",
      "source": [
        "model.compile(optimizer=RMSprop(), loss='mae')\n",
        "history = model.fit_generator(train_gen,\n",
        "                              steps_per_epoch=500,\n",
        "                              epochs=20,\n",
        "                              validation_data=val_gen,\n",
        "                              validation_steps=val_steps)"
      ],
      "metadata": {
        "colab": {
          "base_uri": "https://localhost:8080/"
        },
        "id": "v96MPVsCG0g5",
        "outputId": "c55c3243-c4f3-45f0-9a3e-05fe68f77b00"
      },
      "execution_count": 59,
      "outputs": [
        {
          "output_type": "stream",
          "name": "stdout",
          "text": [
            "Epoch 1/20\n"
          ]
        },
        {
          "output_type": "stream",
          "name": "stderr",
          "text": [
            "<ipython-input-59-c4242a3c1902>:2: UserWarning: `Model.fit_generator` is deprecated and will be removed in a future version. Please use `Model.fit`, which supports generators.\n",
            "  history = model.fit_generator(train_gen,\n"
          ]
        },
        {
          "output_type": "stream",
          "name": "stdout",
          "text": [
            "500/500 [==============================] - 19s 36ms/step - loss: 0.9862 - val_loss: 0.5853\n",
            "Epoch 2/20\n",
            "500/500 [==============================] - 19s 38ms/step - loss: 0.4093 - val_loss: 0.3904\n",
            "Epoch 3/20\n",
            "500/500 [==============================] - 19s 37ms/step - loss: 0.3167 - val_loss: 0.3784\n",
            "Epoch 4/20\n",
            "500/500 [==============================] - 17s 35ms/step - loss: 0.2914 - val_loss: 0.3928\n",
            "Epoch 5/20\n",
            "500/500 [==============================] - 18s 36ms/step - loss: 0.2743 - val_loss: 0.4058\n",
            "Epoch 6/20\n",
            "500/500 [==============================] - 16s 33ms/step - loss: 0.2624 - val_loss: 0.4089\n",
            "Epoch 7/20\n",
            "500/500 [==============================] - 19s 37ms/step - loss: 0.2550 - val_loss: 0.4195\n",
            "Epoch 8/20\n",
            "500/500 [==============================] - 18s 37ms/step - loss: 0.2473 - val_loss: 0.4647\n",
            "Epoch 9/20\n",
            "500/500 [==============================] - 20s 40ms/step - loss: 0.2424 - val_loss: 0.3929\n",
            "Epoch 10/20\n",
            "500/500 [==============================] - 26s 52ms/step - loss: 0.2370 - val_loss: 0.3942\n",
            "Epoch 11/20\n",
            "500/500 [==============================] - 24s 49ms/step - loss: 0.2337 - val_loss: 0.4032\n",
            "Epoch 12/20\n",
            "500/500 [==============================] - 24s 48ms/step - loss: 0.2302 - val_loss: 0.3969\n",
            "Epoch 13/20\n",
            "500/500 [==============================] - 24s 48ms/step - loss: 0.2262 - val_loss: 0.3951\n",
            "Epoch 14/20\n",
            "500/500 [==============================] - 25s 49ms/step - loss: 0.2247 - val_loss: 0.4031\n",
            "Epoch 15/20\n",
            "500/500 [==============================] - 26s 52ms/step - loss: 0.2194 - val_loss: 0.4113\n",
            "Epoch 16/20\n",
            "500/500 [==============================] - 24s 48ms/step - loss: 0.2192 - val_loss: 0.3964\n",
            "Epoch 17/20\n",
            "500/500 [==============================] - 24s 48ms/step - loss: 0.2160 - val_loss: 0.4131\n",
            "Epoch 18/20\n",
            "500/500 [==============================] - 24s 48ms/step - loss: 0.2136 - val_loss: 0.4046\n",
            "Epoch 19/20\n",
            "500/500 [==============================] - 25s 51ms/step - loss: 0.2130 - val_loss: 0.4005\n",
            "Epoch 20/20\n",
            "500/500 [==============================] - 26s 51ms/step - loss: 0.2105 - val_loss: 0.4343\n"
          ]
        }
      ]
    },
    {
      "cell_type": "code",
      "source": [
        "import matplotlib.pyplot as plt\n",
        "\n",
        "loss = history.history['loss']\n",
        "val_loss = history.history['val_loss']\n",
        "\n",
        "epochs = range(len(loss))\n",
        "\n",
        "plt.figure()\n",
        "\n",
        "plt.plot(epochs, loss, 'bo', label='Training loss')\n",
        "plt.plot(epochs, val_loss, 'b', label='Validation loss')\n",
        "plt.title('Training and validation loss')\n",
        "plt.legend()\n",
        "\n",
        "plt.show()"
      ],
      "metadata": {
        "colab": {
          "base_uri": "https://localhost:8080/",
          "height": 452
        },
        "id": "tFIktHJmId4Q",
        "outputId": "fa04257c-064f-4c32-c06c-cb5513f12421"
      },
      "execution_count": 60,
      "outputs": [
        {
          "output_type": "display_data",
          "data": {
            "text/plain": [
              "<Figure size 640x480 with 1 Axes>"
            ],
            "image/png": "[encoded data removed]"
          },
          "metadata": {}
        }
      ]
    },
    {
      "cell_type": "markdown",
      "source": [
        "### RNN모델"
      ],
      "metadata": {
        "id": "GJorhq0mLrTU"
      }
    },
    {
      "cell_type": "code",
      "source": [
        "from keras.models import Sequential\n",
        "from keras import layers\n",
        "from keras.optimizers import RMSprop\n",
        "\n",
        "model = Sequential()\n",
        "model.add(layers.GRU(32, input_shape=(None, x.shape[-1])))\n",
        "model.add(layers.Dense(1))\n",
        "\n",
        "model.compile(optimizer=RMSprop(), loss='mae')\n",
        "history = model.fit_generator(train_gen,\n",
        "                              steps_per_epoch=500,\n",
        "                              epochs=20,\n",
        "                              validation_data=val_gen,\n",
        "                              validation_steps=val_steps)"
      ],
      "metadata": {
        "colab": {
          "base_uri": "https://localhost:8080/"
        },
        "id": "6WcoJjNALn09",
        "outputId": "561cd339-ee0f-44ec-a909-1323fc1e567e"
      },
      "execution_count": 61,
      "outputs": [
        {
          "output_type": "stream",
          "name": "stderr",
          "text": [
            "<ipython-input-61-bd4b90626cfe>:10: UserWarning: `Model.fit_generator` is deprecated and will be removed in a future version. Please use `Model.fit`, which supports generators.\n",
            "  history = model.fit_generator(train_gen,\n"
          ]
        },
        {
          "output_type": "stream",
          "name": "stdout",
          "text": [
            "Epoch 1/20\n",
            "500/500 [==============================] - 107s 207ms/step - loss: 0.3556 - val_loss: 0.3185\n",
            "Epoch 2/20\n",
            "500/500 [==============================] - 110s 220ms/step - loss: 0.3297 - val_loss: 0.3089\n",
            "Epoch 3/20\n",
            "500/500 [==============================] - 103s 206ms/step - loss: 0.3217 - val_loss: 0.3063\n",
            "Epoch 4/20\n",
            "500/500 [==============================] - 102s 205ms/step - loss: 0.3153 - val_loss: 0.3042\n",
            "Epoch 5/20\n",
            "500/500 [==============================] - 103s 205ms/step - loss: 0.3096 - val_loss: 0.3083\n",
            "Epoch 6/20\n",
            "500/500 [==============================] - 102s 205ms/step - loss: 0.3049 - val_loss: 0.3032\n",
            "Epoch 7/20\n",
            "500/500 [==============================] - 102s 205ms/step - loss: 0.2994 - val_loss: 0.3049\n",
            "Epoch 8/20\n",
            "500/500 [==============================] - 103s 205ms/step - loss: 0.2933 - val_loss: 0.3069\n",
            "Epoch 9/20\n",
            "500/500 [==============================] - 103s 205ms/step - loss: 0.2891 - val_loss: 0.3079\n",
            "Epoch 10/20\n",
            "500/500 [==============================] - 102s 205ms/step - loss: 0.2848 - val_loss: 0.3107\n",
            "Epoch 11/20\n",
            "500/500 [==============================] - 110s 220ms/step - loss: 0.2777 - val_loss: 0.3173\n",
            "Epoch 12/20\n",
            "500/500 [==============================] - 103s 205ms/step - loss: 0.2765 - val_loss: 0.3202\n",
            "Epoch 13/20\n",
            "500/500 [==============================] - 102s 205ms/step - loss: 0.2696 - val_loss: 0.3256\n",
            "Epoch 14/20\n",
            "500/500 [==============================] - 103s 206ms/step - loss: 0.2634 - val_loss: 0.3279\n",
            "Epoch 15/20\n",
            "500/500 [==============================] - 102s 205ms/step - loss: 0.2569 - val_loss: 0.3284\n",
            "Epoch 16/20\n",
            "500/500 [==============================] - 103s 205ms/step - loss: 0.2533 - val_loss: 0.3327\n",
            "Epoch 17/20\n",
            "500/500 [==============================] - 109s 219ms/step - loss: 0.2470 - val_loss: 0.3361\n",
            "Epoch 18/20\n",
            "500/500 [==============================] - 102s 205ms/step - loss: 0.2442 - val_loss: 0.3391\n",
            "Epoch 19/20\n",
            "500/500 [==============================] - 102s 205ms/step - loss: 0.2385 - val_loss: 0.3413\n",
            "Epoch 20/20\n",
            "500/500 [==============================] - 102s 204ms/step - loss: 0.2351 - val_loss: 0.3471\n"
          ]
        }
      ]
    },
    {
      "cell_type": "code",
      "source": [
        "loss = history.history['loss']\n",
        "val_loss = history.history['val_loss']\n",
        "\n",
        "epochs = range(len(loss))\n",
        "\n",
        "plt.figure()\n",
        "\n",
        "plt.plot(epochs, loss, 'bo', label='Training loss')\n",
        "plt.plot(epochs, val_loss, 'b', label='Validation loss')\n",
        "plt.title('Training and validation loss')\n",
        "plt.legend()\n",
        "\n",
        "plt.show()"
      ],
      "metadata": {
        "colab": {
          "base_uri": "https://localhost:8080/",
          "height": 452
        },
        "id": "yjM84XHrLvDE",
        "outputId": "be40715b-2a0d-4726-eec5-8fa285af76b0"
      },
      "execution_count": 62,
      "outputs": [
        {
          "output_type": "display_data",
          "data": {
            "text/plain": [
              "<Figure size 640x480 with 1 Axes>"
            ],
            "image/png": "[encoded data removed]"
          },
          "metadata": {}
        }
      ]
    },
    {
      "cell_type": "code",
      "source": [],
      "metadata": {
        "id": "flIRMlqUT3WO"
      },
      "execution_count": null,
      "outputs": []
    }
  ]
}